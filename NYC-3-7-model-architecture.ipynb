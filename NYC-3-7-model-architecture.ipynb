{
 "nbformat": 4,
 "nbformat_minor": 0,
 "metadata": {
  "colab": {
   "name": "NYC_FL.ipynb",
   "provenance": [],
   "toc_visible": true
  },
  "kernelspec": {
   "name": "python3",
   "display_name": "Python 3"
  },
  "accelerator": "GPU"
 },
 "cells": [
  {
   "cell_type": "markdown",
   "metadata": {
    "id": "01ekVSe4McOZ",
    "pycharm": {
     "name": "#%% md\n"
    }
   },
   "source": [
    "# Revisiting the NYC Taxi DataSet Model Architecture Part 7\n",
    "\n",
    "In this notebook, the model architecture is being changed in order to understand the correlation between the model architecture and the prediction quality.\n",
    "From all the prior parts, Part 2 used the most complex model.\n",
    "This model tries to increase the prediction quality by also using SequenceFeatures for the time components.\n",
    "If any improvement happens, it is expected to not yield much of a boost in accuracy.\n",
    "The reason for that expectation is the fact that the time components do not have a great influence on the prediction anyways as discussed in the evaluation of the prior parts.\n"
   ]
  },
  {
   "cell_type": "code",
   "metadata": {
    "id": "O0AtRRZwKfnz",
    "colab": {
     "base_uri": "https://localhost:8080/",
     "height": 119
    },
    "outputId": "ec8f53e1-bede-41f7-a6a1-2bf8249bbf6b",
    "pycharm": {
     "name": "#%%\n"
    }
   },
   "source": [
    "import numpy as np\n",
    "np.random.seed(0)\n",
    "import tensorflow as tf\n",
    "import pandas as pd\n",
    "from tensorflow import feature_column\n",
    "from tensorflow.keras import layers\n",
    "import import_ipynb"
   ],
   "execution_count": 1,
   "outputs": []
  },
  {
   "cell_type": "code",
   "execution_count": 2,
   "outputs": [
    {
     "name": "stdout",
     "output_type": "stream",
     "text": [
      "importing Jupyter notebook from model_helper.ipynb\n"
     ]
    }
   ],
   "source": [
    "from model_helper import ModelHelper"
   ],
   "metadata": {
    "collapsed": false,
    "pycharm": {
     "name": "#%%\n"
    }
   }
  },
  {
   "cell_type": "markdown",
   "metadata": {
    "id": "nRSBBlWyLG9h",
    "pycharm": {
     "name": "#%% md\n"
    }
   },
   "source": [
    "# Dataset"
   ]
  },
  {
   "cell_type": "code",
   "metadata": {
    "id": "EiraMJg9uOb9",
    "colab": {
     "base_uri": "https://localhost:8080/",
     "height": 204
    },
    "outputId": "bd845c7d-9072-46d5-ef12-b26e94566280",
    "pycharm": {
     "name": "#%%\n"
    }
   },
   "source": [
    "df = pd.read_csv(\"./ma_results/trips_with_zones_final.csv\")\n",
    "df = df.head(10000000)\n",
    "df.head(10)"
   ],
   "execution_count": 3,
   "outputs": [
    {
     "data": {
      "text/plain": "                          medallion  pickup_week_day  pickup_hour  pickup_day  \\\n0  00005007A9F30E289E760362F69E4EAD                1            0           1   \n1  00005007A9F30E289E760362F69E4EAD                1            0           1   \n2  00005007A9F30E289E760362F69E4EAD                1            0           1   \n3  00005007A9F30E289E760362F69E4EAD                1            1           1   \n4  00005007A9F30E289E760362F69E4EAD                1            1           1   \n5  00005007A9F30E289E760362F69E4EAD                1            1           1   \n6  00005007A9F30E289E760362F69E4EAD                1            2           1   \n7  00005007A9F30E289E760362F69E4EAD                1            2           1   \n8  00005007A9F30E289E760362F69E4EAD                1            2           1   \n9  00005007A9F30E289E760362F69E4EAD                1            3           1   \n\n   pickup_month  dropoff_week_day  dropoff_hour  dropoff_day  dropoff_month  \\\n0             1                 1             0            1              1   \n1             1                 1             0            1              1   \n2             1                 1             1            1              1   \n3             1                 1             1            1              1   \n4             1                 1             1            1              1   \n5             1                 1             2            1              1   \n6             1                 1             2            1              1   \n7             1                 1             2            1              1   \n8             1                 1             3            1              1   \n9             1                 1             3            1              1   \n\n   pickup_location_id  dropoff_location_id  \n0               162.0                262.0  \n1               262.0                239.0  \n2               239.0                236.0  \n3               236.0                 41.0  \n4                41.0                211.0  \n5               211.0                238.0  \n6               238.0                142.0  \n7               142.0                263.0  \n8               263.0                 48.0  \n9                48.0                246.0  ",
      "text/html": "<div>\n<style scoped>\n    .dataframe tbody tr th:only-of-type {\n        vertical-align: middle;\n    }\n\n    .dataframe tbody tr th {\n        vertical-align: top;\n    }\n\n    .dataframe thead th {\n        text-align: right;\n    }\n</style>\n<table border=\"1\" class=\"dataframe\">\n  <thead>\n    <tr style=\"text-align: right;\">\n      <th></th>\n      <th>medallion</th>\n      <th>pickup_week_day</th>\n      <th>pickup_hour</th>\n      <th>pickup_day</th>\n      <th>pickup_month</th>\n      <th>dropoff_week_day</th>\n      <th>dropoff_hour</th>\n      <th>dropoff_day</th>\n      <th>dropoff_month</th>\n      <th>pickup_location_id</th>\n      <th>dropoff_location_id</th>\n    </tr>\n  </thead>\n  <tbody>\n    <tr>\n      <th>0</th>\n      <td>00005007A9F30E289E760362F69E4EAD</td>\n      <td>1</td>\n      <td>0</td>\n      <td>1</td>\n      <td>1</td>\n      <td>1</td>\n      <td>0</td>\n      <td>1</td>\n      <td>1</td>\n      <td>162.0</td>\n      <td>262.0</td>\n    </tr>\n    <tr>\n      <th>1</th>\n      <td>00005007A9F30E289E760362F69E4EAD</td>\n      <td>1</td>\n      <td>0</td>\n      <td>1</td>\n      <td>1</td>\n      <td>1</td>\n      <td>0</td>\n      <td>1</td>\n      <td>1</td>\n      <td>262.0</td>\n      <td>239.0</td>\n    </tr>\n    <tr>\n      <th>2</th>\n      <td>00005007A9F30E289E760362F69E4EAD</td>\n      <td>1</td>\n      <td>0</td>\n      <td>1</td>\n      <td>1</td>\n      <td>1</td>\n      <td>1</td>\n      <td>1</td>\n      <td>1</td>\n      <td>239.0</td>\n      <td>236.0</td>\n    </tr>\n    <tr>\n      <th>3</th>\n      <td>00005007A9F30E289E760362F69E4EAD</td>\n      <td>1</td>\n      <td>1</td>\n      <td>1</td>\n      <td>1</td>\n      <td>1</td>\n      <td>1</td>\n      <td>1</td>\n      <td>1</td>\n      <td>236.0</td>\n      <td>41.0</td>\n    </tr>\n    <tr>\n      <th>4</th>\n      <td>00005007A9F30E289E760362F69E4EAD</td>\n      <td>1</td>\n      <td>1</td>\n      <td>1</td>\n      <td>1</td>\n      <td>1</td>\n      <td>1</td>\n      <td>1</td>\n      <td>1</td>\n      <td>41.0</td>\n      <td>211.0</td>\n    </tr>\n    <tr>\n      <th>5</th>\n      <td>00005007A9F30E289E760362F69E4EAD</td>\n      <td>1</td>\n      <td>1</td>\n      <td>1</td>\n      <td>1</td>\n      <td>1</td>\n      <td>2</td>\n      <td>1</td>\n      <td>1</td>\n      <td>211.0</td>\n      <td>238.0</td>\n    </tr>\n    <tr>\n      <th>6</th>\n      <td>00005007A9F30E289E760362F69E4EAD</td>\n      <td>1</td>\n      <td>2</td>\n      <td>1</td>\n      <td>1</td>\n      <td>1</td>\n      <td>2</td>\n      <td>1</td>\n      <td>1</td>\n      <td>238.0</td>\n      <td>142.0</td>\n    </tr>\n    <tr>\n      <th>7</th>\n      <td>00005007A9F30E289E760362F69E4EAD</td>\n      <td>1</td>\n      <td>2</td>\n      <td>1</td>\n      <td>1</td>\n      <td>1</td>\n      <td>2</td>\n      <td>1</td>\n      <td>1</td>\n      <td>142.0</td>\n      <td>263.0</td>\n    </tr>\n    <tr>\n      <th>8</th>\n      <td>00005007A9F30E289E760362F69E4EAD</td>\n      <td>1</td>\n      <td>2</td>\n      <td>1</td>\n      <td>1</td>\n      <td>1</td>\n      <td>3</td>\n      <td>1</td>\n      <td>1</td>\n      <td>263.0</td>\n      <td>48.0</td>\n    </tr>\n    <tr>\n      <th>9</th>\n      <td>00005007A9F30E289E760362F69E4EAD</td>\n      <td>1</td>\n      <td>3</td>\n      <td>1</td>\n      <td>1</td>\n      <td>1</td>\n      <td>3</td>\n      <td>1</td>\n      <td>1</td>\n      <td>48.0</td>\n      <td>246.0</td>\n    </tr>\n  </tbody>\n</table>\n</div>"
     },
     "execution_count": 3,
     "metadata": {},
     "output_type": "execute_result"
    }
   ]
  },
  {
   "cell_type": "code",
   "metadata": {
    "id": "ggIfgQxKuOcC",
    "colab": {
     "base_uri": "https://localhost:8080/",
     "height": 221
    },
    "outputId": "4a248d3b-8b73-4f2b-d7f3-8f9bcaaedbd6",
    "pycharm": {
     "name": "#%%\n"
    }
   },
   "source": [
    "# Check dtypes of the attributes\n",
    "df.dtypes"
   ],
   "execution_count": 4,
   "outputs": [
    {
     "data": {
      "text/plain": "medallion               object\npickup_week_day          int64\npickup_hour              int64\npickup_day               int64\npickup_month             int64\ndropoff_week_day         int64\ndropoff_hour             int64\ndropoff_day              int64\ndropoff_month            int64\npickup_location_id     float64\ndropoff_location_id    float64\ndtype: object"
     },
     "execution_count": 4,
     "metadata": {},
     "output_type": "execute_result"
    }
   ]
  },
  {
   "cell_type": "code",
   "execution_count": 5,
   "outputs": [],
   "source": [
    "# Drop the medallion, it is not needed for this example\n",
    "df.drop(['medallion'], axis=1, inplace=True)"
   ],
   "metadata": {
    "collapsed": false,
    "pycharm": {
     "name": "#%%\n"
    }
   }
  },
  {
   "cell_type": "markdown",
   "metadata": {
    "id": "ep1BmXDVPxC1",
    "pycharm": {
     "name": "#%% md\n"
    }
   },
   "source": [
    "Because there are too many taxis (over 9000) it is better to take the 100 taxi with the major number of records"
   ]
  },
  {
   "cell_type": "code",
   "execution_count": 6,
   "outputs": [
    {
     "data": {
      "text/plain": "pickup_week_day        int32\npickup_hour            int32\npickup_day             int32\npickup_month           int32\ndropoff_week_day       int32\ndropoff_hour           int32\ndropoff_day            int32\ndropoff_month          int32\npickup_location_id     int32\ndropoff_location_id    int32\ndtype: object"
     },
     "execution_count": 6,
     "metadata": {},
     "output_type": "execute_result"
    }
   ],
   "source": [
    "# Cast the columns type to int32\n",
    "dictionary = {'pickup_week_day': 'int32', 'pickup_hour': 'int32', 'pickup_day': 'int32', 'pickup_month': 'int32', 'dropoff_week_day': 'int32', 'dropoff_hour': 'int32', 'dropoff_day': 'int32', 'dropoff_month': 'int32', 'pickup_location_id':'int32', 'dropoff_location_id':'int32'}\n",
    "df = df.astype(dictionary, copy=True)\n",
    "df.dtypes"
   ],
   "metadata": {
    "collapsed": false,
    "pycharm": {
     "name": "#%%\n"
    }
   }
  },
  {
   "cell_type": "markdown",
   "metadata": {
    "id": "-oH6GxKzwc7K",
    "pycharm": {
     "name": "#%% md\n"
    }
   },
   "source": [
    "We can use the other taxis to create a local test and validation sets"
   ]
  },
  {
   "cell_type": "markdown",
   "metadata": {
    "id": "eHECUQleRxHH",
    "pycharm": {
     "name": "#%% md\n"
    }
   },
   "source": [
    "Now we need to create the location sequence for each user"
   ]
  },
  {
   "cell_type": "code",
   "execution_count": 7,
   "outputs": [],
   "source": [
    "mh = ModelHelper(df, 129)"
   ],
   "metadata": {
    "collapsed": false,
    "pycharm": {
     "name": "#%%\n"
    }
   }
  },
  {
   "cell_type": "code",
   "metadata": {
    "id": "Uzze3vF-R8OZ",
    "pycharm": {
     "name": "#%%\n"
    }
   },
   "source": [
    "# Call the function\n",
    "mh.df_to_location_sequence()\n",
    "\n",
    "print(mh.df)"
   ],
   "execution_count": 8,
   "outputs": [
    {
     "name": "stdout",
     "output_type": "stream",
     "text": [
      "            index  location_id  day  month  hour_sin      hour_cos  \\\n",
      "0               0          162    1      1  0.000000  1.000000e+00   \n",
      "1              12          230    1      1  0.707107  7.071068e-01   \n",
      "2              13          125    1      1  0.707107  7.071068e-01   \n",
      "3              15           48    1      1  0.866025  5.000000e-01   \n",
      "4              18          170    1      1  1.000000  6.123234e-17   \n",
      "...           ...          ...  ...    ...       ...           ...   \n",
      "13731996  7284341          161   26      1 -0.500000 -8.660254e-01   \n",
      "13731997  7284341          161   26      1 -0.500000 -8.660254e-01   \n",
      "13731998  7284342          132   26      1 -0.707107 -7.071068e-01   \n",
      "13731999  7284343          141   26      1 -0.866025 -5.000000e-01   \n",
      "13732000  7284344          141   26      1 -0.866025 -5.000000e-01   \n",
      "\n",
      "          week_day_sin  week_day_cos  weekend  \n",
      "0             0.781831      0.623490        0  \n",
      "1             0.781831      0.623490        0  \n",
      "2             0.781831      0.623490        0  \n",
      "3             0.781831      0.623490        0  \n",
      "4             0.781831      0.623490        0  \n",
      "...                ...           ...      ...  \n",
      "13731996     -0.974928     -0.222521        1  \n",
      "13731997     -0.974928     -0.222521        1  \n",
      "13731998     -0.974928     -0.222521        1  \n",
      "13731999     -0.974928     -0.222521        1  \n",
      "13732000     -0.974928     -0.222521        1  \n",
      "\n",
      "[13732001 rows x 9 columns]\n"
     ]
    }
   ]
  },
  {
   "cell_type": "code",
   "metadata": {
    "id": "YbQmLj9kSYqp",
    "colab": {
     "base_uri": "https://localhost:8080/",
     "height": 34
    },
    "outputId": "07af026d-8765-4323-8204-953df7b1eccc",
    "pycharm": {
     "name": "#%%\n"
    }
   },
   "source": [
    "mh.train_val_test_split()\n",
    "print(len(mh.df_train), 'train examples')\n",
    "print(len(mh.df_val), 'validation examples')\n",
    "print(len(mh.df_test), 'test examples')"
   ],
   "execution_count": 9,
   "outputs": [
    {
     "name": "stdout",
     "output_type": "stream",
     "text": [
      "8788480 train examples\n",
      "2197120 validation examples\n",
      "2746401 test examples\n"
     ]
    }
   ]
  },
  {
   "cell_type": "code",
   "metadata": {
    "id": "ltjLgzdf1LYY",
    "pycharm": {
     "name": "#%%\n"
    }
   },
   "source": [
    "mh.split_data()\n",
    "mh.list_test[0]"
   ],
   "execution_count": 10,
   "outputs": [
    {
     "data": {
      "text/plain": "            index  location_id  day  month  hour_sin  hour_cos  week_day_sin  \\\n10985600  5283998          246    4      1 -0.866025  0.500000     -0.433884   \n10985601  5283999          107    4      1 -0.707107  0.707107     -0.433884   \n10985602  5284000          142    4      1 -0.707107  0.707107     -0.433884   \n10985603  5284001           48    4      1 -0.500000  0.866025     -0.433884   \n10985604  5284001           48    4      1 -0.500000  0.866025     -0.433884   \n...           ...          ...  ...    ...       ...       ...           ...   \n10985724  5284091          234    7      1  0.000000  1.000000      0.000000   \n10985725  5284092          162    7      1  0.258819  0.965926      0.000000   \n10985726  5284093          142    7      1  0.500000  0.866025      0.000000   \n10985727  5284093          142    7      1  0.500000  0.866025      0.000000   \n10985728  5284094          239    7      1  0.500000  0.866025      0.000000   \n\n          week_day_cos  weekend  \n10985600     -0.900969        0  \n10985601     -0.900969        0  \n10985602     -0.900969        0  \n10985603     -0.900969        0  \n10985604     -0.900969        0  \n...                ...      ...  \n10985724      1.000000        0  \n10985725      1.000000        0  \n10985726      1.000000        0  \n10985727      1.000000        0  \n10985728      1.000000        0  \n\n[129 rows x 9 columns]",
      "text/html": "<div>\n<style scoped>\n    .dataframe tbody tr th:only-of-type {\n        vertical-align: middle;\n    }\n\n    .dataframe tbody tr th {\n        vertical-align: top;\n    }\n\n    .dataframe thead th {\n        text-align: right;\n    }\n</style>\n<table border=\"1\" class=\"dataframe\">\n  <thead>\n    <tr style=\"text-align: right;\">\n      <th></th>\n      <th>index</th>\n      <th>location_id</th>\n      <th>day</th>\n      <th>month</th>\n      <th>hour_sin</th>\n      <th>hour_cos</th>\n      <th>week_day_sin</th>\n      <th>week_day_cos</th>\n      <th>weekend</th>\n    </tr>\n  </thead>\n  <tbody>\n    <tr>\n      <th>10985600</th>\n      <td>5283998</td>\n      <td>246</td>\n      <td>4</td>\n      <td>1</td>\n      <td>-0.866025</td>\n      <td>0.500000</td>\n      <td>-0.433884</td>\n      <td>-0.900969</td>\n      <td>0</td>\n    </tr>\n    <tr>\n      <th>10985601</th>\n      <td>5283999</td>\n      <td>107</td>\n      <td>4</td>\n      <td>1</td>\n      <td>-0.707107</td>\n      <td>0.707107</td>\n      <td>-0.433884</td>\n      <td>-0.900969</td>\n      <td>0</td>\n    </tr>\n    <tr>\n      <th>10985602</th>\n      <td>5284000</td>\n      <td>142</td>\n      <td>4</td>\n      <td>1</td>\n      <td>-0.707107</td>\n      <td>0.707107</td>\n      <td>-0.433884</td>\n      <td>-0.900969</td>\n      <td>0</td>\n    </tr>\n    <tr>\n      <th>10985603</th>\n      <td>5284001</td>\n      <td>48</td>\n      <td>4</td>\n      <td>1</td>\n      <td>-0.500000</td>\n      <td>0.866025</td>\n      <td>-0.433884</td>\n      <td>-0.900969</td>\n      <td>0</td>\n    </tr>\n    <tr>\n      <th>10985604</th>\n      <td>5284001</td>\n      <td>48</td>\n      <td>4</td>\n      <td>1</td>\n      <td>-0.500000</td>\n      <td>0.866025</td>\n      <td>-0.433884</td>\n      <td>-0.900969</td>\n      <td>0</td>\n    </tr>\n    <tr>\n      <th>...</th>\n      <td>...</td>\n      <td>...</td>\n      <td>...</td>\n      <td>...</td>\n      <td>...</td>\n      <td>...</td>\n      <td>...</td>\n      <td>...</td>\n      <td>...</td>\n    </tr>\n    <tr>\n      <th>10985724</th>\n      <td>5284091</td>\n      <td>234</td>\n      <td>7</td>\n      <td>1</td>\n      <td>0.000000</td>\n      <td>1.000000</td>\n      <td>0.000000</td>\n      <td>1.000000</td>\n      <td>0</td>\n    </tr>\n    <tr>\n      <th>10985725</th>\n      <td>5284092</td>\n      <td>162</td>\n      <td>7</td>\n      <td>1</td>\n      <td>0.258819</td>\n      <td>0.965926</td>\n      <td>0.000000</td>\n      <td>1.000000</td>\n      <td>0</td>\n    </tr>\n    <tr>\n      <th>10985726</th>\n      <td>5284093</td>\n      <td>142</td>\n      <td>7</td>\n      <td>1</td>\n      <td>0.500000</td>\n      <td>0.866025</td>\n      <td>0.000000</td>\n      <td>1.000000</td>\n      <td>0</td>\n    </tr>\n    <tr>\n      <th>10985727</th>\n      <td>5284093</td>\n      <td>142</td>\n      <td>7</td>\n      <td>1</td>\n      <td>0.500000</td>\n      <td>0.866025</td>\n      <td>0.000000</td>\n      <td>1.000000</td>\n      <td>0</td>\n    </tr>\n    <tr>\n      <th>10985728</th>\n      <td>5284094</td>\n      <td>239</td>\n      <td>7</td>\n      <td>1</td>\n      <td>0.500000</td>\n      <td>0.866025</td>\n      <td>0.000000</td>\n      <td>1.000000</td>\n      <td>0</td>\n    </tr>\n  </tbody>\n</table>\n<p>129 rows × 9 columns</p>\n</div>"
     },
     "execution_count": 10,
     "metadata": {},
     "output_type": "execute_result"
    }
   ]
  },
  {
   "cell_type": "code",
   "metadata": {
    "id": "sEMnEoqY9CAv",
    "colab": {
     "base_uri": "https://localhost:8080/",
     "height": 68
    },
    "outputId": "37048dd7-05ce-4780-fda7-70351e948503",
    "pycharm": {
     "name": "#%%\n"
    }
   },
   "source": [
    "mh.set_batch_size(128)\n",
    "mh.create_batch_dataset()\n",
    "mh.test_dataset"
   ],
   "execution_count": 11,
   "outputs": [
    {
     "data": {
      "text/plain": "<BatchDataset shapes: ({start_place: (128, 128), start_hour_sin: (128, 128), start_hour_cos: (128, 128), weekend: (128, 128), week_day_sin: (128, 128), week_day_cos: (128, 128), end_hour_sin: (128,), end_hour_cos: (128,), end_weekend: (128,), end_week_day_sin: (128,), end_week_day_cos: (128,)}, (128,)), types: ({start_place: tf.int32, start_hour_sin: tf.float64, start_hour_cos: tf.float64, weekend: tf.int32, week_day_sin: tf.float64, week_day_cos: tf.float64, end_hour_sin: tf.float64, end_hour_cos: tf.float64, end_weekend: tf.int32, end_week_day_sin: tf.float64, end_week_day_cos: tf.float64}, tf.int32)>"
     },
     "execution_count": 11,
     "metadata": {},
     "output_type": "execute_result"
    }
   ]
  },
  {
   "cell_type": "code",
   "execution_count": 12,
   "outputs": [],
   "source": [
    "mh.set_target_column_name('location_id')\n",
    "mh.set_vocab_size()\n",
    "mh.set_numerical_column_names(['start_hour_sin', 'start_hour_cos', 'weekend', 'week_day_sin', 'week_day_cos'])"
   ],
   "metadata": {
    "collapsed": false,
    "pycharm": {
     "name": "#%%\n"
    }
   }
  },
  {
   "cell_type": "code",
   "execution_count": 13,
   "outputs": [],
   "source": [
    "def sparse_f(input_dense):\n",
    "  zero = tf.constant(0, dtype=tf.float32)\n",
    "  indices = tf.where(tf.not_equal(input_dense, zero))\n",
    "  values = tf.gather_nd(input_dense, indices)\n",
    "  sparse = tf.SparseTensor(indices, values,  tf.cast(tf.shape(input_dense), dtype=tf.int64))\n",
    "  return sparse"
   ],
   "metadata": {
    "collapsed": false,
    "pycharm": {
     "name": "#%%\n"
    }
   }
  },
  {
   "cell_type": "code",
   "metadata": {
    "id": "bHDBtZVwYXWT",
    "pycharm": {
     "name": "#%%\n"
    }
   },
   "source": [
    "# The embedding dimension\n",
    "embedding_dim = 256\n",
    "\n",
    "# Number of RNN units\n",
    "rnn_units1 = 256\n",
    "rnn_units2=128\n",
    "\n",
    "# Create a model\n",
    "def create_model():\n",
    "  N = mh.total_window_length\n",
    "  batch_size = mh.batch_size\n",
    "  number_of_places = mh.vocab_size\n",
    "\n",
    "\t# Shortcut to the layers package\n",
    "  l = tf.keras.layers\n",
    "\n",
    "  other_feature_inputs = {\n",
    "    'end_hour_sin': tf.keras.Input((1, ), batch_size=batch_size, name='end_hour_sin'),\n",
    "    'end_hour_cos': tf.keras.Input((1, ), batch_size=batch_size, name='end_hour_cos'),\n",
    "    'end_weekend': tf.keras.Input((1, ), batch_size=batch_size, name='end_weekend'),\n",
    "    'end_week_day_sin': tf.keras.Input((1, ), batch_size=batch_size, name='end_week_day_sin'),\n",
    "    'end_week_day_cos': tf.keras.Input((1, ), batch_size=batch_size, name='end_week_day_cos')\n",
    "  }\n",
    "\n",
    "# List of numeric feature columns to pass to the DenseLayer\n",
    "  num_features = []\n",
    "  feature_inputs={}\n",
    "  # Handling numerical columns\n",
    "  for header in mh.numerical_columns_names:\n",
    "    input = tf.keras.Input((N-1,), dtype=tf.dtypes.float32, batch_size=batch_size, name=header)\n",
    "    feature_inputs[header] = input\n",
    "    f =  feature_column.sequence_numeric_column(header, shape=(N-1), dtype=tf.dtypes.float32)\n",
    "    sparse_input = tf.keras.layers.Lambda(sparse_f)(input)\n",
    "    feature, sequence_length = tf.keras.experimental.SequenceFeatures(f)({header: sparse_input})\n",
    "    feature = tf.reshape(feature, (sparse_input.shape[0], sparse_input.shape[1], 1))\n",
    "    num_features.append(feature)\n",
    "\n",
    "  end_hour_sin = feature_column.numeric_column(\"end_hour_sin\", shape=(1))\n",
    "  end_hour_sin_feature = l.DenseFeatures(end_hour_sin)(other_feature_inputs)\n",
    "\n",
    "  end_hour_cos = feature_column.numeric_column(\"end_hour_cos\", shape=(1))\n",
    "  end_hour_cos_feature = l.DenseFeatures(end_hour_cos)(other_feature_inputs)\n",
    "\n",
    "  end_weekend = feature_column.numeric_column(\"end_weekend\", shape=(1))\n",
    "  end_weekend_feature = l.DenseFeatures(end_weekend)(other_feature_inputs)\n",
    "\n",
    "  end_week_day_sin = feature_column.numeric_column(\"end_week_day_sin\", shape=(1))\n",
    "  end_week_day_sin_feature = l.DenseFeatures(end_week_day_sin)(other_feature_inputs)\n",
    "\n",
    "  end_week_day_cos = feature_column.numeric_column(\"end_week_day_cos\", shape=(1))\n",
    "  end_week_day_cos_feature = l.DenseFeatures(end_week_day_cos)(other_feature_inputs)\n",
    "\n",
    "\n",
    "  # Declare the dictionary for the places sequence as before\n",
    "  sequence_input = {\n",
    "      'start_place': tf.keras.Input((N-1,), batch_size=batch_size, dtype=tf.dtypes.int32, name='start_place') # add batch_size=batch_size in case of stateful GRU\n",
    "  }\n",
    "\n",
    "\n",
    "  # Handling the categorical feature sequence using one-hot\n",
    "  places_one_hot = feature_column.sequence_categorical_column_with_vocabulary_list(\n",
    "      'start_place', [i for i in range(number_of_places)])\n",
    "\n",
    "  # Embed the one-hot encoding\n",
    "  places_embed = feature_column.embedding_column(places_one_hot, embedding_dim)\n",
    "\n",
    "\n",
    "  # With an input sequence we can't use the DenseFeature layer, we need to use the SequenceFeatures\n",
    "  sequence_features, sequence_length = tf.keras.experimental.SequenceFeatures(places_embed)(sequence_input)\n",
    "\n",
    "  input_sequence = l.Concatenate(axis=2)([sequence_features] + num_features)\n",
    "\n",
    "  # Rnn\n",
    "  recurrent = l.GRU(rnn_units1,\n",
    "                        batch_size=batch_size, #in case of stateful\n",
    "                        return_sequences=True,\n",
    "                        stateful=True,\n",
    "                        recurrent_initializer='glorot_uniform')(input_sequence)\n",
    "\n",
    "  recurrent_2 = l.GRU(rnn_units2,\n",
    "                        batch_size=batch_size, #in case of stateful\n",
    "                        stateful=True,\n",
    "                        recurrent_initializer='glorot_uniform')(recurrent)\n",
    "\n",
    "\n",
    "  flatten = l.Flatten()(recurrent_2)\n",
    "\n",
    "  concatenate_2 = l.Concatenate(axis=1)([flatten, end_hour_sin_feature, end_hour_cos_feature, end_weekend_feature, end_week_day_sin_feature, end_week_day_cos_feature])\n",
    "\n",
    "\t# Last layer with an output for each places\n",
    "  dense_1 = layers.Dense(number_of_places)(concatenate_2)\n",
    "\n",
    "\t# Softmax output layer\n",
    "  output = l.Softmax()(dense_1)\n",
    "\n",
    "\t# To return the Model, we need to define its inputs and outputs\n",
    "\t# In out case, we need to list all the input layers we have defined\n",
    "  inputs = list(feature_inputs.values()) + list(sequence_input.values()) + list(other_feature_inputs.values())\n",
    "\n",
    "\t# Return the Model\n",
    "  return tf.keras.Model(inputs=inputs, outputs=output)"
   ],
   "execution_count": 16,
   "outputs": []
  },
  {
   "cell_type": "code",
   "execution_count": 19,
   "outputs": [],
   "source": [
    "# Get the model and compile it\n",
    "mh.assign_model(create_model())\n",
    "mh.compile_model()"
   ],
   "metadata": {
    "collapsed": false,
    "pycharm": {
     "name": "#%%\n"
    }
   }
  },
  {
   "cell_type": "markdown",
   "metadata": {
    "id": "JLTlfunoO0Yd",
    "pycharm": {
     "name": "#%% md\n"
    }
   },
   "source": [
    "# Training"
   ]
  },
  {
   "cell_type": "code",
   "execution_count": 20,
   "outputs": [
    {
     "name": "stdout",
     "output_type": "stream",
     "text": [
      "Epoch 1/10\n",
      "532/532 [==============================] - 371s 697ms/step - loss: 4.0746 - sparse_categorical_accuracy: 0.0962 - val_loss: 3.7575 - val_sparse_categorical_accuracy: 0.2143\n",
      "Epoch 2/10\n",
      "532/532 [==============================] - 342s 643ms/step - loss: 3.7644 - sparse_categorical_accuracy: 0.1999 - val_loss: 3.5539 - val_sparse_categorical_accuracy: 0.2697\n",
      "Epoch 3/10\n",
      "532/532 [==============================] - 341s 641ms/step - loss: 3.6876 - sparse_categorical_accuracy: 0.2154 - val_loss: 3.5028 - val_sparse_categorical_accuracy: 0.2799\n",
      "Epoch 4/10\n",
      "532/532 [==============================] - 348s 654ms/step - loss: 3.6208 - sparse_categorical_accuracy: 0.2211 - val_loss: 3.4854 - val_sparse_categorical_accuracy: 0.2839\n",
      "Epoch 5/10\n",
      "532/532 [==============================] - 347s 653ms/step - loss: 3.5745 - sparse_categorical_accuracy: 0.2249 - val_loss: 3.4849 - val_sparse_categorical_accuracy: 0.2858\n",
      "Epoch 6/10\n",
      "532/532 [==============================] - 349s 655ms/step - loss: 3.5257 - sparse_categorical_accuracy: 0.2282 - val_loss: 3.4938 - val_sparse_categorical_accuracy: 0.2854\n",
      "Epoch 7/10\n",
      "532/532 [==============================] - 345s 649ms/step - loss: 3.4659 - sparse_categorical_accuracy: 0.2330 - val_loss: 3.5138 - val_sparse_categorical_accuracy: 0.2850\n",
      "Epoch 8/10\n",
      "532/532 [==============================] - ETA: 0s - loss: 3.3918 - sparse_categorical_accuracy: 0.2391Restoring model weights from the end of the best epoch.\n",
      "532/532 [==============================] - 343s 644ms/step - loss: 3.3918 - sparse_categorical_accuracy: 0.2391 - val_loss: 3.5428 - val_sparse_categorical_accuracy: 0.2824\n",
      "Epoch 00008: early stopping\n"
     ]
    }
   ],
   "source": [
    "mh.set_num_epochs(10)\n",
    "mh.fit_model()"
   ],
   "metadata": {
    "collapsed": false,
    "pycharm": {
     "name": "#%%\n"
    }
   }
  },
  {
   "cell_type": "markdown",
   "source": [
    "# Evaluation"
   ],
   "metadata": {
    "collapsed": false,
    "pycharm": {
     "name": "#%% md\n"
    }
   }
  },
  {
   "cell_type": "code",
   "execution_count": 21,
   "outputs": [
    {
     "name": "stdout",
     "output_type": "stream",
     "text": [
      "166/166 [==============================] - 26s 155ms/step - loss: 3.5007 - sparse_categorical_accuracy: 0.2815\n"
     ]
    }
   ],
   "source": [
    "mh.evaluate_model()"
   ],
   "metadata": {
    "collapsed": false,
    "pycharm": {
     "name": "#%%\n"
    }
   }
  },
  {
   "cell_type": "code",
   "execution_count": 22,
   "outputs": [
    {
     "name": "stdout",
     "output_type": "stream",
     "text": [
      "Model: \"functional_5\"\n",
      "__________________________________________________________________________________________________\n",
      "Layer (type)                    Output Shape         Param #     Connected to                     \n",
      "==================================================================================================\n",
      "start_hour_sin (InputLayer)     [(128, 128)]         0                                            \n",
      "__________________________________________________________________________________________________\n",
      "start_hour_cos (InputLayer)     [(128, 128)]         0                                            \n",
      "__________________________________________________________________________________________________\n",
      "weekend (InputLayer)            [(128, 128)]         0                                            \n",
      "__________________________________________________________________________________________________\n",
      "week_day_sin (InputLayer)       [(128, 128)]         0                                            \n",
      "__________________________________________________________________________________________________\n",
      "week_day_cos (InputLayer)       [(128, 128)]         0                                            \n",
      "__________________________________________________________________________________________________\n",
      "lambda_10 (Lambda)              (128, 128)           0           start_hour_sin[0][0]             \n",
      "__________________________________________________________________________________________________\n",
      "lambda_11 (Lambda)              (128, 128)           0           start_hour_cos[0][0]             \n",
      "__________________________________________________________________________________________________\n",
      "lambda_12 (Lambda)              (128, 128)           0           weekend[0][0]                    \n",
      "__________________________________________________________________________________________________\n",
      "lambda_13 (Lambda)              (128, 128)           0           week_day_sin[0][0]               \n",
      "__________________________________________________________________________________________________\n",
      "lambda_14 (Lambda)              (128, 128)           0           week_day_cos[0][0]               \n",
      "__________________________________________________________________________________________________\n",
      "start_place (InputLayer)        [(128, 128)]         0                                            \n",
      "__________________________________________________________________________________________________\n",
      "sequence_features_12 (SequenceF ((128, 1, 128), (Non 0           lambda_10[0][0]                  \n",
      "__________________________________________________________________________________________________\n",
      "sequence_features_13 (SequenceF ((128, 1, 128), (Non 0           lambda_11[0][0]                  \n",
      "__________________________________________________________________________________________________\n",
      "sequence_features_14 (SequenceF ((128, 1, 128), (Non 0           lambda_12[0][0]                  \n",
      "__________________________________________________________________________________________________\n",
      "sequence_features_15 (SequenceF ((128, 1, 128), (Non 0           lambda_13[0][0]                  \n",
      "__________________________________________________________________________________________________\n",
      "sequence_features_16 (SequenceF ((128, 1, 128), (Non 0           lambda_14[0][0]                  \n",
      "__________________________________________________________________________________________________\n",
      "sequence_features_17 (SequenceF ((None, None, 256),  67584       start_place[0][0]                \n",
      "__________________________________________________________________________________________________\n",
      "tf_op_layer_Reshape_10 (TensorF [(128, 128, 1)]      0           sequence_features_12[0][0]       \n",
      "__________________________________________________________________________________________________\n",
      "tf_op_layer_Reshape_11 (TensorF [(128, 128, 1)]      0           sequence_features_13[0][0]       \n",
      "__________________________________________________________________________________________________\n",
      "tf_op_layer_Reshape_12 (TensorF [(128, 128, 1)]      0           sequence_features_14[0][0]       \n",
      "__________________________________________________________________________________________________\n",
      "tf_op_layer_Reshape_13 (TensorF [(128, 128, 1)]      0           sequence_features_15[0][0]       \n",
      "__________________________________________________________________________________________________\n",
      "tf_op_layer_Reshape_14 (TensorF [(128, 128, 1)]      0           sequence_features_16[0][0]       \n",
      "__________________________________________________________________________________________________\n",
      "concatenate_4 (Concatenate)     (128, 128, 261)      0           sequence_features_17[0][0]       \n",
      "                                                                 tf_op_layer_Reshape_10[0][0]     \n",
      "                                                                 tf_op_layer_Reshape_11[0][0]     \n",
      "                                                                 tf_op_layer_Reshape_12[0][0]     \n",
      "                                                                 tf_op_layer_Reshape_13[0][0]     \n",
      "                                                                 tf_op_layer_Reshape_14[0][0]     \n",
      "__________________________________________________________________________________________________\n",
      "gru_4 (GRU)                     (128, 128, 256)      398592      concatenate_4[0][0]              \n",
      "__________________________________________________________________________________________________\n",
      "gru_5 (GRU)                     (128, 128)           148224      gru_4[0][0]                      \n",
      "__________________________________________________________________________________________________\n",
      "end_hour_cos (InputLayer)       [(128, 1)]           0                                            \n",
      "__________________________________________________________________________________________________\n",
      "end_hour_sin (InputLayer)       [(128, 1)]           0                                            \n",
      "__________________________________________________________________________________________________\n",
      "end_week_day_cos (InputLayer)   [(128, 1)]           0                                            \n",
      "__________________________________________________________________________________________________\n",
      "end_week_day_sin (InputLayer)   [(128, 1)]           0                                            \n",
      "__________________________________________________________________________________________________\n",
      "end_weekend (InputLayer)        [(128, 1)]           0                                            \n",
      "__________________________________________________________________________________________________\n",
      "flatten_2 (Flatten)             (128, 128)           0           gru_5[0][0]                      \n",
      "__________________________________________________________________________________________________\n",
      "dense_features_10 (DenseFeature (128, 1)             0           end_hour_cos[0][0]               \n",
      "                                                                 end_hour_sin[0][0]               \n",
      "                                                                 end_week_day_cos[0][0]           \n",
      "                                                                 end_week_day_sin[0][0]           \n",
      "                                                                 end_weekend[0][0]                \n",
      "__________________________________________________________________________________________________\n",
      "dense_features_11 (DenseFeature (128, 1)             0           end_hour_cos[0][0]               \n",
      "                                                                 end_hour_sin[0][0]               \n",
      "                                                                 end_week_day_cos[0][0]           \n",
      "                                                                 end_week_day_sin[0][0]           \n",
      "                                                                 end_weekend[0][0]                \n",
      "__________________________________________________________________________________________________\n",
      "dense_features_12 (DenseFeature (128, 1)             0           end_hour_cos[0][0]               \n",
      "                                                                 end_hour_sin[0][0]               \n",
      "                                                                 end_week_day_cos[0][0]           \n",
      "                                                                 end_week_day_sin[0][0]           \n",
      "                                                                 end_weekend[0][0]                \n",
      "__________________________________________________________________________________________________\n",
      "dense_features_13 (DenseFeature (128, 1)             0           end_hour_cos[0][0]               \n",
      "                                                                 end_hour_sin[0][0]               \n",
      "                                                                 end_week_day_cos[0][0]           \n",
      "                                                                 end_week_day_sin[0][0]           \n",
      "                                                                 end_weekend[0][0]                \n",
      "__________________________________________________________________________________________________\n",
      "dense_features_14 (DenseFeature (128, 1)             0           end_hour_cos[0][0]               \n",
      "                                                                 end_hour_sin[0][0]               \n",
      "                                                                 end_week_day_cos[0][0]           \n",
      "                                                                 end_week_day_sin[0][0]           \n",
      "                                                                 end_weekend[0][0]                \n",
      "__________________________________________________________________________________________________\n",
      "concatenate_5 (Concatenate)     (128, 133)           0           flatten_2[0][0]                  \n",
      "                                                                 dense_features_10[0][0]          \n",
      "                                                                 dense_features_11[0][0]          \n",
      "                                                                 dense_features_12[0][0]          \n",
      "                                                                 dense_features_13[0][0]          \n",
      "                                                                 dense_features_14[0][0]          \n",
      "__________________________________________________________________________________________________\n",
      "dense_2 (Dense)                 (128, 264)           35376       concatenate_5[0][0]              \n",
      "__________________________________________________________________________________________________\n",
      "softmax_2 (Softmax)             (128, 264)           0           dense_2[0][0]                    \n",
      "==================================================================================================\n",
      "Total params: 649,776\n",
      "Trainable params: 649,776\n",
      "Non-trainable params: 0\n",
      "__________________________________________________________________________________________________\n"
     ]
    }
   ],
   "source": [
    "mh.model.summary()"
   ],
   "metadata": {
    "collapsed": false,
    "pycharm": {
     "name": "#%%\n"
    }
   }
  },
  {
   "cell_type": "code",
   "execution_count": 23,
   "outputs": [
    {
     "name": "stdout",
     "output_type": "stream",
     "text": [
      "logits\n",
      "Shape :  (21248, 264)\n",
      "Example [0] :  [7.20760610e-04 4.23889520e-04 5.51475114e-06 1.27672483e-05\n",
      " 3.64277558e-03 3.29216709e-06 3.67066082e-06 4.00454924e-03\n",
      " 1.07155211e-04 5.22390183e-05 1.89134953e-04 9.41245671e-05\n",
      " 4.05823404e-04 8.94040801e-03 1.97955189e-04 1.22425627e-04\n",
      " 5.11538292e-06 2.90986936e-04 4.24823738e-05 1.17550117e-05\n",
      " 6.44030570e-06 2.06827171e-05 1.57609000e-04 1.45997601e-05\n",
      " 3.84668889e-03 1.13789400e-03 3.86439897e-05 3.52099573e-06\n",
      " 2.99521457e-06 2.58960372e-05 1.15756811e-05 1.62377182e-05\n",
      " 1.80514890e-05 6.98839664e-04 1.05963947e-04 2.26659431e-05\n",
      " 4.28660685e-04 1.17776124e-03 4.23331803e-05 3.76595963e-05\n",
      " 1.77694819e-04 7.30000390e-03 4.52563306e-03 6.69823587e-03\n",
      " 7.40577980e-06 1.08051172e-03 2.67281685e-05 7.30247702e-05\n",
      " 6.69471398e-02 6.06301415e-04 2.58190446e-02 2.20787479e-05\n",
      " 5.41590620e-04 1.37046605e-04 1.60067706e-04 4.99217713e-05\n",
      " 3.34307369e-05 4.42263172e-06 1.88128524e-05 6.63368837e-06\n",
      " 2.35647149e-05 2.76715029e-04 3.82596889e-04 1.51942822e-05\n",
      " 5.24239704e-06 1.74110537e-04 2.38282490e-04 1.64434125e-04\n",
      " 3.92756946e-02 3.02818138e-04 1.87810801e-04 3.16192891e-05\n",
      " 3.63231229e-05 1.52436667e-04 4.97357687e-03 1.61978956e-02\n",
      " 4.39123687e-05 1.61355216e-04 5.00389287e-05 2.45991368e-02\n",
      " 2.76834879e-04 5.38272980e-06 4.06727719e-04 3.73391696e-04\n",
      " 2.78911670e-04 3.20440377e-05 1.65662259e-05 3.45589663e-03\n",
      " 1.21607422e-03 3.95353301e-04 1.11661321e-02 1.39090580e-05\n",
      " 8.23353548e-05 8.51651275e-05 1.21375291e-04 3.02141043e-03\n",
      " 9.84744911e-05 4.74621280e-04 1.48021054e-05 2.77867230e-06\n",
      " 1.26147782e-02 3.26558620e-05 6.58603021e-05 7.62000172e-06\n",
      " 4.04219600e-06 4.52441236e-06 3.10047617e-04 1.17716836e-02\n",
      " 2.59442754e-06 5.66147855e-06 6.74316107e-06 4.04013826e-06\n",
      " 4.43026051e-03 6.02169521e-03 1.73999406e-02 1.26147024e-05\n",
      " 7.96934403e-03 5.68235828e-06 5.41449626e-05 4.82327217e-04\n",
      " 7.44205727e-06 3.96889118e-05 1.08167515e-04 1.38565767e-04\n",
      " 6.07669281e-05 3.25255143e-03 9.65934014e-05 1.41402741e-03\n",
      " 1.15714545e-04 4.19485010e-03 3.47826630e-04 2.47023927e-05\n",
      " 3.68578499e-03 1.59278003e-04 1.09750308e-05 1.45856204e-04\n",
      " 1.77004928e-04 3.34879919e-03 1.13675576e-02 8.04064257e-05\n",
      " 9.72258858e-03 4.60168906e-02 5.68494424e-02 1.67373773e-02\n",
      " 4.19119652e-03 4.78897244e-03 1.62765384e-03 3.89317465e-05\n",
      " 5.02426876e-03 1.31245233e-05 4.48573446e-05 1.00451298e-02\n",
      " 1.36184925e-03 1.12607035e-04 3.11356234e-06 5.66493509e-05\n",
      " 2.98428859e-06 2.47562479e-04 1.89527683e-02 4.39334835e-05\n",
      " 4.66142665e-04 4.02136371e-02 3.14825214e-02 3.97036225e-02\n",
      " 2.11367477e-02 8.06104654e-05 1.37040224e-02 6.76234922e-05\n",
      " 7.02172285e-04 2.70490244e-04 2.81748343e-02 1.32614241e-05\n",
      " 1.72382261e-05 3.91368783e-04 1.01799815e-04 5.62347213e-06\n",
      " 4.36309756e-06 3.95830721e-05 5.24147754e-06 5.90276485e-03\n",
      " 6.69981000e-06 1.58381602e-03 2.12341503e-04 1.35815699e-05\n",
      " 4.97128485e-06 4.94534797e-05 6.61750231e-03 2.84242174e-06\n",
      " 2.47750257e-04 4.78768867e-04 6.05398054e-05 7.05865614e-06\n",
      " 1.67380840e-05 1.77547015e-04 5.32259983e-05 3.28362439e-05\n",
      " 1.15344080e-03 1.68864484e-04 1.24340091e-04 2.93069525e-06\n",
      " 5.68248273e-04 3.55778247e-05 7.93219777e-04 8.78394494e-05\n",
      " 2.93960238e-06 2.22531776e-06 1.60876498e-05 3.65335800e-05\n",
      " 4.95852400e-05 1.43247645e-03 4.43643694e-05 4.67910105e-03\n",
      " 4.89373597e-05 1.29151143e-04 1.76049616e-05 2.72318466e-05\n",
      " 1.72559976e-06 7.73830179e-05 2.97796032e-05 2.43369595e-05\n",
      " 6.20749022e-04 4.75191882e-06 4.06791696e-06 1.29625853e-03\n",
      " 1.53665105e-03 8.95240955e-05 2.05650111e-03 6.61074737e-05\n",
      " 4.19305812e-04 9.67330951e-03 3.99006903e-02 6.36425056e-03\n",
      " 1.95254351e-03 6.11944776e-03 1.42496927e-02 5.47845630e-05\n",
      " 2.65040658e-02 1.69973280e-02 3.07568889e-02 2.95806006e-02\n",
      " 4.12696609e-05 3.68537185e-05 4.01714242e-05 7.01497775e-03\n",
      " 4.69678221e-03 4.22951280e-06 3.32129113e-02 1.33108464e-04\n",
      " 5.41974259e-05 1.92826763e-02 5.02052972e-05 2.41931480e-06\n",
      " 1.26225263e-04 1.32018522e-05 2.63373749e-05 9.60608188e-04\n",
      " 1.37762912e-03 4.11594316e-04 2.55511113e-04 1.52530236e-04\n",
      " 1.69941341e-03 1.37381081e-03 7.01863645e-03 1.61409527e-02]\n",
      "predictions\n",
      "Shape :  (21248, 264)\n",
      "Example [0] :  tf.Tensor(\n",
      "[0.00377611 0.00377499 0.00377341 0.00377344 0.00378716 0.0037734\n",
      " 0.0037734  0.00378853 0.00377379 0.00377358 0.0037741  0.00377374\n",
      " 0.00377492 0.00380727 0.00377413 0.00377385 0.00377341 0.00377449\n",
      " 0.00377355 0.00377343 0.00377341 0.00377347 0.00377398 0.00377344\n",
      " 0.00378793 0.00377768 0.00377353 0.0037734  0.0037734  0.00377348\n",
      " 0.00377343 0.00377345 0.00377346 0.00377602 0.00377379 0.00377347\n",
      " 0.003775   0.00377783 0.00377355 0.00377353 0.00377406 0.00380103\n",
      " 0.0037905  0.00379875 0.00377341 0.00377747 0.00377349 0.00377366\n",
      " 0.00403465 0.00377568 0.00387208 0.00377347 0.00377543 0.0037739\n",
      " 0.00377399 0.00377358 0.00377351 0.0037734  0.00377346 0.00377341\n",
      " 0.00377348 0.00377443 0.00377483 0.00377344 0.00377341 0.00377404\n",
      " 0.00377429 0.00377401 0.00392454 0.00377453 0.0037741  0.00377351\n",
      " 0.00377352 0.00377396 0.0037922  0.00383501 0.00377355 0.003774\n",
      " 0.00377358 0.00386736 0.00377443 0.00377341 0.00377492 0.0037748\n",
      " 0.00377444 0.00377351 0.00377345 0.00378645 0.00377798 0.00377488\n",
      " 0.00381576 0.00377344 0.0037737  0.00377371 0.00377385 0.00378481\n",
      " 0.00377376 0.00377518 0.00377344 0.0037734  0.00382129 0.00377351\n",
      " 0.00377364 0.00377342 0.0037734  0.0037734  0.00377456 0.00381807\n",
      " 0.0037734  0.00377341 0.00377341 0.0037734  0.00379014 0.00379618\n",
      " 0.00383962 0.00377343 0.00380358 0.00377341 0.00377359 0.00377521\n",
      " 0.00377341 0.00377354 0.0037738  0.00377391 0.00377362 0.00378568\n",
      " 0.00377375 0.00377873 0.00377382 0.00378925 0.0037747  0.00377348\n",
      " 0.00378732 0.00377399 0.00377343 0.00377394 0.00377406 0.00378604\n",
      " 0.00381653 0.00377369 0.00381025 0.00395108 0.00399412 0.00383708\n",
      " 0.00378924 0.0037915  0.00377953 0.00377353 0.00379239 0.00377344\n",
      " 0.00377356 0.00381148 0.00377853 0.00377381 0.0037734  0.0037736\n",
      " 0.0037734  0.00377432 0.00384559 0.00377355 0.00377515 0.00392822\n",
      " 0.00389407 0.00392622 0.00385399 0.00377369 0.00382545 0.00377364\n",
      " 0.00377604 0.00377441 0.00388121 0.00377344 0.00377345 0.00377486\n",
      " 0.00377377 0.00377341 0.0037734  0.00377354 0.00377341 0.00379573\n",
      " 0.00377341 0.00377937 0.00377419 0.00377344 0.00377341 0.00377357\n",
      " 0.00379844 0.0037734  0.00377432 0.00377519 0.00377362 0.00377341\n",
      " 0.00377345 0.00377406 0.00377359 0.00377351 0.00377774 0.00377402\n",
      " 0.00377386 0.0037734  0.00377553 0.00377352 0.00377638 0.00377372\n",
      " 0.0037734  0.0037734  0.00377345 0.00377352 0.00377357 0.0037788\n",
      " 0.00377355 0.00379108 0.00377357 0.00377387 0.00377345 0.00377349\n",
      " 0.00377339 0.00377368 0.0037735  0.00377348 0.00377573 0.0037734\n",
      " 0.0037734  0.00377828 0.00377919 0.00377372 0.00378115 0.00377364\n",
      " 0.00377497 0.00381007 0.00392699 0.00379748 0.00378076 0.00379655\n",
      " 0.00382754 0.00377359 0.00387473 0.00383807 0.00389125 0.00388667\n",
      " 0.00377354 0.00377353 0.00377354 0.00379995 0.00379115 0.0037734\n",
      " 0.00390082 0.00377389 0.00377359 0.00384685 0.00377358 0.0037734\n",
      " 0.00377386 0.00377344 0.00377349 0.00377701 0.00377859 0.00377494\n",
      " 0.00377435 0.00377396 0.00377981 0.00377857 0.00379996 0.00383479], shape=(264,), dtype=float32)\n",
      "predicted_classes\n",
      "Shape :  (21248,)\n",
      "Example [0] :  48\n",
      "actual_values\n",
      "Shape :  (21248,)\n",
      "Example [0] :  239\n",
      "diff\n",
      "Shape :  (21248,)\n",
      "Example [0] :  191\n",
      "Prediction # 0\n",
      "Actual values:  239\n",
      "Predicted values:  48\n",
      "Prediction # 1\n",
      "Actual values:  158\n",
      "Predicted values:  107\n",
      "Prediction # 2\n",
      "Actual values:  100\n",
      "Predicted values:  158\n",
      "Prediction # 3\n",
      "Actual values:  48\n",
      "Predicted values:  170\n",
      "Prediction # 4\n",
      "Actual values:  238\n",
      "Predicted values:  161\n",
      "Prediction # 5\n",
      "Actual values:  90\n",
      "Predicted values:  141\n",
      "Prediction # 6\n",
      "Actual values:  236\n",
      "Predicted values:  13\n",
      "Prediction # 7\n",
      "Actual values:  48\n",
      "Predicted values:  100\n",
      "Prediction # 8\n",
      "Actual values:  229\n",
      "Predicted values:  229\n",
      "Prediction # 9\n",
      "Actual values:  263\n",
      "Predicted values:  263\n",
      "Prediction # 10\n",
      "Actual values:  162\n",
      "Predicted values:  162\n",
      "Prediction # 11\n",
      "Actual values:  144\n",
      "Predicted values:  144\n",
      "Prediction # 12\n",
      "Actual values:  138\n",
      "Predicted values:  211\n",
      "Prediction # 13\n",
      "Actual values:  161\n",
      "Predicted values:  161\n",
      "Prediction # 14\n",
      "Actual values:  113\n",
      "Predicted values:  170\n",
      "Prediction # 15\n",
      "Actual values:  164\n",
      "Predicted values:  163\n",
      "Prediction # 16\n",
      "Actual values:  75\n",
      "Predicted values:  230\n",
      "Prediction # 17\n",
      "Actual values:  162\n",
      "Predicted values:  148\n",
      "Prediction # 18\n",
      "Actual values:  162\n",
      "Predicted values:  263\n",
      "Prediction # 19\n",
      "Actual values:  229\n",
      "Predicted values:  87\n",
      "# correct Predictions :  5981\n",
      "# wrong Predictions :  15267\n",
      "accuracy:  0.28148531626506024\n"
     ]
    }
   ],
   "source": [
    "mh.print_test_prediction_info()"
   ],
   "metadata": {
    "collapsed": false,
    "pycharm": {
     "name": "#%%\n"
    }
   }
  },
  {
   "cell_type": "markdown",
   "source": [
    "The usage of SequenceFeatures to the time components resulted in a marginal increase of performance.\n",
    "This is due to the fact that the model learns to predict that the taxis remain in the same area.\n",
    "For other datasets, this model is expected to have the best prediction quality.\n",
    "\n",
    "When going for efficiency or trying to reduce model complexity, it is advised to predict only on:\n",
    "    * sequences of prior locations\n",
    "    * end time"
   ],
   "metadata": {
    "collapsed": false,
    "pycharm": {
     "name": "#%% md\n"
    }
   }
  }
 ]
}