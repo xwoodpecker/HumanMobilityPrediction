{
 "cells": [
  {
   "cell_type": "markdown",
   "source": [
    "# Final Step Hyperparametertuning\n",
    "\n",
    "Fine tuning of the model for the cincinnati dataset.\n",
    "The same model and dataset is used as in Cincinnati 1-3.\n",
    "The goals is to optimize the parameters for federated learning and compare our initial choice of values."
   ],
   "metadata": {
    "collapsed": false
   }
  },
  {
   "cell_type": "markdown",
   "source": [
    "## Imports"
   ],
   "metadata": {
    "collapsed": false
   }
  },
  {
   "cell_type": "code",
   "execution_count": 1,
   "metadata": {
    "collapsed": true
   },
   "outputs": [],
   "source": [
    "import collections\n",
    "import functools\n",
    "import os\n",
    "import time\n",
    "\n",
    "import numpy as np\n",
    "import tensorflow as tf\n",
    "import pandas as pd\n",
    "import numpy as np\n",
    "\n",
    "from tensorflow import feature_column\n",
    "from tensorflow.keras import layers\n",
    "import keras_tuner as kt\n",
    "from sklearn.model_selection import train_test_split\n",
    "from tqdm import tqdm\n",
    "import import_ipynb"
   ]
  },
  {
   "cell_type": "code",
   "execution_count": 2,
   "outputs": [
    {
     "name": "stdout",
     "output_type": "stream",
     "text": [
      "importing Jupyter notebook from model_helper.ipynb\n"
     ]
    }
   ],
   "source": [
    "from model_helper import ModelHelper"
   ],
   "metadata": {
    "collapsed": false
   }
  },
  {
   "cell_type": "markdown",
   "source": [
    "## DataSet\n",
    "\n",
    "Only the zones used in the physical test with flowers are used for training."
   ],
   "metadata": {
    "collapsed": false
   }
  },
  {
   "cell_type": "code",
   "execution_count": 3,
   "outputs": [
    {
     "data": {
      "text/plain": "   location_id  vehicle_id  is_weekend  clock_sin  clock_cos   day_sin  \\\n0            0         116       False   0.948254  -0.317512  0.994522   \n1            1         457       False   0.902523  -0.430642  0.406737   \n2            2         153       False   0.382415  -0.923991 -0.994522   \n3            3         215       False   0.960030  -0.279899 -0.587785   \n4            1         303       False   0.065040  -0.997883  0.743145   \n5            4         107        True   0.852564  -0.522623  0.994522   \n6            1         383       False   0.949608  -0.313440  0.951057   \n7            5         130       False   0.894934  -0.446198 -0.951057   \n8            2         445       False   0.169350  -0.985556 -0.406737   \n9            4         457       False   0.533492  -0.845805 -0.207912   \n\n    day_cos  month_sin  month_cos  week_day_sin  week_day_cos  \n0 -0.104528   0.500000   0.866025      0.974928     -0.222521  \n1  0.913545   0.500000   0.866025      0.433884     -0.900969  \n2 -0.104528   0.500000   0.866025      0.974928     -0.222521  \n3 -0.809017   0.866025   0.500000      0.781831      0.623490  \n4  0.669131   0.866025   0.500000      0.781831      0.623490  \n5 -0.104528   0.866025   0.500000     -0.974928     -0.222521  \n6  0.309017   0.866025   0.500000      0.433884     -0.900969  \n7 -0.309017   0.500000   0.866025      0.781831      0.623490  \n8 -0.913545   0.500000   0.866025     -0.433884     -0.900969  \n9  0.978148   0.500000   0.866025      0.974928     -0.222521  ",
      "text/html": "<div>\n<style scoped>\n    .dataframe tbody tr th:only-of-type {\n        vertical-align: middle;\n    }\n\n    .dataframe tbody tr th {\n        vertical-align: top;\n    }\n\n    .dataframe thead th {\n        text-align: right;\n    }\n</style>\n<table border=\"1\" class=\"dataframe\">\n  <thead>\n    <tr style=\"text-align: right;\">\n      <th></th>\n      <th>location_id</th>\n      <th>vehicle_id</th>\n      <th>is_weekend</th>\n      <th>clock_sin</th>\n      <th>clock_cos</th>\n      <th>day_sin</th>\n      <th>day_cos</th>\n      <th>month_sin</th>\n      <th>month_cos</th>\n      <th>week_day_sin</th>\n      <th>week_day_cos</th>\n    </tr>\n  </thead>\n  <tbody>\n    <tr>\n      <th>0</th>\n      <td>0</td>\n      <td>116</td>\n      <td>False</td>\n      <td>0.948254</td>\n      <td>-0.317512</td>\n      <td>0.994522</td>\n      <td>-0.104528</td>\n      <td>0.500000</td>\n      <td>0.866025</td>\n      <td>0.974928</td>\n      <td>-0.222521</td>\n    </tr>\n    <tr>\n      <th>1</th>\n      <td>1</td>\n      <td>457</td>\n      <td>False</td>\n      <td>0.902523</td>\n      <td>-0.430642</td>\n      <td>0.406737</td>\n      <td>0.913545</td>\n      <td>0.500000</td>\n      <td>0.866025</td>\n      <td>0.433884</td>\n      <td>-0.900969</td>\n    </tr>\n    <tr>\n      <th>2</th>\n      <td>2</td>\n      <td>153</td>\n      <td>False</td>\n      <td>0.382415</td>\n      <td>-0.923991</td>\n      <td>-0.994522</td>\n      <td>-0.104528</td>\n      <td>0.500000</td>\n      <td>0.866025</td>\n      <td>0.974928</td>\n      <td>-0.222521</td>\n    </tr>\n    <tr>\n      <th>3</th>\n      <td>3</td>\n      <td>215</td>\n      <td>False</td>\n      <td>0.960030</td>\n      <td>-0.279899</td>\n      <td>-0.587785</td>\n      <td>-0.809017</td>\n      <td>0.866025</td>\n      <td>0.500000</td>\n      <td>0.781831</td>\n      <td>0.623490</td>\n    </tr>\n    <tr>\n      <th>4</th>\n      <td>1</td>\n      <td>303</td>\n      <td>False</td>\n      <td>0.065040</td>\n      <td>-0.997883</td>\n      <td>0.743145</td>\n      <td>0.669131</td>\n      <td>0.866025</td>\n      <td>0.500000</td>\n      <td>0.781831</td>\n      <td>0.623490</td>\n    </tr>\n    <tr>\n      <th>5</th>\n      <td>4</td>\n      <td>107</td>\n      <td>True</td>\n      <td>0.852564</td>\n      <td>-0.522623</td>\n      <td>0.994522</td>\n      <td>-0.104528</td>\n      <td>0.866025</td>\n      <td>0.500000</td>\n      <td>-0.974928</td>\n      <td>-0.222521</td>\n    </tr>\n    <tr>\n      <th>6</th>\n      <td>1</td>\n      <td>383</td>\n      <td>False</td>\n      <td>0.949608</td>\n      <td>-0.313440</td>\n      <td>0.951057</td>\n      <td>0.309017</td>\n      <td>0.866025</td>\n      <td>0.500000</td>\n      <td>0.433884</td>\n      <td>-0.900969</td>\n    </tr>\n    <tr>\n      <th>7</th>\n      <td>5</td>\n      <td>130</td>\n      <td>False</td>\n      <td>0.894934</td>\n      <td>-0.446198</td>\n      <td>-0.951057</td>\n      <td>-0.309017</td>\n      <td>0.500000</td>\n      <td>0.866025</td>\n      <td>0.781831</td>\n      <td>0.623490</td>\n    </tr>\n    <tr>\n      <th>8</th>\n      <td>2</td>\n      <td>445</td>\n      <td>False</td>\n      <td>0.169350</td>\n      <td>-0.985556</td>\n      <td>-0.406737</td>\n      <td>-0.913545</td>\n      <td>0.500000</td>\n      <td>0.866025</td>\n      <td>-0.433884</td>\n      <td>-0.900969</td>\n    </tr>\n    <tr>\n      <th>9</th>\n      <td>4</td>\n      <td>457</td>\n      <td>False</td>\n      <td>0.533492</td>\n      <td>-0.845805</td>\n      <td>-0.207912</td>\n      <td>0.978148</td>\n      <td>0.500000</td>\n      <td>0.866025</td>\n      <td>0.974928</td>\n      <td>-0.222521</td>\n    </tr>\n  </tbody>\n</table>\n</div>"
     },
     "execution_count": 3,
     "metadata": {},
     "output_type": "execute_result"
    }
   ],
   "source": [
    "df = pd.read_csv(\"./cincinnati/cincinatti_zones.csv\")\n",
    "df.head(10)"
   ],
   "metadata": {
    "collapsed": false
   }
  },
  {
   "cell_type": "code",
   "execution_count": 4,
   "outputs": [
    {
     "name": "stdout",
     "output_type": "stream",
     "text": [
      "vocabulary size: 100\n"
     ]
    }
   ],
   "source": [
    "# the number of different locations defines the vocabulary size\n",
    "locations = df.location_id\n",
    "vocab_size = locations.nunique()\n",
    "\n",
    "print('vocabulary size:', vocab_size)"
   ],
   "metadata": {
    "collapsed": false
   }
  },
  {
   "cell_type": "markdown",
   "source": [
    "Init the ModelHelper and set all needed parameters such as the different column_names and the vocab_size."
   ],
   "metadata": {
    "collapsed": false
   }
  },
  {
   "cell_type": "code",
   "execution_count": 5,
   "outputs": [],
   "source": [
    "mh = ModelHelper(df, 17)"
   ],
   "metadata": {
    "collapsed": false
   }
  },
  {
   "cell_type": "code",
   "execution_count": 6,
   "outputs": [],
   "source": [
    "mh.set_target_column_name('location_id')\n",
    "mh.set_vocab_size(vocab_size)\n",
    "\n",
    "numerical_column_names = ['clock_sin', 'clock_cos', 'day_sin', 'day_cos', 'month_sin', 'month_cos', 'week_day_sin', 'week_day_cos']\n",
    "column_names = ['location_id'] + numerical_column_names\n",
    "mh.set_column_names(column_names)\n",
    "mh.set_numerical_column_names(numerical_column_names)\n",
    "\n",
    "mh.set_client_column_name('vehicle_id')\n",
    "CLIENT_IDS = [457, 461, 228, 153]\n",
    "mh.set_client_column_ids(CLIENT_IDS)"
   ],
   "metadata": {
    "collapsed": false
   }
  },
  {
   "cell_type": "code",
   "execution_count": 7,
   "outputs": [],
   "source": [
    "count = df.vehicle_id.value_counts()\n",
    "\n",
    "idx = count.loc[count.index[:100]].index # count >= 100\n",
    "df = df.loc[df.vehicle_id.isin(idx)]"
   ],
   "metadata": {
    "collapsed": false
   }
  },
  {
   "cell_type": "markdown",
   "source": [
    "An array is created containing all visited locations for every user.\n",
    "The original data is sorted by time (ascending).\n",
    "Thus, the array contains a sequence of visited locations by user."
   ],
   "metadata": {
    "collapsed": false
   }
  },
  {
   "cell_type": "code",
   "execution_count": 8,
   "outputs": [
    {
     "name": "stderr",
     "output_type": "stream",
     "text": [
      "100%|██████████| 4/4 [00:00<00:00, 16.17it/s]\n"
     ]
    },
    {
     "data": {
      "text/plain": "[          location_id  vehicle_id  is_weekend  clock_sin  clock_cos   day_sin  \\\n 1                   1         457       False   0.902523  -0.430642  0.406737   \n 9                   4         457       False   0.533492  -0.845805 -0.207912   \n 123                 4         457       False   0.796002  -0.605294  0.866025   \n 124                 2         457       False   0.678534  -0.734569 -0.587785   \n 143                 1         457       False  -0.492550  -0.870284  0.207912   \n ...               ...         ...         ...        ...        ...       ...   \n 19073749            2         457       False  -0.469600  -0.882879  0.406737   \n 19073823            1         457       False  -0.030611  -0.999531  0.866025   \n 19074051            6         457       False  -0.485128  -0.874443 -0.743145   \n 19074159            2         457       False  -0.241922  -0.970296 -0.207912   \n 19074203            1         457       False  -0.030902  -0.999522  0.951057   \n \n            day_cos     month_sin  month_cos  week_day_sin  week_day_cos  \n 1         0.913545  5.000000e-01   0.866025      0.433884     -0.900969  \n 9         0.978148  5.000000e-01   0.866025      0.974928     -0.222521  \n 123       0.500000  8.660254e-01   0.500000      0.974928     -0.222521  \n 124       0.809017  5.000000e-01   0.866025      0.000000      1.000000  \n 143      -0.978148  5.000000e-01   0.866025      0.781831      0.623490  \n ...            ...           ...        ...           ...           ...  \n 19073749  0.913545 -5.000000e-01   0.866025      0.000000      1.000000  \n 19073823 -0.500000 -2.449294e-16   1.000000      0.433884     -0.900969  \n 19074051 -0.669131 -8.660254e-01   0.500000      0.000000      1.000000  \n 19074159 -0.978148 -8.660254e-01   0.500000     -0.433884     -0.900969  \n 19074203 -0.309017 -2.449294e-16   1.000000      0.974928     -0.222521  \n \n [388716 rows x 11 columns],\n           location_id  vehicle_id  is_weekend  clock_sin  clock_cos   day_sin  \\\n 211                18         461       False   0.779793  -0.626037 -0.743145   \n 271                 9         461       False  -0.096208  -0.995361 -0.406737   \n 283                19         461       False   0.608473  -0.793575  0.743145   \n 412                18         461       False  -0.074181  -0.997245  0.866025   \n 503                 2         461       False   0.254250  -0.967138 -0.994522   \n ...               ...         ...         ...        ...        ...       ...   \n 19073892           18         461       False   0.511293  -0.859406  0.207912   \n 19073933            2         461       False   0.559133  -0.829078 -0.207912   \n 19073952            1         461       False   0.662348  -0.749197  0.866025   \n 19074001           23         461       False  -0.043765  -0.999042  0.866025   \n 19074112            6         461       False   0.774393  -0.632705  0.866025   \n \n            day_cos     month_sin     month_cos  week_day_sin  week_day_cos  \n 211       0.669131  8.660254e-01  5.000000e-01      0.974928     -0.222521  \n 271      -0.913545  1.000000e+00  6.123234e-17      0.781831      0.623490  \n 283      -0.669131  8.660254e-01  5.000000e-01      0.781831      0.623490  \n 412       0.500000  8.660254e-01  5.000000e-01      0.974928     -0.222521  \n 503      -0.104528  5.000000e-01  8.660254e-01      0.974928     -0.222521  \n ...            ...           ...           ...           ...           ...  \n 19073892  0.978148 -2.449294e-16  1.000000e+00      0.781831      0.623490  \n 19073933 -0.978148 -5.000000e-01  8.660254e-01      0.000000      1.000000  \n 19073952 -0.500000 -2.449294e-16  1.000000e+00      0.433884     -0.900969  \n 19074001  0.500000 -8.660254e-01  5.000000e-01      0.000000      1.000000  \n 19074112 -0.500000 -5.000000e-01  8.660254e-01      0.781831      0.623490  \n \n [300924 rows x 11 columns],\n           location_id  vehicle_id  is_weekend  clock_sin  clock_cos   day_sin  \\\n 39                 19         228       False  -0.980771   0.195162  0.587785   \n 48                  1         228        True   0.876587  -0.481244 -0.994522   \n 65                  1         228       False  -0.885089  -0.465421  0.866025   \n 87                 10         228       False   0.017089  -0.999854  0.866025   \n 182                 1         228       False   0.857092  -0.515163  0.743145   \n ...               ...         ...         ...        ...        ...       ...   \n 19074077            1         228        True   0.035118   0.999383  0.743145   \n 19074152           23         228       False  -0.927048   0.374944 -0.994522   \n 19074288           17         228       False  -0.882948  -0.469472 -0.994522   \n 19074309            2         228       False   0.362438  -0.932008  0.587785   \n 19074351           35         228       False  -0.878817  -0.477159  0.406737   \n \n            day_cos  month_sin     month_cos  week_day_sin  week_day_cos  \n 39       -0.809017   1.000000  6.123234e-17      0.433884     -0.900969  \n 48        0.104528   0.866025  5.000000e-01     -0.781831      0.623490  \n 65       -0.500000   1.000000  6.123234e-17      0.781831      0.623490  \n 87        0.500000   0.866025  5.000000e-01      0.974928     -0.222521  \n 182      -0.669131   0.866025  5.000000e-01      0.781831      0.623490  \n ...            ...        ...           ...           ...           ...  \n 19074077  0.669131  -0.866025  5.000000e-01     -0.781831      0.623490  \n 19074152 -0.104528  -0.866025  5.000000e-01      0.433884     -0.900969  \n 19074288 -0.104528  -0.866025  5.000000e-01      0.433884     -0.900969  \n 19074309 -0.809017  -0.866025  5.000000e-01      0.000000      1.000000  \n 19074351 -0.913545  -0.500000  8.660254e-01     -0.433884     -0.900969  \n \n [286300 rows x 11 columns],\n           location_id  vehicle_id  is_weekend  clock_sin  clock_cos   day_sin  \\\n 2                   2         153       False   0.382415  -0.923991 -0.994522   \n 17                 10         153       False   0.457551  -0.889184 -0.587785   \n 27                  2         153       False  -0.503900  -0.863762  0.866025   \n 49                 10         153        True  -0.994514   0.104601 -0.994522   \n 230                17         153       False  -0.288475  -0.957487  0.951057   \n ...               ...         ...         ...        ...        ...       ...   \n 19073877           25         153       False   0.745961  -0.665990  0.207912   \n 19073993           25         153       False   0.688196  -0.725525  0.207912   \n 19074053           15         153       False  -0.113564  -0.993531  0.951057   \n 19074189            1         153       False   0.544578  -0.838710  0.587785   \n 19074204           20         153       False   0.329416  -0.944185  0.207912   \n \n            day_cos     month_sin     month_cos  week_day_sin  week_day_cos  \n 2        -0.104528  5.000000e-01  8.660254e-01      0.974928     -0.222521  \n 17        0.809017  8.660254e-01  5.000000e-01      0.433884     -0.900969  \n 27        0.500000  1.000000e+00  6.123234e-17      0.433884     -0.900969  \n 49       -0.104528  8.660254e-01  5.000000e-01     -0.974928     -0.222521  \n 230       0.309017  5.000000e-01  8.660254e-01      0.000000      1.000000  \n ...            ...           ...           ...           ...           ...  \n 19073877  0.978148 -8.660254e-01  5.000000e-01      0.433884     -0.900969  \n 19073993  0.978148 -8.660254e-01  5.000000e-01      0.433884     -0.900969  \n 19074053 -0.309017 -5.000000e-01  8.660254e-01      0.000000      1.000000  \n 19074189  0.809017 -2.449294e-16  1.000000e+00      0.433884     -0.900969  \n 19074204 -0.978148 -8.660254e-01  5.000000e-01      0.974928     -0.222521  \n \n [217452 rows x 11 columns]]"
     },
     "execution_count": 8,
     "metadata": {},
     "output_type": "execute_result"
    }
   ],
   "source": [
    "mh.create_users_locations_from_df()"
   ],
   "metadata": {
    "collapsed": false
   }
  },
  {
   "cell_type": "markdown",
   "source": [
    "It is necessary to first split the data in train, valid and test for each user.\n",
    "Then, these are merged together again later on.\n",
    "This is done to ensure that the sequences are kept together and not split randomly for the users."
   ],
   "metadata": {
    "collapsed": false
   }
  },
  {
   "cell_type": "code",
   "execution_count": 9,
   "outputs": [],
   "source": [
    "mh.concat_split_users_locations()"
   ],
   "metadata": {
    "collapsed": false
   }
  },
  {
   "cell_type": "code",
   "execution_count": 10,
   "outputs": [
    {
     "name": "stdout",
     "output_type": "stream",
     "text": [
      "763768 train examples\n",
      "190944 validation examples\n",
      "238680 test examples\n"
     ]
    }
   ],
   "source": [
    "print(len(mh.df_train), 'train examples')\n",
    "print(len(mh.df_val), 'validation examples')\n",
    "print(len(mh.df_test), 'test examples')"
   ],
   "metadata": {
    "collapsed": false
   }
  },
  {
   "cell_type": "markdown",
   "source": [
    "Split the data and create the batch datasets."
   ],
   "metadata": {
    "collapsed": false
   }
  },
  {
   "cell_type": "code",
   "execution_count": 11,
   "outputs": [
    {
     "name": "stdout",
     "output_type": "stream",
     "text": [
      "14040\n"
     ]
    },
    {
     "data": {
      "text/plain": "          location_id  is_weekend  clock_sin  clock_cos       day_sin  \\\n13247969            1       False   0.850237  -0.526399  4.067366e-01   \n13248042           25       False   0.156147  -0.987734  2.079117e-01   \n13248048            1       False   0.870356  -0.492424 -1.133108e-15   \n13248053            2       False   0.697738  -0.716353  4.067366e-01   \n13248067            4       False   0.138813  -0.990319  9.510565e-01   \n13248098            2       False   0.245801  -0.969320 -4.067366e-01   \n13248114           29       False  -0.526276  -0.850314 -1.133108e-15   \n13248136            7       False  -0.263242  -0.964730 -8.660254e-01   \n13248265           25       False  -0.386711  -0.922201 -4.067366e-01   \n13248274           10       False   0.349935  -0.936774  9.510565e-01   \n13248280            2       False   0.615432  -0.788190  9.510565e-01   \n13248285           20       False   0.706952  -0.707261  9.945219e-01   \n13248340           19       False  -0.108867  -0.994056  9.510565e-01   \n13248371            1       False   0.892979  -0.450098 -8.660254e-01   \n13248393           19       False  -0.241922  -0.970296 -8.660254e-01   \n13248484            4       False  -0.026250  -0.999655  5.877853e-01   \n13248493           16       False   0.275288  -0.961362  2.079117e-01   \n\n           day_cos  month_sin     month_cos  week_day_sin  week_day_cos  \n13247969  0.913545  -1.000000 -1.836970e-16      0.974928     -0.222521  \n13248042 -0.978148  -0.500000 -8.660254e-01      0.781831      0.623490  \n13248048  1.000000  -0.500000 -8.660254e-01      0.433884     -0.900969  \n13248053 -0.913545  -0.500000 -8.660254e-01      0.000000      1.000000  \n13248067 -0.309017  -0.500000 -8.660254e-01      0.433884     -0.900969  \n13248098 -0.913545  -1.000000 -1.836970e-16      0.433884     -0.900969  \n13248114  1.000000  -1.000000 -1.836970e-16      0.974928     -0.222521  \n13248136 -0.500000  -0.866025 -5.000000e-01      0.433884     -0.900969  \n13248265 -0.913545  -0.866025 -5.000000e-01      0.000000      1.000000  \n13248274  0.309017  -0.500000 -8.660254e-01      0.000000      1.000000  \n13248280  0.309017  -0.866025 -5.000000e-01      0.433884     -0.900969  \n13248285 -0.104528  -0.500000 -8.660254e-01      0.974928     -0.222521  \n13248340 -0.309017  -1.000000 -1.836970e-16      0.974928     -0.222521  \n13248371 -0.500000  -0.500000 -8.660254e-01      0.000000      1.000000  \n13248393 -0.500000  -0.500000 -8.660254e-01      0.000000      1.000000  \n13248484  0.809017  -0.866025 -5.000000e-01      0.000000      1.000000  \n13248493 -0.978148  -0.866025 -5.000000e-01     -0.433884     -0.900969  ",
      "text/html": "<div>\n<style scoped>\n    .dataframe tbody tr th:only-of-type {\n        vertical-align: middle;\n    }\n\n    .dataframe tbody tr th {\n        vertical-align: top;\n    }\n\n    .dataframe thead th {\n        text-align: right;\n    }\n</style>\n<table border=\"1\" class=\"dataframe\">\n  <thead>\n    <tr style=\"text-align: right;\">\n      <th></th>\n      <th>location_id</th>\n      <th>is_weekend</th>\n      <th>clock_sin</th>\n      <th>clock_cos</th>\n      <th>day_sin</th>\n      <th>day_cos</th>\n      <th>month_sin</th>\n      <th>month_cos</th>\n      <th>week_day_sin</th>\n      <th>week_day_cos</th>\n    </tr>\n  </thead>\n  <tbody>\n    <tr>\n      <th>13247969</th>\n      <td>1</td>\n      <td>False</td>\n      <td>0.850237</td>\n      <td>-0.526399</td>\n      <td>4.067366e-01</td>\n      <td>0.913545</td>\n      <td>-1.000000</td>\n      <td>-1.836970e-16</td>\n      <td>0.974928</td>\n      <td>-0.222521</td>\n    </tr>\n    <tr>\n      <th>13248042</th>\n      <td>25</td>\n      <td>False</td>\n      <td>0.156147</td>\n      <td>-0.987734</td>\n      <td>2.079117e-01</td>\n      <td>-0.978148</td>\n      <td>-0.500000</td>\n      <td>-8.660254e-01</td>\n      <td>0.781831</td>\n      <td>0.623490</td>\n    </tr>\n    <tr>\n      <th>13248048</th>\n      <td>1</td>\n      <td>False</td>\n      <td>0.870356</td>\n      <td>-0.492424</td>\n      <td>-1.133108e-15</td>\n      <td>1.000000</td>\n      <td>-0.500000</td>\n      <td>-8.660254e-01</td>\n      <td>0.433884</td>\n      <td>-0.900969</td>\n    </tr>\n    <tr>\n      <th>13248053</th>\n      <td>2</td>\n      <td>False</td>\n      <td>0.697738</td>\n      <td>-0.716353</td>\n      <td>4.067366e-01</td>\n      <td>-0.913545</td>\n      <td>-0.500000</td>\n      <td>-8.660254e-01</td>\n      <td>0.000000</td>\n      <td>1.000000</td>\n    </tr>\n    <tr>\n      <th>13248067</th>\n      <td>4</td>\n      <td>False</td>\n      <td>0.138813</td>\n      <td>-0.990319</td>\n      <td>9.510565e-01</td>\n      <td>-0.309017</td>\n      <td>-0.500000</td>\n      <td>-8.660254e-01</td>\n      <td>0.433884</td>\n      <td>-0.900969</td>\n    </tr>\n    <tr>\n      <th>13248098</th>\n      <td>2</td>\n      <td>False</td>\n      <td>0.245801</td>\n      <td>-0.969320</td>\n      <td>-4.067366e-01</td>\n      <td>-0.913545</td>\n      <td>-1.000000</td>\n      <td>-1.836970e-16</td>\n      <td>0.433884</td>\n      <td>-0.900969</td>\n    </tr>\n    <tr>\n      <th>13248114</th>\n      <td>29</td>\n      <td>False</td>\n      <td>-0.526276</td>\n      <td>-0.850314</td>\n      <td>-1.133108e-15</td>\n      <td>1.000000</td>\n      <td>-1.000000</td>\n      <td>-1.836970e-16</td>\n      <td>0.974928</td>\n      <td>-0.222521</td>\n    </tr>\n    <tr>\n      <th>13248136</th>\n      <td>7</td>\n      <td>False</td>\n      <td>-0.263242</td>\n      <td>-0.964730</td>\n      <td>-8.660254e-01</td>\n      <td>-0.500000</td>\n      <td>-0.866025</td>\n      <td>-5.000000e-01</td>\n      <td>0.433884</td>\n      <td>-0.900969</td>\n    </tr>\n    <tr>\n      <th>13248265</th>\n      <td>25</td>\n      <td>False</td>\n      <td>-0.386711</td>\n      <td>-0.922201</td>\n      <td>-4.067366e-01</td>\n      <td>-0.913545</td>\n      <td>-0.866025</td>\n      <td>-5.000000e-01</td>\n      <td>0.000000</td>\n      <td>1.000000</td>\n    </tr>\n    <tr>\n      <th>13248274</th>\n      <td>10</td>\n      <td>False</td>\n      <td>0.349935</td>\n      <td>-0.936774</td>\n      <td>9.510565e-01</td>\n      <td>0.309017</td>\n      <td>-0.500000</td>\n      <td>-8.660254e-01</td>\n      <td>0.000000</td>\n      <td>1.000000</td>\n    </tr>\n    <tr>\n      <th>13248280</th>\n      <td>2</td>\n      <td>False</td>\n      <td>0.615432</td>\n      <td>-0.788190</td>\n      <td>9.510565e-01</td>\n      <td>0.309017</td>\n      <td>-0.866025</td>\n      <td>-5.000000e-01</td>\n      <td>0.433884</td>\n      <td>-0.900969</td>\n    </tr>\n    <tr>\n      <th>13248285</th>\n      <td>20</td>\n      <td>False</td>\n      <td>0.706952</td>\n      <td>-0.707261</td>\n      <td>9.945219e-01</td>\n      <td>-0.104528</td>\n      <td>-0.500000</td>\n      <td>-8.660254e-01</td>\n      <td>0.974928</td>\n      <td>-0.222521</td>\n    </tr>\n    <tr>\n      <th>13248340</th>\n      <td>19</td>\n      <td>False</td>\n      <td>-0.108867</td>\n      <td>-0.994056</td>\n      <td>9.510565e-01</td>\n      <td>-0.309017</td>\n      <td>-1.000000</td>\n      <td>-1.836970e-16</td>\n      <td>0.974928</td>\n      <td>-0.222521</td>\n    </tr>\n    <tr>\n      <th>13248371</th>\n      <td>1</td>\n      <td>False</td>\n      <td>0.892979</td>\n      <td>-0.450098</td>\n      <td>-8.660254e-01</td>\n      <td>-0.500000</td>\n      <td>-0.500000</td>\n      <td>-8.660254e-01</td>\n      <td>0.000000</td>\n      <td>1.000000</td>\n    </tr>\n    <tr>\n      <th>13248393</th>\n      <td>19</td>\n      <td>False</td>\n      <td>-0.241922</td>\n      <td>-0.970296</td>\n      <td>-8.660254e-01</td>\n      <td>-0.500000</td>\n      <td>-0.500000</td>\n      <td>-8.660254e-01</td>\n      <td>0.000000</td>\n      <td>1.000000</td>\n    </tr>\n    <tr>\n      <th>13248484</th>\n      <td>4</td>\n      <td>False</td>\n      <td>-0.026250</td>\n      <td>-0.999655</td>\n      <td>5.877853e-01</td>\n      <td>0.809017</td>\n      <td>-0.866025</td>\n      <td>-5.000000e-01</td>\n      <td>0.000000</td>\n      <td>1.000000</td>\n    </tr>\n    <tr>\n      <th>13248493</th>\n      <td>16</td>\n      <td>False</td>\n      <td>0.275288</td>\n      <td>-0.961362</td>\n      <td>2.079117e-01</td>\n      <td>-0.978148</td>\n      <td>-0.866025</td>\n      <td>-5.000000e-01</td>\n      <td>-0.433884</td>\n      <td>-0.900969</td>\n    </tr>\n  </tbody>\n</table>\n</div>"
     },
     "execution_count": 11,
     "metadata": {},
     "output_type": "execute_result"
    }
   ],
   "source": [
    "#mh.split_data_sliding()\n",
    "mh.split_data()\n",
    "print(len(mh.list_test))\n",
    "mh.list_test[0]"
   ],
   "metadata": {
    "collapsed": false
   }
  },
  {
   "cell_type": "code",
   "execution_count": 12,
   "outputs": [],
   "source": [
    "mh.set_batch_size(16)\n",
    "mh.create_and_batch_datasets(multi_target=False)"
   ],
   "metadata": {
    "collapsed": false
   }
  },
  {
   "cell_type": "markdown",
   "source": [
    "For keras tuner to work properly the create model function has to be changed.\n",
    "It will now get `hp` which is a reference to a container for hyperparameter spaces of keras tuner.\n",
    "This way, it is possible to create new hyperparameter spaces that keras tuner then can utilize.\n",
    "Three spaces are defined in the create_keras_model function, one for the size of the embedding layer and two for the number of RNN-Units."
   ],
   "metadata": {
    "collapsed": false
   }
  },
  {
   "cell_type": "code",
   "execution_count": 13,
   "outputs": [],
   "source": [
    "# Create a model\n",
    "def create_keras_model(hp):\n",
    "  N = mh.total_window_length\n",
    "  batch_size = mh.batch_size\n",
    "  number_of_places = mh.vocab_size\n",
    "\n",
    "  # Shortcut to the layers package\n",
    "  l = tf.keras.layers\n",
    "\n",
    "  # List of numeric feature columns to pass to the DenseLayer\n",
    "  numeric_feature_columns = []\n",
    "\n",
    "  # Handling numerical columns\n",
    "  for header in numerical_column_names:\n",
    "\t# Append all the numerical columns defined into the list\n",
    "    numeric_feature_columns.append(feature_column.numeric_column(header, shape=N-1))\n",
    "\n",
    "  feature_inputs={}\n",
    "  for c_name in numerical_column_names:\n",
    "    feature_inputs[c_name] = tf.keras.Input((N-1,), batch_size=batch_size, name=c_name)\n",
    "\n",
    "  # We cannot use an array of features as always because we have sequences\n",
    "  # We have to do one by one in order to match the shape\n",
    "  num_features = []\n",
    "  for c_name in numerical_column_names:\n",
    "    f =  feature_column.numeric_column(c_name, shape=(N-1))\n",
    "    feature = l.DenseFeatures(f)(feature_inputs)\n",
    "    feature = tf.expand_dims(feature, -1)\n",
    "    num_features.append(feature)\n",
    "\n",
    "  # Declare the dictionary for the locations sequence as before\n",
    "  sequence_input = {\n",
    "      'location_id': tf.keras.Input((N-1,), batch_size=batch_size, dtype=tf.dtypes.int32, name='location_id') # add batch_size=batch_size in case of stateful GRU\n",
    "  }\n",
    "\n",
    "  # Handling the categorical feature sequence using one-hot\n",
    "  location_one_hot = feature_column.sequence_categorical_column_with_vocabulary_list(\n",
    "      'location_id', [i for i in range(number_of_places)])\n",
    "\n",
    "  # one-hot encoding\n",
    "  hp_embedding = hp.Int('embedding', min_value=16, max_value=256, step=48)\n",
    "  location_feature = feature_column.embedding_column(location_one_hot, hp_embedding)\n",
    "\n",
    "  # With an input sequence we can't use the DenseFeature layer, we need to use the SequenceFeatures\n",
    "  sequence_features, sequence_length = tf.keras.experimental.SequenceFeatures(location_feature)(sequence_input)\n",
    "\n",
    "\n",
    "  input_sequence = l.Concatenate(axis=2)([sequence_features] + num_features)\n",
    "\n",
    "  # Rnn\n",
    "  hp_rnn_units1 = hp.Int('rnn_units1', min_value=32, max_value=512, step=32)\n",
    "  recurrent = l.GRU(hp_rnn_units1,\n",
    "                    batch_size=batch_size, #in case of stateful\n",
    "                    return_sequences=True,\n",
    "                    stateful=True,\n",
    "                    recurrent_initializer='glorot_uniform')(input_sequence)\n",
    "\n",
    "  hp_rnn_units2 = hp.Int('rnn_units2', min_value=32, max_value=512, step=32)\n",
    "  recurrent_2 = l.GRU(hp_rnn_units2,\n",
    "                      batch_size=batch_size, #in case of stateful\n",
    "                      stateful=True,\n",
    "                      recurrent_initializer='glorot_uniform')(recurrent)\n",
    "\n",
    "\n",
    "  # Softmax output layer\n",
    "  # Last layer with an output for each places\n",
    "  output = layers.Dense(number_of_places, activation='softmax')(recurrent_2)\n",
    "\n",
    "\n",
    "  # To return the Model, we need to define its inputs and outputs\n",
    "  # In out case, we need to list all the input layers we have defined\n",
    "  inputs = list(feature_inputs.values()) + list(sequence_input.values())\n",
    "\n",
    "  # Return the Model\n",
    "  return tf.keras.Model(inputs=inputs, outputs=output)"
   ],
   "metadata": {
    "collapsed": false
   }
  },
  {
   "cell_type": "markdown",
   "source": [
    "Before compiling the model another hyperparameter space is added"
   ],
   "metadata": {
    "collapsed": false
   }
  },
  {
   "cell_type": "code",
   "execution_count": 27,
   "outputs": [],
   "source": [
    "def compile_keras_model(hp, model):\n",
    "    hp_lr = hp.Choice('learning_rate', values=[1e-2, 1e-3, 1e-4])\n",
    "    hp_optimizer = hp.Choice('optimizer', values=[\"adam\", \"sgd\", \"adamax\"])\n",
    "    optimizer = tf.keras.optimizers.get(hp_optimizer)\n",
    "    optimizer.learning_rate.assign(hp_lr)\n",
    "    # Compile the model\n",
    "    model.compile(optimizer=optimizer,\n",
    "                  loss=tf.keras.losses.SparseCategoricalCrossentropy(),\n",
    "                  metrics=tf.keras.metrics.SparseCategoricalAccuracy())\n",
    "    return model"
   ],
   "metadata": {
    "collapsed": false
   }
  },
  {
   "cell_type": "code",
   "execution_count": 28,
   "outputs": [],
   "source": [
    "mh.create_tuner(create_keras_model, compile_keras_model)"
   ],
   "metadata": {
    "collapsed": false
   }
  },
  {
   "cell_type": "code",
   "execution_count": 29,
   "outputs": [
    {
     "name": "stdout",
     "output_type": "stream",
     "text": [
      "Trial 30 Complete [00h 19m 58s]\n",
      "val_sparse_categorical_accuracy: 0.21153846383094788\n",
      "\n",
      "Best val_sparse_categorical_accuracy So Far: 0.21153846383094788\n",
      "Total elapsed time: 03h 10m 58s\n",
      "INFO:tensorflow:Oracle triggered exit\n"
     ]
    }
   ],
   "source": [
    "mh.tuner_search()"
   ],
   "metadata": {
    "collapsed": false
   }
  },
  {
   "cell_type": "code",
   "execution_count": 30,
   "outputs": [
    {
     "name": "stdout",
     "output_type": "stream",
     "text": [
      "\n",
      "The hyperparameter search is complete.\n",
      "The optimal number of rnn units in the first GRU layer is 224.\n",
      "The optimal number of rnn units in the second GRU layer is 128.\n",
      "The optimal optimizer is sgd.\n",
      "The optimal learning rate for the optimizer is 0.01.\n",
      "The optimal embedding dimensionality is 64.\n",
      "\n"
     ]
    }
   ],
   "source": [
    "print(f\"\"\"\n",
    "The hyperparameter search is complete.\n",
    "The optimal number of rnn units in the first GRU layer is {mh.best_hps.get('rnn_units1')}.\n",
    "The optimal number of rnn units in the second GRU layer is {mh.best_hps.get('rnn_units2')}.\n",
    "The optimal optimizer is {mh.best_hps.get('optimizer')}.\n",
    "The optimal learning rate for the optimizer is {mh.best_hps.get('learning_rate')}.\n",
    "The optimal embedding dimensionality is {mh.best_hps.get('embedding')}.\n",
    "\"\"\")"
   ],
   "metadata": {
    "collapsed": false
   }
  },
  {
   "cell_type": "markdown",
   "source": [
    "The tuning finished in roughly 3 hours and the optimal parameters are different from the initially chosen values.\n",
    "For example the optimizer used so far is Adam.\n",
    "But according to this tuning, SGD is optimal."
   ],
   "metadata": {
    "collapsed": false
   }
  },
  {
   "cell_type": "code",
   "execution_count": 31,
   "outputs": [
    {
     "name": "stdout",
     "output_type": "stream",
     "text": [
      "Epoch 1/20\n",
      "2807/2807 [==============================] - 54s 19ms/step - loss: 2.5550 - sparse_categorical_accuracy: 0.2755 - val_loss: 3.0088 - val_sparse_categorical_accuracy: 0.2115\n",
      "Epoch 2/20\n",
      "2807/2807 [==============================] - 48s 17ms/step - loss: 2.4636 - sparse_categorical_accuracy: 0.2759 - val_loss: 2.9974 - val_sparse_categorical_accuracy: 0.2115\n",
      "Epoch 3/20\n",
      "2807/2807 [==============================] - 47s 17ms/step - loss: 2.4602 - sparse_categorical_accuracy: 0.2757 - val_loss: 2.9917 - val_sparse_categorical_accuracy: 0.2115\n",
      "Epoch 4/20\n",
      "2807/2807 [==============================] - 47s 17ms/step - loss: 2.4587 - sparse_categorical_accuracy: 0.2758 - val_loss: 2.9862 - val_sparse_categorical_accuracy: 0.2115\n",
      "Epoch 5/20\n",
      "2807/2807 [==============================] - 48s 17ms/step - loss: 2.4575 - sparse_categorical_accuracy: 0.2765 - val_loss: 2.9800 - val_sparse_categorical_accuracy: 0.2115\n",
      "Epoch 6/20\n",
      "2807/2807 [==============================] - 48s 17ms/step - loss: 2.4564 - sparse_categorical_accuracy: 0.2768 - val_loss: 2.9733 - val_sparse_categorical_accuracy: 0.2115\n",
      "Epoch 7/20\n",
      "2807/2807 [==============================] - 47s 17ms/step - loss: 2.4555 - sparse_categorical_accuracy: 0.2767 - val_loss: 2.9664 - val_sparse_categorical_accuracy: 0.2115\n",
      "Epoch 8/20\n",
      "2807/2807 [==============================] - 47s 17ms/step - loss: 2.4545 - sparse_categorical_accuracy: 0.2769 - val_loss: 2.9598 - val_sparse_categorical_accuracy: 0.2115\n",
      "Epoch 9/20\n",
      "2807/2807 [==============================] - 47s 17ms/step - loss: 2.4535 - sparse_categorical_accuracy: 0.2772 - val_loss: 2.9536 - val_sparse_categorical_accuracy: 0.2115\n",
      "Epoch 10/20\n",
      "2807/2807 [==============================] - 47s 17ms/step - loss: 2.4525 - sparse_categorical_accuracy: 0.2774 - val_loss: 2.9474 - val_sparse_categorical_accuracy: 0.2115\n",
      "Epoch 11/20\n",
      "2807/2807 [==============================] - 47s 17ms/step - loss: 2.4516 - sparse_categorical_accuracy: 0.2774 - val_loss: 2.9409 - val_sparse_categorical_accuracy: 0.2115\n",
      "Epoch 12/20\n",
      "2807/2807 [==============================] - 47s 17ms/step - loss: 2.4506 - sparse_categorical_accuracy: 0.2774 - val_loss: 2.9339 - val_sparse_categorical_accuracy: 0.2115\n",
      "Epoch 13/20\n",
      "2807/2807 [==============================] - 47s 17ms/step - loss: 2.4497 - sparse_categorical_accuracy: 0.2778 - val_loss: 2.9261 - val_sparse_categorical_accuracy: 0.2115\n",
      "Epoch 14/20\n",
      "2807/2807 [==============================] - 47s 17ms/step - loss: 2.4488 - sparse_categorical_accuracy: 0.2777 - val_loss: 2.9173 - val_sparse_categorical_accuracy: 0.2115\n",
      "Epoch 15/20\n",
      "2807/2807 [==============================] - 47s 17ms/step - loss: 2.4479 - sparse_categorical_accuracy: 0.2775 - val_loss: 2.9076 - val_sparse_categorical_accuracy: 0.2115\n",
      "Epoch 16/20\n",
      "2807/2807 [==============================] - 47s 17ms/step - loss: 2.4470 - sparse_categorical_accuracy: 0.2776 - val_loss: 2.8968 - val_sparse_categorical_accuracy: 0.2115\n",
      "Epoch 17/20\n",
      "2807/2807 [==============================] - 47s 17ms/step - loss: 2.4461 - sparse_categorical_accuracy: 0.2776 - val_loss: 2.8850 - val_sparse_categorical_accuracy: 0.2114\n",
      "Epoch 18/20\n",
      "2807/2807 [==============================] - 47s 17ms/step - loss: 2.4452 - sparse_categorical_accuracy: 0.2775 - val_loss: 2.8723 - val_sparse_categorical_accuracy: 0.2114\n",
      "Epoch 19/20\n",
      "2807/2807 [==============================] - 47s 17ms/step - loss: 2.4442 - sparse_categorical_accuracy: 0.2774 - val_loss: 2.8587 - val_sparse_categorical_accuracy: 0.2114\n",
      "Epoch 20/20\n",
      "2807/2807 [==============================] - 47s 17ms/step - loss: 2.4432 - sparse_categorical_accuracy: 0.2774 - val_loss: 2.8438 - val_sparse_categorical_accuracy: 0.2114\n"
     ]
    }
   ],
   "source": [
    "mh.tuner_find_best_epoch()"
   ],
   "metadata": {
    "collapsed": false
   }
  },
  {
   "cell_type": "code",
   "execution_count": 32,
   "outputs": [
    {
     "name": "stdout",
     "output_type": "stream",
     "text": [
      "2807/2807 [==============================] - 42s 15ms/step - loss: 2.5718 - sparse_categorical_accuracy: 0.2744 - val_loss: 2.9988 - val_sparse_categorical_accuracy: 0.2115\n",
      "877/877 [==============================] - 4s 5ms/step - loss: 3.0432 - sparse_categorical_accuracy: 0.2210\n"
     ]
    }
   ],
   "source": [
    "mh.tuner_eval_model()"
   ],
   "metadata": {
    "collapsed": false
   }
  },
  {
   "cell_type": "code",
   "execution_count": 33,
   "outputs": [
    {
     "name": "stdout",
     "output_type": "stream",
     "text": [
      "Model: \"functional_5\"\n",
      "__________________________________________________________________________________________________\n",
      "Layer (type)                    Output Shape         Param #     Connected to                     \n",
      "==================================================================================================\n",
      "clock_cos (InputLayer)          [(16, 16)]           0                                            \n",
      "__________________________________________________________________________________________________\n",
      "clock_sin (InputLayer)          [(16, 16)]           0                                            \n",
      "__________________________________________________________________________________________________\n",
      "day_cos (InputLayer)            [(16, 16)]           0                                            \n",
      "__________________________________________________________________________________________________\n",
      "day_sin (InputLayer)            [(16, 16)]           0                                            \n",
      "__________________________________________________________________________________________________\n",
      "month_cos (InputLayer)          [(16, 16)]           0                                            \n",
      "__________________________________________________________________________________________________\n",
      "month_sin (InputLayer)          [(16, 16)]           0                                            \n",
      "__________________________________________________________________________________________________\n",
      "week_day_cos (InputLayer)       [(16, 16)]           0                                            \n",
      "__________________________________________________________________________________________________\n",
      "week_day_sin (InputLayer)       [(16, 16)]           0                                            \n",
      "__________________________________________________________________________________________________\n",
      "location_id (InputLayer)        [(16, 16)]           0                                            \n",
      "__________________________________________________________________________________________________\n",
      "dense_features_16 (DenseFeature (16, 16)             0           clock_cos[0][0]                  \n",
      "                                                                 clock_sin[0][0]                  \n",
      "                                                                 day_cos[0][0]                    \n",
      "                                                                 day_sin[0][0]                    \n",
      "                                                                 month_cos[0][0]                  \n",
      "                                                                 month_sin[0][0]                  \n",
      "                                                                 week_day_cos[0][0]               \n",
      "                                                                 week_day_sin[0][0]               \n",
      "__________________________________________________________________________________________________\n",
      "dense_features_17 (DenseFeature (16, 16)             0           clock_cos[0][0]                  \n",
      "                                                                 clock_sin[0][0]                  \n",
      "                                                                 day_cos[0][0]                    \n",
      "                                                                 day_sin[0][0]                    \n",
      "                                                                 month_cos[0][0]                  \n",
      "                                                                 month_sin[0][0]                  \n",
      "                                                                 week_day_cos[0][0]               \n",
      "                                                                 week_day_sin[0][0]               \n",
      "__________________________________________________________________________________________________\n",
      "dense_features_18 (DenseFeature (16, 16)             0           clock_cos[0][0]                  \n",
      "                                                                 clock_sin[0][0]                  \n",
      "                                                                 day_cos[0][0]                    \n",
      "                                                                 day_sin[0][0]                    \n",
      "                                                                 month_cos[0][0]                  \n",
      "                                                                 month_sin[0][0]                  \n",
      "                                                                 week_day_cos[0][0]               \n",
      "                                                                 week_day_sin[0][0]               \n",
      "__________________________________________________________________________________________________\n",
      "dense_features_19 (DenseFeature (16, 16)             0           clock_cos[0][0]                  \n",
      "                                                                 clock_sin[0][0]                  \n",
      "                                                                 day_cos[0][0]                    \n",
      "                                                                 day_sin[0][0]                    \n",
      "                                                                 month_cos[0][0]                  \n",
      "                                                                 month_sin[0][0]                  \n",
      "                                                                 week_day_cos[0][0]               \n",
      "                                                                 week_day_sin[0][0]               \n",
      "__________________________________________________________________________________________________\n",
      "dense_features_20 (DenseFeature (16, 16)             0           clock_cos[0][0]                  \n",
      "                                                                 clock_sin[0][0]                  \n",
      "                                                                 day_cos[0][0]                    \n",
      "                                                                 day_sin[0][0]                    \n",
      "                                                                 month_cos[0][0]                  \n",
      "                                                                 month_sin[0][0]                  \n",
      "                                                                 week_day_cos[0][0]               \n",
      "                                                                 week_day_sin[0][0]               \n",
      "__________________________________________________________________________________________________\n",
      "dense_features_21 (DenseFeature (16, 16)             0           clock_cos[0][0]                  \n",
      "                                                                 clock_sin[0][0]                  \n",
      "                                                                 day_cos[0][0]                    \n",
      "                                                                 day_sin[0][0]                    \n",
      "                                                                 month_cos[0][0]                  \n",
      "                                                                 month_sin[0][0]                  \n",
      "                                                                 week_day_cos[0][0]               \n",
      "                                                                 week_day_sin[0][0]               \n",
      "__________________________________________________________________________________________________\n",
      "dense_features_22 (DenseFeature (16, 16)             0           clock_cos[0][0]                  \n",
      "                                                                 clock_sin[0][0]                  \n",
      "                                                                 day_cos[0][0]                    \n",
      "                                                                 day_sin[0][0]                    \n",
      "                                                                 month_cos[0][0]                  \n",
      "                                                                 month_sin[0][0]                  \n",
      "                                                                 week_day_cos[0][0]               \n",
      "                                                                 week_day_sin[0][0]               \n",
      "__________________________________________________________________________________________________\n",
      "dense_features_23 (DenseFeature (16, 16)             0           clock_cos[0][0]                  \n",
      "                                                                 clock_sin[0][0]                  \n",
      "                                                                 day_cos[0][0]                    \n",
      "                                                                 day_sin[0][0]                    \n",
      "                                                                 month_cos[0][0]                  \n",
      "                                                                 month_sin[0][0]                  \n",
      "                                                                 week_day_cos[0][0]               \n",
      "                                                                 week_day_sin[0][0]               \n",
      "__________________________________________________________________________________________________\n",
      "sequence_features_2 (SequenceFe ((None, None, 64), ( 6400        location_id[0][0]                \n",
      "__________________________________________________________________________________________________\n",
      "tf_op_layer_ExpandDims_16 (Tens [(16, 16, 1)]        0           dense_features_16[0][0]          \n",
      "__________________________________________________________________________________________________\n",
      "tf_op_layer_ExpandDims_17 (Tens [(16, 16, 1)]        0           dense_features_17[0][0]          \n",
      "__________________________________________________________________________________________________\n",
      "tf_op_layer_ExpandDims_18 (Tens [(16, 16, 1)]        0           dense_features_18[0][0]          \n",
      "__________________________________________________________________________________________________\n",
      "tf_op_layer_ExpandDims_19 (Tens [(16, 16, 1)]        0           dense_features_19[0][0]          \n",
      "__________________________________________________________________________________________________\n",
      "tf_op_layer_ExpandDims_20 (Tens [(16, 16, 1)]        0           dense_features_20[0][0]          \n",
      "__________________________________________________________________________________________________\n",
      "tf_op_layer_ExpandDims_21 (Tens [(16, 16, 1)]        0           dense_features_21[0][0]          \n",
      "__________________________________________________________________________________________________\n",
      "tf_op_layer_ExpandDims_22 (Tens [(16, 16, 1)]        0           dense_features_22[0][0]          \n",
      "__________________________________________________________________________________________________\n",
      "tf_op_layer_ExpandDims_23 (Tens [(16, 16, 1)]        0           dense_features_23[0][0]          \n",
      "__________________________________________________________________________________________________\n",
      "concatenate_2 (Concatenate)     (16, 16, 72)         0           sequence_features_2[0][0]        \n",
      "                                                                 tf_op_layer_ExpandDims_16[0][0]  \n",
      "                                                                 tf_op_layer_ExpandDims_17[0][0]  \n",
      "                                                                 tf_op_layer_ExpandDims_18[0][0]  \n",
      "                                                                 tf_op_layer_ExpandDims_19[0][0]  \n",
      "                                                                 tf_op_layer_ExpandDims_20[0][0]  \n",
      "                                                                 tf_op_layer_ExpandDims_21[0][0]  \n",
      "                                                                 tf_op_layer_ExpandDims_22[0][0]  \n",
      "                                                                 tf_op_layer_ExpandDims_23[0][0]  \n",
      "__________________________________________________________________________________________________\n",
      "gru_4 (GRU)                     (16, 16, 224)        200256      concatenate_2[0][0]              \n",
      "__________________________________________________________________________________________________\n",
      "gru_5 (GRU)                     (16, 128)            135936      gru_4[0][0]                      \n",
      "__________________________________________________________________________________________________\n",
      "dense_2 (Dense)                 (16, 100)            12900       gru_5[0][0]                      \n",
      "==================================================================================================\n",
      "Total params: 355,492\n",
      "Trainable params: 355,492\n",
      "Non-trainable params: 0\n",
      "__________________________________________________________________________________________________\n"
     ]
    }
   ],
   "source": [
    "mh.model.summary()"
   ],
   "metadata": {
    "collapsed": false
   }
  },
  {
   "cell_type": "markdown",
   "source": [
    "After all tuning steps are complete, the model is trained with the optimal values."
   ],
   "metadata": {
    "collapsed": false
   }
  },
  {
   "cell_type": "code",
   "execution_count": 34,
   "outputs": [
    {
     "name": "stdout",
     "output_type": "stream",
     "text": [
      "Epoch 1/15\n",
      "2807/2807 [==============================] - 42s 15ms/step - loss: 2.4638 - sparse_categorical_accuracy: 0.2765 - val_loss: 2.9878 - val_sparse_categorical_accuracy: 0.2115\n",
      "Epoch 2/15\n",
      "2807/2807 [==============================] - 42s 15ms/step - loss: 2.4601 - sparse_categorical_accuracy: 0.2762 - val_loss: 2.9812 - val_sparse_categorical_accuracy: 0.2115\n",
      "Epoch 3/15\n",
      "2807/2807 [==============================] - 41s 15ms/step - loss: 2.4584 - sparse_categorical_accuracy: 0.2763 - val_loss: 2.9749 - val_sparse_categorical_accuracy: 0.2115\n",
      "Epoch 4/15\n",
      "2807/2807 [==============================] - ETA: 0s - loss: 2.4573 - sparse_categorical_accuracy: 0.2765Restoring model weights from the end of the best epoch.\n",
      "2807/2807 [==============================] - 41s 15ms/step - loss: 2.4573 - sparse_categorical_accuracy: 0.2765 - val_loss: 2.9682 - val_sparse_categorical_accuracy: 0.2115\n",
      "Epoch 00004: early stopping\n"
     ]
    }
   ],
   "source": [
    "mh.set_num_epochs(15)\n",
    "mh.fit_model()"
   ],
   "metadata": {
    "collapsed": false
   }
  },
  {
   "cell_type": "code",
   "execution_count": 35,
   "outputs": [
    {
     "name": "stdout",
     "output_type": "stream",
     "text": [
      "877/877 [==============================] - 5s 5ms/step - loss: 3.0319 - sparse_categorical_accuracy: 0.2210\n"
     ]
    }
   ],
   "source": [
    "mh.evaluate_model()"
   ],
   "metadata": {
    "collapsed": false
   }
  },
  {
   "cell_type": "markdown",
   "source": [
    "After training the model with the optimized parameters the accuracy is the same as the model trained in cincinnati 1-3 while the loss is marginally better.\n",
    "Since the initially chosen values are taken from a previously done work it can be assumed that those values are already tuned and any further fine-tuning will not result in a substantial improvement."
   ],
   "metadata": {
    "collapsed": false
   }
  },
  {
   "cell_type": "markdown",
   "source": [],
   "metadata": {
    "collapsed": false
   }
  }
 ],
 "metadata": {
  "kernelspec": {
   "display_name": "Python 3",
   "language": "python",
   "name": "python3"
  },
  "language_info": {
   "codemirror_mode": {
    "name": "ipython",
    "version": 2
   },
   "file_extension": ".py",
   "mimetype": "text/x-python",
   "name": "python",
   "nbconvert_exporter": "python",
   "pygments_lexer": "ipython2",
   "version": "2.7.6"
  }
 },
 "nbformat": 4,
 "nbformat_minor": 0
}
