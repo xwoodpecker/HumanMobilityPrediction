{
 "cells": [
  {
   "cell_type": "markdown",
   "source": [
    "# STEP 3 - Feature Selection\n",
    "\n",
    "A central model for tff has been found.\n",
    "The model with all features proved to be less accurate.\n",
    "The next step is to evaluate which features should be selected for the best prediction quality.\n",
    "This is done by training models on all possible feature subsets and comparing the results.\n",
    "The most important features are to be expected:\n",
    "\n",
    "* the temporal features (all time components including is_weekday)\n",
    "* user id"
   ],
   "metadata": {
    "collapsed": false,
    "pycharm": {
     "name": "#%% md\n"
    }
   }
  },
  {
   "cell_type": "markdown",
   "source": [
    "## Imports"
   ],
   "metadata": {
    "collapsed": false,
    "pycharm": {
     "name": "#%% md\n"
    }
   }
  },
  {
   "cell_type": "code",
   "execution_count": 17,
   "metadata": {
    "collapsed": true,
    "pycharm": {
     "name": "#%%\n"
    }
   },
   "outputs": [],
   "source": [
    "import tensorflow as tf\n",
    "from tensorflow import feature_column\n",
    "import itertools\n",
    "import pandas as pd\n",
    "import numpy as np\n",
    "import import_ipynb"
   ]
  },
  {
   "cell_type": "code",
   "execution_count": 18,
   "outputs": [],
   "source": [
    "from model_helper import ModelHelper"
   ],
   "metadata": {
    "collapsed": false,
    "pycharm": {
     "name": "#%%\n"
    }
   }
  },
  {
   "cell_type": "markdown",
   "source": [
    "## Central Model\n",
    "\n",
    "This model is roughly the same model as tee second model used for the categories but in the following the prediction is analyzed manually in order to figure out which patterns are learnt."
   ],
   "metadata": {
    "collapsed": false,
    "pycharm": {
     "name": "#%% md\n"
    }
   }
  },
  {
   "cell_type": "code",
   "execution_count": 19,
   "outputs": [
    {
     "data": {
      "text/plain": "    cat_id  user_id   latitude  longitude  is_weekend  clock_sin  clock_cos  \\\n0        0      470  40.719810 -74.002581       False  -1.000000   0.000654   \n1        1      979  40.606800 -74.044170       False  -0.999998   0.001818   \n2        2       69  40.716162 -73.883070       False  -0.999945   0.010472   \n3        3      395  40.745164 -73.982519       False  -0.999931   0.011708   \n4        4       87  40.740104 -73.989658       False  -0.999914   0.013090   \n..     ...      ...        ...        ...         ...        ...        ...   \n95       7      445  40.828602 -73.879259       False  -0.959601   0.281365   \n96       6      235  40.745463 -73.990983       False  -0.956326   0.292302   \n97       8      118  40.600144 -73.946593       False  -0.955729   0.294249   \n98       2     1054  40.870630 -74.097926       False  -0.955407   0.295291   \n99      15      881  40.808700 -73.958515       False  -0.954631   0.297791   \n\n     day_sin   day_cos  month_sin  month_cos  week_day_sin  week_day_cos  \\\n0   0.587785  0.809017   0.866025       -0.5      0.781831       0.62349   \n1   0.587785  0.809017   0.866025       -0.5      0.781831       0.62349   \n2   0.587785  0.809017   0.866025       -0.5      0.781831       0.62349   \n3   0.587785  0.809017   0.866025       -0.5      0.781831       0.62349   \n4   0.587785  0.809017   0.866025       -0.5      0.781831       0.62349   \n..       ...       ...        ...        ...           ...           ...   \n95  0.587785  0.809017   0.866025       -0.5      0.781831       0.62349   \n96  0.587785  0.809017   0.866025       -0.5      0.781831       0.62349   \n97  0.587785  0.809017   0.866025       -0.5      0.781831       0.62349   \n98  0.587785  0.809017   0.866025       -0.5      0.781831       0.62349   \n99  0.587785  0.809017   0.866025       -0.5      0.781831       0.62349   \n\n    venue_id  orig_cat_id  \n0          0            0  \n1          1            1  \n2          2            2  \n3          3            3  \n4          4            4  \n..       ...          ...  \n95        93           24  \n96        94            6  \n97        95           57  \n98        96           58  \n99        97           21  \n\n[100 rows x 15 columns]",
      "text/html": "<div>\n<style scoped>\n    .dataframe tbody tr th:only-of-type {\n        vertical-align: middle;\n    }\n\n    .dataframe tbody tr th {\n        vertical-align: top;\n    }\n\n    .dataframe thead th {\n        text-align: right;\n    }\n</style>\n<table border=\"1\" class=\"dataframe\">\n  <thead>\n    <tr style=\"text-align: right;\">\n      <th></th>\n      <th>cat_id</th>\n      <th>user_id</th>\n      <th>latitude</th>\n      <th>longitude</th>\n      <th>is_weekend</th>\n      <th>clock_sin</th>\n      <th>clock_cos</th>\n      <th>day_sin</th>\n      <th>day_cos</th>\n      <th>month_sin</th>\n      <th>month_cos</th>\n      <th>week_day_sin</th>\n      <th>week_day_cos</th>\n      <th>venue_id</th>\n      <th>orig_cat_id</th>\n    </tr>\n  </thead>\n  <tbody>\n    <tr>\n      <th>0</th>\n      <td>0</td>\n      <td>470</td>\n      <td>40.719810</td>\n      <td>-74.002581</td>\n      <td>False</td>\n      <td>-1.000000</td>\n      <td>0.000654</td>\n      <td>0.587785</td>\n      <td>0.809017</td>\n      <td>0.866025</td>\n      <td>-0.5</td>\n      <td>0.781831</td>\n      <td>0.62349</td>\n      <td>0</td>\n      <td>0</td>\n    </tr>\n    <tr>\n      <th>1</th>\n      <td>1</td>\n      <td>979</td>\n      <td>40.606800</td>\n      <td>-74.044170</td>\n      <td>False</td>\n      <td>-0.999998</td>\n      <td>0.001818</td>\n      <td>0.587785</td>\n      <td>0.809017</td>\n      <td>0.866025</td>\n      <td>-0.5</td>\n      <td>0.781831</td>\n      <td>0.62349</td>\n      <td>1</td>\n      <td>1</td>\n    </tr>\n    <tr>\n      <th>2</th>\n      <td>2</td>\n      <td>69</td>\n      <td>40.716162</td>\n      <td>-73.883070</td>\n      <td>False</td>\n      <td>-0.999945</td>\n      <td>0.010472</td>\n      <td>0.587785</td>\n      <td>0.809017</td>\n      <td>0.866025</td>\n      <td>-0.5</td>\n      <td>0.781831</td>\n      <td>0.62349</td>\n      <td>2</td>\n      <td>2</td>\n    </tr>\n    <tr>\n      <th>3</th>\n      <td>3</td>\n      <td>395</td>\n      <td>40.745164</td>\n      <td>-73.982519</td>\n      <td>False</td>\n      <td>-0.999931</td>\n      <td>0.011708</td>\n      <td>0.587785</td>\n      <td>0.809017</td>\n      <td>0.866025</td>\n      <td>-0.5</td>\n      <td>0.781831</td>\n      <td>0.62349</td>\n      <td>3</td>\n      <td>3</td>\n    </tr>\n    <tr>\n      <th>4</th>\n      <td>4</td>\n      <td>87</td>\n      <td>40.740104</td>\n      <td>-73.989658</td>\n      <td>False</td>\n      <td>-0.999914</td>\n      <td>0.013090</td>\n      <td>0.587785</td>\n      <td>0.809017</td>\n      <td>0.866025</td>\n      <td>-0.5</td>\n      <td>0.781831</td>\n      <td>0.62349</td>\n      <td>4</td>\n      <td>4</td>\n    </tr>\n    <tr>\n      <th>...</th>\n      <td>...</td>\n      <td>...</td>\n      <td>...</td>\n      <td>...</td>\n      <td>...</td>\n      <td>...</td>\n      <td>...</td>\n      <td>...</td>\n      <td>...</td>\n      <td>...</td>\n      <td>...</td>\n      <td>...</td>\n      <td>...</td>\n      <td>...</td>\n      <td>...</td>\n    </tr>\n    <tr>\n      <th>95</th>\n      <td>7</td>\n      <td>445</td>\n      <td>40.828602</td>\n      <td>-73.879259</td>\n      <td>False</td>\n      <td>-0.959601</td>\n      <td>0.281365</td>\n      <td>0.587785</td>\n      <td>0.809017</td>\n      <td>0.866025</td>\n      <td>-0.5</td>\n      <td>0.781831</td>\n      <td>0.62349</td>\n      <td>93</td>\n      <td>24</td>\n    </tr>\n    <tr>\n      <th>96</th>\n      <td>6</td>\n      <td>235</td>\n      <td>40.745463</td>\n      <td>-73.990983</td>\n      <td>False</td>\n      <td>-0.956326</td>\n      <td>0.292302</td>\n      <td>0.587785</td>\n      <td>0.809017</td>\n      <td>0.866025</td>\n      <td>-0.5</td>\n      <td>0.781831</td>\n      <td>0.62349</td>\n      <td>94</td>\n      <td>6</td>\n    </tr>\n    <tr>\n      <th>97</th>\n      <td>8</td>\n      <td>118</td>\n      <td>40.600144</td>\n      <td>-73.946593</td>\n      <td>False</td>\n      <td>-0.955729</td>\n      <td>0.294249</td>\n      <td>0.587785</td>\n      <td>0.809017</td>\n      <td>0.866025</td>\n      <td>-0.5</td>\n      <td>0.781831</td>\n      <td>0.62349</td>\n      <td>95</td>\n      <td>57</td>\n    </tr>\n    <tr>\n      <th>98</th>\n      <td>2</td>\n      <td>1054</td>\n      <td>40.870630</td>\n      <td>-74.097926</td>\n      <td>False</td>\n      <td>-0.955407</td>\n      <td>0.295291</td>\n      <td>0.587785</td>\n      <td>0.809017</td>\n      <td>0.866025</td>\n      <td>-0.5</td>\n      <td>0.781831</td>\n      <td>0.62349</td>\n      <td>96</td>\n      <td>58</td>\n    </tr>\n    <tr>\n      <th>99</th>\n      <td>15</td>\n      <td>881</td>\n      <td>40.808700</td>\n      <td>-73.958515</td>\n      <td>False</td>\n      <td>-0.954631</td>\n      <td>0.297791</td>\n      <td>0.587785</td>\n      <td>0.809017</td>\n      <td>0.866025</td>\n      <td>-0.5</td>\n      <td>0.781831</td>\n      <td>0.62349</td>\n      <td>97</td>\n      <td>21</td>\n    </tr>\n  </tbody>\n</table>\n<p>100 rows × 15 columns</p>\n</div>"
     },
     "execution_count": 19,
     "metadata": {},
     "output_type": "execute_result"
    }
   ],
   "source": [
    "df = pd.read_csv(\"./4square/processed_transformed_big.csv\")\n",
    "df.head(100)"
   ],
   "metadata": {
    "collapsed": false,
    "pycharm": {
     "name": "#%%\n"
    }
   }
  },
  {
   "cell_type": "code",
   "execution_count": 20,
   "outputs": [
    {
     "name": "stdout",
     "output_type": "stream",
     "text": [
      "vocabulary size: 27\n"
     ]
    }
   ],
   "source": [
    "# the number of different categories defines the vocabulary size\n",
    "categories = df.cat_id\n",
    "vocab_size = categories.nunique()\n",
    "\n",
    "print('vocabulary size:', vocab_size)"
   ],
   "metadata": {
    "collapsed": false,
    "pycharm": {
     "name": "#%%\n"
    }
   }
  },
  {
   "cell_type": "code",
   "execution_count": 21,
   "outputs": [],
   "source": [
    "EMBEDDING_DIM = 64\n",
    "\n",
    "rnn_units1 = 128\n",
    "rnn_units2 = 64\n",
    "\n",
    "# Create a model\n",
    "def create_keras_model():\n",
    "\n",
    "  vocab_size = mh.vocab_size\n",
    "  N = mh.total_window_length\n",
    "  batch_size = mh.batch_size\n",
    "\n",
    "  # Shortcut to the layers package\n",
    "  l = tf.keras.layers\n",
    "\n",
    "  # List of numeric feature columns to pass to the DenseLayer\n",
    "  numeric_feature_columns = []\n",
    "\n",
    "  # Handling numerical columns\n",
    "  for header in numerical_column_names:\n",
    "\t\t# Append all the numerical columns defined into the list\n",
    "    numeric_feature_columns.append(feature_column.numeric_column(header, shape=N-1))\n",
    "\n",
    "  feature_inputs={}\n",
    "  for c_name in numerical_column_names:\n",
    "    feature_inputs[c_name] = tf.keras.Input((N-1,), batch_size=batch_size, name=c_name)\n",
    "\n",
    "  # We cannot use an array of features as always because we have sequences\n",
    "  # We have to do one by one in order to match the shape\n",
    "  num_features = []\n",
    "  for c_name in numerical_column_names:\n",
    "    f =  feature_column.numeric_column(c_name, shape=(N-1))\n",
    "    feature = l.DenseFeatures(f)(feature_inputs)\n",
    "    feature = tf.expand_dims(feature, -1)\n",
    "    num_features.append(feature)\n",
    "\n",
    "  categorical_feature_inputs = []\n",
    "  categorical_features = []\n",
    "  for categorical_feature in categorical_columns:  # add batch_size=batch_size in case of stateful GRU\n",
    "    d = {categorical_feature.feature_name: tf.keras.Input((N-1,), batch_size=batch_size, dtype=tf.dtypes.int32, name=categorical_feature.feature_name)}\n",
    "    categorical_feature_inputs.append(d)\n",
    "\n",
    "    one_hot = feature_column.sequence_categorical_column_with_vocabulary_list(categorical_feature.feature_name, [i for i in range(categorical_feature.vocab_size)])\n",
    "\n",
    "    if categorical_feature.use_embedding:\n",
    "      # Embed the one-hot encoding\n",
    "      categorical_features.append(feature_column.embedding_column(one_hot, EMBEDDING_DIM))\n",
    "    else:\n",
    "      categorical_features.append(feature_column.indicator_column(one_hot))\n",
    "\n",
    "  seq_features = []\n",
    "  for i in range(0, len(categorical_feature_inputs)):\n",
    "    sequence_features, sequence_length = tf.keras.experimental.SequenceFeatures(categorical_features[i])(categorical_feature_inputs[i])\n",
    "    seq_features.append(sequence_features)\n",
    "\n",
    "  input_sequence = l.Concatenate(axis=2)( [] + seq_features + num_features)\n",
    "\n",
    "  # Rnn\n",
    "  recurrent = l.GRU(rnn_units1,\n",
    "                    batch_size=batch_size, #in case of stateful\n",
    "                    return_sequences=True,\n",
    "                    stateful=True,\n",
    "                    recurrent_initializer='glorot_uniform')(input_sequence)\n",
    "\n",
    "  recurrent_2 = l.GRU(rnn_units2,\n",
    "                      batch_size=batch_size, #in case of stateful\n",
    "                      stateful=True,\n",
    "                      recurrent_initializer='glorot_uniform')(recurrent)\n",
    "\n",
    "\n",
    "\t# Last layer with an output for each place\n",
    "  dense_1 = l.Dense(vocab_size)(recurrent)\n",
    "\n",
    "\t# Softmax output layer\n",
    "  output = l.Softmax()(dense_1)\n",
    "\n",
    "\t# To return the Model, we need to define its inputs and outputs\n",
    "\t# In out case, we need to list all the input layers we have defined\n",
    "  inputs = list(feature_inputs.values()) + categorical_feature_inputs\n",
    "\n",
    "\t# Return the Model\n",
    "  return tf.keras.Model(inputs=inputs, outputs=output)"
   ],
   "metadata": {
    "collapsed": false,
    "pycharm": {
     "name": "#%%\n"
    }
   }
  },
  {
   "cell_type": "code",
   "execution_count": 22,
   "outputs": [],
   "source": [
    "class CategoricalFeature:\n",
    "  def __init__(self, feature_name, vocab_size, use_embedding):\n",
    "    self.feature_name = feature_name\n",
    "    self.vocab_size = vocab_size\n",
    "    self.use_embedding = use_embedding"
   ],
   "metadata": {
    "collapsed": false,
    "pycharm": {
     "name": "#%%\n"
    }
   }
  },
  {
   "cell_type": "code",
   "execution_count": 23,
   "outputs": [],
   "source": [
    "vocab_size = df.cat_id.unique().size\n",
    "users_size = df.user_id.unique().size\n",
    "venues_size = df.venue_id.unique().size\n",
    "orig_cats_size = df.orig_cat_id.unique().size"
   ],
   "metadata": {
    "collapsed": false,
    "pycharm": {
     "name": "#%%\n"
    }
   }
  },
  {
   "cell_type": "code",
   "execution_count": 24,
   "outputs": [
    {
     "name": "stdout",
     "output_type": "stream",
     "text": [
      "Excluded columns: ['user_id']\n",
      "Included columns: ['cat_id', 'latitude', 'longitude', 'is_weekend', 'clock_sin', 'clock_cos', 'day_sin', 'day_cos', 'month_sin', 'month_cos', 'week_day_sin', 'week_day_cos', 'venue_id', 'orig_cat_id']\n"
     ]
    },
    {
     "name": "stderr",
     "output_type": "stream",
     "text": [
      "100%|██████████| 1083/1083 [00:00<00:00, 2031.89it/s]\n"
     ]
    },
    {
     "name": "stdout",
     "output_type": "stream",
     "text": [
      "Restoring model weights from the end of the best epoch.\n",
      "Epoch 00008: early stopping\n",
      "168/168 [==============================] - 0s 3ms/step - loss: 2.9189 - sparse_categorical_accuracy: 0.2098\n",
      "Excluded columns: ['latitude', 'longitude']\n",
      "Included columns: ['cat_id', 'user_id', 'is_weekend', 'clock_sin', 'clock_cos', 'day_sin', 'day_cos', 'month_sin', 'month_cos', 'week_day_sin', 'week_day_cos', 'venue_id', 'orig_cat_id']\n"
     ]
    },
    {
     "name": "stderr",
     "output_type": "stream",
     "text": [
      "100%|██████████| 1083/1083 [00:00<00:00, 1990.81it/s]\n"
     ]
    },
    {
     "name": "stdout",
     "output_type": "stream",
     "text": [
      "Restoring model weights from the end of the best epoch.\n",
      "Epoch 00006: early stopping\n",
      "168/168 [==============================] - 1s 4ms/step - loss: 2.7098 - sparse_categorical_accuracy: 0.2402\n",
      "Excluded columns: ['is_weekend']\n",
      "Included columns: ['cat_id', 'user_id', 'latitude', 'longitude', 'clock_sin', 'clock_cos', 'day_sin', 'day_cos', 'month_sin', 'month_cos', 'week_day_sin', 'week_day_cos', 'venue_id', 'orig_cat_id']\n"
     ]
    },
    {
     "name": "stderr",
     "output_type": "stream",
     "text": [
      "100%|██████████| 1083/1083 [00:00<00:00, 2039.42it/s]\n"
     ]
    },
    {
     "name": "stdout",
     "output_type": "stream",
     "text": [
      "168/168 [==============================] - 1s 4ms/step - loss: 2.6920 - sparse_categorical_accuracy: 0.2418\n",
      "Excluded columns: ['venue_id']\n",
      "Included columns: ['cat_id', 'user_id', 'latitude', 'longitude', 'is_weekend', 'clock_sin', 'clock_cos', 'day_sin', 'day_cos', 'month_sin', 'month_cos', 'week_day_sin', 'week_day_cos', 'orig_cat_id']\n"
     ]
    },
    {
     "name": "stderr",
     "output_type": "stream",
     "text": [
      "100%|██████████| 1083/1083 [00:00<00:00, 2024.30it/s]\n"
     ]
    },
    {
     "name": "stdout",
     "output_type": "stream",
     "text": [
      "168/168 [==============================] - 0s 3ms/step - loss: 2.6799 - sparse_categorical_accuracy: 0.2348\n",
      "Excluded columns: ['orig_cat_id']\n",
      "Included columns: ['cat_id', 'user_id', 'latitude', 'longitude', 'is_weekend', 'clock_sin', 'clock_cos', 'day_sin', 'day_cos', 'month_sin', 'month_cos', 'week_day_sin', 'week_day_cos', 'venue_id']\n"
     ]
    },
    {
     "name": "stderr",
     "output_type": "stream",
     "text": [
      "100%|██████████| 1083/1083 [00:00<00:00, 1994.46it/s]\n"
     ]
    },
    {
     "name": "stdout",
     "output_type": "stream",
     "text": [
      "168/168 [==============================] - 0s 3ms/step - loss: 2.7586 - sparse_categorical_accuracy: 0.2264\n",
      "Excluded columns: ['user_id', 'latitude', 'longitude']\n",
      "Included columns: ['cat_id', 'is_weekend', 'clock_sin', 'clock_cos', 'day_sin', 'day_cos', 'month_sin', 'month_cos', 'week_day_sin', 'week_day_cos', 'venue_id', 'orig_cat_id']\n"
     ]
    },
    {
     "name": "stderr",
     "output_type": "stream",
     "text": [
      "100%|██████████| 1083/1083 [00:00<00:00, 2005.49it/s]\n"
     ]
    },
    {
     "name": "stdout",
     "output_type": "stream",
     "text": [
      "Restoring model weights from the end of the best epoch.\n",
      "Epoch 00006: early stopping\n",
      "168/168 [==============================] - 0s 3ms/step - loss: 2.7831 - sparse_categorical_accuracy: 0.2262\n",
      "Excluded columns: ['user_id', 'is_weekend']\n",
      "Included columns: ['cat_id', 'latitude', 'longitude', 'clock_sin', 'clock_cos', 'day_sin', 'day_cos', 'month_sin', 'month_cos', 'week_day_sin', 'week_day_cos', 'venue_id', 'orig_cat_id']\n"
     ]
    },
    {
     "name": "stderr",
     "output_type": "stream",
     "text": [
      "100%|██████████| 1083/1083 [00:00<00:00, 2026.11it/s]\n"
     ]
    },
    {
     "name": "stdout",
     "output_type": "stream",
     "text": [
      "168/168 [==============================] - 0s 3ms/step - loss: 2.8470 - sparse_categorical_accuracy: 0.1877\n",
      "Excluded columns: ['user_id', 'venue_id']\n",
      "Included columns: ['cat_id', 'latitude', 'longitude', 'is_weekend', 'clock_sin', 'clock_cos', 'day_sin', 'day_cos', 'month_sin', 'month_cos', 'week_day_sin', 'week_day_cos', 'orig_cat_id']\n"
     ]
    },
    {
     "name": "stderr",
     "output_type": "stream",
     "text": [
      "100%|██████████| 1083/1083 [00:00<00:00, 2024.31it/s]\n"
     ]
    },
    {
     "name": "stdout",
     "output_type": "stream",
     "text": [
      "168/168 [==============================] - 0s 3ms/step - loss: 2.7946 - sparse_categorical_accuracy: 0.2025\n",
      "Excluded columns: ['user_id', 'orig_cat_id']\n",
      "Included columns: ['cat_id', 'latitude', 'longitude', 'is_weekend', 'clock_sin', 'clock_cos', 'day_sin', 'day_cos', 'month_sin', 'month_cos', 'week_day_sin', 'week_day_cos', 'venue_id']\n"
     ]
    },
    {
     "name": "stderr",
     "output_type": "stream",
     "text": [
      "100%|██████████| 1083/1083 [00:00<00:00, 1987.16it/s]\n"
     ]
    },
    {
     "name": "stdout",
     "output_type": "stream",
     "text": [
      "168/168 [==============================] - 0s 3ms/step - loss: 2.8545 - sparse_categorical_accuracy: 0.1844\n",
      "Excluded columns: ['latitude', 'longitude', 'is_weekend']\n",
      "Included columns: ['cat_id', 'user_id', 'clock_sin', 'clock_cos', 'day_sin', 'day_cos', 'month_sin', 'month_cos', 'week_day_sin', 'week_day_cos', 'venue_id', 'orig_cat_id']\n"
     ]
    },
    {
     "name": "stderr",
     "output_type": "stream",
     "text": [
      "100%|██████████| 1083/1083 [00:00<00:00, 1987.88it/s]\n"
     ]
    },
    {
     "name": "stdout",
     "output_type": "stream",
     "text": [
      "168/168 [==============================] - 1s 4ms/step - loss: 2.6296 - sparse_categorical_accuracy: 0.2428\n",
      "Excluded columns: ['latitude', 'longitude', 'venue_id']\n",
      "Included columns: ['cat_id', 'user_id', 'is_weekend', 'clock_sin', 'clock_cos', 'day_sin', 'day_cos', 'month_sin', 'month_cos', 'week_day_sin', 'week_day_cos', 'orig_cat_id']\n"
     ]
    },
    {
     "name": "stderr",
     "output_type": "stream",
     "text": [
      "100%|██████████| 1083/1083 [00:00<00:00, 1979.89it/s]\n"
     ]
    },
    {
     "name": "stdout",
     "output_type": "stream",
     "text": [
      "Restoring model weights from the end of the best epoch.\n",
      "Epoch 00009: early stopping\n",
      "168/168 [==============================] - 0s 3ms/step - loss: 2.6435 - sparse_categorical_accuracy: 0.2401\n",
      "Excluded columns: ['latitude', 'longitude', 'orig_cat_id']\n",
      "Included columns: ['cat_id', 'user_id', 'is_weekend', 'clock_sin', 'clock_cos', 'day_sin', 'day_cos', 'month_sin', 'month_cos', 'week_day_sin', 'week_day_cos', 'venue_id']\n"
     ]
    },
    {
     "name": "stderr",
     "output_type": "stream",
     "text": [
      "100%|██████████| 1083/1083 [00:00<00:00, 2024.31it/s]\n"
     ]
    },
    {
     "name": "stdout",
     "output_type": "stream",
     "text": [
      "Restoring model weights from the end of the best epoch.\n",
      "Epoch 00008: early stopping\n",
      "168/168 [==============================] - 0s 3ms/step - loss: 2.5752 - sparse_categorical_accuracy: 0.2601\n",
      "Excluded columns: ['is_weekend', 'venue_id']\n",
      "Included columns: ['cat_id', 'user_id', 'latitude', 'longitude', 'clock_sin', 'clock_cos', 'day_sin', 'day_cos', 'month_sin', 'month_cos', 'week_day_sin', 'week_day_cos', 'orig_cat_id']\n"
     ]
    },
    {
     "name": "stderr",
     "output_type": "stream",
     "text": [
      "100%|██████████| 1083/1083 [00:00<00:00, 2051.61it/s]\n"
     ]
    },
    {
     "name": "stdout",
     "output_type": "stream",
     "text": [
      "168/168 [==============================] - 0s 3ms/step - loss: 2.7108 - sparse_categorical_accuracy: 0.2349\n",
      "Excluded columns: ['is_weekend', 'orig_cat_id']\n",
      "Included columns: ['cat_id', 'user_id', 'latitude', 'longitude', 'clock_sin', 'clock_cos', 'day_sin', 'day_cos', 'month_sin', 'month_cos', 'week_day_sin', 'week_day_cos', 'venue_id']\n"
     ]
    },
    {
     "name": "stderr",
     "output_type": "stream",
     "text": [
      "100%|██████████| 1083/1083 [00:00<00:00, 2009.68it/s]\n"
     ]
    },
    {
     "name": "stdout",
     "output_type": "stream",
     "text": [
      "168/168 [==============================] - 0s 3ms/step - loss: 2.9583 - sparse_categorical_accuracy: 0.1395\n",
      "Excluded columns: ['venue_id', 'orig_cat_id']\n",
      "Included columns: ['cat_id', 'user_id', 'latitude', 'longitude', 'is_weekend', 'clock_sin', 'clock_cos', 'day_sin', 'day_cos', 'month_sin', 'month_cos', 'week_day_sin', 'week_day_cos']\n"
     ]
    },
    {
     "name": "stderr",
     "output_type": "stream",
     "text": [
      "100%|██████████| 1083/1083 [00:00<00:00, 2058.93it/s]\n"
     ]
    },
    {
     "name": "stdout",
     "output_type": "stream",
     "text": [
      "Restoring model weights from the end of the best epoch.\n",
      "Epoch 00008: early stopping\n",
      "168/168 [==============================] - 0s 3ms/step - loss: 2.7685 - sparse_categorical_accuracy: 0.2282\n",
      "Excluded columns: ['user_id', 'latitude', 'longitude', 'is_weekend']\n",
      "Included columns: ['cat_id', 'clock_sin', 'clock_cos', 'day_sin', 'day_cos', 'month_sin', 'month_cos', 'week_day_sin', 'week_day_cos', 'venue_id', 'orig_cat_id']\n"
     ]
    },
    {
     "name": "stderr",
     "output_type": "stream",
     "text": [
      "100%|██████████| 1083/1083 [00:00<00:00, 2031.89it/s]\n"
     ]
    },
    {
     "name": "stdout",
     "output_type": "stream",
     "text": [
      "168/168 [==============================] - 0s 3ms/step - loss: 2.8212 - sparse_categorical_accuracy: 0.1936\n",
      "Excluded columns: ['user_id', 'latitude', 'longitude', 'venue_id']\n",
      "Included columns: ['cat_id', 'is_weekend', 'clock_sin', 'clock_cos', 'day_sin', 'day_cos', 'month_sin', 'month_cos', 'week_day_sin', 'week_day_cos', 'orig_cat_id']\n"
     ]
    },
    {
     "name": "stderr",
     "output_type": "stream",
     "text": [
      "100%|██████████| 1083/1083 [00:00<00:00, 2028.09it/s]\n"
     ]
    },
    {
     "name": "stdout",
     "output_type": "stream",
     "text": [
      "168/168 [==============================] - 0s 3ms/step - loss: 2.7708 - sparse_categorical_accuracy: 0.2115\n",
      "Excluded columns: ['user_id', 'latitude', 'longitude', 'orig_cat_id']\n",
      "Included columns: ['cat_id', 'is_weekend', 'clock_sin', 'clock_cos', 'day_sin', 'day_cos', 'month_sin', 'month_cos', 'week_day_sin', 'week_day_cos', 'venue_id']\n"
     ]
    },
    {
     "name": "stderr",
     "output_type": "stream",
     "text": [
      "100%|██████████| 1083/1083 [00:00<00:00, 2024.30it/s]\n"
     ]
    },
    {
     "name": "stdout",
     "output_type": "stream",
     "text": [
      "168/168 [==============================] - 0s 3ms/step - loss: 2.8178 - sparse_categorical_accuracy: 0.1987\n",
      "Excluded columns: ['user_id', 'is_weekend', 'venue_id']\n",
      "Included columns: ['cat_id', 'latitude', 'longitude', 'clock_sin', 'clock_cos', 'day_sin', 'day_cos', 'month_sin', 'month_cos', 'week_day_sin', 'week_day_cos', 'orig_cat_id']\n"
     ]
    },
    {
     "name": "stderr",
     "output_type": "stream",
     "text": [
      "100%|██████████| 1083/1083 [00:00<00:00, 2024.30it/s]\n"
     ]
    },
    {
     "name": "stdout",
     "output_type": "stream",
     "text": [
      "168/168 [==============================] - 0s 3ms/step - loss: 2.8376 - sparse_categorical_accuracy: 0.1896\n",
      "Excluded columns: ['user_id', 'is_weekend', 'orig_cat_id']\n",
      "Included columns: ['cat_id', 'latitude', 'longitude', 'clock_sin', 'clock_cos', 'day_sin', 'day_cos', 'month_sin', 'month_cos', 'week_day_sin', 'week_day_cos', 'venue_id']\n"
     ]
    },
    {
     "name": "stderr",
     "output_type": "stream",
     "text": [
      "100%|██████████| 1083/1083 [00:00<00:00, 2051.14it/s]\n"
     ]
    },
    {
     "name": "stdout",
     "output_type": "stream",
     "text": [
      "Restoring model weights from the end of the best epoch.\n",
      "Epoch 00004: early stopping\n",
      "168/168 [==============================] - 0s 3ms/step - loss: 2.9939 - sparse_categorical_accuracy: 0.1413\n",
      "Excluded columns: ['user_id', 'venue_id', 'orig_cat_id']\n",
      "Included columns: ['cat_id', 'latitude', 'longitude', 'is_weekend', 'clock_sin', 'clock_cos', 'day_sin', 'day_cos', 'month_sin', 'month_cos', 'week_day_sin', 'week_day_cos']\n"
     ]
    },
    {
     "name": "stderr",
     "output_type": "stream",
     "text": [
      "100%|██████████| 1083/1083 [00:00<00:00, 2055.02it/s]\n"
     ]
    },
    {
     "name": "stdout",
     "output_type": "stream",
     "text": [
      "168/168 [==============================] - 0s 2ms/step - loss: 2.8639 - sparse_categorical_accuracy: 0.1850\n",
      "Excluded columns: ['latitude', 'longitude', 'is_weekend', 'venue_id']\n",
      "Included columns: ['cat_id', 'user_id', 'clock_sin', 'clock_cos', 'day_sin', 'day_cos', 'month_sin', 'month_cos', 'week_day_sin', 'week_day_cos', 'orig_cat_id']\n"
     ]
    },
    {
     "name": "stderr",
     "output_type": "stream",
     "text": [
      "100%|██████████| 1083/1083 [00:00<00:00, 2009.28it/s]\n"
     ]
    },
    {
     "name": "stdout",
     "output_type": "stream",
     "text": [
      "168/168 [==============================] - 0s 3ms/step - loss: 2.6163 - sparse_categorical_accuracy: 0.2429\n",
      "Excluded columns: ['latitude', 'longitude', 'is_weekend', 'orig_cat_id']\n",
      "Included columns: ['cat_id', 'user_id', 'clock_sin', 'clock_cos', 'day_sin', 'day_cos', 'month_sin', 'month_cos', 'week_day_sin', 'week_day_cos', 'venue_id']\n"
     ]
    },
    {
     "name": "stderr",
     "output_type": "stream",
     "text": [
      "100%|██████████| 1083/1083 [00:00<00:00, 2035.72it/s]\n"
     ]
    },
    {
     "name": "stdout",
     "output_type": "stream",
     "text": [
      "Restoring model weights from the end of the best epoch.\n",
      "Epoch 00009: early stopping\n",
      "168/168 [==============================] - 0s 3ms/step - loss: 2.9604 - sparse_categorical_accuracy: 0.1413\n",
      "Excluded columns: ['latitude', 'longitude', 'venue_id', 'orig_cat_id']\n",
      "Included columns: ['cat_id', 'user_id', 'is_weekend', 'clock_sin', 'clock_cos', 'day_sin', 'day_cos', 'month_sin', 'month_cos', 'week_day_sin', 'week_day_cos']\n"
     ]
    },
    {
     "name": "stderr",
     "output_type": "stream",
     "text": [
      "100%|██████████| 1083/1083 [00:00<00:00, 2043.82it/s]\n"
     ]
    },
    {
     "name": "stdout",
     "output_type": "stream",
     "text": [
      "Restoring model weights from the end of the best epoch.\n",
      "Epoch 00009: early stopping\n",
      "168/168 [==============================] - 0s 3ms/step - loss: 2.5996 - sparse_categorical_accuracy: 0.2527\n",
      "Excluded columns: ['is_weekend', 'venue_id', 'orig_cat_id']\n",
      "Included columns: ['cat_id', 'user_id', 'latitude', 'longitude', 'clock_sin', 'clock_cos', 'day_sin', 'day_cos', 'month_sin', 'month_cos', 'week_day_sin', 'week_day_cos']\n"
     ]
    },
    {
     "name": "stderr",
     "output_type": "stream",
     "text": [
      "100%|██████████| 1083/1083 [00:00<00:00, 2024.30it/s]\n"
     ]
    },
    {
     "name": "stdout",
     "output_type": "stream",
     "text": [
      "168/168 [==============================] - 0s 3ms/step - loss: 2.9663 - sparse_categorical_accuracy: 0.1368\n",
      "Excluded columns: ['user_id', 'latitude', 'longitude', 'is_weekend', 'venue_id']\n",
      "Included columns: ['cat_id', 'clock_sin', 'clock_cos', 'day_sin', 'day_cos', 'month_sin', 'month_cos', 'week_day_sin', 'week_day_cos', 'orig_cat_id']\n"
     ]
    },
    {
     "name": "stderr",
     "output_type": "stream",
     "text": [
      "100%|██████████| 1083/1083 [00:00<00:00, 2024.30it/s]\n"
     ]
    },
    {
     "name": "stdout",
     "output_type": "stream",
     "text": [
      "168/168 [==============================] - 0s 3ms/step - loss: 2.8316 - sparse_categorical_accuracy: 0.1903\n",
      "Excluded columns: ['user_id', 'latitude', 'longitude', 'is_weekend', 'orig_cat_id']\n",
      "Included columns: ['cat_id', 'clock_sin', 'clock_cos', 'day_sin', 'day_cos', 'month_sin', 'month_cos', 'week_day_sin', 'week_day_cos', 'venue_id']\n"
     ]
    },
    {
     "name": "stderr",
     "output_type": "stream",
     "text": [
      "100%|██████████| 1083/1083 [00:00<00:00, 2005.57it/s]\n"
     ]
    },
    {
     "name": "stdout",
     "output_type": "stream",
     "text": [
      "Restoring model weights from the end of the best epoch.\n",
      "Epoch 00007: early stopping\n",
      "168/168 [==============================] - 0s 3ms/step - loss: 2.9647 - sparse_categorical_accuracy: 0.1404\n",
      "Excluded columns: ['user_id', 'latitude', 'longitude', 'venue_id', 'orig_cat_id']\n",
      "Included columns: ['cat_id', 'is_weekend', 'clock_sin', 'clock_cos', 'day_sin', 'day_cos', 'month_sin', 'month_cos', 'week_day_sin', 'week_day_cos']\n"
     ]
    },
    {
     "name": "stderr",
     "output_type": "stream",
     "text": [
      "100%|██████████| 1083/1083 [00:00<00:00, 2043.38it/s]\n"
     ]
    },
    {
     "name": "stdout",
     "output_type": "stream",
     "text": [
      "168/168 [==============================] - 0s 2ms/step - loss: 2.8174 - sparse_categorical_accuracy: 0.1984\n",
      "Excluded columns: ['user_id', 'is_weekend', 'venue_id', 'orig_cat_id']\n",
      "Included columns: ['cat_id', 'latitude', 'longitude', 'clock_sin', 'clock_cos', 'day_sin', 'day_cos', 'month_sin', 'month_cos', 'week_day_sin', 'week_day_cos']\n"
     ]
    },
    {
     "name": "stderr",
     "output_type": "stream",
     "text": [
      "100%|██████████| 1083/1083 [00:00<00:00, 2024.28it/s]\n"
     ]
    },
    {
     "name": "stdout",
     "output_type": "stream",
     "text": [
      "168/168 [==============================] - 0s 2ms/step - loss: 2.8578 - sparse_categorical_accuracy: 0.1835\n",
      "Excluded columns: ['latitude', 'longitude', 'is_weekend', 'venue_id', 'orig_cat_id']\n",
      "Included columns: ['cat_id', 'user_id', 'clock_sin', 'clock_cos', 'day_sin', 'day_cos', 'month_sin', 'month_cos', 'week_day_sin', 'week_day_cos']\n"
     ]
    },
    {
     "name": "stderr",
     "output_type": "stream",
     "text": [
      "100%|██████████| 1083/1083 [00:00<00:00, 2001.86it/s]\n"
     ]
    },
    {
     "name": "stdout",
     "output_type": "stream",
     "text": [
      "Restoring model weights from the end of the best epoch.\n",
      "Epoch 00010: early stopping\n",
      "168/168 [==============================] - 0s 3ms/step - loss: 2.9666 - sparse_categorical_accuracy: 0.1394\n",
      "Excluded columns: ['user_id', 'latitude', 'longitude', 'is_weekend', 'venue_id', 'orig_cat_id']\n",
      "Included columns: ['cat_id', 'clock_sin', 'clock_cos', 'day_sin', 'day_cos', 'month_sin', 'month_cos', 'week_day_sin', 'week_day_cos']\n"
     ]
    },
    {
     "name": "stderr",
     "output_type": "stream",
     "text": [
      "100%|██████████| 1083/1083 [00:00<00:00, 1994.47it/s]\n"
     ]
    },
    {
     "name": "stdout",
     "output_type": "stream",
     "text": [
      "168/168 [==============================] - 0s 2ms/step - loss: 2.8204 - sparse_categorical_accuracy: 0.1976\n"
     ]
    }
   ],
   "source": [
    "all_num_column_names = ['latitude', 'longitude', 'clock_sin', 'clock_cos', 'day_sin', 'day_cos', 'month_sin',\n",
    "                          'month_cos', 'week_day_sin', 'week_day_cos']\n",
    "\n",
    "drop_columns = [['user_id'], ['latitude', 'longitude'], ['is_weekend'], ['venue_id'], ['orig_cat_id']]\n",
    "\n",
    "all_cat_columns = [\n",
    "      CategoricalFeature('user_id', users_size, True),\n",
    "      CategoricalFeature('cat_id', vocab_size, True),\n",
    "      CategoricalFeature('venue_id', venues_size, True),\n",
    "      CategoricalFeature('orig_cat_id', orig_cats_size, True)]\n",
    "\n",
    "for L in range(1, len(drop_columns) + 1):\n",
    "    for subset in itertools.combinations(drop_columns, L):\n",
    "\n",
    "        mh = ModelHelper(df.copy(), 17)\n",
    "        mh.set_vocab_size(vocab_size)\n",
    "\n",
    "        cols = [item for sub_list in subset for item in sub_list]\n",
    "        column_names = [i for i in df.columns.values if i not in cols]\n",
    "        numerical_column_names = [i for i in all_num_column_names if i not in cols]\n",
    "        categorical_columns = [i for i in all_cat_columns if i.feature_name not in cols]\n",
    "\n",
    "        print('Excluded columns: {c}'.format(c=cols))\n",
    "        print('Included columns: {c}'.format(c=column_names))\n",
    "\n",
    "        mh.set_target_column_name('cat_id')\n",
    "\n",
    "        mh.set_numerical_column_names(numerical_column_names)\n",
    "\n",
    "        mh.set_column_names(column_names)\n",
    "        mh.set_client_column_name('user_id')\n",
    "        mh.set_client_column_ids()\n",
    "\n",
    "        mh.create_users_locations_from_df()\n",
    "        mh.concat_split_users_locations(drop_client_column=False)\n",
    "\n",
    "        mh.split_data()\n",
    "\n",
    "        mh.set_batch_size(16)\n",
    "\n",
    "        mh.create_and_batch_datasets(multi_target=True)\n",
    "\n",
    "        mh.assign_model(create_keras_model())\n",
    "        mh.set_num_epochs(10)\n",
    "        mh.compile_model()\n",
    "        mh.fit_model(verbose=0)\n",
    "\n",
    "        mh.evaluate_model()"
   ],
   "metadata": {
    "collapsed": false,
    "pycharm": {
     "name": "#%%\n"
    }
   }
  }
 ],
 "metadata": {
  "kernelspec": {
   "display_name": "Python 3",
   "language": "python",
   "name": "python3"
  },
  "language_info": {
   "codemirror_mode": {
    "name": "ipython",
    "version": 2
   },
   "file_extension": ".py",
   "mimetype": "text/x-python",
   "name": "python",
   "nbconvert_exporter": "python",
   "pygments_lexer": "ipython2",
   "version": "2.7.6"
  }
 },
 "nbformat": 4,
 "nbformat_minor": 0
}