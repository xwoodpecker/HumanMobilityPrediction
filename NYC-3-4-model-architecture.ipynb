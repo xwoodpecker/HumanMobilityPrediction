{
 "nbformat": 4,
 "nbformat_minor": 0,
 "metadata": {
  "colab": {
   "name": "NYC_FL.ipynb",
   "provenance": [],
   "toc_visible": true
  },
  "kernelspec": {
   "name": "python3",
   "display_name": "Python 3"
  },
  "accelerator": "GPU"
 },
 "cells": [
  {
   "cell_type": "markdown",
   "metadata": {
    "id": "01ekVSe4McOZ",
    "pycharm": {
     "name": "#%% md\n"
    }
   },
   "source": [
    "# Revisiting the NYC Taxi DataSet Model Architecture Part 4\n",
    "\n",
    "In this notebook, the model architecture is being changed in order to understand the correlation between the model architecture and the prediction quality.\n",
    "This model uses only the end time as input.\n",
    "A Dense Layer follows. Its output goes into another Dense Layer with SoftMax activation to obtain the logits.\n",
    "The deep learning problem can thus be described as follows:\n",
    "Predict a location based on the current time.\n"
   ]
  },
  {
   "cell_type": "code",
   "metadata": {
    "id": "O0AtRRZwKfnz",
    "colab": {
     "base_uri": "https://localhost:8080/",
     "height": 119
    },
    "outputId": "ec8f53e1-bede-41f7-a6a1-2bf8249bbf6b",
    "pycharm": {
     "name": "#%%\n"
    }
   },
   "source": [
    "import numpy as np\n",
    "np.random.seed(0)\n",
    "import tensorflow as tf\n",
    "import pandas as pd\n",
    "from tensorflow import feature_column\n",
    "from tensorflow.keras import layers\n",
    "import import_ipynb"
   ],
   "execution_count": 1,
   "outputs": []
  },
  {
   "cell_type": "code",
   "execution_count": 2,
   "outputs": [
    {
     "name": "stdout",
     "output_type": "stream",
     "text": [
      "importing Jupyter notebook from model_helper.ipynb\n"
     ]
    }
   ],
   "source": [
    "from model_helper import ModelHelper"
   ],
   "metadata": {
    "collapsed": false,
    "pycharm": {
     "name": "#%%\n"
    }
   }
  },
  {
   "cell_type": "markdown",
   "metadata": {
    "id": "nRSBBlWyLG9h",
    "pycharm": {
     "name": "#%% md\n"
    }
   },
   "source": [
    "# Dataset"
   ]
  },
  {
   "cell_type": "code",
   "metadata": {
    "id": "EiraMJg9uOb9",
    "colab": {
     "base_uri": "https://localhost:8080/",
     "height": 204
    },
    "outputId": "bd845c7d-9072-46d5-ef12-b26e94566280",
    "pycharm": {
     "name": "#%%\n"
    }
   },
   "source": [
    "df = pd.read_csv(\"./ma_results/trips_with_zones_final.csv\")\n",
    "df = df.head(10000000)\n",
    "df.head(10)"
   ],
   "execution_count": 3,
   "outputs": [
    {
     "data": {
      "text/plain": "                          medallion  pickup_week_day  pickup_hour  pickup_day  \\\n0  00005007A9F30E289E760362F69E4EAD                1            0           1   \n1  00005007A9F30E289E760362F69E4EAD                1            0           1   \n2  00005007A9F30E289E760362F69E4EAD                1            0           1   \n3  00005007A9F30E289E760362F69E4EAD                1            1           1   \n4  00005007A9F30E289E760362F69E4EAD                1            1           1   \n5  00005007A9F30E289E760362F69E4EAD                1            1           1   \n6  00005007A9F30E289E760362F69E4EAD                1            2           1   \n7  00005007A9F30E289E760362F69E4EAD                1            2           1   \n8  00005007A9F30E289E760362F69E4EAD                1            2           1   \n9  00005007A9F30E289E760362F69E4EAD                1            3           1   \n\n   pickup_month  dropoff_week_day  dropoff_hour  dropoff_day  dropoff_month  \\\n0             1                 1             0            1              1   \n1             1                 1             0            1              1   \n2             1                 1             1            1              1   \n3             1                 1             1            1              1   \n4             1                 1             1            1              1   \n5             1                 1             2            1              1   \n6             1                 1             2            1              1   \n7             1                 1             2            1              1   \n8             1                 1             3            1              1   \n9             1                 1             3            1              1   \n\n   pickup_location_id  dropoff_location_id  \n0               162.0                262.0  \n1               262.0                239.0  \n2               239.0                236.0  \n3               236.0                 41.0  \n4                41.0                211.0  \n5               211.0                238.0  \n6               238.0                142.0  \n7               142.0                263.0  \n8               263.0                 48.0  \n9                48.0                246.0  ",
      "text/html": "<div>\n<style scoped>\n    .dataframe tbody tr th:only-of-type {\n        vertical-align: middle;\n    }\n\n    .dataframe tbody tr th {\n        vertical-align: top;\n    }\n\n    .dataframe thead th {\n        text-align: right;\n    }\n</style>\n<table border=\"1\" class=\"dataframe\">\n  <thead>\n    <tr style=\"text-align: right;\">\n      <th></th>\n      <th>medallion</th>\n      <th>pickup_week_day</th>\n      <th>pickup_hour</th>\n      <th>pickup_day</th>\n      <th>pickup_month</th>\n      <th>dropoff_week_day</th>\n      <th>dropoff_hour</th>\n      <th>dropoff_day</th>\n      <th>dropoff_month</th>\n      <th>pickup_location_id</th>\n      <th>dropoff_location_id</th>\n    </tr>\n  </thead>\n  <tbody>\n    <tr>\n      <th>0</th>\n      <td>00005007A9F30E289E760362F69E4EAD</td>\n      <td>1</td>\n      <td>0</td>\n      <td>1</td>\n      <td>1</td>\n      <td>1</td>\n      <td>0</td>\n      <td>1</td>\n      <td>1</td>\n      <td>162.0</td>\n      <td>262.0</td>\n    </tr>\n    <tr>\n      <th>1</th>\n      <td>00005007A9F30E289E760362F69E4EAD</td>\n      <td>1</td>\n      <td>0</td>\n      <td>1</td>\n      <td>1</td>\n      <td>1</td>\n      <td>0</td>\n      <td>1</td>\n      <td>1</td>\n      <td>262.0</td>\n      <td>239.0</td>\n    </tr>\n    <tr>\n      <th>2</th>\n      <td>00005007A9F30E289E760362F69E4EAD</td>\n      <td>1</td>\n      <td>0</td>\n      <td>1</td>\n      <td>1</td>\n      <td>1</td>\n      <td>1</td>\n      <td>1</td>\n      <td>1</td>\n      <td>239.0</td>\n      <td>236.0</td>\n    </tr>\n    <tr>\n      <th>3</th>\n      <td>00005007A9F30E289E760362F69E4EAD</td>\n      <td>1</td>\n      <td>1</td>\n      <td>1</td>\n      <td>1</td>\n      <td>1</td>\n      <td>1</td>\n      <td>1</td>\n      <td>1</td>\n      <td>236.0</td>\n      <td>41.0</td>\n    </tr>\n    <tr>\n      <th>4</th>\n      <td>00005007A9F30E289E760362F69E4EAD</td>\n      <td>1</td>\n      <td>1</td>\n      <td>1</td>\n      <td>1</td>\n      <td>1</td>\n      <td>1</td>\n      <td>1</td>\n      <td>1</td>\n      <td>41.0</td>\n      <td>211.0</td>\n    </tr>\n    <tr>\n      <th>5</th>\n      <td>00005007A9F30E289E760362F69E4EAD</td>\n      <td>1</td>\n      <td>1</td>\n      <td>1</td>\n      <td>1</td>\n      <td>1</td>\n      <td>2</td>\n      <td>1</td>\n      <td>1</td>\n      <td>211.0</td>\n      <td>238.0</td>\n    </tr>\n    <tr>\n      <th>6</th>\n      <td>00005007A9F30E289E760362F69E4EAD</td>\n      <td>1</td>\n      <td>2</td>\n      <td>1</td>\n      <td>1</td>\n      <td>1</td>\n      <td>2</td>\n      <td>1</td>\n      <td>1</td>\n      <td>238.0</td>\n      <td>142.0</td>\n    </tr>\n    <tr>\n      <th>7</th>\n      <td>00005007A9F30E289E760362F69E4EAD</td>\n      <td>1</td>\n      <td>2</td>\n      <td>1</td>\n      <td>1</td>\n      <td>1</td>\n      <td>2</td>\n      <td>1</td>\n      <td>1</td>\n      <td>142.0</td>\n      <td>263.0</td>\n    </tr>\n    <tr>\n      <th>8</th>\n      <td>00005007A9F30E289E760362F69E4EAD</td>\n      <td>1</td>\n      <td>2</td>\n      <td>1</td>\n      <td>1</td>\n      <td>1</td>\n      <td>3</td>\n      <td>1</td>\n      <td>1</td>\n      <td>263.0</td>\n      <td>48.0</td>\n    </tr>\n    <tr>\n      <th>9</th>\n      <td>00005007A9F30E289E760362F69E4EAD</td>\n      <td>1</td>\n      <td>3</td>\n      <td>1</td>\n      <td>1</td>\n      <td>1</td>\n      <td>3</td>\n      <td>1</td>\n      <td>1</td>\n      <td>48.0</td>\n      <td>246.0</td>\n    </tr>\n  </tbody>\n</table>\n</div>"
     },
     "execution_count": 3,
     "metadata": {},
     "output_type": "execute_result"
    }
   ]
  },
  {
   "cell_type": "code",
   "metadata": {
    "id": "ggIfgQxKuOcC",
    "colab": {
     "base_uri": "https://localhost:8080/",
     "height": 221
    },
    "outputId": "4a248d3b-8b73-4f2b-d7f3-8f9bcaaedbd6",
    "pycharm": {
     "name": "#%%\n"
    }
   },
   "source": [
    "# Check dtypes of the attributes\n",
    "df.dtypes"
   ],
   "execution_count": 4,
   "outputs": [
    {
     "data": {
      "text/plain": "medallion               object\npickup_week_day          int64\npickup_hour              int64\npickup_day               int64\npickup_month             int64\ndropoff_week_day         int64\ndropoff_hour             int64\ndropoff_day              int64\ndropoff_month            int64\npickup_location_id     float64\ndropoff_location_id    float64\ndtype: object"
     },
     "execution_count": 4,
     "metadata": {},
     "output_type": "execute_result"
    }
   ]
  },
  {
   "cell_type": "code",
   "execution_count": 5,
   "outputs": [],
   "source": [
    "# Drop the medallion, it is not needed for this example\n",
    "df.drop(['medallion'], axis=1, inplace=True)"
   ],
   "metadata": {
    "collapsed": false,
    "pycharm": {
     "name": "#%%\n"
    }
   }
  },
  {
   "cell_type": "markdown",
   "metadata": {
    "id": "ep1BmXDVPxC1",
    "pycharm": {
     "name": "#%% md\n"
    }
   },
   "source": [
    "Because there are too many taxis (over 9000) it is better to take the 100 taxi with the major number of records"
   ]
  },
  {
   "cell_type": "code",
   "execution_count": 6,
   "outputs": [
    {
     "data": {
      "text/plain": "pickup_week_day        int32\npickup_hour            int32\npickup_day             int32\npickup_month           int32\ndropoff_week_day       int32\ndropoff_hour           int32\ndropoff_day            int32\ndropoff_month          int32\npickup_location_id     int32\ndropoff_location_id    int32\ndtype: object"
     },
     "execution_count": 6,
     "metadata": {},
     "output_type": "execute_result"
    }
   ],
   "source": [
    "# Cast the columns type to int32\n",
    "dictionary = {'pickup_week_day': 'int32', 'pickup_hour': 'int32', 'pickup_day': 'int32', 'pickup_month': 'int32', 'dropoff_week_day': 'int32', 'dropoff_hour': 'int32', 'dropoff_day': 'int32', 'dropoff_month': 'int32', 'pickup_location_id':'int32', 'dropoff_location_id':'int32'}\n",
    "df = df.astype(dictionary, copy=True)\n",
    "df.dtypes"
   ],
   "metadata": {
    "collapsed": false,
    "pycharm": {
     "name": "#%%\n"
    }
   }
  },
  {
   "cell_type": "markdown",
   "metadata": {
    "id": "-oH6GxKzwc7K",
    "pycharm": {
     "name": "#%% md\n"
    }
   },
   "source": [
    "We can use the other taxis to create a local test and validation sets"
   ]
  },
  {
   "cell_type": "markdown",
   "metadata": {
    "id": "eHECUQleRxHH",
    "pycharm": {
     "name": "#%% md\n"
    }
   },
   "source": [
    "Now we need to create the location sequence for each user"
   ]
  },
  {
   "cell_type": "code",
   "execution_count": 7,
   "outputs": [],
   "source": [
    "mh = ModelHelper(df, 129)"
   ],
   "metadata": {
    "collapsed": false,
    "pycharm": {
     "name": "#%%\n"
    }
   }
  },
  {
   "cell_type": "code",
   "metadata": {
    "id": "Uzze3vF-R8OZ",
    "pycharm": {
     "name": "#%%\n"
    }
   },
   "source": [
    "# Call the function\n",
    "mh.df_to_location_sequence()\n",
    "\n",
    "print(mh.df)"
   ],
   "execution_count": 8,
   "outputs": [
    {
     "name": "stdout",
     "output_type": "stream",
     "text": [
      "            index  location_id  day  month  hour_sin      hour_cos  \\\n",
      "0               0          162    1      1  0.000000  1.000000e+00   \n",
      "1              12          230    1      1  0.707107  7.071068e-01   \n",
      "2              13          125    1      1  0.707107  7.071068e-01   \n",
      "3              15           48    1      1  0.866025  5.000000e-01   \n",
      "4              18          170    1      1  1.000000  6.123234e-17   \n",
      "...           ...          ...  ...    ...       ...           ...   \n",
      "13731996  7284341          161   26      1 -0.500000 -8.660254e-01   \n",
      "13731997  7284341          161   26      1 -0.500000 -8.660254e-01   \n",
      "13731998  7284342          132   26      1 -0.707107 -7.071068e-01   \n",
      "13731999  7284343          141   26      1 -0.866025 -5.000000e-01   \n",
      "13732000  7284344          141   26      1 -0.866025 -5.000000e-01   \n",
      "\n",
      "          week_day_sin  week_day_cos  weekend  \n",
      "0             0.781831      0.623490        0  \n",
      "1             0.781831      0.623490        0  \n",
      "2             0.781831      0.623490        0  \n",
      "3             0.781831      0.623490        0  \n",
      "4             0.781831      0.623490        0  \n",
      "...                ...           ...      ...  \n",
      "13731996     -0.974928     -0.222521        1  \n",
      "13731997     -0.974928     -0.222521        1  \n",
      "13731998     -0.974928     -0.222521        1  \n",
      "13731999     -0.974928     -0.222521        1  \n",
      "13732000     -0.974928     -0.222521        1  \n",
      "\n",
      "[13732001 rows x 9 columns]\n"
     ]
    }
   ]
  },
  {
   "cell_type": "code",
   "metadata": {
    "id": "YbQmLj9kSYqp",
    "colab": {
     "base_uri": "https://localhost:8080/",
     "height": 34
    },
    "outputId": "07af026d-8765-4323-8204-953df7b1eccc",
    "pycharm": {
     "name": "#%%\n"
    }
   },
   "source": [
    "mh.train_val_test_split()\n",
    "print(len(mh.df_train), 'train examples')\n",
    "print(len(mh.df_val), 'validation examples')\n",
    "print(len(mh.df_test), 'test examples')"
   ],
   "execution_count": 9,
   "outputs": [
    {
     "name": "stdout",
     "output_type": "stream",
     "text": [
      "8788480 train examples\n",
      "2197120 validation examples\n",
      "2746401 test examples\n"
     ]
    }
   ]
  },
  {
   "cell_type": "code",
   "metadata": {
    "id": "ltjLgzdf1LYY",
    "pycharm": {
     "name": "#%%\n"
    }
   },
   "source": [
    "mh.split_data()\n",
    "mh.list_test[0]"
   ],
   "execution_count": 10,
   "outputs": [
    {
     "data": {
      "text/plain": "            index  location_id  day  month  hour_sin  hour_cos  week_day_sin  \\\n10985600  5283998          246    4      1 -0.866025  0.500000     -0.433884   \n10985601  5283999          107    4      1 -0.707107  0.707107     -0.433884   \n10985602  5284000          142    4      1 -0.707107  0.707107     -0.433884   \n10985603  5284001           48    4      1 -0.500000  0.866025     -0.433884   \n10985604  5284001           48    4      1 -0.500000  0.866025     -0.433884   \n...           ...          ...  ...    ...       ...       ...           ...   \n10985724  5284091          234    7      1  0.000000  1.000000      0.000000   \n10985725  5284092          162    7      1  0.258819  0.965926      0.000000   \n10985726  5284093          142    7      1  0.500000  0.866025      0.000000   \n10985727  5284093          142    7      1  0.500000  0.866025      0.000000   \n10985728  5284094          239    7      1  0.500000  0.866025      0.000000   \n\n          week_day_cos  weekend  \n10985600     -0.900969        0  \n10985601     -0.900969        0  \n10985602     -0.900969        0  \n10985603     -0.900969        0  \n10985604     -0.900969        0  \n...                ...      ...  \n10985724      1.000000        0  \n10985725      1.000000        0  \n10985726      1.000000        0  \n10985727      1.000000        0  \n10985728      1.000000        0  \n\n[129 rows x 9 columns]",
      "text/html": "<div>\n<style scoped>\n    .dataframe tbody tr th:only-of-type {\n        vertical-align: middle;\n    }\n\n    .dataframe tbody tr th {\n        vertical-align: top;\n    }\n\n    .dataframe thead th {\n        text-align: right;\n    }\n</style>\n<table border=\"1\" class=\"dataframe\">\n  <thead>\n    <tr style=\"text-align: right;\">\n      <th></th>\n      <th>index</th>\n      <th>location_id</th>\n      <th>day</th>\n      <th>month</th>\n      <th>hour_sin</th>\n      <th>hour_cos</th>\n      <th>week_day_sin</th>\n      <th>week_day_cos</th>\n      <th>weekend</th>\n    </tr>\n  </thead>\n  <tbody>\n    <tr>\n      <th>10985600</th>\n      <td>5283998</td>\n      <td>246</td>\n      <td>4</td>\n      <td>1</td>\n      <td>-0.866025</td>\n      <td>0.500000</td>\n      <td>-0.433884</td>\n      <td>-0.900969</td>\n      <td>0</td>\n    </tr>\n    <tr>\n      <th>10985601</th>\n      <td>5283999</td>\n      <td>107</td>\n      <td>4</td>\n      <td>1</td>\n      <td>-0.707107</td>\n      <td>0.707107</td>\n      <td>-0.433884</td>\n      <td>-0.900969</td>\n      <td>0</td>\n    </tr>\n    <tr>\n      <th>10985602</th>\n      <td>5284000</td>\n      <td>142</td>\n      <td>4</td>\n      <td>1</td>\n      <td>-0.707107</td>\n      <td>0.707107</td>\n      <td>-0.433884</td>\n      <td>-0.900969</td>\n      <td>0</td>\n    </tr>\n    <tr>\n      <th>10985603</th>\n      <td>5284001</td>\n      <td>48</td>\n      <td>4</td>\n      <td>1</td>\n      <td>-0.500000</td>\n      <td>0.866025</td>\n      <td>-0.433884</td>\n      <td>-0.900969</td>\n      <td>0</td>\n    </tr>\n    <tr>\n      <th>10985604</th>\n      <td>5284001</td>\n      <td>48</td>\n      <td>4</td>\n      <td>1</td>\n      <td>-0.500000</td>\n      <td>0.866025</td>\n      <td>-0.433884</td>\n      <td>-0.900969</td>\n      <td>0</td>\n    </tr>\n    <tr>\n      <th>...</th>\n      <td>...</td>\n      <td>...</td>\n      <td>...</td>\n      <td>...</td>\n      <td>...</td>\n      <td>...</td>\n      <td>...</td>\n      <td>...</td>\n      <td>...</td>\n    </tr>\n    <tr>\n      <th>10985724</th>\n      <td>5284091</td>\n      <td>234</td>\n      <td>7</td>\n      <td>1</td>\n      <td>0.000000</td>\n      <td>1.000000</td>\n      <td>0.000000</td>\n      <td>1.000000</td>\n      <td>0</td>\n    </tr>\n    <tr>\n      <th>10985725</th>\n      <td>5284092</td>\n      <td>162</td>\n      <td>7</td>\n      <td>1</td>\n      <td>0.258819</td>\n      <td>0.965926</td>\n      <td>0.000000</td>\n      <td>1.000000</td>\n      <td>0</td>\n    </tr>\n    <tr>\n      <th>10985726</th>\n      <td>5284093</td>\n      <td>142</td>\n      <td>7</td>\n      <td>1</td>\n      <td>0.500000</td>\n      <td>0.866025</td>\n      <td>0.000000</td>\n      <td>1.000000</td>\n      <td>0</td>\n    </tr>\n    <tr>\n      <th>10985727</th>\n      <td>5284093</td>\n      <td>142</td>\n      <td>7</td>\n      <td>1</td>\n      <td>0.500000</td>\n      <td>0.866025</td>\n      <td>0.000000</td>\n      <td>1.000000</td>\n      <td>0</td>\n    </tr>\n    <tr>\n      <th>10985728</th>\n      <td>5284094</td>\n      <td>239</td>\n      <td>7</td>\n      <td>1</td>\n      <td>0.500000</td>\n      <td>0.866025</td>\n      <td>0.000000</td>\n      <td>1.000000</td>\n      <td>0</td>\n    </tr>\n  </tbody>\n</table>\n<p>129 rows × 9 columns</p>\n</div>"
     },
     "execution_count": 10,
     "metadata": {},
     "output_type": "execute_result"
    }
   ]
  },
  {
   "cell_type": "code",
   "metadata": {
    "id": "sEMnEoqY9CAv",
    "colab": {
     "base_uri": "https://localhost:8080/",
     "height": 68
    },
    "outputId": "37048dd7-05ce-4780-fda7-70351e948503",
    "pycharm": {
     "name": "#%%\n"
    }
   },
   "source": [
    "mh.set_batch_size(128)\n",
    "mh.create_batch_dataset()\n",
    "mh.test_dataset"
   ],
   "execution_count": 11,
   "outputs": [
    {
     "data": {
      "text/plain": "<BatchDataset shapes: ({start_place: (128, 128), start_hour_sin: (128, 128), start_hour_cos: (128, 128), weekend: (128, 128), week_day_sin: (128, 128), week_day_cos: (128, 128), end_hour_sin: (128,), end_hour_cos: (128,), end_weekend: (128,), end_week_day_sin: (128,), end_week_day_cos: (128,)}, (128,)), types: ({start_place: tf.int32, start_hour_sin: tf.float64, start_hour_cos: tf.float64, weekend: tf.int32, week_day_sin: tf.float64, week_day_cos: tf.float64, end_hour_sin: tf.float64, end_hour_cos: tf.float64, end_weekend: tf.int32, end_week_day_sin: tf.float64, end_week_day_cos: tf.float64}, tf.int32)>"
     },
     "execution_count": 11,
     "metadata": {},
     "output_type": "execute_result"
    }
   ]
  },
  {
   "cell_type": "code",
   "execution_count": 12,
   "outputs": [],
   "source": [
    "mh.set_target_column_name('location_id')\n",
    "mh.set_vocab_size()\n",
    "mh.set_numerical_column_names(['start_hour_sin', 'start_hour_cos', 'weekend', 'week_day'])"
   ],
   "metadata": {
    "collapsed": false,
    "pycharm": {
     "name": "#%%\n"
    }
   }
  },
  {
   "cell_type": "code",
   "metadata": {
    "id": "bHDBtZVwYXWT",
    "pycharm": {
     "name": "#%%\n"
    }
   },
   "source": [
    "# Number of RNN units\n",
    "dense_units = 512\n",
    "\n",
    "# Create a model\n",
    "def create_model():\n",
    "  N = mh.total_window_length\n",
    "  batch_size = mh.batch_size\n",
    "  number_of_places = mh.vocab_size\n",
    "\n",
    "  # Shortcut to the layers package\n",
    "  l = tf.keras.layers\n",
    "\n",
    "\n",
    "  other_feature_inputs = {\n",
    "    'end_hour_sin': tf.keras.Input((1, ), batch_size=batch_size, name='end_hour_sin'),\n",
    "    'end_hour_cos': tf.keras.Input((1, ), batch_size=batch_size, name='end_hour_cos'),\n",
    "    'end_weekend': tf.keras.Input((1, ), batch_size=batch_size, name='end_weekend'),\n",
    "    'end_week_day_sin': tf.keras.Input((1, ), batch_size=batch_size, name='end_week_day_sin'),\n",
    "    'end_week_day_cos': tf.keras.Input((1, ), batch_size=batch_size, name='end_week_day_cos')\n",
    "  }\n",
    "\n",
    "\n",
    "  end_hour_sin = feature_column.numeric_column(\"end_hour_sin\", shape=(1))\n",
    "  end_hour_sin_feature = l.DenseFeatures(end_hour_sin)(other_feature_inputs)\n",
    "\n",
    "  end_hour_cos = feature_column.numeric_column(\"end_hour_cos\", shape=(1))\n",
    "  end_hour_cos_feature = l.DenseFeatures(end_hour_cos)(other_feature_inputs)\n",
    "\n",
    "  end_weekend = feature_column.numeric_column(\"end_weekend\", shape=(1))\n",
    "  end_weekend_feature = l.DenseFeatures(end_weekend)(other_feature_inputs)\n",
    "\n",
    "  end_week_day_sin = feature_column.numeric_column(\"end_week_day_sin\", shape=(1))\n",
    "  end_week_day_sin_feature = l.DenseFeatures(end_week_day_sin)(other_feature_inputs)\n",
    "\n",
    "  end_week_day_cos = feature_column.numeric_column(\"end_week_day_cos\", shape=(1))\n",
    "  end_week_day_cos_feature = l.DenseFeatures(end_week_day_cos)(other_feature_inputs)\n",
    "\n",
    "\n",
    "  concatenate_2 = l.Concatenate(axis=1)([end_hour_sin_feature, end_hour_cos_feature, end_weekend_feature, end_week_day_sin_feature, end_week_day_cos_feature])\n",
    "\n",
    "  dense_0 = layers.Dense(512)(concatenate_2)\n",
    "\n",
    "  # Last layer with an output for each places\n",
    "  dense_1 = layers.Dense(number_of_places)(dense_0)\n",
    "\n",
    "  # Softmax output layer\n",
    "  output = l.Softmax()(dense_1)\n",
    "\n",
    "  # To return the Model, we need to define its inputs and outputs\n",
    "  # In out case, we need to list all the input layers we have defined\n",
    "  inputs = list(other_feature_inputs.values())\n",
    "\n",
    "\t# Return the Model\n",
    "  return tf.keras.Model(inputs=inputs, outputs=output)"
   ],
   "execution_count": 13,
   "outputs": []
  },
  {
   "cell_type": "code",
   "execution_count": 14,
   "outputs": [],
   "source": [
    "# Get the model and compile it\n",
    "mh.assign_model(create_model())\n",
    "mh.compile_model()"
   ],
   "metadata": {
    "collapsed": false,
    "pycharm": {
     "name": "#%%\n"
    }
   }
  },
  {
   "cell_type": "markdown",
   "metadata": {
    "id": "JLTlfunoO0Yd",
    "pycharm": {
     "name": "#%% md\n"
    }
   },
   "source": [
    "# Training"
   ]
  },
  {
   "cell_type": "code",
   "execution_count": 15,
   "outputs": [
    {
     "name": "stdout",
     "output_type": "stream",
     "text": [
      "Epoch 1/10\n"
     ]
    },
    {
     "name": "stderr",
     "output_type": "stream",
     "text": [
      "C:\\Users\\WoodPecker\\Documents\\Privat\\HTW-Master\\Sem3\\PA\\HumanMobilityPredictionMA\\venv\\lib\\site-packages\\tensorflow\\python\\keras\\engine\\functional.py:543: UserWarning: Input dict contained keys ['start_place', 'start_hour_sin', 'start_hour_cos', 'weekend', 'week_day_sin', 'week_day_cos'] which did not match any model input. They will be ignored by the model.\n",
      "  [n for n in tensors.keys() if n not in ref_input_names])\n"
     ]
    },
    {
     "name": "stdout",
     "output_type": "stream",
     "text": [
      "532/532 [==============================] - 2s 5ms/step - loss: 4.2560 - sparse_categorical_accuracy: 0.0447 - val_loss: 4.1679 - val_sparse_categorical_accuracy: 0.0459\n",
      "Epoch 2/10\n",
      "532/532 [==============================] - 2s 4ms/step - loss: 4.1348 - sparse_categorical_accuracy: 0.0472 - val_loss: 4.1658 - val_sparse_categorical_accuracy: 0.0458\n",
      "Epoch 3/10\n",
      "532/532 [==============================] - 2s 4ms/step - loss: 4.1319 - sparse_categorical_accuracy: 0.0474 - val_loss: 4.1655 - val_sparse_categorical_accuracy: 0.0459\n",
      "Epoch 4/10\n",
      "532/532 [==============================] - 2s 4ms/step - loss: 4.1303 - sparse_categorical_accuracy: 0.0474 - val_loss: 4.1654 - val_sparse_categorical_accuracy: 0.0460\n",
      "Epoch 5/10\n",
      "532/532 [==============================] - 2s 4ms/step - loss: 4.1292 - sparse_categorical_accuracy: 0.0473 - val_loss: 4.1655 - val_sparse_categorical_accuracy: 0.0461\n",
      "Epoch 6/10\n",
      "532/532 [==============================] - 2s 4ms/step - loss: 4.1283 - sparse_categorical_accuracy: 0.0474 - val_loss: 4.1656 - val_sparse_categorical_accuracy: 0.0465\n",
      "Epoch 7/10\n",
      "532/532 [==============================] - 2s 4ms/step - loss: 4.1276 - sparse_categorical_accuracy: 0.0475 - val_loss: 4.1657 - val_sparse_categorical_accuracy: 0.0465\n",
      "Epoch 8/10\n",
      "532/532 [==============================] - 2s 4ms/step - loss: 4.1270 - sparse_categorical_accuracy: 0.0474 - val_loss: 4.1659 - val_sparse_categorical_accuracy: 0.0466\n",
      "Epoch 9/10\n",
      "532/532 [==============================] - 2s 4ms/step - loss: 4.1265 - sparse_categorical_accuracy: 0.0473 - val_loss: 4.1661 - val_sparse_categorical_accuracy: 0.0466\n",
      "Epoch 10/10\n",
      "532/532 [==============================] - 2s 4ms/step - loss: 4.1260 - sparse_categorical_accuracy: 0.0474 - val_loss: 4.1664 - val_sparse_categorical_accuracy: 0.0471\n"
     ]
    }
   ],
   "source": [
    "mh.set_num_epochs(10)\n",
    "mh.fit_model()"
   ],
   "metadata": {
    "collapsed": false,
    "pycharm": {
     "name": "#%%\n"
    }
   }
  },
  {
   "cell_type": "markdown",
   "source": [
    "# Evaluation"
   ],
   "metadata": {
    "collapsed": false,
    "pycharm": {
     "name": "#%% md\n"
    }
   }
  },
  {
   "cell_type": "code",
   "execution_count": 16,
   "outputs": [
    {
     "name": "stdout",
     "output_type": "stream",
     "text": [
      "166/166 [==============================] - 0s 3ms/step - loss: 4.1645 - sparse_categorical_accuracy: 0.0476\n"
     ]
    }
   ],
   "source": [
    "mh.evaluate_model()"
   ],
   "metadata": {
    "collapsed": false,
    "pycharm": {
     "name": "#%%\n"
    }
   }
  },
  {
   "cell_type": "code",
   "execution_count": 17,
   "outputs": [
    {
     "name": "stdout",
     "output_type": "stream",
     "text": [
      "Model: \"functional_1\"\n",
      "__________________________________________________________________________________________________\n",
      "Layer (type)                    Output Shape         Param #     Connected to                     \n",
      "==================================================================================================\n",
      "end_hour_cos (InputLayer)       [(128, 1)]           0                                            \n",
      "__________________________________________________________________________________________________\n",
      "end_hour_sin (InputLayer)       [(128, 1)]           0                                            \n",
      "__________________________________________________________________________________________________\n",
      "end_week_day_cos (InputLayer)   [(128, 1)]           0                                            \n",
      "__________________________________________________________________________________________________\n",
      "end_week_day_sin (InputLayer)   [(128, 1)]           0                                            \n",
      "__________________________________________________________________________________________________\n",
      "end_weekend (InputLayer)        [(128, 1)]           0                                            \n",
      "__________________________________________________________________________________________________\n",
      "dense_features (DenseFeatures)  (128, 1)             0           end_hour_cos[0][0]               \n",
      "                                                                 end_hour_sin[0][0]               \n",
      "                                                                 end_week_day_cos[0][0]           \n",
      "                                                                 end_week_day_sin[0][0]           \n",
      "                                                                 end_weekend[0][0]                \n",
      "__________________________________________________________________________________________________\n",
      "dense_features_1 (DenseFeatures (128, 1)             0           end_hour_cos[0][0]               \n",
      "                                                                 end_hour_sin[0][0]               \n",
      "                                                                 end_week_day_cos[0][0]           \n",
      "                                                                 end_week_day_sin[0][0]           \n",
      "                                                                 end_weekend[0][0]                \n",
      "__________________________________________________________________________________________________\n",
      "dense_features_2 (DenseFeatures (128, 1)             0           end_hour_cos[0][0]               \n",
      "                                                                 end_hour_sin[0][0]               \n",
      "                                                                 end_week_day_cos[0][0]           \n",
      "                                                                 end_week_day_sin[0][0]           \n",
      "                                                                 end_weekend[0][0]                \n",
      "__________________________________________________________________________________________________\n",
      "dense_features_3 (DenseFeatures (128, 1)             0           end_hour_cos[0][0]               \n",
      "                                                                 end_hour_sin[0][0]               \n",
      "                                                                 end_week_day_cos[0][0]           \n",
      "                                                                 end_week_day_sin[0][0]           \n",
      "                                                                 end_weekend[0][0]                \n",
      "__________________________________________________________________________________________________\n",
      "dense_features_4 (DenseFeatures (128, 1)             0           end_hour_cos[0][0]               \n",
      "                                                                 end_hour_sin[0][0]               \n",
      "                                                                 end_week_day_cos[0][0]           \n",
      "                                                                 end_week_day_sin[0][0]           \n",
      "                                                                 end_weekend[0][0]                \n",
      "__________________________________________________________________________________________________\n",
      "concatenate (Concatenate)       (128, 5)             0           dense_features[0][0]             \n",
      "                                                                 dense_features_1[0][0]           \n",
      "                                                                 dense_features_2[0][0]           \n",
      "                                                                 dense_features_3[0][0]           \n",
      "                                                                 dense_features_4[0][0]           \n",
      "__________________________________________________________________________________________________\n",
      "dense (Dense)                   (128, 512)           3072        concatenate[0][0]                \n",
      "__________________________________________________________________________________________________\n",
      "dense_1 (Dense)                 (128, 264)           135432      dense[0][0]                      \n",
      "__________________________________________________________________________________________________\n",
      "softmax (Softmax)               (128, 264)           0           dense_1[0][0]                    \n",
      "==================================================================================================\n",
      "Total params: 138,504\n",
      "Trainable params: 138,504\n",
      "Non-trainable params: 0\n",
      "__________________________________________________________________________________________________\n"
     ]
    }
   ],
   "source": [
    "mh.model.summary()"
   ],
   "metadata": {
    "collapsed": false,
    "pycharm": {
     "name": "#%%\n"
    }
   }
  },
  {
   "cell_type": "code",
   "execution_count": 18,
   "outputs": [
    {
     "name": "stdout",
     "output_type": "stream",
     "text": [
      "logits\n",
      "Shape :  (21248, 264)\n",
      "Example [0] :  [3.73983220e-03 2.88076350e-04 2.09020095e-06 4.98625704e-05\n",
      " 6.20020088e-03 1.72556338e-06 5.80900542e-06 1.04348678e-02\n",
      " 2.75753846e-05 4.79899958e-04 3.14354576e-04 8.13703155e-05\n",
      " 3.29892064e-04 1.15144160e-02 2.52301502e-03 2.58236367e-04\n",
      " 8.16771862e-05 4.09002742e-03 3.08402465e-04 1.30072613e-06\n",
      " 1.80587685e-05 6.31607836e-05 4.38195595e-04 3.89668043e-04\n",
      " 3.15937167e-03 4.58362186e-03 1.90445076e-04 1.83375460e-06\n",
      " 1.41122699e-04 6.30446710e-04 1.81630116e-06 7.19545205e-05\n",
      " 1.30022643e-04 3.05972854e-03 7.10057619e-04 5.10225909e-05\n",
      " 1.68573984e-03 8.60213116e-03 6.29741271e-06 2.55379156e-04\n",
      " 2.89552403e-03 6.03324594e-03 6.02895487e-03 3.91792040e-03\n",
      " 3.14773797e-06 4.74546617e-03 6.27149420e-05 8.04327938e-05\n",
      " 3.13153751e-02 5.59362909e-03 1.12483427e-02 8.62848392e-05\n",
      " 1.24995434e-03 1.99395421e-04 9.17893602e-04 4.94053005e-04\n",
      " 3.38320300e-04 1.79650544e-06 3.61860407e-06 1.70014641e-06\n",
      " 6.06207359e-05 4.81992541e-03 1.29526283e-03 1.86640445e-05\n",
      " 1.85727697e-06 2.78684846e-03 1.15568901e-03 1.99833361e-04\n",
      " 2.28986759e-02 1.66805880e-03 6.24438457e-04 1.82625387e-04\n",
      " 1.09960405e-04 3.67911161e-05 7.12566823e-03 8.62025004e-03\n",
      " 1.30129818e-04 4.28666943e-04 1.05808715e-04 3.81399132e-02\n",
      " 6.23090891e-03 1.42002989e-06 1.53705757e-03 7.49431259e-04\n",
      " 3.72603361e-04 1.76395552e-04 4.77908179e-06 9.76748392e-03\n",
      " 3.39643494e-03 1.48974557e-03 1.40204513e-02 3.03036340e-05\n",
      " 3.56721517e-04 8.19893103e-05 9.44221028e-05 1.55251625e-03\n",
      " 1.25241917e-04 3.36669036e-03 1.04241837e-04 1.96539804e-06\n",
      " 1.39951101e-02 3.87369335e-04 3.31581134e-04 1.78184871e-06\n",
      " 1.84497242e-06 1.72420619e-06 1.30608666e-03 2.38552820e-02\n",
      " 7.12819656e-06 1.86556360e-06 1.68436134e-06 1.93582082e-06\n",
      " 7.65806111e-03 1.07432706e-02 1.43999159e-02 3.01169130e-05\n",
      " 6.04998600e-03 1.84411044e-06 4.09162858e-05 6.82469981e-04\n",
      " 9.85972947e-05 1.60577198e-04 1.19965434e-05 3.41937848e-04\n",
      " 1.65305554e-03 8.32550228e-03 1.98643713e-04 9.29058879e-04\n",
      " 5.52551646e-05 4.61236527e-03 7.67488906e-04 7.05162092e-05\n",
      " 6.66496763e-03 9.72830458e-04 5.24891730e-05 1.44930091e-04\n",
      " 4.68839891e-04 1.29331490e-02 1.45924464e-02 6.79274599e-05\n",
      " 1.31645417e-02 2.13301983e-02 1.47563331e-02 8.14285967e-03\n",
      " 1.21399267e-02 4.66037774e-03 2.29966058e-03 7.15301803e-06\n",
      " 1.95851028e-02 1.72133528e-04 4.78053407e-05 6.16592914e-03\n",
      " 2.86497967e-03 2.15061773e-05 7.52742199e-05 4.71607869e-04\n",
      " 2.08089273e-06 6.74494542e-04 1.92890894e-02 4.37867449e-04\n",
      " 3.10763484e-04 4.04784754e-02 2.55976971e-02 1.88442692e-02\n",
      " 1.75793897e-02 9.92001500e-04 5.39273070e-03 1.39681695e-04\n",
      " 1.86967186e-03 2.84075999e-04 2.71777045e-02 1.04441060e-04\n",
      " 5.02599978e-05 7.31240318e-04 1.82709788e-04 1.98355019e-06\n",
      " 1.72704006e-06 6.01656211e-04 2.76554201e-05 6.86232513e-03\n",
      " 1.53819419e-05 7.46998284e-03 1.91877611e-04 4.79954615e-05\n",
      " 3.33720745e-05 2.05353936e-04 1.75483432e-02 1.94803988e-06\n",
      " 2.63946434e-03 2.62274058e-03 4.33836190e-04 3.89071502e-05\n",
      " 3.35055302e-05 8.48467636e-04 7.87716926e-05 1.96887733e-04\n",
      " 2.95039383e-04 1.36142145e-04 7.50165607e-04 1.89559989e-06\n",
      " 2.25086711e-04 6.72885426e-06 6.43337786e-04 1.07021297e-04\n",
      " 1.96388419e-06 1.74674642e-06 1.39202357e-05 1.22237252e-04\n",
      " 6.41667459e-04 3.49895889e-03 3.84067709e-04 7.15048285e-03\n",
      " 2.79285479e-04 9.58001125e-04 7.52245687e-05 2.17582958e-04\n",
      " 3.20383988e-04 4.48967767e-05 1.94959939e-05 6.86270432e-05\n",
      " 7.59724237e-04 1.86507089e-06 1.63995117e-06 5.93917537e-03\n",
      " 4.64279437e-03 2.54386314e-03 8.01022723e-03 4.93970118e-04\n",
      " 1.77836441e-03 1.63674355e-02 2.71433480e-02 1.99392457e-02\n",
      " 4.51740483e-03 1.06571428e-02 1.80490222e-02 1.60391995e-04\n",
      " 1.36069618e-02 1.28171220e-02 1.25759579e-02 1.34836305e-02\n",
      " 9.87243606e-04 6.44653628e-04 1.03443148e-04 2.66009546e-03\n",
      " 6.41906122e-03 1.74735953e-06 1.46370893e-02 3.52642761e-04\n",
      " 2.88300333e-04 2.01731436e-02 1.09328772e-04 1.89976765e-06\n",
      " 2.80111039e-04 1.81988150e-06 1.12170303e-04 7.00891763e-03\n",
      " 9.49012861e-03 5.60757413e-04 9.51511203e-04 1.93991262e-04\n",
      " 4.51859925e-03 2.63544428e-03 8.79013352e-03 1.70448646e-02]\n",
      "predictions\n",
      "Shape :  (21248, 264)\n",
      "Example [0] :  tf.Tensor(\n",
      "[0.00378761 0.00377456 0.00377348 0.00377366 0.00379694 0.00377348\n",
      " 0.00377349 0.00381305 0.00377358 0.00377528 0.00377466 0.00377378\n",
      " 0.00377472 0.00381717 0.00378301 0.00377445 0.00377378 0.00378894\n",
      " 0.00377464 0.00377348 0.00377354 0.00377371 0.00377513 0.00377494\n",
      " 0.00378541 0.00379081 0.00377419 0.00377348 0.00377401 0.00377585\n",
      " 0.00377348 0.00377374 0.00377396 0.00378504 0.00377615 0.00377367\n",
      " 0.00377984 0.00380607 0.0037735  0.00377444 0.00378441 0.00379631\n",
      " 0.00379629 0.00378829 0.00377348 0.00379142 0.00377371 0.00377378\n",
      " 0.00389351 0.00379464 0.00381616 0.0037738  0.00377819 0.00377423\n",
      " 0.00377694 0.00377534 0.00377475 0.00377348 0.00377349 0.00377348\n",
      " 0.0037737  0.0037917  0.00377836 0.00377354 0.00377348 0.003784\n",
      " 0.00377784 0.00377423 0.00386088 0.00377977 0.00377583 0.00377416\n",
      " 0.00377389 0.00377361 0.00380046 0.00380614 0.00377396 0.00377509\n",
      " 0.00377387 0.00392017 0.00379706 0.00377348 0.00377928 0.0037763\n",
      " 0.00377488 0.00377414 0.00377349 0.00381051 0.00378631 0.0037791\n",
      " 0.00382675 0.00377359 0.00377482 0.00377378 0.00377383 0.00377934\n",
      " 0.00377395 0.0037862  0.00377387 0.00377348 0.00382665 0.00377493\n",
      " 0.00377472 0.00377348 0.00377348 0.00377348 0.0037784  0.00386457\n",
      " 0.0037735  0.00377348 0.00377348 0.00377348 0.00380248 0.00381423\n",
      " 0.0038282  0.00377359 0.00379637 0.00377348 0.00377363 0.00377605\n",
      " 0.00377384 0.00377408 0.00377352 0.00377476 0.00377972 0.00380502\n",
      " 0.00377422 0.00377698 0.00377368 0.00379092 0.00377637 0.00377374\n",
      " 0.00379871 0.00377715 0.00377367 0.00377402 0.00377524 0.00382259\n",
      " 0.00382894 0.00377373 0.00382348 0.00385483 0.00382957 0.00380432\n",
      " 0.00381956 0.0037911  0.00378216 0.0037735  0.0038481  0.00377412\n",
      " 0.00377365 0.00379681 0.0037843  0.00377355 0.00377376 0.00377525\n",
      " 0.00377348 0.00377602 0.00384697 0.00377513 0.00377465 0.00392935\n",
      " 0.00387131 0.00384526 0.00384039 0.00377722 0.00379388 0.003774\n",
      " 0.00378053 0.00377454 0.00387743 0.00377387 0.00377366 0.00377623\n",
      " 0.00377416 0.00377348 0.00377348 0.00377574 0.00377358 0.00379946\n",
      " 0.00377353 0.00380177 0.0037742  0.00377365 0.0037736  0.00377425\n",
      " 0.00384028 0.00377348 0.00378345 0.00378338 0.00377511 0.00377362\n",
      " 0.0037736  0.00377668 0.00377377 0.00377422 0.00377459 0.00377399\n",
      " 0.0037763  0.00377348 0.00377432 0.0037735  0.0037759  0.00377388\n",
      " 0.00377348 0.00377348 0.00377352 0.00377393 0.00377589 0.0037867\n",
      " 0.00377492 0.00380055 0.00377453 0.00377709 0.00377376 0.00377429\n",
      " 0.00377468 0.00377364 0.00377355 0.00377373 0.00377634 0.00377348\n",
      " 0.00377348 0.00379595 0.00379103 0.00378308 0.00380382 0.00377534\n",
      " 0.00378019 0.00383574 0.0038773  0.00384947 0.00379056 0.0038139\n",
      " 0.0038422  0.00377408 0.00382517 0.00382215 0.00382123 0.0038247\n",
      " 0.0037772  0.00377591 0.00377386 0.00378352 0.00379777 0.00377348\n",
      " 0.00382911 0.0037748  0.00377456 0.00385037 0.00377389 0.00377348\n",
      " 0.00377453 0.00377348 0.0037739  0.00380001 0.00380945 0.00377559\n",
      " 0.00377706 0.0037742  0.00379056 0.00378343 0.00380679 0.00383834], shape=(264,), dtype=float32)\n",
      "predicted_classes\n",
      "Shape :  (21248,)\n",
      "Example [0] :  161\n",
      "actual_values\n",
      "Shape :  (21248,)\n",
      "Example [0] :  239\n",
      "diff\n",
      "Shape :  (21248,)\n",
      "Example [0] :  78\n",
      "Prediction # 0\n",
      "Actual values:  239\n",
      "Predicted values:  161\n",
      "Prediction # 1\n",
      "Actual values:  158\n",
      "Predicted values:  236\n",
      "Prediction # 2\n",
      "Actual values:  100\n",
      "Predicted values:  161\n",
      "Prediction # 3\n",
      "Actual values:  48\n",
      "Predicted values:  237\n",
      "Prediction # 4\n",
      "Actual values:  238\n",
      "Predicted values:  237\n",
      "Prediction # 5\n",
      "Actual values:  90\n",
      "Predicted values:  161\n",
      "Prediction # 6\n",
      "Actual values:  236\n",
      "Predicted values:  161\n",
      "Prediction # 7\n",
      "Actual values:  48\n",
      "Predicted values:  237\n",
      "Prediction # 8\n",
      "Actual values:  229\n",
      "Predicted values:  48\n",
      "Prediction # 9\n",
      "Actual values:  263\n",
      "Predicted values:  79\n",
      "Prediction # 10\n",
      "Actual values:  162\n",
      "Predicted values:  236\n",
      "Prediction # 11\n",
      "Actual values:  144\n",
      "Predicted values:  161\n",
      "Prediction # 12\n",
      "Actual values:  138\n",
      "Predicted values:  237\n",
      "Prediction # 13\n",
      "Actual values:  161\n",
      "Predicted values:  48\n",
      "Prediction # 14\n",
      "Actual values:  113\n",
      "Predicted values:  79\n",
      "Prediction # 15\n",
      "Actual values:  164\n",
      "Predicted values:  161\n",
      "Prediction # 16\n",
      "Actual values:  75\n",
      "Predicted values:  161\n",
      "Prediction # 17\n",
      "Actual values:  162\n",
      "Predicted values:  237\n",
      "Prediction # 18\n",
      "Actual values:  162\n",
      "Predicted values:  237\n",
      "Prediction # 19\n",
      "Actual values:  229\n",
      "Predicted values:  237\n",
      "# correct Predictions :  1012\n",
      "# wrong Predictions :  20236\n",
      "accuracy:  0.047628012048192774\n"
     ]
    }
   ],
   "source": [
    "mh.print_test_prediction_info()"
   ],
   "metadata": {
    "collapsed": false,
    "pycharm": {
     "name": "#%%\n"
    }
   }
  },
  {
   "cell_type": "markdown",
   "source": [
    "Only using the time components results in a sub 5% prediction accuracy.\n",
    "This confirms the conclusions from the past model architecture analysis."
   ],
   "metadata": {
    "collapsed": false,
    "pycharm": {
     "name": "#%% md\n"
    }
   }
  }
 ]
}