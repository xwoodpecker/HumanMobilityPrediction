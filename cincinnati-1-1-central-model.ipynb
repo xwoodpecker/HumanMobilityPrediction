{
 "cells": [
  {
   "cell_type": "markdown",
   "source": [
    "# Central Model Evaluation Part 1\n",
    "\n",
    "The central model is evaluated for the cincinnati dataset.\n",
    "Especially the prediction results and patterns learned by the deep learning algorithm are analyzed."
   ],
   "metadata": {
    "collapsed": false,
    "pycharm": {
     "name": "#%% md\n"
    }
   }
  },
  {
   "cell_type": "markdown",
   "source": [
    "## Imports"
   ],
   "metadata": {
    "collapsed": false,
    "pycharm": {
     "name": "#%% md\n"
    }
   }
  },
  {
   "cell_type": "code",
   "execution_count": 1,
   "metadata": {
    "collapsed": true,
    "pycharm": {
     "name": "#%%\n"
    }
   },
   "outputs": [],
   "source": [
    "import collections\n",
    "import functools\n",
    "import os\n",
    "import time\n",
    "\n",
    "import numpy as np\n",
    "import tensorflow as tf\n",
    "import pandas as pd\n",
    "import numpy as np\n",
    "\n",
    "from tensorflow import feature_column\n",
    "from tensorflow.keras import layers\n",
    "from tqdm import tqdm\n",
    "import import_ipynb"
   ]
  },
  {
   "cell_type": "code",
   "execution_count": 2,
   "outputs": [
    {
     "name": "stdout",
     "output_type": "stream",
     "text": [
      "importing Jupyter notebook from model_helper.ipynb\n"
     ]
    }
   ],
   "source": [
    "from model_helper import ModelHelper"
   ],
   "metadata": {
    "collapsed": false,
    "pycharm": {
     "name": "#%%\n"
    }
   }
  },
  {
   "cell_type": "markdown",
   "source": [
    "## DataSet\n",
    "\n",
    "Only a single vehicle is used here as the whole dataset contains over 14 million rows.\n",
    "As a result, executing training on the full dataset takes a very long time."
   ],
   "metadata": {
    "collapsed": false,
    "pycharm": {
     "name": "#%% md\n"
    }
   }
  },
  {
   "cell_type": "code",
   "execution_count": 3,
   "outputs": [
    {
     "data": {
      "text/plain": "   location_id  vehicle_id  is_weekend  clock_sin  clock_cos   day_sin  \\\n0            4         153       False  -0.725424  -0.688302  0.743145   \n1           10         153       False  -0.619379  -0.785092  0.743145   \n2            4         153       False   0.378379  -0.925651  0.743145   \n3            4         153       False   0.635798  -0.771856  0.743145   \n4           11         153       False  -0.492424  -0.870356  0.743145   \n5            4         153       False   0.476903  -0.878956  0.743145   \n6           18         153       False  -0.697999  -0.716099  0.743145   \n7           10         153       False   0.121725  -0.992564  0.743145   \n8           10         153       False   0.004363  -0.999990  0.743145   \n9           13         153       False   0.618923  -0.785452  0.743145   \n\n    day_cos  month_sin  month_cos  week_day_sin  week_day_cos  \n0  0.669131        0.5   0.866025           0.0           1.0  \n1  0.669131        0.5   0.866025           0.0           1.0  \n2  0.669131        0.5   0.866025           0.0           1.0  \n3  0.669131        0.5   0.866025           0.0           1.0  \n4  0.669131        0.5   0.866025           0.0           1.0  \n5  0.669131        0.5   0.866025           0.0           1.0  \n6  0.669131        0.5   0.866025           0.0           1.0  \n7  0.669131        0.5   0.866025           0.0           1.0  \n8  0.669131        0.5   0.866025           0.0           1.0  \n9  0.669131        0.5   0.866025           0.0           1.0  ",
      "text/html": "<div>\n<style scoped>\n    .dataframe tbody tr th:only-of-type {\n        vertical-align: middle;\n    }\n\n    .dataframe tbody tr th {\n        vertical-align: top;\n    }\n\n    .dataframe thead th {\n        text-align: right;\n    }\n</style>\n<table border=\"1\" class=\"dataframe\">\n  <thead>\n    <tr style=\"text-align: right;\">\n      <th></th>\n      <th>location_id</th>\n      <th>vehicle_id</th>\n      <th>is_weekend</th>\n      <th>clock_sin</th>\n      <th>clock_cos</th>\n      <th>day_sin</th>\n      <th>day_cos</th>\n      <th>month_sin</th>\n      <th>month_cos</th>\n      <th>week_day_sin</th>\n      <th>week_day_cos</th>\n    </tr>\n  </thead>\n  <tbody>\n    <tr>\n      <th>0</th>\n      <td>4</td>\n      <td>153</td>\n      <td>False</td>\n      <td>-0.725424</td>\n      <td>-0.688302</td>\n      <td>0.743145</td>\n      <td>0.669131</td>\n      <td>0.5</td>\n      <td>0.866025</td>\n      <td>0.0</td>\n      <td>1.0</td>\n    </tr>\n    <tr>\n      <th>1</th>\n      <td>10</td>\n      <td>153</td>\n      <td>False</td>\n      <td>-0.619379</td>\n      <td>-0.785092</td>\n      <td>0.743145</td>\n      <td>0.669131</td>\n      <td>0.5</td>\n      <td>0.866025</td>\n      <td>0.0</td>\n      <td>1.0</td>\n    </tr>\n    <tr>\n      <th>2</th>\n      <td>4</td>\n      <td>153</td>\n      <td>False</td>\n      <td>0.378379</td>\n      <td>-0.925651</td>\n      <td>0.743145</td>\n      <td>0.669131</td>\n      <td>0.5</td>\n      <td>0.866025</td>\n      <td>0.0</td>\n      <td>1.0</td>\n    </tr>\n    <tr>\n      <th>3</th>\n      <td>4</td>\n      <td>153</td>\n      <td>False</td>\n      <td>0.635798</td>\n      <td>-0.771856</td>\n      <td>0.743145</td>\n      <td>0.669131</td>\n      <td>0.5</td>\n      <td>0.866025</td>\n      <td>0.0</td>\n      <td>1.0</td>\n    </tr>\n    <tr>\n      <th>4</th>\n      <td>11</td>\n      <td>153</td>\n      <td>False</td>\n      <td>-0.492424</td>\n      <td>-0.870356</td>\n      <td>0.743145</td>\n      <td>0.669131</td>\n      <td>0.5</td>\n      <td>0.866025</td>\n      <td>0.0</td>\n      <td>1.0</td>\n    </tr>\n    <tr>\n      <th>5</th>\n      <td>4</td>\n      <td>153</td>\n      <td>False</td>\n      <td>0.476903</td>\n      <td>-0.878956</td>\n      <td>0.743145</td>\n      <td>0.669131</td>\n      <td>0.5</td>\n      <td>0.866025</td>\n      <td>0.0</td>\n      <td>1.0</td>\n    </tr>\n    <tr>\n      <th>6</th>\n      <td>18</td>\n      <td>153</td>\n      <td>False</td>\n      <td>-0.697999</td>\n      <td>-0.716099</td>\n      <td>0.743145</td>\n      <td>0.669131</td>\n      <td>0.5</td>\n      <td>0.866025</td>\n      <td>0.0</td>\n      <td>1.0</td>\n    </tr>\n    <tr>\n      <th>7</th>\n      <td>10</td>\n      <td>153</td>\n      <td>False</td>\n      <td>0.121725</td>\n      <td>-0.992564</td>\n      <td>0.743145</td>\n      <td>0.669131</td>\n      <td>0.5</td>\n      <td>0.866025</td>\n      <td>0.0</td>\n      <td>1.0</td>\n    </tr>\n    <tr>\n      <th>8</th>\n      <td>10</td>\n      <td>153</td>\n      <td>False</td>\n      <td>0.004363</td>\n      <td>-0.999990</td>\n      <td>0.743145</td>\n      <td>0.669131</td>\n      <td>0.5</td>\n      <td>0.866025</td>\n      <td>0.0</td>\n      <td>1.0</td>\n    </tr>\n    <tr>\n      <th>9</th>\n      <td>13</td>\n      <td>153</td>\n      <td>False</td>\n      <td>0.618923</td>\n      <td>-0.785452</td>\n      <td>0.743145</td>\n      <td>0.669131</td>\n      <td>0.5</td>\n      <td>0.866025</td>\n      <td>0.0</td>\n      <td>1.0</td>\n    </tr>\n  </tbody>\n</table>\n</div>"
     },
     "execution_count": 3,
     "metadata": {},
     "output_type": "execute_result"
    }
   ],
   "source": [
    "df = pd.read_csv(\"./cincinnati/cincinatti_zones_153.csv\")\n",
    "df.head(10)"
   ],
   "metadata": {
    "collapsed": false,
    "pycharm": {
     "name": "#%%\n"
    }
   }
  },
  {
   "cell_type": "code",
   "execution_count": 4,
   "outputs": [
    {
     "data": {
      "text/plain": "        location_id  clock_sin  clock_cos   day_sin   day_cos  month_sin  \\\n0                 4  -0.725424  -0.688302  0.743145  0.669131   0.500000   \n1                10  -0.619379  -0.785092  0.743145  0.669131   0.500000   \n2                 4   0.378379  -0.925651  0.743145  0.669131   0.500000   \n3                 4   0.635798  -0.771856  0.743145  0.669131   0.500000   \n4                11  -0.492424  -0.870356  0.743145  0.669131   0.500000   \n...             ...        ...        ...       ...       ...        ...   \n165636            0  -0.108939  -0.994048 -0.587785  0.809017  -0.500000   \n165637            0  -0.083026  -0.996547  0.743145  0.669131  -0.866025   \n165638            1   0.321302  -0.946977  0.207912  0.978148  -0.500000   \n165639            1  -0.933554   0.358436  0.743145  0.669131  -0.866025   \n165640            4   0.608761  -0.793353  0.866025 -0.500000  -0.866025   \n\n        month_cos  week_day_sin  week_day_cos  \n0        0.866025      0.000000      1.000000  \n1        0.866025      0.000000      1.000000  \n2        0.866025      0.000000      1.000000  \n3        0.866025      0.000000      1.000000  \n4        0.866025      0.000000      1.000000  \n...           ...           ...           ...  \n165636  -0.866025      0.781831      0.623490  \n165637  -0.500000      0.974928     -0.222521  \n165638  -0.866025     -0.974928     -0.222521  \n165639  -0.500000      0.974928     -0.222521  \n165640  -0.500000      0.781831      0.623490  \n\n[165641 rows x 9 columns]",
      "text/html": "<div>\n<style scoped>\n    .dataframe tbody tr th:only-of-type {\n        vertical-align: middle;\n    }\n\n    .dataframe tbody tr th {\n        vertical-align: top;\n    }\n\n    .dataframe thead th {\n        text-align: right;\n    }\n</style>\n<table border=\"1\" class=\"dataframe\">\n  <thead>\n    <tr style=\"text-align: right;\">\n      <th></th>\n      <th>location_id</th>\n      <th>clock_sin</th>\n      <th>clock_cos</th>\n      <th>day_sin</th>\n      <th>day_cos</th>\n      <th>month_sin</th>\n      <th>month_cos</th>\n      <th>week_day_sin</th>\n      <th>week_day_cos</th>\n    </tr>\n  </thead>\n  <tbody>\n    <tr>\n      <th>0</th>\n      <td>4</td>\n      <td>-0.725424</td>\n      <td>-0.688302</td>\n      <td>0.743145</td>\n      <td>0.669131</td>\n      <td>0.500000</td>\n      <td>0.866025</td>\n      <td>0.000000</td>\n      <td>1.000000</td>\n    </tr>\n    <tr>\n      <th>1</th>\n      <td>10</td>\n      <td>-0.619379</td>\n      <td>-0.785092</td>\n      <td>0.743145</td>\n      <td>0.669131</td>\n      <td>0.500000</td>\n      <td>0.866025</td>\n      <td>0.000000</td>\n      <td>1.000000</td>\n    </tr>\n    <tr>\n      <th>2</th>\n      <td>4</td>\n      <td>0.378379</td>\n      <td>-0.925651</td>\n      <td>0.743145</td>\n      <td>0.669131</td>\n      <td>0.500000</td>\n      <td>0.866025</td>\n      <td>0.000000</td>\n      <td>1.000000</td>\n    </tr>\n    <tr>\n      <th>3</th>\n      <td>4</td>\n      <td>0.635798</td>\n      <td>-0.771856</td>\n      <td>0.743145</td>\n      <td>0.669131</td>\n      <td>0.500000</td>\n      <td>0.866025</td>\n      <td>0.000000</td>\n      <td>1.000000</td>\n    </tr>\n    <tr>\n      <th>4</th>\n      <td>11</td>\n      <td>-0.492424</td>\n      <td>-0.870356</td>\n      <td>0.743145</td>\n      <td>0.669131</td>\n      <td>0.500000</td>\n      <td>0.866025</td>\n      <td>0.000000</td>\n      <td>1.000000</td>\n    </tr>\n    <tr>\n      <th>...</th>\n      <td>...</td>\n      <td>...</td>\n      <td>...</td>\n      <td>...</td>\n      <td>...</td>\n      <td>...</td>\n      <td>...</td>\n      <td>...</td>\n      <td>...</td>\n    </tr>\n    <tr>\n      <th>165636</th>\n      <td>0</td>\n      <td>-0.108939</td>\n      <td>-0.994048</td>\n      <td>-0.587785</td>\n      <td>0.809017</td>\n      <td>-0.500000</td>\n      <td>-0.866025</td>\n      <td>0.781831</td>\n      <td>0.623490</td>\n    </tr>\n    <tr>\n      <th>165637</th>\n      <td>0</td>\n      <td>-0.083026</td>\n      <td>-0.996547</td>\n      <td>0.743145</td>\n      <td>0.669131</td>\n      <td>-0.866025</td>\n      <td>-0.500000</td>\n      <td>0.974928</td>\n      <td>-0.222521</td>\n    </tr>\n    <tr>\n      <th>165638</th>\n      <td>1</td>\n      <td>0.321302</td>\n      <td>-0.946977</td>\n      <td>0.207912</td>\n      <td>0.978148</td>\n      <td>-0.500000</td>\n      <td>-0.866025</td>\n      <td>-0.974928</td>\n      <td>-0.222521</td>\n    </tr>\n    <tr>\n      <th>165639</th>\n      <td>1</td>\n      <td>-0.933554</td>\n      <td>0.358436</td>\n      <td>0.743145</td>\n      <td>0.669131</td>\n      <td>-0.866025</td>\n      <td>-0.500000</td>\n      <td>0.974928</td>\n      <td>-0.222521</td>\n    </tr>\n    <tr>\n      <th>165640</th>\n      <td>4</td>\n      <td>0.608761</td>\n      <td>-0.793353</td>\n      <td>0.866025</td>\n      <td>-0.500000</td>\n      <td>-0.866025</td>\n      <td>-0.500000</td>\n      <td>0.781831</td>\n      <td>0.623490</td>\n    </tr>\n  </tbody>\n</table>\n<p>165641 rows × 9 columns</p>\n</div>"
     },
     "execution_count": 4,
     "metadata": {},
     "output_type": "execute_result"
    }
   ],
   "source": [
    "df.drop(columns=['vehicle_id', 'is_weekend'], axis='columns', inplace=True)\n",
    "df"
   ],
   "metadata": {
    "collapsed": false,
    "pycharm": {
     "name": "#%%\n"
    }
   }
  },
  {
   "cell_type": "code",
   "execution_count": 5,
   "outputs": [
    {
     "name": "stdout",
     "output_type": "stream",
     "text": [
      "vocabulary size: 47\n"
     ]
    }
   ],
   "source": [
    "''# the number of different locations defines the vocabulary size\n",
    "locations = df.location_id\n",
    "vocab_size = locations.nunique()\n",
    "print('vocabulary size:', vocab_size)"
   ],
   "metadata": {
    "collapsed": false,
    "pycharm": {
     "name": "#%%\n"
    }
   }
  },
  {
   "cell_type": "markdown",
   "source": [
    "Re-assign the ids to only use values from 0 to 46."
   ],
   "metadata": {
    "collapsed": false,
    "pycharm": {
     "name": "#%% md\n"
    }
   }
  },
  {
   "cell_type": "code",
   "execution_count": 6,
   "outputs": [
    {
     "data": {
      "text/plain": "   location_id  clock_sin  clock_cos   day_sin   day_cos  month_sin  \\\n0            0  -0.725424  -0.688302  0.743145  0.669131        0.5   \n1            1  -0.619379  -0.785092  0.743145  0.669131        0.5   \n2            0   0.378379  -0.925651  0.743145  0.669131        0.5   \n3            0   0.635798  -0.771856  0.743145  0.669131        0.5   \n4            2  -0.492424  -0.870356  0.743145  0.669131        0.5   \n5            0   0.476903  -0.878956  0.743145  0.669131        0.5   \n6            3  -0.697999  -0.716099  0.743145  0.669131        0.5   \n7            1   0.121725  -0.992564  0.743145  0.669131        0.5   \n8            1   0.004363  -0.999990  0.743145  0.669131        0.5   \n9            4   0.618923  -0.785452  0.743145  0.669131        0.5   \n\n   month_cos  week_day_sin  week_day_cos  \n0   0.866025           0.0           1.0  \n1   0.866025           0.0           1.0  \n2   0.866025           0.0           1.0  \n3   0.866025           0.0           1.0  \n4   0.866025           0.0           1.0  \n5   0.866025           0.0           1.0  \n6   0.866025           0.0           1.0  \n7   0.866025           0.0           1.0  \n8   0.866025           0.0           1.0  \n9   0.866025           0.0           1.0  ",
      "text/html": "<div>\n<style scoped>\n    .dataframe tbody tr th:only-of-type {\n        vertical-align: middle;\n    }\n\n    .dataframe tbody tr th {\n        vertical-align: top;\n    }\n\n    .dataframe thead th {\n        text-align: right;\n    }\n</style>\n<table border=\"1\" class=\"dataframe\">\n  <thead>\n    <tr style=\"text-align: right;\">\n      <th></th>\n      <th>location_id</th>\n      <th>clock_sin</th>\n      <th>clock_cos</th>\n      <th>day_sin</th>\n      <th>day_cos</th>\n      <th>month_sin</th>\n      <th>month_cos</th>\n      <th>week_day_sin</th>\n      <th>week_day_cos</th>\n    </tr>\n  </thead>\n  <tbody>\n    <tr>\n      <th>0</th>\n      <td>0</td>\n      <td>-0.725424</td>\n      <td>-0.688302</td>\n      <td>0.743145</td>\n      <td>0.669131</td>\n      <td>0.5</td>\n      <td>0.866025</td>\n      <td>0.0</td>\n      <td>1.0</td>\n    </tr>\n    <tr>\n      <th>1</th>\n      <td>1</td>\n      <td>-0.619379</td>\n      <td>-0.785092</td>\n      <td>0.743145</td>\n      <td>0.669131</td>\n      <td>0.5</td>\n      <td>0.866025</td>\n      <td>0.0</td>\n      <td>1.0</td>\n    </tr>\n    <tr>\n      <th>2</th>\n      <td>0</td>\n      <td>0.378379</td>\n      <td>-0.925651</td>\n      <td>0.743145</td>\n      <td>0.669131</td>\n      <td>0.5</td>\n      <td>0.866025</td>\n      <td>0.0</td>\n      <td>1.0</td>\n    </tr>\n    <tr>\n      <th>3</th>\n      <td>0</td>\n      <td>0.635798</td>\n      <td>-0.771856</td>\n      <td>0.743145</td>\n      <td>0.669131</td>\n      <td>0.5</td>\n      <td>0.866025</td>\n      <td>0.0</td>\n      <td>1.0</td>\n    </tr>\n    <tr>\n      <th>4</th>\n      <td>2</td>\n      <td>-0.492424</td>\n      <td>-0.870356</td>\n      <td>0.743145</td>\n      <td>0.669131</td>\n      <td>0.5</td>\n      <td>0.866025</td>\n      <td>0.0</td>\n      <td>1.0</td>\n    </tr>\n    <tr>\n      <th>5</th>\n      <td>0</td>\n      <td>0.476903</td>\n      <td>-0.878956</td>\n      <td>0.743145</td>\n      <td>0.669131</td>\n      <td>0.5</td>\n      <td>0.866025</td>\n      <td>0.0</td>\n      <td>1.0</td>\n    </tr>\n    <tr>\n      <th>6</th>\n      <td>3</td>\n      <td>-0.697999</td>\n      <td>-0.716099</td>\n      <td>0.743145</td>\n      <td>0.669131</td>\n      <td>0.5</td>\n      <td>0.866025</td>\n      <td>0.0</td>\n      <td>1.0</td>\n    </tr>\n    <tr>\n      <th>7</th>\n      <td>1</td>\n      <td>0.121725</td>\n      <td>-0.992564</td>\n      <td>0.743145</td>\n      <td>0.669131</td>\n      <td>0.5</td>\n      <td>0.866025</td>\n      <td>0.0</td>\n      <td>1.0</td>\n    </tr>\n    <tr>\n      <th>8</th>\n      <td>1</td>\n      <td>0.004363</td>\n      <td>-0.999990</td>\n      <td>0.743145</td>\n      <td>0.669131</td>\n      <td>0.5</td>\n      <td>0.866025</td>\n      <td>0.0</td>\n      <td>1.0</td>\n    </tr>\n    <tr>\n      <th>9</th>\n      <td>4</td>\n      <td>0.618923</td>\n      <td>-0.785452</td>\n      <td>0.743145</td>\n      <td>0.669131</td>\n      <td>0.5</td>\n      <td>0.866025</td>\n      <td>0.0</td>\n      <td>1.0</td>\n    </tr>\n  </tbody>\n</table>\n</div>"
     },
     "execution_count": 6,
     "metadata": {},
     "output_type": "execute_result"
    }
   ],
   "source": [
    "df['location_id'] = df.groupby('location_id', sort=False).ngroup()\n",
    "df.head(10)"
   ],
   "metadata": {
    "collapsed": false,
    "pycharm": {
     "name": "#%%\n"
    }
   }
  },
  {
   "cell_type": "markdown",
   "source": [
    "Init the ModelHelper and set all needed parameters such as the different column_names and the vocab_size."
   ],
   "metadata": {
    "collapsed": false,
    "pycharm": {
     "name": "#%% md\n"
    }
   }
  },
  {
   "cell_type": "code",
   "execution_count": 7,
   "outputs": [],
   "source": [
    "mh = ModelHelper(df, 17)"
   ],
   "metadata": {
    "collapsed": false,
    "pycharm": {
     "name": "#%%\n"
    }
   }
  },
  {
   "cell_type": "code",
   "execution_count": 8,
   "outputs": [],
   "source": [
    "mh.set_target_column_name('location_id')\n",
    "mh.set_vocab_size(vocab_size)\n",
    "numerical_column_names = ['clock_sin', 'clock_cos', 'day_sin', 'day_cos', 'month_sin', 'month_cos', 'week_day_sin', 'week_day_cos']\n",
    "column_names = ['location_id'] + numerical_column_names\n",
    "mh.set_column_names(column_names)\n",
    "mh.set_numerical_column_names(numerical_column_names)"
   ],
   "metadata": {
    "collapsed": false,
    "pycharm": {
     "name": "#%%\n"
    }
   }
  },
  {
   "cell_type": "markdown",
   "source": [
    "Split the data inti train, val, test."
   ],
   "metadata": {
    "collapsed": false,
    "pycharm": {
     "name": "#%% md\n"
    }
   }
  },
  {
   "cell_type": "code",
   "execution_count": 9,
   "outputs": [
    {
     "name": "stdout",
     "output_type": "stream",
     "text": [
      "106009 train examples\n",
      "26503 validation examples\n",
      "33129 test examples\n"
     ]
    }
   ],
   "source": [
    "# Call the function\n",
    "mh.train_val_test_split()\n",
    "print(len(mh.df_train), 'train examples')\n",
    "print(len(mh.df_val), 'validation examples')\n",
    "print(len(mh.df_test), 'test examples')"
   ],
   "metadata": {
    "collapsed": false,
    "pycharm": {
     "name": "#%%\n"
    }
   }
  },
  {
   "cell_type": "code",
   "execution_count": 10,
   "outputs": [
    {
     "name": "stdout",
     "output_type": "stream",
     "text": [
      "1949\n"
     ]
    },
    {
     "data": {
      "text/plain": "        location_id  clock_sin  clock_cos   day_sin   day_cos  month_sin  \\\n132512           34  -0.915429  -0.402480  0.951057 -0.309017       -0.5   \n132513            8  -0.999767  -0.021597  0.951057 -0.309017       -0.5   \n132514           15   0.186524  -0.982450  0.951057 -0.309017       -0.5   \n132515            4  -0.694815  -0.719188  0.951057 -0.309017       -0.5   \n132516            4  -0.865989   0.500063  0.994522 -0.104528       -0.5   \n132517           12   0.216298  -0.976327  0.951057 -0.309017       -0.5   \n132518           10  -0.026468  -0.999650  0.951057 -0.309017       -0.5   \n132519           18  -0.978986   0.203927  0.951057 -0.309017       -0.5   \n132520            8  -0.918734   0.394877  0.994522 -0.104528       -0.5   \n132521            8  -0.995792   0.091646  0.951057 -0.309017       -0.5   \n132522           15   0.346117  -0.938191  0.951057 -0.309017       -0.5   \n132523            4  -0.973396  -0.229130  0.951057 -0.309017       -0.5   \n132524            8  -0.207912  -0.978148  0.951057 -0.309017       -0.5   \n132525            3  -0.457874  -0.889017  0.951057 -0.309017       -0.5   \n132526           12   0.267028  -0.963689  0.951057 -0.309017       -0.5   \n132527            4  -0.957655  -0.287918  0.951057 -0.309017       -0.5   \n132528           11   0.043547  -0.999051  0.951057 -0.309017       -0.5   \n\n        month_cos  week_day_sin  week_day_cos  \n132512  -0.866025     -0.433884     -0.900969  \n132513  -0.866025     -0.433884     -0.900969  \n132514  -0.866025     -0.433884     -0.900969  \n132515  -0.866025     -0.433884     -0.900969  \n132516  -0.866025      0.433884     -0.900969  \n132517  -0.866025     -0.433884     -0.900969  \n132518  -0.866025     -0.433884     -0.900969  \n132519  -0.866025     -0.433884     -0.900969  \n132520  -0.866025      0.433884     -0.900969  \n132521  -0.866025     -0.433884     -0.900969  \n132522  -0.866025     -0.433884     -0.900969  \n132523  -0.866025     -0.433884     -0.900969  \n132524  -0.866025     -0.433884     -0.900969  \n132525  -0.866025     -0.433884     -0.900969  \n132526  -0.866025     -0.433884     -0.900969  \n132527  -0.866025     -0.433884     -0.900969  \n132528  -0.866025     -0.433884     -0.900969  ",
      "text/html": "<div>\n<style scoped>\n    .dataframe tbody tr th:only-of-type {\n        vertical-align: middle;\n    }\n\n    .dataframe tbody tr th {\n        vertical-align: top;\n    }\n\n    .dataframe thead th {\n        text-align: right;\n    }\n</style>\n<table border=\"1\" class=\"dataframe\">\n  <thead>\n    <tr style=\"text-align: right;\">\n      <th></th>\n      <th>location_id</th>\n      <th>clock_sin</th>\n      <th>clock_cos</th>\n      <th>day_sin</th>\n      <th>day_cos</th>\n      <th>month_sin</th>\n      <th>month_cos</th>\n      <th>week_day_sin</th>\n      <th>week_day_cos</th>\n    </tr>\n  </thead>\n  <tbody>\n    <tr>\n      <th>132512</th>\n      <td>34</td>\n      <td>-0.915429</td>\n      <td>-0.402480</td>\n      <td>0.951057</td>\n      <td>-0.309017</td>\n      <td>-0.5</td>\n      <td>-0.866025</td>\n      <td>-0.433884</td>\n      <td>-0.900969</td>\n    </tr>\n    <tr>\n      <th>132513</th>\n      <td>8</td>\n      <td>-0.999767</td>\n      <td>-0.021597</td>\n      <td>0.951057</td>\n      <td>-0.309017</td>\n      <td>-0.5</td>\n      <td>-0.866025</td>\n      <td>-0.433884</td>\n      <td>-0.900969</td>\n    </tr>\n    <tr>\n      <th>132514</th>\n      <td>15</td>\n      <td>0.186524</td>\n      <td>-0.982450</td>\n      <td>0.951057</td>\n      <td>-0.309017</td>\n      <td>-0.5</td>\n      <td>-0.866025</td>\n      <td>-0.433884</td>\n      <td>-0.900969</td>\n    </tr>\n    <tr>\n      <th>132515</th>\n      <td>4</td>\n      <td>-0.694815</td>\n      <td>-0.719188</td>\n      <td>0.951057</td>\n      <td>-0.309017</td>\n      <td>-0.5</td>\n      <td>-0.866025</td>\n      <td>-0.433884</td>\n      <td>-0.900969</td>\n    </tr>\n    <tr>\n      <th>132516</th>\n      <td>4</td>\n      <td>-0.865989</td>\n      <td>0.500063</td>\n      <td>0.994522</td>\n      <td>-0.104528</td>\n      <td>-0.5</td>\n      <td>-0.866025</td>\n      <td>0.433884</td>\n      <td>-0.900969</td>\n    </tr>\n    <tr>\n      <th>132517</th>\n      <td>12</td>\n      <td>0.216298</td>\n      <td>-0.976327</td>\n      <td>0.951057</td>\n      <td>-0.309017</td>\n      <td>-0.5</td>\n      <td>-0.866025</td>\n      <td>-0.433884</td>\n      <td>-0.900969</td>\n    </tr>\n    <tr>\n      <th>132518</th>\n      <td>10</td>\n      <td>-0.026468</td>\n      <td>-0.999650</td>\n      <td>0.951057</td>\n      <td>-0.309017</td>\n      <td>-0.5</td>\n      <td>-0.866025</td>\n      <td>-0.433884</td>\n      <td>-0.900969</td>\n    </tr>\n    <tr>\n      <th>132519</th>\n      <td>18</td>\n      <td>-0.978986</td>\n      <td>0.203927</td>\n      <td>0.951057</td>\n      <td>-0.309017</td>\n      <td>-0.5</td>\n      <td>-0.866025</td>\n      <td>-0.433884</td>\n      <td>-0.900969</td>\n    </tr>\n    <tr>\n      <th>132520</th>\n      <td>8</td>\n      <td>-0.918734</td>\n      <td>0.394877</td>\n      <td>0.994522</td>\n      <td>-0.104528</td>\n      <td>-0.5</td>\n      <td>-0.866025</td>\n      <td>0.433884</td>\n      <td>-0.900969</td>\n    </tr>\n    <tr>\n      <th>132521</th>\n      <td>8</td>\n      <td>-0.995792</td>\n      <td>0.091646</td>\n      <td>0.951057</td>\n      <td>-0.309017</td>\n      <td>-0.5</td>\n      <td>-0.866025</td>\n      <td>-0.433884</td>\n      <td>-0.900969</td>\n    </tr>\n    <tr>\n      <th>132522</th>\n      <td>15</td>\n      <td>0.346117</td>\n      <td>-0.938191</td>\n      <td>0.951057</td>\n      <td>-0.309017</td>\n      <td>-0.5</td>\n      <td>-0.866025</td>\n      <td>-0.433884</td>\n      <td>-0.900969</td>\n    </tr>\n    <tr>\n      <th>132523</th>\n      <td>4</td>\n      <td>-0.973396</td>\n      <td>-0.229130</td>\n      <td>0.951057</td>\n      <td>-0.309017</td>\n      <td>-0.5</td>\n      <td>-0.866025</td>\n      <td>-0.433884</td>\n      <td>-0.900969</td>\n    </tr>\n    <tr>\n      <th>132524</th>\n      <td>8</td>\n      <td>-0.207912</td>\n      <td>-0.978148</td>\n      <td>0.951057</td>\n      <td>-0.309017</td>\n      <td>-0.5</td>\n      <td>-0.866025</td>\n      <td>-0.433884</td>\n      <td>-0.900969</td>\n    </tr>\n    <tr>\n      <th>132525</th>\n      <td>3</td>\n      <td>-0.457874</td>\n      <td>-0.889017</td>\n      <td>0.951057</td>\n      <td>-0.309017</td>\n      <td>-0.5</td>\n      <td>-0.866025</td>\n      <td>-0.433884</td>\n      <td>-0.900969</td>\n    </tr>\n    <tr>\n      <th>132526</th>\n      <td>12</td>\n      <td>0.267028</td>\n      <td>-0.963689</td>\n      <td>0.951057</td>\n      <td>-0.309017</td>\n      <td>-0.5</td>\n      <td>-0.866025</td>\n      <td>-0.433884</td>\n      <td>-0.900969</td>\n    </tr>\n    <tr>\n      <th>132527</th>\n      <td>4</td>\n      <td>-0.957655</td>\n      <td>-0.287918</td>\n      <td>0.951057</td>\n      <td>-0.309017</td>\n      <td>-0.5</td>\n      <td>-0.866025</td>\n      <td>-0.433884</td>\n      <td>-0.900969</td>\n    </tr>\n    <tr>\n      <th>132528</th>\n      <td>11</td>\n      <td>0.043547</td>\n      <td>-0.999051</td>\n      <td>0.951057</td>\n      <td>-0.309017</td>\n      <td>-0.5</td>\n      <td>-0.866025</td>\n      <td>-0.433884</td>\n      <td>-0.900969</td>\n    </tr>\n  </tbody>\n</table>\n</div>"
     },
     "execution_count": 10,
     "metadata": {},
     "output_type": "execute_result"
    }
   ],
   "source": [
    "mh.split_data()\n",
    "print(len(mh.list_test))\n",
    "mh.list_test[0]"
   ],
   "metadata": {
    "collapsed": false,
    "pycharm": {
     "name": "#%%\n"
    }
   }
  },
  {
   "cell_type": "markdown",
   "source": [
    "Create the final datasets for training."
   ],
   "metadata": {
    "collapsed": false,
    "pycharm": {
     "name": "#%% md\n"
    }
   }
  },
  {
   "cell_type": "code",
   "execution_count": 11,
   "outputs": [],
   "source": [
    "mh.set_batch_size(16)\n",
    "mh.create_and_batch_datasets(multi_target=False)"
   ],
   "metadata": {
    "collapsed": false,
    "pycharm": {
     "name": "#%%\n"
    }
   }
  },
  {
   "cell_type": "code",
   "execution_count": 12,
   "outputs": [
    {
     "data": {
      "text/plain": "<BatchDataset shapes: (OrderedDict([(location_id, (16, 16)), (clock_sin, (16, 16)), (clock_cos, (16, 16)), (day_sin, (16, 16)), (day_cos, (16, 16)), (month_sin, (16, 16)), (month_cos, (16, 16)), (week_day_sin, (16, 16)), (week_day_cos, (16, 16))]), (16,)), types: (OrderedDict([(location_id, tf.int32), (clock_sin, tf.float64), (clock_cos, tf.float64), (day_sin, tf.float64), (day_cos, tf.float64), (month_sin, tf.float64), (month_cos, tf.float64), (week_day_sin, tf.float64), (week_day_cos, tf.float64)]), tf.int64)>"
     },
     "execution_count": 12,
     "metadata": {},
     "output_type": "execute_result"
    }
   ],
   "source": [
    "mh.test_dataset"
   ],
   "metadata": {
    "collapsed": false,
    "pycharm": {
     "name": "#%%\n"
    }
   }
  },
  {
   "cell_type": "code",
   "execution_count": 13,
   "outputs": [],
   "source": [
    "# The embedding dimension\n",
    "embedding_dim = 256\n",
    "\n",
    "# Number of RNN units\n",
    "rnn_units1 = 256\n",
    "rnn_units2 = 128\n",
    "\n",
    "# Create a model\n",
    "def create_keras_model():\n",
    "  N = mh.total_window_length\n",
    "  batch_size = mh.batch_size\n",
    "  number_of_places = mh.vocab_size\n",
    "\n",
    "  # Shortcut to the layers package\n",
    "  l = tf.keras.layers\n",
    "\n",
    "  # List of numeric feature columns to pass to the DenseLayer\n",
    "  numeric_feature_columns = []\n",
    "\n",
    "  # Handling numerical columns\n",
    "  for header in numerical_column_names:\n",
    "\t# Append all the numerical columns defined into the list\n",
    "    numeric_feature_columns.append(feature_column.numeric_column(header, shape=N-1))\n",
    "\n",
    "  feature_inputs={}\n",
    "  for c_name in numerical_column_names:\n",
    "    feature_inputs[c_name] = tf.keras.Input((N-1,), batch_size=batch_size, name=c_name)\n",
    "\n",
    "  # We cannot use an array of features as always because we have sequences\n",
    "  # We have to do one by one in order to match the shape\n",
    "  num_features = []\n",
    "  for c_name in numerical_column_names:\n",
    "    f =  feature_column.numeric_column(c_name, shape=(N-1))\n",
    "    feature = l.DenseFeatures(f)(feature_inputs)\n",
    "    feature = tf.expand_dims(feature, -1)\n",
    "    num_features.append(feature)\n",
    "\n",
    "  # Declare the dictionary for the categories sequence as before\n",
    "  sequence_input = {\n",
    "      'location_id': tf.keras.Input((N-1,), batch_size=batch_size, dtype=tf.dtypes.int32, name='location_id') # add batch_size=batch_size in case of stateful GRU\n",
    "  }\n",
    "\n",
    "  # Handling the categorical feature sequence using one-hot\n",
    "  location_one_hot = feature_column.sequence_categorical_column_with_vocabulary_list(\n",
    "      'location_id', [i for i in range(number_of_places)])\n",
    "\n",
    "  # one-hot encoding\n",
    "  location_feature = feature_column.embedding_column(location_one_hot, embedding_dim)\n",
    "\n",
    "  # With an input sequence we can't use the DenseFeature layer, we need to use the SequenceFeatures\n",
    "  sequence_features, sequence_length = tf.keras.experimental.SequenceFeatures(location_feature)(sequence_input)\n",
    "\n",
    "\n",
    "  input_sequence = l.Concatenate(axis=2)([sequence_features] + num_features)\n",
    "\n",
    "  # Rnn\n",
    "  recurrent = l.GRU(rnn_units1,\n",
    "                    batch_size=batch_size, #in case of stateful\n",
    "                    return_sequences=True,\n",
    "                    stateful=True,\n",
    "                    recurrent_initializer='glorot_uniform')(input_sequence)\n",
    "\n",
    "  recurrent_2 = l.GRU(rnn_units2,\n",
    "                      batch_size=batch_size, #in case of stateful\n",
    "                      stateful=True,\n",
    "                      recurrent_initializer='glorot_uniform')(recurrent)\n",
    "\n",
    "\n",
    "  # Softmax output layer\n",
    "  # Last layer with an output for each places\n",
    "  output = layers.Dense(number_of_places, activation='softmax')(recurrent_2)\n",
    "\n",
    "\n",
    "  # To return the Model, we need to define its inputs and outputs\n",
    "  # In out case, we need to list all the input layers we have defined\n",
    "  inputs = list(feature_inputs.values()) + list(sequence_input.values())\n",
    "\n",
    "  # Return the Model\n",
    "  return tf.keras.Model(inputs=inputs, outputs=output)"
   ],
   "metadata": {
    "collapsed": false,
    "pycharm": {
     "name": "#%%\n"
    }
   }
  },
  {
   "cell_type": "code",
   "execution_count": 14,
   "outputs": [],
   "source": [
    "# Get the model and compile it\n",
    "mh.assign_model(create_keras_model())\n",
    "mh.compile_model()"
   ],
   "metadata": {
    "collapsed": false,
    "pycharm": {
     "name": "#%%\n"
    }
   }
  },
  {
   "cell_type": "code",
   "execution_count": 15,
   "outputs": [
    {
     "name": "stdout",
     "output_type": "stream",
     "text": [
      "Model: \"functional_1\"\n",
      "__________________________________________________________________________________________________\n",
      "Layer (type)                    Output Shape         Param #     Connected to                     \n",
      "==================================================================================================\n",
      "clock_cos (InputLayer)          [(16, 16)]           0                                            \n",
      "__________________________________________________________________________________________________\n",
      "clock_sin (InputLayer)          [(16, 16)]           0                                            \n",
      "__________________________________________________________________________________________________\n",
      "day_cos (InputLayer)            [(16, 16)]           0                                            \n",
      "__________________________________________________________________________________________________\n",
      "day_sin (InputLayer)            [(16, 16)]           0                                            \n",
      "__________________________________________________________________________________________________\n",
      "month_cos (InputLayer)          [(16, 16)]           0                                            \n",
      "__________________________________________________________________________________________________\n",
      "month_sin (InputLayer)          [(16, 16)]           0                                            \n",
      "__________________________________________________________________________________________________\n",
      "week_day_cos (InputLayer)       [(16, 16)]           0                                            \n",
      "__________________________________________________________________________________________________\n",
      "week_day_sin (InputLayer)       [(16, 16)]           0                                            \n",
      "__________________________________________________________________________________________________\n",
      "location_id (InputLayer)        [(16, 16)]           0                                            \n",
      "__________________________________________________________________________________________________\n",
      "dense_features (DenseFeatures)  (16, 16)             0           clock_cos[0][0]                  \n",
      "                                                                 clock_sin[0][0]                  \n",
      "                                                                 day_cos[0][0]                    \n",
      "                                                                 day_sin[0][0]                    \n",
      "                                                                 month_cos[0][0]                  \n",
      "                                                                 month_sin[0][0]                  \n",
      "                                                                 week_day_cos[0][0]               \n",
      "                                                                 week_day_sin[0][0]               \n",
      "__________________________________________________________________________________________________\n",
      "dense_features_1 (DenseFeatures (16, 16)             0           clock_cos[0][0]                  \n",
      "                                                                 clock_sin[0][0]                  \n",
      "                                                                 day_cos[0][0]                    \n",
      "                                                                 day_sin[0][0]                    \n",
      "                                                                 month_cos[0][0]                  \n",
      "                                                                 month_sin[0][0]                  \n",
      "                                                                 week_day_cos[0][0]               \n",
      "                                                                 week_day_sin[0][0]               \n",
      "__________________________________________________________________________________________________\n",
      "dense_features_2 (DenseFeatures (16, 16)             0           clock_cos[0][0]                  \n",
      "                                                                 clock_sin[0][0]                  \n",
      "                                                                 day_cos[0][0]                    \n",
      "                                                                 day_sin[0][0]                    \n",
      "                                                                 month_cos[0][0]                  \n",
      "                                                                 month_sin[0][0]                  \n",
      "                                                                 week_day_cos[0][0]               \n",
      "                                                                 week_day_sin[0][0]               \n",
      "__________________________________________________________________________________________________\n",
      "dense_features_3 (DenseFeatures (16, 16)             0           clock_cos[0][0]                  \n",
      "                                                                 clock_sin[0][0]                  \n",
      "                                                                 day_cos[0][0]                    \n",
      "                                                                 day_sin[0][0]                    \n",
      "                                                                 month_cos[0][0]                  \n",
      "                                                                 month_sin[0][0]                  \n",
      "                                                                 week_day_cos[0][0]               \n",
      "                                                                 week_day_sin[0][0]               \n",
      "__________________________________________________________________________________________________\n",
      "dense_features_4 (DenseFeatures (16, 16)             0           clock_cos[0][0]                  \n",
      "                                                                 clock_sin[0][0]                  \n",
      "                                                                 day_cos[0][0]                    \n",
      "                                                                 day_sin[0][0]                    \n",
      "                                                                 month_cos[0][0]                  \n",
      "                                                                 month_sin[0][0]                  \n",
      "                                                                 week_day_cos[0][0]               \n",
      "                                                                 week_day_sin[0][0]               \n",
      "__________________________________________________________________________________________________\n",
      "dense_features_5 (DenseFeatures (16, 16)             0           clock_cos[0][0]                  \n",
      "                                                                 clock_sin[0][0]                  \n",
      "                                                                 day_cos[0][0]                    \n",
      "                                                                 day_sin[0][0]                    \n",
      "                                                                 month_cos[0][0]                  \n",
      "                                                                 month_sin[0][0]                  \n",
      "                                                                 week_day_cos[0][0]               \n",
      "                                                                 week_day_sin[0][0]               \n",
      "__________________________________________________________________________________________________\n",
      "dense_features_6 (DenseFeatures (16, 16)             0           clock_cos[0][0]                  \n",
      "                                                                 clock_sin[0][0]                  \n",
      "                                                                 day_cos[0][0]                    \n",
      "                                                                 day_sin[0][0]                    \n",
      "                                                                 month_cos[0][0]                  \n",
      "                                                                 month_sin[0][0]                  \n",
      "                                                                 week_day_cos[0][0]               \n",
      "                                                                 week_day_sin[0][0]               \n",
      "__________________________________________________________________________________________________\n",
      "dense_features_7 (DenseFeatures (16, 16)             0           clock_cos[0][0]                  \n",
      "                                                                 clock_sin[0][0]                  \n",
      "                                                                 day_cos[0][0]                    \n",
      "                                                                 day_sin[0][0]                    \n",
      "                                                                 month_cos[0][0]                  \n",
      "                                                                 month_sin[0][0]                  \n",
      "                                                                 week_day_cos[0][0]               \n",
      "                                                                 week_day_sin[0][0]               \n",
      "__________________________________________________________________________________________________\n",
      "sequence_features (SequenceFeat ((None, None, 256),  12032       location_id[0][0]                \n",
      "__________________________________________________________________________________________________\n",
      "tf_op_layer_ExpandDims (TensorF [(16, 16, 1)]        0           dense_features[0][0]             \n",
      "__________________________________________________________________________________________________\n",
      "tf_op_layer_ExpandDims_1 (Tenso [(16, 16, 1)]        0           dense_features_1[0][0]           \n",
      "__________________________________________________________________________________________________\n",
      "tf_op_layer_ExpandDims_2 (Tenso [(16, 16, 1)]        0           dense_features_2[0][0]           \n",
      "__________________________________________________________________________________________________\n",
      "tf_op_layer_ExpandDims_3 (Tenso [(16, 16, 1)]        0           dense_features_3[0][0]           \n",
      "__________________________________________________________________________________________________\n",
      "tf_op_layer_ExpandDims_4 (Tenso [(16, 16, 1)]        0           dense_features_4[0][0]           \n",
      "__________________________________________________________________________________________________\n",
      "tf_op_layer_ExpandDims_5 (Tenso [(16, 16, 1)]        0           dense_features_5[0][0]           \n",
      "__________________________________________________________________________________________________\n",
      "tf_op_layer_ExpandDims_6 (Tenso [(16, 16, 1)]        0           dense_features_6[0][0]           \n",
      "__________________________________________________________________________________________________\n",
      "tf_op_layer_ExpandDims_7 (Tenso [(16, 16, 1)]        0           dense_features_7[0][0]           \n",
      "__________________________________________________________________________________________________\n",
      "concatenate (Concatenate)       (16, 16, 264)        0           sequence_features[0][0]          \n",
      "                                                                 tf_op_layer_ExpandDims[0][0]     \n",
      "                                                                 tf_op_layer_ExpandDims_1[0][0]   \n",
      "                                                                 tf_op_layer_ExpandDims_2[0][0]   \n",
      "                                                                 tf_op_layer_ExpandDims_3[0][0]   \n",
      "                                                                 tf_op_layer_ExpandDims_4[0][0]   \n",
      "                                                                 tf_op_layer_ExpandDims_5[0][0]   \n",
      "                                                                 tf_op_layer_ExpandDims_6[0][0]   \n",
      "                                                                 tf_op_layer_ExpandDims_7[0][0]   \n",
      "__________________________________________________________________________________________________\n",
      "gru (GRU)                       (16, 16, 256)        400896      concatenate[0][0]                \n",
      "__________________________________________________________________________________________________\n",
      "gru_1 (GRU)                     (16, 128)            148224      gru[0][0]                        \n",
      "__________________________________________________________________________________________________\n",
      "dense (Dense)                   (16, 47)             6063        gru_1[0][0]                      \n",
      "==================================================================================================\n",
      "Total params: 567,215\n",
      "Trainable params: 567,215\n",
      "Non-trainable params: 0\n",
      "__________________________________________________________________________________________________\n"
     ]
    }
   ],
   "source": [
    "mh.model.summary()"
   ],
   "metadata": {
    "collapsed": false,
    "pycharm": {
     "name": "#%%\n"
    }
   }
  },
  {
   "cell_type": "markdown",
   "source": [],
   "metadata": {
    "collapsed": false,
    "pycharm": {
     "name": "#%% md\n"
    }
   }
  },
  {
   "cell_type": "code",
   "execution_count": 16,
   "outputs": [
    {
     "name": "stdout",
     "output_type": "stream",
     "text": [
      "Epoch 1/10\n",
      "389/389 [==============================] - 5s 12ms/step - loss: 2.2953 - sparse_categorical_accuracy: 0.2696 - val_loss: 2.6041 - val_sparse_categorical_accuracy: 0.1946\n",
      "Epoch 2/10\n",
      "389/389 [==============================] - 4s 10ms/step - loss: 2.0474 - sparse_categorical_accuracy: 0.2897 - val_loss: 2.3457 - val_sparse_categorical_accuracy: 0.2262\n",
      "Epoch 3/10\n",
      "389/389 [==============================] - 4s 10ms/step - loss: 1.9484 - sparse_categorical_accuracy: 0.3049 - val_loss: 2.3254 - val_sparse_categorical_accuracy: 0.2726\n",
      "Epoch 4/10\n",
      "389/389 [==============================] - 4s 10ms/step - loss: 1.9000 - sparse_categorical_accuracy: 0.3115 - val_loss: 2.2564 - val_sparse_categorical_accuracy: 0.2809\n",
      "Epoch 5/10\n",
      "389/389 [==============================] - 4s 11ms/step - loss: 1.8411 - sparse_categorical_accuracy: 0.3229 - val_loss: 2.2602 - val_sparse_categorical_accuracy: 0.2468\n",
      "Epoch 6/10\n",
      "389/389 [==============================] - 4s 10ms/step - loss: 1.7872 - sparse_categorical_accuracy: 0.3295 - val_loss: 2.3306 - val_sparse_categorical_accuracy: 0.2448\n",
      "Epoch 7/10\n",
      "386/389 [============================>.] - ETA: 0s - loss: 1.7430 - sparse_categorical_accuracy: 0.3478Restoring model weights from the end of the best epoch.\n",
      "389/389 [==============================] - 4s 11ms/step - loss: 1.7414 - sparse_categorical_accuracy: 0.3480 - val_loss: 2.2950 - val_sparse_categorical_accuracy: 0.2494\n",
      "Epoch 00007: early stopping\n"
     ]
    }
   ],
   "source": [
    "mh.set_num_epochs(10)\n",
    "mh.fit_model()"
   ],
   "metadata": {
    "collapsed": false,
    "pycharm": {
     "name": "#%%\n"
    }
   }
  },
  {
   "cell_type": "code",
   "execution_count": 17,
   "outputs": [
    {
     "name": "stdout",
     "output_type": "stream",
     "text": [
      "121/121 [==============================] - 0s 3ms/step - loss: 2.3861 - sparse_categorical_accuracy: 0.2314\n"
     ]
    }
   ],
   "source": [
    "mh.evaluate_model()"
   ],
   "metadata": {
    "collapsed": false,
    "pycharm": {
     "name": "#%%\n"
    }
   }
  },
  {
   "cell_type": "markdown",
   "source": [
    "## Evaluation of the model prediction\n",
    "\n",
    "A manual evaluation of the model prediction is executed.\n",
    "An attempt is made to understand patterns that the model has learned to reach a good prediction quality.\n",
    "In case of the original NYC dataset, the evaluation showed that in most cases the network simply predicts the taxi to not leave the current area.\n",
    "As a result, a high prediction quality of around 30 percent could be reached.\n",
    "It is interesting to see whether this also applies to the public service vehicles of cincinnati."
   ],
   "metadata": {
    "collapsed": false,
    "pycharm": {
     "name": "#%% md\n"
    }
   }
  },
  {
   "cell_type": "markdown",
   "source": [
    "Manually predict the logits for the test dataset."
   ],
   "metadata": {
    "collapsed": false,
    "pycharm": {
     "name": "#%% md\n"
    }
   }
  },
  {
   "cell_type": "code",
   "execution_count": 18,
   "outputs": [],
   "source": [
    "def print_info(T):\n",
    "    print('Element #0:', T[0])\n",
    "    print('Shape:', T.shape)"
   ],
   "metadata": {
    "collapsed": false,
    "pycharm": {
     "name": "#%%\n"
    }
   }
  },
  {
   "cell_type": "code",
   "execution_count": 19,
   "outputs": [
    {
     "name": "stdout",
     "output_type": "stream",
     "text": [
      "Element #0: [1.5779789e-01 8.6400518e-03 3.3591256e-02 3.5335708e-02 2.3391938e-01\n",
      " 4.9316944e-03 3.8361538e-02 9.4749773e-04 1.9313370e-01 5.2714944e-03\n",
      " 1.5080664e-02 3.1134116e-02 2.6837127e-02 5.6308345e-03 4.3775993e-03\n",
      " 4.1867230e-02 1.5379529e-03 2.8248546e-03 8.0214463e-02 3.1830378e-02\n",
      " 3.0183436e-03 1.0587412e-03 4.3323231e-05 1.1376197e-03 1.3958429e-03\n",
      " 4.8936796e-03 6.3284539e-04 1.9588647e-04 1.4044581e-03 5.8650807e-03\n",
      " 5.8861189e-03 7.9474994e-04 9.2839153e-04 1.6231965e-03 9.1855596e-05\n",
      " 7.8151684e-04 1.0643650e-03 5.2420544e-03 2.2940534e-04 2.8617682e-03\n",
      " 5.4990719e-03 5.6080633e-05 1.2792854e-03 5.2682275e-04 1.7947299e-05\n",
      " 1.4406016e-04 6.2045532e-05]\n",
      "Shape: (1936, 47)\n"
     ]
    }
   ],
   "source": [
    "logits = mh.model.predict(mh.test_dataset)\n",
    "print_info(logits)"
   ],
   "metadata": {
    "collapsed": false,
    "pycharm": {
     "name": "#%%\n"
    }
   }
  },
  {
   "cell_type": "markdown",
   "source": [
    "Apply the softmax activation function."
   ],
   "metadata": {
    "collapsed": false,
    "pycharm": {
     "name": "#%% md\n"
    }
   }
  },
  {
   "cell_type": "code",
   "execution_count": 20,
   "outputs": [
    {
     "name": "stdout",
     "output_type": "stream",
     "text": [
      "Element #0: tf.Tensor(\n",
      "[0.0243586  0.02098331 0.02151345 0.02155101 0.02628521 0.02090564\n",
      " 0.02161632 0.02082251 0.02523472 0.02091274 0.02111889 0.02146066\n",
      " 0.02136864 0.02092026 0.02089406 0.02169224 0.02083481 0.02086164\n",
      " 0.02254023 0.0214756  0.02086568 0.02082483 0.02080369 0.02082647\n",
      " 0.02083185 0.02090484 0.02081596 0.02080687 0.02083203 0.02092516\n",
      " 0.0209256  0.02081933 0.02082211 0.02083659 0.0208047  0.02081906\n",
      " 0.02082494 0.02091213 0.02080756 0.02086241 0.0209175  0.02080396\n",
      " 0.02082942 0.02081375 0.02080316 0.02080579 0.02080408], shape=(47,), dtype=float32)\n",
      "Shape: (1936, 47)\n"
     ]
    }
   ],
   "source": [
    "predictions = tf.nn.softmax(logits, axis=1)\n",
    "print_info(predictions)"
   ],
   "metadata": {
    "collapsed": false,
    "pycharm": {
     "name": "#%%\n"
    }
   }
  },
  {
   "cell_type": "markdown",
   "source": [
    "Use argmax to obtain the predicted classes."
   ],
   "metadata": {
    "collapsed": false,
    "pycharm": {
     "name": "#%% md\n"
    }
   }
  },
  {
   "cell_type": "code",
   "execution_count": 21,
   "outputs": [
    {
     "name": "stdout",
     "output_type": "stream",
     "text": [
      "Element #0: 4\n",
      "Shape: (1936,)\n"
     ]
    }
   ],
   "source": [
    "predicted_classes = np.argmax(predictions, 1)\n",
    "print_info(predicted_classes)"
   ],
   "metadata": {
    "collapsed": false,
    "pycharm": {
     "name": "#%%\n"
    }
   }
  },
  {
   "cell_type": "markdown",
   "source": [
    "Obtain the actual values of the test_dataset by unbatching and create an array containing these.\n",
    "Then compute the difference in predictions and actual values."
   ],
   "metadata": {
    "collapsed": false,
    "pycharm": {
     "name": "#%% md\n"
    }
   }
  },
  {
   "cell_type": "code",
   "execution_count": 22,
   "outputs": [
    {
     "name": "stdout",
     "output_type": "stream",
     "text": [
      "(1936,)\n",
      "actual_values\n",
      "Element #0: 11\n",
      "Shape: (1936,)\n",
      "predicted_classes\n",
      "Element #0: 4\n",
      "Shape: (1936,)\n",
      "diff\n",
      "Element #0: 7\n",
      "Shape: (1936,)\n"
     ]
    }
   ],
   "source": [
    "actual_values = []\n",
    "X_loc = []\n",
    "for x, y in mh.test_dataset.unbatch():\n",
    "    actual_values.append(y.numpy())\n",
    "    X_loc.append(x['location_id'].numpy())\n",
    "\n",
    "actual_values = np.array(actual_values)\n",
    "X_loc = np.array(X_loc)\n",
    "\n",
    "diff = actual_values - predicted_classes\n",
    "print(diff.shape)\n",
    "unique, counts = np.unique(diff, return_counts=True)\n",
    "\n",
    "print('actual_values')\n",
    "print_info(actual_values)\n",
    "print('predicted_classes')\n",
    "print_info(predicted_classes)\n",
    "print('diff')\n",
    "print_info(diff)"
   ],
   "metadata": {
    "collapsed": false,
    "pycharm": {
     "name": "#%%\n"
    }
   }
  },
  {
   "cell_type": "markdown",
   "source": [
    "Sanity check the results, compute the accuracy (should be roughly the same) by comparing the wrong and correct  predictions"
   ],
   "metadata": {
    "collapsed": false,
    "pycharm": {
     "name": "#%% md\n"
    }
   }
  },
  {
   "cell_type": "code",
   "execution_count": 23,
   "outputs": [
    {
     "name": "stdout",
     "output_type": "stream",
     "text": [
      "# correct Predictions :  447\n",
      "# wrong Predictions :  1489\n",
      "accuracy:  0.2308884297520661\n"
     ]
    }
   ],
   "source": [
    "wrong = np.count_nonzero(diff)\n",
    "size = diff.shape[0]\n",
    "correct =  size - wrong\n",
    "acc = correct / size\n",
    "print('# correct Predictions : ', correct)\n",
    "print('# wrong Predictions : ', wrong)\n",
    "print('accuracy: ', acc)"
   ],
   "metadata": {
    "collapsed": false,
    "pycharm": {
     "name": "#%%\n"
    }
   }
  },
  {
   "cell_type": "markdown",
   "source": [
    "Show the predicted classes and their prediction counts."
   ],
   "metadata": {
    "collapsed": false,
    "pycharm": {
     "name": "#%% md\n"
    }
   }
  },
  {
   "cell_type": "code",
   "execution_count": 24,
   "outputs": [
    {
     "name": "stdout",
     "output_type": "stream",
     "text": [
      "[ 0  4  8 11 12 13 14 15 17 18 20 24]\n",
      "[711 691 410  70   7   2   7   6   1  29   1   1]\n"
     ]
    }
   ],
   "source": [
    "res = pd.DataFrame(predicted_classes)\n",
    "unique, counts = np.unique(res, return_counts=True)\n",
    "print(unique)\n",
    "print(counts)"
   ],
   "metadata": {
    "collapsed": false,
    "pycharm": {
     "name": "#%%\n"
    }
   }
  },
  {
   "cell_type": "markdown",
   "source": [
    "Only 7 of the 47 classes were predicted by the model."
   ],
   "metadata": {
    "collapsed": false,
    "pycharm": {
     "name": "#%% md\n"
    }
   }
  },
  {
   "cell_type": "code",
   "execution_count": 25,
   "outputs": [
    {
     "name": "stdout",
     "output_type": "stream",
     "text": [
      "[ 0  1  2  3  4  6  7  8  9 10 11 12 13 14 15 17 18 19 20 21 22 24 28 29\n",
      " 30 34 35 36 37 38 39 42 43]\n",
      "[390  24  19  13 406  66  42 332 105  46  10  26  33   5  56   6 222  27\n",
      "  22   3   1  25   9  18   9   2   1   2   4   3   1   6   2]\n"
     ]
    }
   ],
   "source": [
    "res = pd.DataFrame(actual_values)\n",
    "unique, counts = np.unique(res, return_counts=True)\n",
    "print(unique)\n",
    "print(counts)"
   ],
   "metadata": {
    "collapsed": false,
    "pycharm": {
     "name": "#%%\n"
    }
   }
  },
  {
   "cell_type": "markdown",
   "source": [
    "Next, take a look at some exemplary predictions:"
   ],
   "metadata": {
    "collapsed": false,
    "pycharm": {
     "name": "#%% md\n"
    }
   }
  },
  {
   "cell_type": "code",
   "execution_count": 26,
   "outputs": [
    {
     "name": "stdout",
     "output_type": "stream",
     "text": [
      "Prediction # 0\n",
      "Actual value:  11\n",
      "Predicted value:  4\n",
      "Prediction # 1\n",
      "Actual value:  0\n",
      "Predicted value:  0\n",
      "Prediction # 2\n",
      "Actual value:  15\n",
      "Predicted value:  8\n",
      "Prediction # 3\n",
      "Actual value:  0\n",
      "Predicted value:  0\n",
      "Prediction # 4\n",
      "Actual value:  8\n",
      "Predicted value:  4\n",
      "Prediction # 5\n",
      "Actual value:  20\n",
      "Predicted value:  15\n",
      "Prediction # 6\n",
      "Actual value:  17\n",
      "Predicted value:  8\n",
      "Prediction # 7\n",
      "Actual value:  0\n",
      "Predicted value:  4\n",
      "Prediction # 8\n",
      "Actual value:  0\n",
      "Predicted value:  0\n",
      "Prediction # 9\n",
      "Actual value:  8\n",
      "Predicted value:  4\n",
      "Prediction # 10\n",
      "Actual value:  15\n",
      "Predicted value:  0\n",
      "Prediction # 11\n",
      "Actual value:  15\n",
      "Predicted value:  15\n",
      "Prediction # 12\n",
      "Actual value:  3\n",
      "Predicted value:  4\n",
      "Prediction # 13\n",
      "Actual value:  8\n",
      "Predicted value:  4\n",
      "Prediction # 14\n",
      "Actual value:  15\n",
      "Predicted value:  0\n",
      "Prediction # 15\n",
      "Actual value:  28\n",
      "Predicted value:  4\n",
      "Prediction # 16\n",
      "Actual value:  4\n",
      "Predicted value:  4\n",
      "Prediction # 17\n",
      "Actual value:  8\n",
      "Predicted value:  0\n",
      "Prediction # 18\n",
      "Actual value:  0\n",
      "Predicted value:  8\n",
      "Prediction # 19\n",
      "Actual value:  8\n",
      "Predicted value:  0\n"
     ]
    }
   ],
   "source": [
    "for i in range(0,20):\n",
    "    print('Prediction #', i)\n",
    "    print('Actual value: ', actual_values[i])\n",
    "    print('Predicted value: ', predicted_classes[i])"
   ],
   "metadata": {
    "collapsed": false,
    "pycharm": {
     "name": "#%%\n"
    }
   }
  },
  {
   "cell_type": "markdown",
   "source": [
    "Create a matrix for the x and y values by concatenation.\n",
    "The rows contain all 16 locations used for the prediction."
   ],
   "metadata": {
    "collapsed": false,
    "pycharm": {
     "name": "#%% md\n"
    }
   }
  },
  {
   "cell_type": "code",
   "execution_count": 27,
   "outputs": [
    {
     "name": "stdout",
     "output_type": "stream",
     "text": [
      "X_loc.shape  (1936, 16)\n",
      "Y.shape  (1936, 1)\n",
      "X_Y.shape:  (1936, 17)\n"
     ]
    },
    {
     "data": {
      "text/plain": "array([[34,  8, 15,  4,  4, 12, 10, 18,  8,  8, 15,  4,  8,  3, 12,  4,\n        11],\n       [ 8,  4, 18,  0, 46,  3,  4,  8, 12, 15, 15,  4,  3,  4, 12, 17,\n         0],\n       [ 4, 17,  8, 15, 24,  4, 24,  8, 15,  0,  8,  8, 20,  0,  8, 12,\n        15],\n       [24,  8,  0, 12,  4,  0, 37, 24,  0,  0, 24, 18, 15, 10, 15,  8,\n         0],\n       [37,  8,  4,  8, 18, 15,  4,  8,  4,  0, 18, 15,  8,  8, 15, 24,\n         8],\n       [ 4, 15,  0, 37,  6,  8, 37, 37, 18, 29,  0,  0, 17, 12, 12, 15,\n        20],\n       [15,  8,  0, 18,  4,  0, 18, 16,  8, 24,  0, 18,  8,  8, 15, 15,\n        17],\n       [12,  4, 11, 15, 24,  4, 24, 46,  8, 10,  0, 37, 15,  4,  0,  0,\n         0],\n       [46,  0,  0, 24,  8,  4,  0, 15,  0, 11,  0, 24,  0, 15,  0, 15,\n         0],\n       [ 8, 12,  0,  0,  0,  4, 24,  4,  8,  4,  0,  0,  4, 12,  4,  4,\n         8]], dtype=int64)"
     },
     "execution_count": 27,
     "metadata": {},
     "output_type": "execute_result"
    }
   ],
   "source": [
    "Y = np.expand_dims(actual_values, -1)\n",
    "print('X_loc.shape ', X_loc.shape)\n",
    "print('Y.shape ', Y.shape)\n",
    "X_Y = np.concatenate((X_loc, Y), axis=1)\n",
    "print('X_Y.shape: ', X_Y.shape)\n",
    "X_Y[:10]"
   ],
   "metadata": {
    "collapsed": false,
    "pycharm": {
     "name": "#%%\n"
    }
   }
  },
  {
   "cell_type": "markdown",
   "source": [
    "Create an array of column names."
   ],
   "metadata": {
    "collapsed": false,
    "pycharm": {
     "name": "#%% md\n"
    }
   }
  },
  {
   "cell_type": "code",
   "execution_count": 28,
   "outputs": [
    {
     "data": {
      "text/plain": "['loc_0',\n 'loc_1',\n 'loc_2',\n 'loc_3',\n 'loc_4',\n 'loc_5',\n 'loc_6',\n 'loc_7',\n 'loc_8',\n 'loc_9',\n 'loc_10',\n 'loc_11',\n 'loc_12',\n 'loc_13',\n 'loc_14',\n 'loc_15',\n 'y_true']"
     },
     "execution_count": 28,
     "metadata": {},
     "output_type": "execute_result"
    }
   ],
   "source": [
    "columns = []\n",
    "for i in range(0,16):\n",
    "    columns.append('loc_' + str(i))\n",
    "columns.append('y_true')\n",
    "columns"
   ],
   "metadata": {
    "collapsed": false,
    "pycharm": {
     "name": "#%%\n"
    }
   }
  },
  {
   "cell_type": "markdown",
   "source": [
    "Assign the column names and create a pandas dataframe."
   ],
   "metadata": {
    "collapsed": false,
    "pycharm": {
     "name": "#%% md\n"
    }
   }
  },
  {
   "cell_type": "code",
   "execution_count": 29,
   "outputs": [
    {
     "data": {
      "text/plain": "      loc_0  loc_1  loc_2  loc_3  loc_4  loc_5  loc_6  loc_7  loc_8  loc_9  \\\n0        34      8     15      4      4     12     10     18      8      8   \n1         8      4     18      0     46      3      4      8     12     15   \n2         4     17      8     15     24      4     24      8     15      0   \n3        24      8      0     12      4      0     37     24      0      0   \n4        37      8      4      8     18     15      4      8      4      0   \n...     ...    ...    ...    ...    ...    ...    ...    ...    ...    ...   \n1931      2      8      0      0      0      0      4      0      8      9   \n1932      0      0      4      4     29      8     18     18     18     24   \n1933     18     18      4     18      9      0     18      8      6      0   \n1934      4      4      4      0     18     18      0     18      8      4   \n1935      1      8      0      8      4      4      6      4      0     10   \n\n      loc_10  loc_11  loc_12  loc_13  loc_14  loc_15  y_true  \n0         15       4       8       3      12       4      11  \n1         15       4       3       4      12      17       0  \n2          8       8      20       0       8      12      15  \n3         24      18      15      10      15       8       0  \n4         18      15       8       8      15      24       8  \n...      ...     ...     ...     ...     ...     ...     ...  \n1931       4      13       8       0       0       2       8  \n1932       8       6       0      18       9       6       7  \n1933       0       4       4       4       1       8       0  \n1934      18       8       4       9      15      18       4  \n1935       8      18       8       8       4      13      18  \n\n[1936 rows x 17 columns]",
      "text/html": "<div>\n<style scoped>\n    .dataframe tbody tr th:only-of-type {\n        vertical-align: middle;\n    }\n\n    .dataframe tbody tr th {\n        vertical-align: top;\n    }\n\n    .dataframe thead th {\n        text-align: right;\n    }\n</style>\n<table border=\"1\" class=\"dataframe\">\n  <thead>\n    <tr style=\"text-align: right;\">\n      <th></th>\n      <th>loc_0</th>\n      <th>loc_1</th>\n      <th>loc_2</th>\n      <th>loc_3</th>\n      <th>loc_4</th>\n      <th>loc_5</th>\n      <th>loc_6</th>\n      <th>loc_7</th>\n      <th>loc_8</th>\n      <th>loc_9</th>\n      <th>loc_10</th>\n      <th>loc_11</th>\n      <th>loc_12</th>\n      <th>loc_13</th>\n      <th>loc_14</th>\n      <th>loc_15</th>\n      <th>y_true</th>\n    </tr>\n  </thead>\n  <tbody>\n    <tr>\n      <th>0</th>\n      <td>34</td>\n      <td>8</td>\n      <td>15</td>\n      <td>4</td>\n      <td>4</td>\n      <td>12</td>\n      <td>10</td>\n      <td>18</td>\n      <td>8</td>\n      <td>8</td>\n      <td>15</td>\n      <td>4</td>\n      <td>8</td>\n      <td>3</td>\n      <td>12</td>\n      <td>4</td>\n      <td>11</td>\n    </tr>\n    <tr>\n      <th>1</th>\n      <td>8</td>\n      <td>4</td>\n      <td>18</td>\n      <td>0</td>\n      <td>46</td>\n      <td>3</td>\n      <td>4</td>\n      <td>8</td>\n      <td>12</td>\n      <td>15</td>\n      <td>15</td>\n      <td>4</td>\n      <td>3</td>\n      <td>4</td>\n      <td>12</td>\n      <td>17</td>\n      <td>0</td>\n    </tr>\n    <tr>\n      <th>2</th>\n      <td>4</td>\n      <td>17</td>\n      <td>8</td>\n      <td>15</td>\n      <td>24</td>\n      <td>4</td>\n      <td>24</td>\n      <td>8</td>\n      <td>15</td>\n      <td>0</td>\n      <td>8</td>\n      <td>8</td>\n      <td>20</td>\n      <td>0</td>\n      <td>8</td>\n      <td>12</td>\n      <td>15</td>\n    </tr>\n    <tr>\n      <th>3</th>\n      <td>24</td>\n      <td>8</td>\n      <td>0</td>\n      <td>12</td>\n      <td>4</td>\n      <td>0</td>\n      <td>37</td>\n      <td>24</td>\n      <td>0</td>\n      <td>0</td>\n      <td>24</td>\n      <td>18</td>\n      <td>15</td>\n      <td>10</td>\n      <td>15</td>\n      <td>8</td>\n      <td>0</td>\n    </tr>\n    <tr>\n      <th>4</th>\n      <td>37</td>\n      <td>8</td>\n      <td>4</td>\n      <td>8</td>\n      <td>18</td>\n      <td>15</td>\n      <td>4</td>\n      <td>8</td>\n      <td>4</td>\n      <td>0</td>\n      <td>18</td>\n      <td>15</td>\n      <td>8</td>\n      <td>8</td>\n      <td>15</td>\n      <td>24</td>\n      <td>8</td>\n    </tr>\n    <tr>\n      <th>...</th>\n      <td>...</td>\n      <td>...</td>\n      <td>...</td>\n      <td>...</td>\n      <td>...</td>\n      <td>...</td>\n      <td>...</td>\n      <td>...</td>\n      <td>...</td>\n      <td>...</td>\n      <td>...</td>\n      <td>...</td>\n      <td>...</td>\n      <td>...</td>\n      <td>...</td>\n      <td>...</td>\n      <td>...</td>\n    </tr>\n    <tr>\n      <th>1931</th>\n      <td>2</td>\n      <td>8</td>\n      <td>0</td>\n      <td>0</td>\n      <td>0</td>\n      <td>0</td>\n      <td>4</td>\n      <td>0</td>\n      <td>8</td>\n      <td>9</td>\n      <td>4</td>\n      <td>13</td>\n      <td>8</td>\n      <td>0</td>\n      <td>0</td>\n      <td>2</td>\n      <td>8</td>\n    </tr>\n    <tr>\n      <th>1932</th>\n      <td>0</td>\n      <td>0</td>\n      <td>4</td>\n      <td>4</td>\n      <td>29</td>\n      <td>8</td>\n      <td>18</td>\n      <td>18</td>\n      <td>18</td>\n      <td>24</td>\n      <td>8</td>\n      <td>6</td>\n      <td>0</td>\n      <td>18</td>\n      <td>9</td>\n      <td>6</td>\n      <td>7</td>\n    </tr>\n    <tr>\n      <th>1933</th>\n      <td>18</td>\n      <td>18</td>\n      <td>4</td>\n      <td>18</td>\n      <td>9</td>\n      <td>0</td>\n      <td>18</td>\n      <td>8</td>\n      <td>6</td>\n      <td>0</td>\n      <td>0</td>\n      <td>4</td>\n      <td>4</td>\n      <td>4</td>\n      <td>1</td>\n      <td>8</td>\n      <td>0</td>\n    </tr>\n    <tr>\n      <th>1934</th>\n      <td>4</td>\n      <td>4</td>\n      <td>4</td>\n      <td>0</td>\n      <td>18</td>\n      <td>18</td>\n      <td>0</td>\n      <td>18</td>\n      <td>8</td>\n      <td>4</td>\n      <td>18</td>\n      <td>8</td>\n      <td>4</td>\n      <td>9</td>\n      <td>15</td>\n      <td>18</td>\n      <td>4</td>\n    </tr>\n    <tr>\n      <th>1935</th>\n      <td>1</td>\n      <td>8</td>\n      <td>0</td>\n      <td>8</td>\n      <td>4</td>\n      <td>4</td>\n      <td>6</td>\n      <td>4</td>\n      <td>0</td>\n      <td>10</td>\n      <td>8</td>\n      <td>18</td>\n      <td>8</td>\n      <td>8</td>\n      <td>4</td>\n      <td>13</td>\n      <td>18</td>\n    </tr>\n  </tbody>\n</table>\n<p>1936 rows × 17 columns</p>\n</div>"
     },
     "execution_count": 29,
     "metadata": {},
     "output_type": "execute_result"
    }
   ],
   "source": [
    "df = pd.DataFrame(X_Y, columns = columns)\n",
    "df"
   ],
   "metadata": {
    "collapsed": false,
    "pycharm": {
     "name": "#%%\n"
    }
   }
  },
  {
   "cell_type": "markdown",
   "source": [
    "Add the predicted classes."
   ],
   "metadata": {
    "collapsed": false,
    "pycharm": {
     "name": "#%% md\n"
    }
   }
  },
  {
   "cell_type": "code",
   "execution_count": 30,
   "outputs": [
    {
     "data": {
      "text/plain": "      loc_0  loc_1  loc_2  loc_3  loc_4  loc_5  loc_6  loc_7  loc_8  loc_9  \\\n0        34      8     15      4      4     12     10     18      8      8   \n1         8      4     18      0     46      3      4      8     12     15   \n2         4     17      8     15     24      4     24      8     15      0   \n3        24      8      0     12      4      0     37     24      0      0   \n4        37      8      4      8     18     15      4      8      4      0   \n...     ...    ...    ...    ...    ...    ...    ...    ...    ...    ...   \n1931      2      8      0      0      0      0      4      0      8      9   \n1932      0      0      4      4     29      8     18     18     18     24   \n1933     18     18      4     18      9      0     18      8      6      0   \n1934      4      4      4      0     18     18      0     18      8      4   \n1935      1      8      0      8      4      4      6      4      0     10   \n\n      loc_10  loc_11  loc_12  loc_13  loc_14  loc_15  y_true  y_pred  \n0         15       4       8       3      12       4      11       4  \n1         15       4       3       4      12      17       0       0  \n2          8       8      20       0       8      12      15       8  \n3         24      18      15      10      15       8       0       0  \n4         18      15       8       8      15      24       8       4  \n...      ...     ...     ...     ...     ...     ...     ...     ...  \n1931       4      13       8       0       0       2       8       0  \n1932       8       6       0      18       9       6       7       0  \n1933       0       4       4       4       1       8       0       4  \n1934      18       8       4       9      15      18       4       8  \n1935       8      18       8       8       4      13      18       8  \n\n[1936 rows x 18 columns]",
      "text/html": "<div>\n<style scoped>\n    .dataframe tbody tr th:only-of-type {\n        vertical-align: middle;\n    }\n\n    .dataframe tbody tr th {\n        vertical-align: top;\n    }\n\n    .dataframe thead th {\n        text-align: right;\n    }\n</style>\n<table border=\"1\" class=\"dataframe\">\n  <thead>\n    <tr style=\"text-align: right;\">\n      <th></th>\n      <th>loc_0</th>\n      <th>loc_1</th>\n      <th>loc_2</th>\n      <th>loc_3</th>\n      <th>loc_4</th>\n      <th>loc_5</th>\n      <th>loc_6</th>\n      <th>loc_7</th>\n      <th>loc_8</th>\n      <th>loc_9</th>\n      <th>loc_10</th>\n      <th>loc_11</th>\n      <th>loc_12</th>\n      <th>loc_13</th>\n      <th>loc_14</th>\n      <th>loc_15</th>\n      <th>y_true</th>\n      <th>y_pred</th>\n    </tr>\n  </thead>\n  <tbody>\n    <tr>\n      <th>0</th>\n      <td>34</td>\n      <td>8</td>\n      <td>15</td>\n      <td>4</td>\n      <td>4</td>\n      <td>12</td>\n      <td>10</td>\n      <td>18</td>\n      <td>8</td>\n      <td>8</td>\n      <td>15</td>\n      <td>4</td>\n      <td>8</td>\n      <td>3</td>\n      <td>12</td>\n      <td>4</td>\n      <td>11</td>\n      <td>4</td>\n    </tr>\n    <tr>\n      <th>1</th>\n      <td>8</td>\n      <td>4</td>\n      <td>18</td>\n      <td>0</td>\n      <td>46</td>\n      <td>3</td>\n      <td>4</td>\n      <td>8</td>\n      <td>12</td>\n      <td>15</td>\n      <td>15</td>\n      <td>4</td>\n      <td>3</td>\n      <td>4</td>\n      <td>12</td>\n      <td>17</td>\n      <td>0</td>\n      <td>0</td>\n    </tr>\n    <tr>\n      <th>2</th>\n      <td>4</td>\n      <td>17</td>\n      <td>8</td>\n      <td>15</td>\n      <td>24</td>\n      <td>4</td>\n      <td>24</td>\n      <td>8</td>\n      <td>15</td>\n      <td>0</td>\n      <td>8</td>\n      <td>8</td>\n      <td>20</td>\n      <td>0</td>\n      <td>8</td>\n      <td>12</td>\n      <td>15</td>\n      <td>8</td>\n    </tr>\n    <tr>\n      <th>3</th>\n      <td>24</td>\n      <td>8</td>\n      <td>0</td>\n      <td>12</td>\n      <td>4</td>\n      <td>0</td>\n      <td>37</td>\n      <td>24</td>\n      <td>0</td>\n      <td>0</td>\n      <td>24</td>\n      <td>18</td>\n      <td>15</td>\n      <td>10</td>\n      <td>15</td>\n      <td>8</td>\n      <td>0</td>\n      <td>0</td>\n    </tr>\n    <tr>\n      <th>4</th>\n      <td>37</td>\n      <td>8</td>\n      <td>4</td>\n      <td>8</td>\n      <td>18</td>\n      <td>15</td>\n      <td>4</td>\n      <td>8</td>\n      <td>4</td>\n      <td>0</td>\n      <td>18</td>\n      <td>15</td>\n      <td>8</td>\n      <td>8</td>\n      <td>15</td>\n      <td>24</td>\n      <td>8</td>\n      <td>4</td>\n    </tr>\n    <tr>\n      <th>...</th>\n      <td>...</td>\n      <td>...</td>\n      <td>...</td>\n      <td>...</td>\n      <td>...</td>\n      <td>...</td>\n      <td>...</td>\n      <td>...</td>\n      <td>...</td>\n      <td>...</td>\n      <td>...</td>\n      <td>...</td>\n      <td>...</td>\n      <td>...</td>\n      <td>...</td>\n      <td>...</td>\n      <td>...</td>\n      <td>...</td>\n    </tr>\n    <tr>\n      <th>1931</th>\n      <td>2</td>\n      <td>8</td>\n      <td>0</td>\n      <td>0</td>\n      <td>0</td>\n      <td>0</td>\n      <td>4</td>\n      <td>0</td>\n      <td>8</td>\n      <td>9</td>\n      <td>4</td>\n      <td>13</td>\n      <td>8</td>\n      <td>0</td>\n      <td>0</td>\n      <td>2</td>\n      <td>8</td>\n      <td>0</td>\n    </tr>\n    <tr>\n      <th>1932</th>\n      <td>0</td>\n      <td>0</td>\n      <td>4</td>\n      <td>4</td>\n      <td>29</td>\n      <td>8</td>\n      <td>18</td>\n      <td>18</td>\n      <td>18</td>\n      <td>24</td>\n      <td>8</td>\n      <td>6</td>\n      <td>0</td>\n      <td>18</td>\n      <td>9</td>\n      <td>6</td>\n      <td>7</td>\n      <td>0</td>\n    </tr>\n    <tr>\n      <th>1933</th>\n      <td>18</td>\n      <td>18</td>\n      <td>4</td>\n      <td>18</td>\n      <td>9</td>\n      <td>0</td>\n      <td>18</td>\n      <td>8</td>\n      <td>6</td>\n      <td>0</td>\n      <td>0</td>\n      <td>4</td>\n      <td>4</td>\n      <td>4</td>\n      <td>1</td>\n      <td>8</td>\n      <td>0</td>\n      <td>4</td>\n    </tr>\n    <tr>\n      <th>1934</th>\n      <td>4</td>\n      <td>4</td>\n      <td>4</td>\n      <td>0</td>\n      <td>18</td>\n      <td>18</td>\n      <td>0</td>\n      <td>18</td>\n      <td>8</td>\n      <td>4</td>\n      <td>18</td>\n      <td>8</td>\n      <td>4</td>\n      <td>9</td>\n      <td>15</td>\n      <td>18</td>\n      <td>4</td>\n      <td>8</td>\n    </tr>\n    <tr>\n      <th>1935</th>\n      <td>1</td>\n      <td>8</td>\n      <td>0</td>\n      <td>8</td>\n      <td>4</td>\n      <td>4</td>\n      <td>6</td>\n      <td>4</td>\n      <td>0</td>\n      <td>10</td>\n      <td>8</td>\n      <td>18</td>\n      <td>8</td>\n      <td>8</td>\n      <td>4</td>\n      <td>13</td>\n      <td>18</td>\n      <td>8</td>\n    </tr>\n  </tbody>\n</table>\n<p>1936 rows × 18 columns</p>\n</div>"
     },
     "execution_count": 30,
     "metadata": {},
     "output_type": "execute_result"
    }
   ],
   "source": [
    "df['y_pred'] = predicted_classes\n",
    "df"
   ],
   "metadata": {
    "collapsed": false,
    "pycharm": {
     "name": "#%%\n"
    }
   }
  },
  {
   "cell_type": "markdown",
   "source": [
    "Add a column \"correct\" that displays whether the prediction was correct or not."
   ],
   "metadata": {
    "collapsed": false,
    "pycharm": {
     "name": "#%% md\n"
    }
   }
  },
  {
   "cell_type": "code",
   "execution_count": 31,
   "outputs": [
    {
     "data": {
      "text/plain": "      loc_0  loc_1  loc_2  loc_3  loc_4  loc_5  loc_6  loc_7  loc_8  loc_9  \\\n0        34      8     15      4      4     12     10     18      8      8   \n1         8      4     18      0     46      3      4      8     12     15   \n2         4     17      8     15     24      4     24      8     15      0   \n3        24      8      0     12      4      0     37     24      0      0   \n4        37      8      4      8     18     15      4      8      4      0   \n...     ...    ...    ...    ...    ...    ...    ...    ...    ...    ...   \n1931      2      8      0      0      0      0      4      0      8      9   \n1932      0      0      4      4     29      8     18     18     18     24   \n1933     18     18      4     18      9      0     18      8      6      0   \n1934      4      4      4      0     18     18      0     18      8      4   \n1935      1      8      0      8      4      4      6      4      0     10   \n\n      loc_10  loc_11  loc_12  loc_13  loc_14  loc_15  y_true  y_pred  correct  \n0         15       4       8       3      12       4      11       4    False  \n1         15       4       3       4      12      17       0       0     True  \n2          8       8      20       0       8      12      15       8    False  \n3         24      18      15      10      15       8       0       0     True  \n4         18      15       8       8      15      24       8       4    False  \n...      ...     ...     ...     ...     ...     ...     ...     ...      ...  \n1931       4      13       8       0       0       2       8       0    False  \n1932       8       6       0      18       9       6       7       0    False  \n1933       0       4       4       4       1       8       0       4    False  \n1934      18       8       4       9      15      18       4       8    False  \n1935       8      18       8       8       4      13      18       8    False  \n\n[1936 rows x 19 columns]",
      "text/html": "<div>\n<style scoped>\n    .dataframe tbody tr th:only-of-type {\n        vertical-align: middle;\n    }\n\n    .dataframe tbody tr th {\n        vertical-align: top;\n    }\n\n    .dataframe thead th {\n        text-align: right;\n    }\n</style>\n<table border=\"1\" class=\"dataframe\">\n  <thead>\n    <tr style=\"text-align: right;\">\n      <th></th>\n      <th>loc_0</th>\n      <th>loc_1</th>\n      <th>loc_2</th>\n      <th>loc_3</th>\n      <th>loc_4</th>\n      <th>loc_5</th>\n      <th>loc_6</th>\n      <th>loc_7</th>\n      <th>loc_8</th>\n      <th>loc_9</th>\n      <th>loc_10</th>\n      <th>loc_11</th>\n      <th>loc_12</th>\n      <th>loc_13</th>\n      <th>loc_14</th>\n      <th>loc_15</th>\n      <th>y_true</th>\n      <th>y_pred</th>\n      <th>correct</th>\n    </tr>\n  </thead>\n  <tbody>\n    <tr>\n      <th>0</th>\n      <td>34</td>\n      <td>8</td>\n      <td>15</td>\n      <td>4</td>\n      <td>4</td>\n      <td>12</td>\n      <td>10</td>\n      <td>18</td>\n      <td>8</td>\n      <td>8</td>\n      <td>15</td>\n      <td>4</td>\n      <td>8</td>\n      <td>3</td>\n      <td>12</td>\n      <td>4</td>\n      <td>11</td>\n      <td>4</td>\n      <td>False</td>\n    </tr>\n    <tr>\n      <th>1</th>\n      <td>8</td>\n      <td>4</td>\n      <td>18</td>\n      <td>0</td>\n      <td>46</td>\n      <td>3</td>\n      <td>4</td>\n      <td>8</td>\n      <td>12</td>\n      <td>15</td>\n      <td>15</td>\n      <td>4</td>\n      <td>3</td>\n      <td>4</td>\n      <td>12</td>\n      <td>17</td>\n      <td>0</td>\n      <td>0</td>\n      <td>True</td>\n    </tr>\n    <tr>\n      <th>2</th>\n      <td>4</td>\n      <td>17</td>\n      <td>8</td>\n      <td>15</td>\n      <td>24</td>\n      <td>4</td>\n      <td>24</td>\n      <td>8</td>\n      <td>15</td>\n      <td>0</td>\n      <td>8</td>\n      <td>8</td>\n      <td>20</td>\n      <td>0</td>\n      <td>8</td>\n      <td>12</td>\n      <td>15</td>\n      <td>8</td>\n      <td>False</td>\n    </tr>\n    <tr>\n      <th>3</th>\n      <td>24</td>\n      <td>8</td>\n      <td>0</td>\n      <td>12</td>\n      <td>4</td>\n      <td>0</td>\n      <td>37</td>\n      <td>24</td>\n      <td>0</td>\n      <td>0</td>\n      <td>24</td>\n      <td>18</td>\n      <td>15</td>\n      <td>10</td>\n      <td>15</td>\n      <td>8</td>\n      <td>0</td>\n      <td>0</td>\n      <td>True</td>\n    </tr>\n    <tr>\n      <th>4</th>\n      <td>37</td>\n      <td>8</td>\n      <td>4</td>\n      <td>8</td>\n      <td>18</td>\n      <td>15</td>\n      <td>4</td>\n      <td>8</td>\n      <td>4</td>\n      <td>0</td>\n      <td>18</td>\n      <td>15</td>\n      <td>8</td>\n      <td>8</td>\n      <td>15</td>\n      <td>24</td>\n      <td>8</td>\n      <td>4</td>\n      <td>False</td>\n    </tr>\n    <tr>\n      <th>...</th>\n      <td>...</td>\n      <td>...</td>\n      <td>...</td>\n      <td>...</td>\n      <td>...</td>\n      <td>...</td>\n      <td>...</td>\n      <td>...</td>\n      <td>...</td>\n      <td>...</td>\n      <td>...</td>\n      <td>...</td>\n      <td>...</td>\n      <td>...</td>\n      <td>...</td>\n      <td>...</td>\n      <td>...</td>\n      <td>...</td>\n      <td>...</td>\n    </tr>\n    <tr>\n      <th>1931</th>\n      <td>2</td>\n      <td>8</td>\n      <td>0</td>\n      <td>0</td>\n      <td>0</td>\n      <td>0</td>\n      <td>4</td>\n      <td>0</td>\n      <td>8</td>\n      <td>9</td>\n      <td>4</td>\n      <td>13</td>\n      <td>8</td>\n      <td>0</td>\n      <td>0</td>\n      <td>2</td>\n      <td>8</td>\n      <td>0</td>\n      <td>False</td>\n    </tr>\n    <tr>\n      <th>1932</th>\n      <td>0</td>\n      <td>0</td>\n      <td>4</td>\n      <td>4</td>\n      <td>29</td>\n      <td>8</td>\n      <td>18</td>\n      <td>18</td>\n      <td>18</td>\n      <td>24</td>\n      <td>8</td>\n      <td>6</td>\n      <td>0</td>\n      <td>18</td>\n      <td>9</td>\n      <td>6</td>\n      <td>7</td>\n      <td>0</td>\n      <td>False</td>\n    </tr>\n    <tr>\n      <th>1933</th>\n      <td>18</td>\n      <td>18</td>\n      <td>4</td>\n      <td>18</td>\n      <td>9</td>\n      <td>0</td>\n      <td>18</td>\n      <td>8</td>\n      <td>6</td>\n      <td>0</td>\n      <td>0</td>\n      <td>4</td>\n      <td>4</td>\n      <td>4</td>\n      <td>1</td>\n      <td>8</td>\n      <td>0</td>\n      <td>4</td>\n      <td>False</td>\n    </tr>\n    <tr>\n      <th>1934</th>\n      <td>4</td>\n      <td>4</td>\n      <td>4</td>\n      <td>0</td>\n      <td>18</td>\n      <td>18</td>\n      <td>0</td>\n      <td>18</td>\n      <td>8</td>\n      <td>4</td>\n      <td>18</td>\n      <td>8</td>\n      <td>4</td>\n      <td>9</td>\n      <td>15</td>\n      <td>18</td>\n      <td>4</td>\n      <td>8</td>\n      <td>False</td>\n    </tr>\n    <tr>\n      <th>1935</th>\n      <td>1</td>\n      <td>8</td>\n      <td>0</td>\n      <td>8</td>\n      <td>4</td>\n      <td>4</td>\n      <td>6</td>\n      <td>4</td>\n      <td>0</td>\n      <td>10</td>\n      <td>8</td>\n      <td>18</td>\n      <td>8</td>\n      <td>8</td>\n      <td>4</td>\n      <td>13</td>\n      <td>18</td>\n      <td>8</td>\n      <td>False</td>\n    </tr>\n  </tbody>\n</table>\n<p>1936 rows × 19 columns</p>\n</div>"
     },
     "execution_count": 31,
     "metadata": {},
     "output_type": "execute_result"
    }
   ],
   "source": [
    "df['correct'] = df['y_true'] - df['y_pred']\n",
    "\n",
    "def reduce01 (val):\n",
    "    if val == 0:\n",
    "        return True\n",
    "    else:\n",
    "        return False\n",
    "\n",
    "df['correct'] = df['correct'].map(reduce01)\n",
    "df"
   ],
   "metadata": {
    "collapsed": false,
    "pycharm": {
     "name": "#%%\n"
    }
   }
  },
  {
   "cell_type": "markdown",
   "source": [
    "Fill missing rows and columns in order to have a full matrix of NxN with N being the number of unique predictions."
   ],
   "metadata": {
    "collapsed": false,
    "pycharm": {
     "name": "#%% md\n"
    }
   }
  },
  {
   "cell_type": "code",
   "execution_count": 32,
   "outputs": [],
   "source": [
    "def fill_missing(df, matrix, column_name):\n",
    "    columns = set(df['y_pred'].values) | set(df[column_name].values)\n",
    "    columns = list(columns)\n",
    "    matrix = matrix.reindex(columns = columns)\n",
    "    matrix = np.transpose(matrix)\n",
    "    matrix = matrix.reindex(columns = columns)\n",
    "    matrix = np.transpose(matrix)\n",
    "    matrix[np.isnan(matrix)] = 0\n",
    "    return matrix"
   ],
   "metadata": {
    "collapsed": false,
    "pycharm": {
     "name": "#%%\n"
    }
   }
  },
  {
   "cell_type": "markdown",
   "source": [
    "First, check whether the network also predicts the last location as the next location in most cases."
   ],
   "metadata": {
    "collapsed": false,
    "pycharm": {
     "name": "#%% md\n"
    }
   }
  },
  {
   "cell_type": "code",
   "execution_count": 33,
   "outputs": [
    {
     "data": {
      "text/plain": "y_pred     0    1    2    3      4    6    7      8    9    10  ...   29   30  \\\nloc_15                                                          ...             \n0       206.0  0.0  0.0  0.0  118.0  0.0  0.0   71.0  0.0  0.0  ...  0.0  0.0   \n1         9.0  0.0  0.0  0.0   12.0  0.0  0.0    1.0  0.0  0.0  ...  0.0  0.0   \n2        12.0  0.0  0.0  0.0    6.0  0.0  0.0    4.0  0.0  0.0  ...  0.0  0.0   \n3        15.0  0.0  0.0  0.0    1.0  0.0  0.0    3.0  0.0  0.0  ...  0.0  0.0   \n4        84.0  0.0  0.0  0.0  231.0  0.0  0.0   84.0  0.0  0.0  ...  0.0  0.0   \n6        44.0  0.0  0.0  0.0   13.0  0.0  0.0   10.0  0.0  0.0  ...  0.0  0.0   \n7        25.0  0.0  0.0  0.0    4.0  0.0  0.0    8.0  0.0  0.0  ...  0.0  0.0   \n8       121.0  0.0  0.0  0.0   87.0  0.0  0.0  114.0  0.0  0.0  ...  0.0  0.0   \n9        33.0  0.0  0.0  0.0   33.0  0.0  0.0   31.0  0.0  0.0  ...  0.0  0.0   \n10       15.0  0.0  0.0  0.0   10.0  0.0  0.0    4.0  0.0  0.0  ...  0.0  0.0   \n11        1.0  0.0  0.0  0.0    1.0  0.0  0.0    0.0  0.0  0.0  ...  0.0  0.0   \n12        5.0  0.0  0.0  0.0    2.0  0.0  0.0    1.0  0.0  0.0  ...  0.0  0.0   \n13       18.0  0.0  0.0  0.0   18.0  0.0  0.0    3.0  0.0  0.0  ...  0.0  0.0   \n14        0.0  0.0  0.0  0.0    1.0  0.0  0.0    0.0  0.0  0.0  ...  0.0  0.0   \n15       35.0  0.0  0.0  0.0   19.0  0.0  0.0    5.0  0.0  0.0  ...  0.0  0.0   \n16        0.0  0.0  0.0  0.0    0.0  0.0  0.0    0.0  0.0  0.0  ...  0.0  0.0   \n17        1.0  0.0  0.0  0.0    1.0  0.0  0.0    0.0  0.0  0.0  ...  0.0  0.0   \n18       48.0  0.0  0.0  0.0   57.0  0.0  0.0   57.0  0.0  0.0  ...  0.0  0.0   \n19        2.0  0.0  0.0  0.0   12.0  0.0  0.0    0.0  0.0  0.0  ...  0.0  0.0   \n20       13.0  0.0  0.0  0.0   10.0  0.0  0.0    1.0  0.0  0.0  ...  0.0  0.0   \n24       10.0  0.0  0.0  0.0    9.0  0.0  0.0    6.0  0.0  0.0  ...  0.0  0.0   \n25        0.0  0.0  0.0  0.0    3.0  0.0  0.0    0.0  0.0  0.0  ...  0.0  0.0   \n28        1.0  0.0  0.0  0.0    1.0  0.0  0.0    0.0  0.0  0.0  ...  0.0  0.0   \n29        5.0  0.0  0.0  0.0   13.0  0.0  0.0    0.0  0.0  0.0  ...  0.0  0.0   \n30        0.0  0.0  0.0  0.0    9.0  0.0  0.0    3.0  0.0  0.0  ...  0.0  0.0   \n34        2.0  0.0  0.0  0.0    2.0  0.0  0.0    0.0  0.0  0.0  ...  0.0  0.0   \n35        0.0  0.0  0.0  0.0    1.0  0.0  0.0    0.0  0.0  0.0  ...  0.0  0.0   \n36        0.0  0.0  0.0  0.0    2.0  0.0  0.0    0.0  0.0  0.0  ...  0.0  0.0   \n37        1.0  0.0  0.0  0.0    5.0  0.0  0.0    0.0  0.0  0.0  ...  0.0  0.0   \n38        0.0  0.0  0.0  0.0    0.0  0.0  0.0    1.0  0.0  0.0  ...  0.0  0.0   \n39        1.0  0.0  0.0  0.0    3.0  0.0  0.0    0.0  0.0  0.0  ...  0.0  0.0   \n42        4.0  0.0  0.0  0.0    7.0  0.0  0.0    1.0  0.0  0.0  ...  0.0  0.0   \n43        0.0  0.0  0.0  0.0    0.0  0.0  0.0    2.0  0.0  0.0  ...  0.0  0.0   \n\ny_pred   34   35   36   37   38   39   42   43  \nloc_15                                          \n0       0.0  0.0  0.0  0.0  0.0  0.0  0.0  0.0  \n1       0.0  0.0  0.0  0.0  0.0  0.0  0.0  0.0  \n2       0.0  0.0  0.0  0.0  0.0  0.0  0.0  0.0  \n3       0.0  0.0  0.0  0.0  0.0  0.0  0.0  0.0  \n4       0.0  0.0  0.0  0.0  0.0  0.0  0.0  0.0  \n6       0.0  0.0  0.0  0.0  0.0  0.0  0.0  0.0  \n7       0.0  0.0  0.0  0.0  0.0  0.0  0.0  0.0  \n8       0.0  0.0  0.0  0.0  0.0  0.0  0.0  0.0  \n9       0.0  0.0  0.0  0.0  0.0  0.0  0.0  0.0  \n10      0.0  0.0  0.0  0.0  0.0  0.0  0.0  0.0  \n11      0.0  0.0  0.0  0.0  0.0  0.0  0.0  0.0  \n12      0.0  0.0  0.0  0.0  0.0  0.0  0.0  0.0  \n13      0.0  0.0  0.0  0.0  0.0  0.0  0.0  0.0  \n14      0.0  0.0  0.0  0.0  0.0  0.0  0.0  0.0  \n15      0.0  0.0  0.0  0.0  0.0  0.0  0.0  0.0  \n16      0.0  0.0  0.0  0.0  0.0  0.0  0.0  0.0  \n17      0.0  0.0  0.0  0.0  0.0  0.0  0.0  0.0  \n18      0.0  0.0  0.0  0.0  0.0  0.0  0.0  0.0  \n19      0.0  0.0  0.0  0.0  0.0  0.0  0.0  0.0  \n20      0.0  0.0  0.0  0.0  0.0  0.0  0.0  0.0  \n24      0.0  0.0  0.0  0.0  0.0  0.0  0.0  0.0  \n25      0.0  0.0  0.0  0.0  0.0  0.0  0.0  0.0  \n28      0.0  0.0  0.0  0.0  0.0  0.0  0.0  0.0  \n29      0.0  0.0  0.0  0.0  0.0  0.0  0.0  0.0  \n30      0.0  0.0  0.0  0.0  0.0  0.0  0.0  0.0  \n34      0.0  0.0  0.0  0.0  0.0  0.0  0.0  0.0  \n35      0.0  0.0  0.0  0.0  0.0  0.0  0.0  0.0  \n36      0.0  0.0  0.0  0.0  0.0  0.0  0.0  0.0  \n37      0.0  0.0  0.0  0.0  0.0  0.0  0.0  0.0  \n38      0.0  0.0  0.0  0.0  0.0  0.0  0.0  0.0  \n39      0.0  0.0  0.0  0.0  0.0  0.0  0.0  0.0  \n42      0.0  0.0  0.0  0.0  0.0  0.0  0.0  0.0  \n43      0.0  0.0  0.0  0.0  0.0  0.0  0.0  0.0  \n\n[33 rows x 33 columns]",
      "text/html": "<div>\n<style scoped>\n    .dataframe tbody tr th:only-of-type {\n        vertical-align: middle;\n    }\n\n    .dataframe tbody tr th {\n        vertical-align: top;\n    }\n\n    .dataframe thead th {\n        text-align: right;\n    }\n</style>\n<table border=\"1\" class=\"dataframe\">\n  <thead>\n    <tr style=\"text-align: right;\">\n      <th>y_pred</th>\n      <th>0</th>\n      <th>1</th>\n      <th>2</th>\n      <th>3</th>\n      <th>4</th>\n      <th>6</th>\n      <th>7</th>\n      <th>8</th>\n      <th>9</th>\n      <th>10</th>\n      <th>...</th>\n      <th>29</th>\n      <th>30</th>\n      <th>34</th>\n      <th>35</th>\n      <th>36</th>\n      <th>37</th>\n      <th>38</th>\n      <th>39</th>\n      <th>42</th>\n      <th>43</th>\n    </tr>\n    <tr>\n      <th>loc_15</th>\n      <th></th>\n      <th></th>\n      <th></th>\n      <th></th>\n      <th></th>\n      <th></th>\n      <th></th>\n      <th></th>\n      <th></th>\n      <th></th>\n      <th></th>\n      <th></th>\n      <th></th>\n      <th></th>\n      <th></th>\n      <th></th>\n      <th></th>\n      <th></th>\n      <th></th>\n      <th></th>\n      <th></th>\n    </tr>\n  </thead>\n  <tbody>\n    <tr>\n      <th>0</th>\n      <td>206.0</td>\n      <td>0.0</td>\n      <td>0.0</td>\n      <td>0.0</td>\n      <td>118.0</td>\n      <td>0.0</td>\n      <td>0.0</td>\n      <td>71.0</td>\n      <td>0.0</td>\n      <td>0.0</td>\n      <td>...</td>\n      <td>0.0</td>\n      <td>0.0</td>\n      <td>0.0</td>\n      <td>0.0</td>\n      <td>0.0</td>\n      <td>0.0</td>\n      <td>0.0</td>\n      <td>0.0</td>\n      <td>0.0</td>\n      <td>0.0</td>\n    </tr>\n    <tr>\n      <th>1</th>\n      <td>9.0</td>\n      <td>0.0</td>\n      <td>0.0</td>\n      <td>0.0</td>\n      <td>12.0</td>\n      <td>0.0</td>\n      <td>0.0</td>\n      <td>1.0</td>\n      <td>0.0</td>\n      <td>0.0</td>\n      <td>...</td>\n      <td>0.0</td>\n      <td>0.0</td>\n      <td>0.0</td>\n      <td>0.0</td>\n      <td>0.0</td>\n      <td>0.0</td>\n      <td>0.0</td>\n      <td>0.0</td>\n      <td>0.0</td>\n      <td>0.0</td>\n    </tr>\n    <tr>\n      <th>2</th>\n      <td>12.0</td>\n      <td>0.0</td>\n      <td>0.0</td>\n      <td>0.0</td>\n      <td>6.0</td>\n      <td>0.0</td>\n      <td>0.0</td>\n      <td>4.0</td>\n      <td>0.0</td>\n      <td>0.0</td>\n      <td>...</td>\n      <td>0.0</td>\n      <td>0.0</td>\n      <td>0.0</td>\n      <td>0.0</td>\n      <td>0.0</td>\n      <td>0.0</td>\n      <td>0.0</td>\n      <td>0.0</td>\n      <td>0.0</td>\n      <td>0.0</td>\n    </tr>\n    <tr>\n      <th>3</th>\n      <td>15.0</td>\n      <td>0.0</td>\n      <td>0.0</td>\n      <td>0.0</td>\n      <td>1.0</td>\n      <td>0.0</td>\n      <td>0.0</td>\n      <td>3.0</td>\n      <td>0.0</td>\n      <td>0.0</td>\n      <td>...</td>\n      <td>0.0</td>\n      <td>0.0</td>\n      <td>0.0</td>\n      <td>0.0</td>\n      <td>0.0</td>\n      <td>0.0</td>\n      <td>0.0</td>\n      <td>0.0</td>\n      <td>0.0</td>\n      <td>0.0</td>\n    </tr>\n    <tr>\n      <th>4</th>\n      <td>84.0</td>\n      <td>0.0</td>\n      <td>0.0</td>\n      <td>0.0</td>\n      <td>231.0</td>\n      <td>0.0</td>\n      <td>0.0</td>\n      <td>84.0</td>\n      <td>0.0</td>\n      <td>0.0</td>\n      <td>...</td>\n      <td>0.0</td>\n      <td>0.0</td>\n      <td>0.0</td>\n      <td>0.0</td>\n      <td>0.0</td>\n      <td>0.0</td>\n      <td>0.0</td>\n      <td>0.0</td>\n      <td>0.0</td>\n      <td>0.0</td>\n    </tr>\n    <tr>\n      <th>6</th>\n      <td>44.0</td>\n      <td>0.0</td>\n      <td>0.0</td>\n      <td>0.0</td>\n      <td>13.0</td>\n      <td>0.0</td>\n      <td>0.0</td>\n      <td>10.0</td>\n      <td>0.0</td>\n      <td>0.0</td>\n      <td>...</td>\n      <td>0.0</td>\n      <td>0.0</td>\n      <td>0.0</td>\n      <td>0.0</td>\n      <td>0.0</td>\n      <td>0.0</td>\n      <td>0.0</td>\n      <td>0.0</td>\n      <td>0.0</td>\n      <td>0.0</td>\n    </tr>\n    <tr>\n      <th>7</th>\n      <td>25.0</td>\n      <td>0.0</td>\n      <td>0.0</td>\n      <td>0.0</td>\n      <td>4.0</td>\n      <td>0.0</td>\n      <td>0.0</td>\n      <td>8.0</td>\n      <td>0.0</td>\n      <td>0.0</td>\n      <td>...</td>\n      <td>0.0</td>\n      <td>0.0</td>\n      <td>0.0</td>\n      <td>0.0</td>\n      <td>0.0</td>\n      <td>0.0</td>\n      <td>0.0</td>\n      <td>0.0</td>\n      <td>0.0</td>\n      <td>0.0</td>\n    </tr>\n    <tr>\n      <th>8</th>\n      <td>121.0</td>\n      <td>0.0</td>\n      <td>0.0</td>\n      <td>0.0</td>\n      <td>87.0</td>\n      <td>0.0</td>\n      <td>0.0</td>\n      <td>114.0</td>\n      <td>0.0</td>\n      <td>0.0</td>\n      <td>...</td>\n      <td>0.0</td>\n      <td>0.0</td>\n      <td>0.0</td>\n      <td>0.0</td>\n      <td>0.0</td>\n      <td>0.0</td>\n      <td>0.0</td>\n      <td>0.0</td>\n      <td>0.0</td>\n      <td>0.0</td>\n    </tr>\n    <tr>\n      <th>9</th>\n      <td>33.0</td>\n      <td>0.0</td>\n      <td>0.0</td>\n      <td>0.0</td>\n      <td>33.0</td>\n      <td>0.0</td>\n      <td>0.0</td>\n      <td>31.0</td>\n      <td>0.0</td>\n      <td>0.0</td>\n      <td>...</td>\n      <td>0.0</td>\n      <td>0.0</td>\n      <td>0.0</td>\n      <td>0.0</td>\n      <td>0.0</td>\n      <td>0.0</td>\n      <td>0.0</td>\n      <td>0.0</td>\n      <td>0.0</td>\n      <td>0.0</td>\n    </tr>\n    <tr>\n      <th>10</th>\n      <td>15.0</td>\n      <td>0.0</td>\n      <td>0.0</td>\n      <td>0.0</td>\n      <td>10.0</td>\n      <td>0.0</td>\n      <td>0.0</td>\n      <td>4.0</td>\n      <td>0.0</td>\n      <td>0.0</td>\n      <td>...</td>\n      <td>0.0</td>\n      <td>0.0</td>\n      <td>0.0</td>\n      <td>0.0</td>\n      <td>0.0</td>\n      <td>0.0</td>\n      <td>0.0</td>\n      <td>0.0</td>\n      <td>0.0</td>\n      <td>0.0</td>\n    </tr>\n    <tr>\n      <th>11</th>\n      <td>1.0</td>\n      <td>0.0</td>\n      <td>0.0</td>\n      <td>0.0</td>\n      <td>1.0</td>\n      <td>0.0</td>\n      <td>0.0</td>\n      <td>0.0</td>\n      <td>0.0</td>\n      <td>0.0</td>\n      <td>...</td>\n      <td>0.0</td>\n      <td>0.0</td>\n      <td>0.0</td>\n      <td>0.0</td>\n      <td>0.0</td>\n      <td>0.0</td>\n      <td>0.0</td>\n      <td>0.0</td>\n      <td>0.0</td>\n      <td>0.0</td>\n    </tr>\n    <tr>\n      <th>12</th>\n      <td>5.0</td>\n      <td>0.0</td>\n      <td>0.0</td>\n      <td>0.0</td>\n      <td>2.0</td>\n      <td>0.0</td>\n      <td>0.0</td>\n      <td>1.0</td>\n      <td>0.0</td>\n      <td>0.0</td>\n      <td>...</td>\n      <td>0.0</td>\n      <td>0.0</td>\n      <td>0.0</td>\n      <td>0.0</td>\n      <td>0.0</td>\n      <td>0.0</td>\n      <td>0.0</td>\n      <td>0.0</td>\n      <td>0.0</td>\n      <td>0.0</td>\n    </tr>\n    <tr>\n      <th>13</th>\n      <td>18.0</td>\n      <td>0.0</td>\n      <td>0.0</td>\n      <td>0.0</td>\n      <td>18.0</td>\n      <td>0.0</td>\n      <td>0.0</td>\n      <td>3.0</td>\n      <td>0.0</td>\n      <td>0.0</td>\n      <td>...</td>\n      <td>0.0</td>\n      <td>0.0</td>\n      <td>0.0</td>\n      <td>0.0</td>\n      <td>0.0</td>\n      <td>0.0</td>\n      <td>0.0</td>\n      <td>0.0</td>\n      <td>0.0</td>\n      <td>0.0</td>\n    </tr>\n    <tr>\n      <th>14</th>\n      <td>0.0</td>\n      <td>0.0</td>\n      <td>0.0</td>\n      <td>0.0</td>\n      <td>1.0</td>\n      <td>0.0</td>\n      <td>0.0</td>\n      <td>0.0</td>\n      <td>0.0</td>\n      <td>0.0</td>\n      <td>...</td>\n      <td>0.0</td>\n      <td>0.0</td>\n      <td>0.0</td>\n      <td>0.0</td>\n      <td>0.0</td>\n      <td>0.0</td>\n      <td>0.0</td>\n      <td>0.0</td>\n      <td>0.0</td>\n      <td>0.0</td>\n    </tr>\n    <tr>\n      <th>15</th>\n      <td>35.0</td>\n      <td>0.0</td>\n      <td>0.0</td>\n      <td>0.0</td>\n      <td>19.0</td>\n      <td>0.0</td>\n      <td>0.0</td>\n      <td>5.0</td>\n      <td>0.0</td>\n      <td>0.0</td>\n      <td>...</td>\n      <td>0.0</td>\n      <td>0.0</td>\n      <td>0.0</td>\n      <td>0.0</td>\n      <td>0.0</td>\n      <td>0.0</td>\n      <td>0.0</td>\n      <td>0.0</td>\n      <td>0.0</td>\n      <td>0.0</td>\n    </tr>\n    <tr>\n      <th>16</th>\n      <td>0.0</td>\n      <td>0.0</td>\n      <td>0.0</td>\n      <td>0.0</td>\n      <td>0.0</td>\n      <td>0.0</td>\n      <td>0.0</td>\n      <td>0.0</td>\n      <td>0.0</td>\n      <td>0.0</td>\n      <td>...</td>\n      <td>0.0</td>\n      <td>0.0</td>\n      <td>0.0</td>\n      <td>0.0</td>\n      <td>0.0</td>\n      <td>0.0</td>\n      <td>0.0</td>\n      <td>0.0</td>\n      <td>0.0</td>\n      <td>0.0</td>\n    </tr>\n    <tr>\n      <th>17</th>\n      <td>1.0</td>\n      <td>0.0</td>\n      <td>0.0</td>\n      <td>0.0</td>\n      <td>1.0</td>\n      <td>0.0</td>\n      <td>0.0</td>\n      <td>0.0</td>\n      <td>0.0</td>\n      <td>0.0</td>\n      <td>...</td>\n      <td>0.0</td>\n      <td>0.0</td>\n      <td>0.0</td>\n      <td>0.0</td>\n      <td>0.0</td>\n      <td>0.0</td>\n      <td>0.0</td>\n      <td>0.0</td>\n      <td>0.0</td>\n      <td>0.0</td>\n    </tr>\n    <tr>\n      <th>18</th>\n      <td>48.0</td>\n      <td>0.0</td>\n      <td>0.0</td>\n      <td>0.0</td>\n      <td>57.0</td>\n      <td>0.0</td>\n      <td>0.0</td>\n      <td>57.0</td>\n      <td>0.0</td>\n      <td>0.0</td>\n      <td>...</td>\n      <td>0.0</td>\n      <td>0.0</td>\n      <td>0.0</td>\n      <td>0.0</td>\n      <td>0.0</td>\n      <td>0.0</td>\n      <td>0.0</td>\n      <td>0.0</td>\n      <td>0.0</td>\n      <td>0.0</td>\n    </tr>\n    <tr>\n      <th>19</th>\n      <td>2.0</td>\n      <td>0.0</td>\n      <td>0.0</td>\n      <td>0.0</td>\n      <td>12.0</td>\n      <td>0.0</td>\n      <td>0.0</td>\n      <td>0.0</td>\n      <td>0.0</td>\n      <td>0.0</td>\n      <td>...</td>\n      <td>0.0</td>\n      <td>0.0</td>\n      <td>0.0</td>\n      <td>0.0</td>\n      <td>0.0</td>\n      <td>0.0</td>\n      <td>0.0</td>\n      <td>0.0</td>\n      <td>0.0</td>\n      <td>0.0</td>\n    </tr>\n    <tr>\n      <th>20</th>\n      <td>13.0</td>\n      <td>0.0</td>\n      <td>0.0</td>\n      <td>0.0</td>\n      <td>10.0</td>\n      <td>0.0</td>\n      <td>0.0</td>\n      <td>1.0</td>\n      <td>0.0</td>\n      <td>0.0</td>\n      <td>...</td>\n      <td>0.0</td>\n      <td>0.0</td>\n      <td>0.0</td>\n      <td>0.0</td>\n      <td>0.0</td>\n      <td>0.0</td>\n      <td>0.0</td>\n      <td>0.0</td>\n      <td>0.0</td>\n      <td>0.0</td>\n    </tr>\n    <tr>\n      <th>24</th>\n      <td>10.0</td>\n      <td>0.0</td>\n      <td>0.0</td>\n      <td>0.0</td>\n      <td>9.0</td>\n      <td>0.0</td>\n      <td>0.0</td>\n      <td>6.0</td>\n      <td>0.0</td>\n      <td>0.0</td>\n      <td>...</td>\n      <td>0.0</td>\n      <td>0.0</td>\n      <td>0.0</td>\n      <td>0.0</td>\n      <td>0.0</td>\n      <td>0.0</td>\n      <td>0.0</td>\n      <td>0.0</td>\n      <td>0.0</td>\n      <td>0.0</td>\n    </tr>\n    <tr>\n      <th>25</th>\n      <td>0.0</td>\n      <td>0.0</td>\n      <td>0.0</td>\n      <td>0.0</td>\n      <td>3.0</td>\n      <td>0.0</td>\n      <td>0.0</td>\n      <td>0.0</td>\n      <td>0.0</td>\n      <td>0.0</td>\n      <td>...</td>\n      <td>0.0</td>\n      <td>0.0</td>\n      <td>0.0</td>\n      <td>0.0</td>\n      <td>0.0</td>\n      <td>0.0</td>\n      <td>0.0</td>\n      <td>0.0</td>\n      <td>0.0</td>\n      <td>0.0</td>\n    </tr>\n    <tr>\n      <th>28</th>\n      <td>1.0</td>\n      <td>0.0</td>\n      <td>0.0</td>\n      <td>0.0</td>\n      <td>1.0</td>\n      <td>0.0</td>\n      <td>0.0</td>\n      <td>0.0</td>\n      <td>0.0</td>\n      <td>0.0</td>\n      <td>...</td>\n      <td>0.0</td>\n      <td>0.0</td>\n      <td>0.0</td>\n      <td>0.0</td>\n      <td>0.0</td>\n      <td>0.0</td>\n      <td>0.0</td>\n      <td>0.0</td>\n      <td>0.0</td>\n      <td>0.0</td>\n    </tr>\n    <tr>\n      <th>29</th>\n      <td>5.0</td>\n      <td>0.0</td>\n      <td>0.0</td>\n      <td>0.0</td>\n      <td>13.0</td>\n      <td>0.0</td>\n      <td>0.0</td>\n      <td>0.0</td>\n      <td>0.0</td>\n      <td>0.0</td>\n      <td>...</td>\n      <td>0.0</td>\n      <td>0.0</td>\n      <td>0.0</td>\n      <td>0.0</td>\n      <td>0.0</td>\n      <td>0.0</td>\n      <td>0.0</td>\n      <td>0.0</td>\n      <td>0.0</td>\n      <td>0.0</td>\n    </tr>\n    <tr>\n      <th>30</th>\n      <td>0.0</td>\n      <td>0.0</td>\n      <td>0.0</td>\n      <td>0.0</td>\n      <td>9.0</td>\n      <td>0.0</td>\n      <td>0.0</td>\n      <td>3.0</td>\n      <td>0.0</td>\n      <td>0.0</td>\n      <td>...</td>\n      <td>0.0</td>\n      <td>0.0</td>\n      <td>0.0</td>\n      <td>0.0</td>\n      <td>0.0</td>\n      <td>0.0</td>\n      <td>0.0</td>\n      <td>0.0</td>\n      <td>0.0</td>\n      <td>0.0</td>\n    </tr>\n    <tr>\n      <th>34</th>\n      <td>2.0</td>\n      <td>0.0</td>\n      <td>0.0</td>\n      <td>0.0</td>\n      <td>2.0</td>\n      <td>0.0</td>\n      <td>0.0</td>\n      <td>0.0</td>\n      <td>0.0</td>\n      <td>0.0</td>\n      <td>...</td>\n      <td>0.0</td>\n      <td>0.0</td>\n      <td>0.0</td>\n      <td>0.0</td>\n      <td>0.0</td>\n      <td>0.0</td>\n      <td>0.0</td>\n      <td>0.0</td>\n      <td>0.0</td>\n      <td>0.0</td>\n    </tr>\n    <tr>\n      <th>35</th>\n      <td>0.0</td>\n      <td>0.0</td>\n      <td>0.0</td>\n      <td>0.0</td>\n      <td>1.0</td>\n      <td>0.0</td>\n      <td>0.0</td>\n      <td>0.0</td>\n      <td>0.0</td>\n      <td>0.0</td>\n      <td>...</td>\n      <td>0.0</td>\n      <td>0.0</td>\n      <td>0.0</td>\n      <td>0.0</td>\n      <td>0.0</td>\n      <td>0.0</td>\n      <td>0.0</td>\n      <td>0.0</td>\n      <td>0.0</td>\n      <td>0.0</td>\n    </tr>\n    <tr>\n      <th>36</th>\n      <td>0.0</td>\n      <td>0.0</td>\n      <td>0.0</td>\n      <td>0.0</td>\n      <td>2.0</td>\n      <td>0.0</td>\n      <td>0.0</td>\n      <td>0.0</td>\n      <td>0.0</td>\n      <td>0.0</td>\n      <td>...</td>\n      <td>0.0</td>\n      <td>0.0</td>\n      <td>0.0</td>\n      <td>0.0</td>\n      <td>0.0</td>\n      <td>0.0</td>\n      <td>0.0</td>\n      <td>0.0</td>\n      <td>0.0</td>\n      <td>0.0</td>\n    </tr>\n    <tr>\n      <th>37</th>\n      <td>1.0</td>\n      <td>0.0</td>\n      <td>0.0</td>\n      <td>0.0</td>\n      <td>5.0</td>\n      <td>0.0</td>\n      <td>0.0</td>\n      <td>0.0</td>\n      <td>0.0</td>\n      <td>0.0</td>\n      <td>...</td>\n      <td>0.0</td>\n      <td>0.0</td>\n      <td>0.0</td>\n      <td>0.0</td>\n      <td>0.0</td>\n      <td>0.0</td>\n      <td>0.0</td>\n      <td>0.0</td>\n      <td>0.0</td>\n      <td>0.0</td>\n    </tr>\n    <tr>\n      <th>38</th>\n      <td>0.0</td>\n      <td>0.0</td>\n      <td>0.0</td>\n      <td>0.0</td>\n      <td>0.0</td>\n      <td>0.0</td>\n      <td>0.0</td>\n      <td>1.0</td>\n      <td>0.0</td>\n      <td>0.0</td>\n      <td>...</td>\n      <td>0.0</td>\n      <td>0.0</td>\n      <td>0.0</td>\n      <td>0.0</td>\n      <td>0.0</td>\n      <td>0.0</td>\n      <td>0.0</td>\n      <td>0.0</td>\n      <td>0.0</td>\n      <td>0.0</td>\n    </tr>\n    <tr>\n      <th>39</th>\n      <td>1.0</td>\n      <td>0.0</td>\n      <td>0.0</td>\n      <td>0.0</td>\n      <td>3.0</td>\n      <td>0.0</td>\n      <td>0.0</td>\n      <td>0.0</td>\n      <td>0.0</td>\n      <td>0.0</td>\n      <td>...</td>\n      <td>0.0</td>\n      <td>0.0</td>\n      <td>0.0</td>\n      <td>0.0</td>\n      <td>0.0</td>\n      <td>0.0</td>\n      <td>0.0</td>\n      <td>0.0</td>\n      <td>0.0</td>\n      <td>0.0</td>\n    </tr>\n    <tr>\n      <th>42</th>\n      <td>4.0</td>\n      <td>0.0</td>\n      <td>0.0</td>\n      <td>0.0</td>\n      <td>7.0</td>\n      <td>0.0</td>\n      <td>0.0</td>\n      <td>1.0</td>\n      <td>0.0</td>\n      <td>0.0</td>\n      <td>...</td>\n      <td>0.0</td>\n      <td>0.0</td>\n      <td>0.0</td>\n      <td>0.0</td>\n      <td>0.0</td>\n      <td>0.0</td>\n      <td>0.0</td>\n      <td>0.0</td>\n      <td>0.0</td>\n      <td>0.0</td>\n    </tr>\n    <tr>\n      <th>43</th>\n      <td>0.0</td>\n      <td>0.0</td>\n      <td>0.0</td>\n      <td>0.0</td>\n      <td>0.0</td>\n      <td>0.0</td>\n      <td>0.0</td>\n      <td>2.0</td>\n      <td>0.0</td>\n      <td>0.0</td>\n      <td>...</td>\n      <td>0.0</td>\n      <td>0.0</td>\n      <td>0.0</td>\n      <td>0.0</td>\n      <td>0.0</td>\n      <td>0.0</td>\n      <td>0.0</td>\n      <td>0.0</td>\n      <td>0.0</td>\n      <td>0.0</td>\n    </tr>\n  </tbody>\n</table>\n<p>33 rows × 33 columns</p>\n</div>"
     },
     "execution_count": 33,
     "metadata": {},
     "output_type": "execute_result"
    }
   ],
   "source": [
    "matrix = df.groupby(['y_pred', 'loc_15']).size().unstack(fill_value=0, level=0)\n",
    "matrix = fill_missing(df, matrix, 'loc_15')\n",
    "matrix"
   ],
   "metadata": {
    "collapsed": false,
    "pycharm": {
     "name": "#%%\n"
    }
   }
  },
  {
   "cell_type": "markdown",
   "source": [
    "Define custom color coding for the heatmap."
   ],
   "metadata": {
    "collapsed": false,
    "pycharm": {
     "name": "#%% md\n"
    }
   }
  },
  {
   "cell_type": "code",
   "execution_count": 34,
   "outputs": [
    {
     "data": {
      "text/plain": "<Figure size 1500x300 with 1 Axes>",
      "image/png": "[encoded data removed]"
     },
     "metadata": {},
     "output_type": "display_data"
    }
   ],
   "source": [
    "from colour import Color\n",
    "import matplotlib.pyplot as plt\n",
    "from matplotlib.colors import LinearSegmentedColormap\n",
    "%matplotlib inline\n",
    "\n",
    "def make_Ramp( ramp_colors ):\n",
    "\n",
    "    color_ramp = LinearSegmentedColormap.from_list( 'my_list', [ Color( c1 ).rgb for c1 in ramp_colors ] )\n",
    "    plt.figure( figsize = (15,3))\n",
    "    plt.imshow( [list(np.arange(0, len( ramp_colors ) , 0.1)) ] , interpolation='nearest', origin='lower', cmap= color_ramp )\n",
    "    plt.xticks([])\n",
    "    plt.yticks([])\n",
    "    return color_ramp\n",
    "\n",
    "custom_ramp = make_Ramp( ['#ffffff', '#5ede00', '#d24e01', '#ff0000', '#ff0000', '#ff0000', '#ff0000', '#ff0000', '#ff0000', '#ff0000', '#ff0000', '#ff0000', '#ff0000'] )"
   ],
   "metadata": {
    "collapsed": false,
    "pycharm": {
     "name": "#%%\n"
    }
   }
  },
  {
   "cell_type": "markdown",
   "source": [
    "Plot the matrix of the first analysis."
   ],
   "metadata": {
    "collapsed": false,
    "pycharm": {
     "name": "#%% md\n"
    }
   }
  },
  {
   "cell_type": "code",
   "execution_count": 35,
   "outputs": [
    {
     "data": {
      "text/plain": "<Figure size 640x480 with 2 Axes>",
      "image/png": "[encoded data removed]"
     },
     "metadata": {},
     "output_type": "display_data"
    }
   ],
   "source": [
    "import seaborn as sns\n",
    "\n",
    "ax = sns.heatmap(matrix,  cmap=custom_ramp)\n",
    "ax.invert_yaxis()"
   ],
   "metadata": {
    "collapsed": false,
    "pycharm": {
     "name": "#%%\n"
    }
   }
  },
  {
   "cell_type": "markdown",
   "source": [
    "It can be seen that in case of the cincinnati data, the network does not learn to predict the last location as the next location.\n",
    "This is a more satisfying result.\n",
    "The model seems to be able to learn a pattern for the vehicle used in the training dataset."
   ],
   "metadata": {
    "collapsed": false,
    "pycharm": {
     "name": "#%% md\n"
    }
   }
  },
  {
   "cell_type": "markdown",
   "source": [
    "Use the first location to create the matrix and plot the heatmap."
   ],
   "metadata": {
    "collapsed": false,
    "pycharm": {
     "name": "#%% md\n"
    }
   }
  },
  {
   "cell_type": "code",
   "execution_count": 36,
   "outputs": [
    {
     "data": {
      "text/plain": "y_pred     0    1    2    3      4    6    7      8    9    10  ...   29   30  \\\nloc_0                                                           ...             \n0       192.0  0.0  0.0  0.0  152.0  0.0  0.0   64.0  0.0  0.0  ...  0.0  0.0   \n1         9.0  0.0  0.0  0.0    5.0  0.0  0.0    5.0  0.0  0.0  ...  0.0  0.0   \n2        12.0  0.0  0.0  0.0    6.0  0.0  0.0    7.0  0.0  0.0  ...  0.0  0.0   \n3        19.0  0.0  0.0  0.0    4.0  0.0  0.0    1.0  0.0  0.0  ...  0.0  0.0   \n4       114.0  0.0  0.0  0.0  160.0  0.0  0.0  101.0  0.0  0.0  ...  0.0  0.0   \n6        23.0  0.0  0.0  0.0   23.0  0.0  0.0   11.0  0.0  0.0  ...  0.0  0.0   \n7        16.0  0.0  0.0  0.0   11.0  0.0  0.0   12.0  0.0  0.0  ...  0.0  0.0   \n8       119.0  0.0  0.0  0.0  100.0  0.0  0.0   75.0  0.0  0.0  ...  0.0  0.0   \n9        35.0  0.0  0.0  0.0   38.0  0.0  0.0   21.0  0.0  0.0  ...  0.0  0.0   \n10       11.0  0.0  0.0  0.0   10.0  0.0  0.0    3.0  0.0  0.0  ...  0.0  0.0   \n11        0.0  0.0  0.0  0.0    2.0  0.0  0.0    0.0  0.0  0.0  ...  0.0  0.0   \n12        6.0  0.0  0.0  0.0    7.0  0.0  0.0    0.0  0.0  0.0  ...  0.0  0.0   \n13       15.0  0.0  0.0  0.0   10.0  0.0  0.0    9.0  0.0  0.0  ...  0.0  0.0   \n14        0.0  0.0  0.0  0.0    0.0  0.0  0.0    0.0  0.0  0.0  ...  0.0  0.0   \n15       33.0  0.0  0.0  0.0   19.0  0.0  0.0   16.0  0.0  0.0  ...  0.0  0.0   \n17        1.0  0.0  0.0  0.0    1.0  0.0  0.0    0.0  0.0  0.0  ...  0.0  0.0   \n18       59.0  0.0  0.0  0.0   75.0  0.0  0.0   73.0  0.0  0.0  ...  0.0  0.0   \n19        1.0  0.0  0.0  0.0   11.0  0.0  0.0    1.0  0.0  0.0  ...  0.0  0.0   \n20        9.0  0.0  0.0  0.0    5.0  0.0  0.0    1.0  0.0  0.0  ...  0.0  0.0   \n21        0.0  0.0  0.0  0.0    2.0  0.0  0.0    0.0  0.0  0.0  ...  0.0  0.0   \n22        0.0  0.0  0.0  0.0    1.0  0.0  0.0    0.0  0.0  0.0  ...  0.0  0.0   \n24       21.0  0.0  0.0  0.0    8.0  0.0  0.0    2.0  0.0  0.0  ...  0.0  0.0   \n25        0.0  0.0  0.0  0.0    2.0  0.0  0.0    0.0  0.0  0.0  ...  0.0  0.0   \n28        4.0  0.0  0.0  0.0    2.0  0.0  0.0    0.0  0.0  0.0  ...  0.0  0.0   \n29        6.0  0.0  0.0  0.0   11.0  0.0  0.0    3.0  0.0  0.0  ...  0.0  0.0   \n30        0.0  0.0  0.0  0.0    8.0  0.0  0.0    0.0  0.0  0.0  ...  0.0  0.0   \n34        2.0  0.0  0.0  0.0    3.0  0.0  0.0    1.0  0.0  0.0  ...  0.0  0.0   \n35        0.0  0.0  0.0  0.0    1.0  0.0  0.0    0.0  0.0  0.0  ...  0.0  0.0   \n36        0.0  0.0  0.0  0.0    3.0  0.0  0.0    0.0  0.0  0.0  ...  0.0  0.0   \n37        0.0  0.0  0.0  0.0    4.0  0.0  0.0    3.0  0.0  0.0  ...  0.0  0.0   \n39        1.0  0.0  0.0  0.0    4.0  0.0  0.0    0.0  0.0  0.0  ...  0.0  0.0   \n42        2.0  0.0  0.0  0.0    3.0  0.0  0.0    0.0  0.0  0.0  ...  0.0  0.0   \n43        0.0  0.0  0.0  0.0    0.0  0.0  0.0    1.0  0.0  0.0  ...  0.0  0.0   \n46        1.0  0.0  0.0  0.0    0.0  0.0  0.0    0.0  0.0  0.0  ...  0.0  0.0   \n\ny_pred   34   35   36   37   39   42   43   46  \nloc_0                                           \n0       0.0  0.0  0.0  0.0  0.0  0.0  0.0  0.0  \n1       0.0  0.0  0.0  0.0  0.0  0.0  0.0  0.0  \n2       0.0  0.0  0.0  0.0  0.0  0.0  0.0  0.0  \n3       0.0  0.0  0.0  0.0  0.0  0.0  0.0  0.0  \n4       0.0  0.0  0.0  0.0  0.0  0.0  0.0  0.0  \n6       0.0  0.0  0.0  0.0  0.0  0.0  0.0  0.0  \n7       0.0  0.0  0.0  0.0  0.0  0.0  0.0  0.0  \n8       0.0  0.0  0.0  0.0  0.0  0.0  0.0  0.0  \n9       0.0  0.0  0.0  0.0  0.0  0.0  0.0  0.0  \n10      0.0  0.0  0.0  0.0  0.0  0.0  0.0  0.0  \n11      0.0  0.0  0.0  0.0  0.0  0.0  0.0  0.0  \n12      0.0  0.0  0.0  0.0  0.0  0.0  0.0  0.0  \n13      0.0  0.0  0.0  0.0  0.0  0.0  0.0  0.0  \n14      0.0  0.0  0.0  0.0  0.0  0.0  0.0  0.0  \n15      0.0  0.0  0.0  0.0  0.0  0.0  0.0  0.0  \n17      0.0  0.0  0.0  0.0  0.0  0.0  0.0  0.0  \n18      0.0  0.0  0.0  0.0  0.0  0.0  0.0  0.0  \n19      0.0  0.0  0.0  0.0  0.0  0.0  0.0  0.0  \n20      0.0  0.0  0.0  0.0  0.0  0.0  0.0  0.0  \n21      0.0  0.0  0.0  0.0  0.0  0.0  0.0  0.0  \n22      0.0  0.0  0.0  0.0  0.0  0.0  0.0  0.0  \n24      0.0  0.0  0.0  0.0  0.0  0.0  0.0  0.0  \n25      0.0  0.0  0.0  0.0  0.0  0.0  0.0  0.0  \n28      0.0  0.0  0.0  0.0  0.0  0.0  0.0  0.0  \n29      0.0  0.0  0.0  0.0  0.0  0.0  0.0  0.0  \n30      0.0  0.0  0.0  0.0  0.0  0.0  0.0  0.0  \n34      0.0  0.0  0.0  0.0  0.0  0.0  0.0  0.0  \n35      0.0  0.0  0.0  0.0  0.0  0.0  0.0  0.0  \n36      0.0  0.0  0.0  0.0  0.0  0.0  0.0  0.0  \n37      0.0  0.0  0.0  0.0  0.0  0.0  0.0  0.0  \n39      0.0  0.0  0.0  0.0  0.0  0.0  0.0  0.0  \n42      0.0  0.0  0.0  0.0  0.0  0.0  0.0  0.0  \n43      0.0  0.0  0.0  0.0  0.0  0.0  0.0  0.0  \n46      0.0  0.0  0.0  0.0  0.0  0.0  0.0  0.0  \n\n[34 rows x 34 columns]",
      "text/html": "<div>\n<style scoped>\n    .dataframe tbody tr th:only-of-type {\n        vertical-align: middle;\n    }\n\n    .dataframe tbody tr th {\n        vertical-align: top;\n    }\n\n    .dataframe thead th {\n        text-align: right;\n    }\n</style>\n<table border=\"1\" class=\"dataframe\">\n  <thead>\n    <tr style=\"text-align: right;\">\n      <th>y_pred</th>\n      <th>0</th>\n      <th>1</th>\n      <th>2</th>\n      <th>3</th>\n      <th>4</th>\n      <th>6</th>\n      <th>7</th>\n      <th>8</th>\n      <th>9</th>\n      <th>10</th>\n      <th>...</th>\n      <th>29</th>\n      <th>30</th>\n      <th>34</th>\n      <th>35</th>\n      <th>36</th>\n      <th>37</th>\n      <th>39</th>\n      <th>42</th>\n      <th>43</th>\n      <th>46</th>\n    </tr>\n    <tr>\n      <th>loc_0</th>\n      <th></th>\n      <th></th>\n      <th></th>\n      <th></th>\n      <th></th>\n      <th></th>\n      <th></th>\n      <th></th>\n      <th></th>\n      <th></th>\n      <th></th>\n      <th></th>\n      <th></th>\n      <th></th>\n      <th></th>\n      <th></th>\n      <th></th>\n      <th></th>\n      <th></th>\n      <th></th>\n      <th></th>\n    </tr>\n  </thead>\n  <tbody>\n    <tr>\n      <th>0</th>\n      <td>192.0</td>\n      <td>0.0</td>\n      <td>0.0</td>\n      <td>0.0</td>\n      <td>152.0</td>\n      <td>0.0</td>\n      <td>0.0</td>\n      <td>64.0</td>\n      <td>0.0</td>\n      <td>0.0</td>\n      <td>...</td>\n      <td>0.0</td>\n      <td>0.0</td>\n      <td>0.0</td>\n      <td>0.0</td>\n      <td>0.0</td>\n      <td>0.0</td>\n      <td>0.0</td>\n      <td>0.0</td>\n      <td>0.0</td>\n      <td>0.0</td>\n    </tr>\n    <tr>\n      <th>1</th>\n      <td>9.0</td>\n      <td>0.0</td>\n      <td>0.0</td>\n      <td>0.0</td>\n      <td>5.0</td>\n      <td>0.0</td>\n      <td>0.0</td>\n      <td>5.0</td>\n      <td>0.0</td>\n      <td>0.0</td>\n      <td>...</td>\n      <td>0.0</td>\n      <td>0.0</td>\n      <td>0.0</td>\n      <td>0.0</td>\n      <td>0.0</td>\n      <td>0.0</td>\n      <td>0.0</td>\n      <td>0.0</td>\n      <td>0.0</td>\n      <td>0.0</td>\n    </tr>\n    <tr>\n      <th>2</th>\n      <td>12.0</td>\n      <td>0.0</td>\n      <td>0.0</td>\n      <td>0.0</td>\n      <td>6.0</td>\n      <td>0.0</td>\n      <td>0.0</td>\n      <td>7.0</td>\n      <td>0.0</td>\n      <td>0.0</td>\n      <td>...</td>\n      <td>0.0</td>\n      <td>0.0</td>\n      <td>0.0</td>\n      <td>0.0</td>\n      <td>0.0</td>\n      <td>0.0</td>\n      <td>0.0</td>\n      <td>0.0</td>\n      <td>0.0</td>\n      <td>0.0</td>\n    </tr>\n    <tr>\n      <th>3</th>\n      <td>19.0</td>\n      <td>0.0</td>\n      <td>0.0</td>\n      <td>0.0</td>\n      <td>4.0</td>\n      <td>0.0</td>\n      <td>0.0</td>\n      <td>1.0</td>\n      <td>0.0</td>\n      <td>0.0</td>\n      <td>...</td>\n      <td>0.0</td>\n      <td>0.0</td>\n      <td>0.0</td>\n      <td>0.0</td>\n      <td>0.0</td>\n      <td>0.0</td>\n      <td>0.0</td>\n      <td>0.0</td>\n      <td>0.0</td>\n      <td>0.0</td>\n    </tr>\n    <tr>\n      <th>4</th>\n      <td>114.0</td>\n      <td>0.0</td>\n      <td>0.0</td>\n      <td>0.0</td>\n      <td>160.0</td>\n      <td>0.0</td>\n      <td>0.0</td>\n      <td>101.0</td>\n      <td>0.0</td>\n      <td>0.0</td>\n      <td>...</td>\n      <td>0.0</td>\n      <td>0.0</td>\n      <td>0.0</td>\n      <td>0.0</td>\n      <td>0.0</td>\n      <td>0.0</td>\n      <td>0.0</td>\n      <td>0.0</td>\n      <td>0.0</td>\n      <td>0.0</td>\n    </tr>\n    <tr>\n      <th>6</th>\n      <td>23.0</td>\n      <td>0.0</td>\n      <td>0.0</td>\n      <td>0.0</td>\n      <td>23.0</td>\n      <td>0.0</td>\n      <td>0.0</td>\n      <td>11.0</td>\n      <td>0.0</td>\n      <td>0.0</td>\n      <td>...</td>\n      <td>0.0</td>\n      <td>0.0</td>\n      <td>0.0</td>\n      <td>0.0</td>\n      <td>0.0</td>\n      <td>0.0</td>\n      <td>0.0</td>\n      <td>0.0</td>\n      <td>0.0</td>\n      <td>0.0</td>\n    </tr>\n    <tr>\n      <th>7</th>\n      <td>16.0</td>\n      <td>0.0</td>\n      <td>0.0</td>\n      <td>0.0</td>\n      <td>11.0</td>\n      <td>0.0</td>\n      <td>0.0</td>\n      <td>12.0</td>\n      <td>0.0</td>\n      <td>0.0</td>\n      <td>...</td>\n      <td>0.0</td>\n      <td>0.0</td>\n      <td>0.0</td>\n      <td>0.0</td>\n      <td>0.0</td>\n      <td>0.0</td>\n      <td>0.0</td>\n      <td>0.0</td>\n      <td>0.0</td>\n      <td>0.0</td>\n    </tr>\n    <tr>\n      <th>8</th>\n      <td>119.0</td>\n      <td>0.0</td>\n      <td>0.0</td>\n      <td>0.0</td>\n      <td>100.0</td>\n      <td>0.0</td>\n      <td>0.0</td>\n      <td>75.0</td>\n      <td>0.0</td>\n      <td>0.0</td>\n      <td>...</td>\n      <td>0.0</td>\n      <td>0.0</td>\n      <td>0.0</td>\n      <td>0.0</td>\n      <td>0.0</td>\n      <td>0.0</td>\n      <td>0.0</td>\n      <td>0.0</td>\n      <td>0.0</td>\n      <td>0.0</td>\n    </tr>\n    <tr>\n      <th>9</th>\n      <td>35.0</td>\n      <td>0.0</td>\n      <td>0.0</td>\n      <td>0.0</td>\n      <td>38.0</td>\n      <td>0.0</td>\n      <td>0.0</td>\n      <td>21.0</td>\n      <td>0.0</td>\n      <td>0.0</td>\n      <td>...</td>\n      <td>0.0</td>\n      <td>0.0</td>\n      <td>0.0</td>\n      <td>0.0</td>\n      <td>0.0</td>\n      <td>0.0</td>\n      <td>0.0</td>\n      <td>0.0</td>\n      <td>0.0</td>\n      <td>0.0</td>\n    </tr>\n    <tr>\n      <th>10</th>\n      <td>11.0</td>\n      <td>0.0</td>\n      <td>0.0</td>\n      <td>0.0</td>\n      <td>10.0</td>\n      <td>0.0</td>\n      <td>0.0</td>\n      <td>3.0</td>\n      <td>0.0</td>\n      <td>0.0</td>\n      <td>...</td>\n      <td>0.0</td>\n      <td>0.0</td>\n      <td>0.0</td>\n      <td>0.0</td>\n      <td>0.0</td>\n      <td>0.0</td>\n      <td>0.0</td>\n      <td>0.0</td>\n      <td>0.0</td>\n      <td>0.0</td>\n    </tr>\n    <tr>\n      <th>11</th>\n      <td>0.0</td>\n      <td>0.0</td>\n      <td>0.0</td>\n      <td>0.0</td>\n      <td>2.0</td>\n      <td>0.0</td>\n      <td>0.0</td>\n      <td>0.0</td>\n      <td>0.0</td>\n      <td>0.0</td>\n      <td>...</td>\n      <td>0.0</td>\n      <td>0.0</td>\n      <td>0.0</td>\n      <td>0.0</td>\n      <td>0.0</td>\n      <td>0.0</td>\n      <td>0.0</td>\n      <td>0.0</td>\n      <td>0.0</td>\n      <td>0.0</td>\n    </tr>\n    <tr>\n      <th>12</th>\n      <td>6.0</td>\n      <td>0.0</td>\n      <td>0.0</td>\n      <td>0.0</td>\n      <td>7.0</td>\n      <td>0.0</td>\n      <td>0.0</td>\n      <td>0.0</td>\n      <td>0.0</td>\n      <td>0.0</td>\n      <td>...</td>\n      <td>0.0</td>\n      <td>0.0</td>\n      <td>0.0</td>\n      <td>0.0</td>\n      <td>0.0</td>\n      <td>0.0</td>\n      <td>0.0</td>\n      <td>0.0</td>\n      <td>0.0</td>\n      <td>0.0</td>\n    </tr>\n    <tr>\n      <th>13</th>\n      <td>15.0</td>\n      <td>0.0</td>\n      <td>0.0</td>\n      <td>0.0</td>\n      <td>10.0</td>\n      <td>0.0</td>\n      <td>0.0</td>\n      <td>9.0</td>\n      <td>0.0</td>\n      <td>0.0</td>\n      <td>...</td>\n      <td>0.0</td>\n      <td>0.0</td>\n      <td>0.0</td>\n      <td>0.0</td>\n      <td>0.0</td>\n      <td>0.0</td>\n      <td>0.0</td>\n      <td>0.0</td>\n      <td>0.0</td>\n      <td>0.0</td>\n    </tr>\n    <tr>\n      <th>14</th>\n      <td>0.0</td>\n      <td>0.0</td>\n      <td>0.0</td>\n      <td>0.0</td>\n      <td>0.0</td>\n      <td>0.0</td>\n      <td>0.0</td>\n      <td>0.0</td>\n      <td>0.0</td>\n      <td>0.0</td>\n      <td>...</td>\n      <td>0.0</td>\n      <td>0.0</td>\n      <td>0.0</td>\n      <td>0.0</td>\n      <td>0.0</td>\n      <td>0.0</td>\n      <td>0.0</td>\n      <td>0.0</td>\n      <td>0.0</td>\n      <td>0.0</td>\n    </tr>\n    <tr>\n      <th>15</th>\n      <td>33.0</td>\n      <td>0.0</td>\n      <td>0.0</td>\n      <td>0.0</td>\n      <td>19.0</td>\n      <td>0.0</td>\n      <td>0.0</td>\n      <td>16.0</td>\n      <td>0.0</td>\n      <td>0.0</td>\n      <td>...</td>\n      <td>0.0</td>\n      <td>0.0</td>\n      <td>0.0</td>\n      <td>0.0</td>\n      <td>0.0</td>\n      <td>0.0</td>\n      <td>0.0</td>\n      <td>0.0</td>\n      <td>0.0</td>\n      <td>0.0</td>\n    </tr>\n    <tr>\n      <th>17</th>\n      <td>1.0</td>\n      <td>0.0</td>\n      <td>0.0</td>\n      <td>0.0</td>\n      <td>1.0</td>\n      <td>0.0</td>\n      <td>0.0</td>\n      <td>0.0</td>\n      <td>0.0</td>\n      <td>0.0</td>\n      <td>...</td>\n      <td>0.0</td>\n      <td>0.0</td>\n      <td>0.0</td>\n      <td>0.0</td>\n      <td>0.0</td>\n      <td>0.0</td>\n      <td>0.0</td>\n      <td>0.0</td>\n      <td>0.0</td>\n      <td>0.0</td>\n    </tr>\n    <tr>\n      <th>18</th>\n      <td>59.0</td>\n      <td>0.0</td>\n      <td>0.0</td>\n      <td>0.0</td>\n      <td>75.0</td>\n      <td>0.0</td>\n      <td>0.0</td>\n      <td>73.0</td>\n      <td>0.0</td>\n      <td>0.0</td>\n      <td>...</td>\n      <td>0.0</td>\n      <td>0.0</td>\n      <td>0.0</td>\n      <td>0.0</td>\n      <td>0.0</td>\n      <td>0.0</td>\n      <td>0.0</td>\n      <td>0.0</td>\n      <td>0.0</td>\n      <td>0.0</td>\n    </tr>\n    <tr>\n      <th>19</th>\n      <td>1.0</td>\n      <td>0.0</td>\n      <td>0.0</td>\n      <td>0.0</td>\n      <td>11.0</td>\n      <td>0.0</td>\n      <td>0.0</td>\n      <td>1.0</td>\n      <td>0.0</td>\n      <td>0.0</td>\n      <td>...</td>\n      <td>0.0</td>\n      <td>0.0</td>\n      <td>0.0</td>\n      <td>0.0</td>\n      <td>0.0</td>\n      <td>0.0</td>\n      <td>0.0</td>\n      <td>0.0</td>\n      <td>0.0</td>\n      <td>0.0</td>\n    </tr>\n    <tr>\n      <th>20</th>\n      <td>9.0</td>\n      <td>0.0</td>\n      <td>0.0</td>\n      <td>0.0</td>\n      <td>5.0</td>\n      <td>0.0</td>\n      <td>0.0</td>\n      <td>1.0</td>\n      <td>0.0</td>\n      <td>0.0</td>\n      <td>...</td>\n      <td>0.0</td>\n      <td>0.0</td>\n      <td>0.0</td>\n      <td>0.0</td>\n      <td>0.0</td>\n      <td>0.0</td>\n      <td>0.0</td>\n      <td>0.0</td>\n      <td>0.0</td>\n      <td>0.0</td>\n    </tr>\n    <tr>\n      <th>21</th>\n      <td>0.0</td>\n      <td>0.0</td>\n      <td>0.0</td>\n      <td>0.0</td>\n      <td>2.0</td>\n      <td>0.0</td>\n      <td>0.0</td>\n      <td>0.0</td>\n      <td>0.0</td>\n      <td>0.0</td>\n      <td>...</td>\n      <td>0.0</td>\n      <td>0.0</td>\n      <td>0.0</td>\n      <td>0.0</td>\n      <td>0.0</td>\n      <td>0.0</td>\n      <td>0.0</td>\n      <td>0.0</td>\n      <td>0.0</td>\n      <td>0.0</td>\n    </tr>\n    <tr>\n      <th>22</th>\n      <td>0.0</td>\n      <td>0.0</td>\n      <td>0.0</td>\n      <td>0.0</td>\n      <td>1.0</td>\n      <td>0.0</td>\n      <td>0.0</td>\n      <td>0.0</td>\n      <td>0.0</td>\n      <td>0.0</td>\n      <td>...</td>\n      <td>0.0</td>\n      <td>0.0</td>\n      <td>0.0</td>\n      <td>0.0</td>\n      <td>0.0</td>\n      <td>0.0</td>\n      <td>0.0</td>\n      <td>0.0</td>\n      <td>0.0</td>\n      <td>0.0</td>\n    </tr>\n    <tr>\n      <th>24</th>\n      <td>21.0</td>\n      <td>0.0</td>\n      <td>0.0</td>\n      <td>0.0</td>\n      <td>8.0</td>\n      <td>0.0</td>\n      <td>0.0</td>\n      <td>2.0</td>\n      <td>0.0</td>\n      <td>0.0</td>\n      <td>...</td>\n      <td>0.0</td>\n      <td>0.0</td>\n      <td>0.0</td>\n      <td>0.0</td>\n      <td>0.0</td>\n      <td>0.0</td>\n      <td>0.0</td>\n      <td>0.0</td>\n      <td>0.0</td>\n      <td>0.0</td>\n    </tr>\n    <tr>\n      <th>25</th>\n      <td>0.0</td>\n      <td>0.0</td>\n      <td>0.0</td>\n      <td>0.0</td>\n      <td>2.0</td>\n      <td>0.0</td>\n      <td>0.0</td>\n      <td>0.0</td>\n      <td>0.0</td>\n      <td>0.0</td>\n      <td>...</td>\n      <td>0.0</td>\n      <td>0.0</td>\n      <td>0.0</td>\n      <td>0.0</td>\n      <td>0.0</td>\n      <td>0.0</td>\n      <td>0.0</td>\n      <td>0.0</td>\n      <td>0.0</td>\n      <td>0.0</td>\n    </tr>\n    <tr>\n      <th>28</th>\n      <td>4.0</td>\n      <td>0.0</td>\n      <td>0.0</td>\n      <td>0.0</td>\n      <td>2.0</td>\n      <td>0.0</td>\n      <td>0.0</td>\n      <td>0.0</td>\n      <td>0.0</td>\n      <td>0.0</td>\n      <td>...</td>\n      <td>0.0</td>\n      <td>0.0</td>\n      <td>0.0</td>\n      <td>0.0</td>\n      <td>0.0</td>\n      <td>0.0</td>\n      <td>0.0</td>\n      <td>0.0</td>\n      <td>0.0</td>\n      <td>0.0</td>\n    </tr>\n    <tr>\n      <th>29</th>\n      <td>6.0</td>\n      <td>0.0</td>\n      <td>0.0</td>\n      <td>0.0</td>\n      <td>11.0</td>\n      <td>0.0</td>\n      <td>0.0</td>\n      <td>3.0</td>\n      <td>0.0</td>\n      <td>0.0</td>\n      <td>...</td>\n      <td>0.0</td>\n      <td>0.0</td>\n      <td>0.0</td>\n      <td>0.0</td>\n      <td>0.0</td>\n      <td>0.0</td>\n      <td>0.0</td>\n      <td>0.0</td>\n      <td>0.0</td>\n      <td>0.0</td>\n    </tr>\n    <tr>\n      <th>30</th>\n      <td>0.0</td>\n      <td>0.0</td>\n      <td>0.0</td>\n      <td>0.0</td>\n      <td>8.0</td>\n      <td>0.0</td>\n      <td>0.0</td>\n      <td>0.0</td>\n      <td>0.0</td>\n      <td>0.0</td>\n      <td>...</td>\n      <td>0.0</td>\n      <td>0.0</td>\n      <td>0.0</td>\n      <td>0.0</td>\n      <td>0.0</td>\n      <td>0.0</td>\n      <td>0.0</td>\n      <td>0.0</td>\n      <td>0.0</td>\n      <td>0.0</td>\n    </tr>\n    <tr>\n      <th>34</th>\n      <td>2.0</td>\n      <td>0.0</td>\n      <td>0.0</td>\n      <td>0.0</td>\n      <td>3.0</td>\n      <td>0.0</td>\n      <td>0.0</td>\n      <td>1.0</td>\n      <td>0.0</td>\n      <td>0.0</td>\n      <td>...</td>\n      <td>0.0</td>\n      <td>0.0</td>\n      <td>0.0</td>\n      <td>0.0</td>\n      <td>0.0</td>\n      <td>0.0</td>\n      <td>0.0</td>\n      <td>0.0</td>\n      <td>0.0</td>\n      <td>0.0</td>\n    </tr>\n    <tr>\n      <th>35</th>\n      <td>0.0</td>\n      <td>0.0</td>\n      <td>0.0</td>\n      <td>0.0</td>\n      <td>1.0</td>\n      <td>0.0</td>\n      <td>0.0</td>\n      <td>0.0</td>\n      <td>0.0</td>\n      <td>0.0</td>\n      <td>...</td>\n      <td>0.0</td>\n      <td>0.0</td>\n      <td>0.0</td>\n      <td>0.0</td>\n      <td>0.0</td>\n      <td>0.0</td>\n      <td>0.0</td>\n      <td>0.0</td>\n      <td>0.0</td>\n      <td>0.0</td>\n    </tr>\n    <tr>\n      <th>36</th>\n      <td>0.0</td>\n      <td>0.0</td>\n      <td>0.0</td>\n      <td>0.0</td>\n      <td>3.0</td>\n      <td>0.0</td>\n      <td>0.0</td>\n      <td>0.0</td>\n      <td>0.0</td>\n      <td>0.0</td>\n      <td>...</td>\n      <td>0.0</td>\n      <td>0.0</td>\n      <td>0.0</td>\n      <td>0.0</td>\n      <td>0.0</td>\n      <td>0.0</td>\n      <td>0.0</td>\n      <td>0.0</td>\n      <td>0.0</td>\n      <td>0.0</td>\n    </tr>\n    <tr>\n      <th>37</th>\n      <td>0.0</td>\n      <td>0.0</td>\n      <td>0.0</td>\n      <td>0.0</td>\n      <td>4.0</td>\n      <td>0.0</td>\n      <td>0.0</td>\n      <td>3.0</td>\n      <td>0.0</td>\n      <td>0.0</td>\n      <td>...</td>\n      <td>0.0</td>\n      <td>0.0</td>\n      <td>0.0</td>\n      <td>0.0</td>\n      <td>0.0</td>\n      <td>0.0</td>\n      <td>0.0</td>\n      <td>0.0</td>\n      <td>0.0</td>\n      <td>0.0</td>\n    </tr>\n    <tr>\n      <th>39</th>\n      <td>1.0</td>\n      <td>0.0</td>\n      <td>0.0</td>\n      <td>0.0</td>\n      <td>4.0</td>\n      <td>0.0</td>\n      <td>0.0</td>\n      <td>0.0</td>\n      <td>0.0</td>\n      <td>0.0</td>\n      <td>...</td>\n      <td>0.0</td>\n      <td>0.0</td>\n      <td>0.0</td>\n      <td>0.0</td>\n      <td>0.0</td>\n      <td>0.0</td>\n      <td>0.0</td>\n      <td>0.0</td>\n      <td>0.0</td>\n      <td>0.0</td>\n    </tr>\n    <tr>\n      <th>42</th>\n      <td>2.0</td>\n      <td>0.0</td>\n      <td>0.0</td>\n      <td>0.0</td>\n      <td>3.0</td>\n      <td>0.0</td>\n      <td>0.0</td>\n      <td>0.0</td>\n      <td>0.0</td>\n      <td>0.0</td>\n      <td>...</td>\n      <td>0.0</td>\n      <td>0.0</td>\n      <td>0.0</td>\n      <td>0.0</td>\n      <td>0.0</td>\n      <td>0.0</td>\n      <td>0.0</td>\n      <td>0.0</td>\n      <td>0.0</td>\n      <td>0.0</td>\n    </tr>\n    <tr>\n      <th>43</th>\n      <td>0.0</td>\n      <td>0.0</td>\n      <td>0.0</td>\n      <td>0.0</td>\n      <td>0.0</td>\n      <td>0.0</td>\n      <td>0.0</td>\n      <td>1.0</td>\n      <td>0.0</td>\n      <td>0.0</td>\n      <td>...</td>\n      <td>0.0</td>\n      <td>0.0</td>\n      <td>0.0</td>\n      <td>0.0</td>\n      <td>0.0</td>\n      <td>0.0</td>\n      <td>0.0</td>\n      <td>0.0</td>\n      <td>0.0</td>\n      <td>0.0</td>\n    </tr>\n    <tr>\n      <th>46</th>\n      <td>1.0</td>\n      <td>0.0</td>\n      <td>0.0</td>\n      <td>0.0</td>\n      <td>0.0</td>\n      <td>0.0</td>\n      <td>0.0</td>\n      <td>0.0</td>\n      <td>0.0</td>\n      <td>0.0</td>\n      <td>...</td>\n      <td>0.0</td>\n      <td>0.0</td>\n      <td>0.0</td>\n      <td>0.0</td>\n      <td>0.0</td>\n      <td>0.0</td>\n      <td>0.0</td>\n      <td>0.0</td>\n      <td>0.0</td>\n      <td>0.0</td>\n    </tr>\n  </tbody>\n</table>\n<p>34 rows × 34 columns</p>\n</div>"
     },
     "execution_count": 36,
     "metadata": {},
     "output_type": "execute_result"
    }
   ],
   "source": [
    "matrix = df.groupby(['y_pred', 'loc_0']).size().unstack(fill_value=0, level=0)\n",
    "matrix = fill_missing(df, matrix, 'loc_0')\n",
    "matrix"
   ],
   "metadata": {
    "collapsed": false,
    "pycharm": {
     "name": "#%%\n"
    }
   }
  },
  {
   "cell_type": "code",
   "execution_count": 37,
   "outputs": [
    {
     "data": {
      "text/plain": "<Figure size 640x480 with 2 Axes>",
      "image/png": "[encoded data removed]"
     },
     "metadata": {},
     "output_type": "display_data"
    }
   ],
   "source": [
    "import seaborn as sns\n",
    "\n",
    "ax = sns.heatmap(matrix,  cmap=custom_ramp)\n",
    "ax.invert_yaxis()"
   ],
   "metadata": {
    "collapsed": false,
    "pycharm": {
     "name": "#%%\n"
    }
   }
  },
  {
   "cell_type": "markdown",
   "source": [
    "The first location is also not used as the main indication for the prediction."
   ],
   "metadata": {
    "collapsed": false,
    "pycharm": {
     "name": "#%% md\n"
    }
   }
  },
  {
   "cell_type": "markdown",
   "source": [
    "Next, the predicted and true values are mapped as a heatmap."
   ],
   "metadata": {
    "collapsed": false,
    "pycharm": {
     "name": "#%% md\n"
    }
   }
  },
  {
   "cell_type": "code",
   "execution_count": 38,
   "outputs": [
    {
     "data": {
      "text/plain": "y_pred     0    1    2    3      4    6    7     8    9    10  ...   29   30  \\\ny_true                                                         ...             \n0       168.0  0.0  0.0  0.0  133.0  0.0  0.0  78.0  0.0  0.0  ...  0.0  0.0   \n1        12.0  0.0  0.0  0.0    7.0  0.0  0.0   3.0  0.0  0.0  ...  0.0  0.0   \n2         7.0  0.0  0.0  0.0    6.0  0.0  0.0   4.0  0.0  0.0  ...  0.0  0.0   \n3         6.0  0.0  0.0  0.0    5.0  0.0  0.0   2.0  0.0  0.0  ...  0.0  0.0   \n4       138.0  0.0  0.0  0.0  167.0  0.0  0.0  90.0  0.0  0.0  ...  0.0  0.0   \n6        22.0  0.0  0.0  0.0   28.0  0.0  0.0  14.0  0.0  0.0  ...  0.0  0.0   \n7        18.0  0.0  0.0  0.0   12.0  0.0  0.0  12.0  0.0  0.0  ...  0.0  0.0   \n8       120.0  0.0  0.0  0.0  105.0  0.0  0.0  99.0  0.0  0.0  ...  0.0  0.0   \n9        38.0  0.0  0.0  0.0   43.0  0.0  0.0  22.0  0.0  0.0  ...  0.0  0.0   \n10        8.0  0.0  0.0  0.0   14.0  0.0  0.0   5.0  0.0  0.0  ...  0.0  0.0   \n11        0.0  0.0  0.0  0.0    3.0  0.0  0.0   0.0  0.0  0.0  ...  0.0  0.0   \n12        6.0  0.0  0.0  0.0    6.0  0.0  0.0   0.0  0.0  0.0  ...  0.0  0.0   \n13       17.0  0.0  0.0  0.0    9.0  0.0  0.0   4.0  0.0  0.0  ...  0.0  0.0   \n14        0.0  0.0  0.0  0.0    1.0  0.0  0.0   0.0  0.0  0.0  ...  0.0  0.0   \n15       28.0  0.0  0.0  0.0    8.0  0.0  0.0  11.0  0.0  0.0  ...  0.0  0.0   \n17        0.0  0.0  0.0  0.0    2.0  0.0  0.0   1.0  0.0  0.0  ...  0.0  0.0   \n18       87.0  0.0  0.0  0.0   75.0  0.0  0.0  53.0  0.0  0.0  ...  0.0  0.0   \n19        0.0  0.0  0.0  0.0   13.0  0.0  0.0   2.0  0.0  0.0  ...  0.0  0.0   \n20        7.0  0.0  0.0  0.0   11.0  0.0  0.0   1.0  0.0  0.0  ...  0.0  0.0   \n21        0.0  0.0  0.0  0.0    1.0  0.0  0.0   0.0  0.0  0.0  ...  0.0  0.0   \n22        0.0  0.0  0.0  0.0    1.0  0.0  0.0   0.0  0.0  0.0  ...  0.0  0.0   \n24       11.0  0.0  0.0  0.0    8.0  0.0  0.0   3.0  0.0  0.0  ...  0.0  0.0   \n28        2.0  0.0  0.0  0.0    6.0  0.0  0.0   1.0  0.0  0.0  ...  0.0  0.0   \n29        7.0  0.0  0.0  0.0    9.0  0.0  0.0   2.0  0.0  0.0  ...  0.0  0.0   \n30        2.0  0.0  0.0  0.0    6.0  0.0  0.0   1.0  0.0  0.0  ...  0.0  0.0   \n34        0.0  0.0  0.0  0.0    2.0  0.0  0.0   0.0  0.0  0.0  ...  0.0  0.0   \n35        0.0  0.0  0.0  0.0    1.0  0.0  0.0   0.0  0.0  0.0  ...  0.0  0.0   \n36        0.0  0.0  0.0  0.0    2.0  0.0  0.0   0.0  0.0  0.0  ...  0.0  0.0   \n37        2.0  0.0  0.0  0.0    2.0  0.0  0.0   0.0  0.0  0.0  ...  0.0  0.0   \n38        2.0  0.0  0.0  0.0    0.0  0.0  0.0   1.0  0.0  0.0  ...  0.0  0.0   \n39        0.0  0.0  0.0  0.0    1.0  0.0  0.0   0.0  0.0  0.0  ...  0.0  0.0   \n42        2.0  0.0  0.0  0.0    3.0  0.0  0.0   1.0  0.0  0.0  ...  0.0  0.0   \n43        1.0  0.0  0.0  0.0    1.0  0.0  0.0   0.0  0.0  0.0  ...  0.0  0.0   \n\ny_pred   34   35   36   37   38   39   42   43  \ny_true                                          \n0       0.0  0.0  0.0  0.0  0.0  0.0  0.0  0.0  \n1       0.0  0.0  0.0  0.0  0.0  0.0  0.0  0.0  \n2       0.0  0.0  0.0  0.0  0.0  0.0  0.0  0.0  \n3       0.0  0.0  0.0  0.0  0.0  0.0  0.0  0.0  \n4       0.0  0.0  0.0  0.0  0.0  0.0  0.0  0.0  \n6       0.0  0.0  0.0  0.0  0.0  0.0  0.0  0.0  \n7       0.0  0.0  0.0  0.0  0.0  0.0  0.0  0.0  \n8       0.0  0.0  0.0  0.0  0.0  0.0  0.0  0.0  \n9       0.0  0.0  0.0  0.0  0.0  0.0  0.0  0.0  \n10      0.0  0.0  0.0  0.0  0.0  0.0  0.0  0.0  \n11      0.0  0.0  0.0  0.0  0.0  0.0  0.0  0.0  \n12      0.0  0.0  0.0  0.0  0.0  0.0  0.0  0.0  \n13      0.0  0.0  0.0  0.0  0.0  0.0  0.0  0.0  \n14      0.0  0.0  0.0  0.0  0.0  0.0  0.0  0.0  \n15      0.0  0.0  0.0  0.0  0.0  0.0  0.0  0.0  \n17      0.0  0.0  0.0  0.0  0.0  0.0  0.0  0.0  \n18      0.0  0.0  0.0  0.0  0.0  0.0  0.0  0.0  \n19      0.0  0.0  0.0  0.0  0.0  0.0  0.0  0.0  \n20      0.0  0.0  0.0  0.0  0.0  0.0  0.0  0.0  \n21      0.0  0.0  0.0  0.0  0.0  0.0  0.0  0.0  \n22      0.0  0.0  0.0  0.0  0.0  0.0  0.0  0.0  \n24      0.0  0.0  0.0  0.0  0.0  0.0  0.0  0.0  \n28      0.0  0.0  0.0  0.0  0.0  0.0  0.0  0.0  \n29      0.0  0.0  0.0  0.0  0.0  0.0  0.0  0.0  \n30      0.0  0.0  0.0  0.0  0.0  0.0  0.0  0.0  \n34      0.0  0.0  0.0  0.0  0.0  0.0  0.0  0.0  \n35      0.0  0.0  0.0  0.0  0.0  0.0  0.0  0.0  \n36      0.0  0.0  0.0  0.0  0.0  0.0  0.0  0.0  \n37      0.0  0.0  0.0  0.0  0.0  0.0  0.0  0.0  \n38      0.0  0.0  0.0  0.0  0.0  0.0  0.0  0.0  \n39      0.0  0.0  0.0  0.0  0.0  0.0  0.0  0.0  \n42      0.0  0.0  0.0  0.0  0.0  0.0  0.0  0.0  \n43      0.0  0.0  0.0  0.0  0.0  0.0  0.0  0.0  \n\n[33 rows x 33 columns]",
      "text/html": "<div>\n<style scoped>\n    .dataframe tbody tr th:only-of-type {\n        vertical-align: middle;\n    }\n\n    .dataframe tbody tr th {\n        vertical-align: top;\n    }\n\n    .dataframe thead th {\n        text-align: right;\n    }\n</style>\n<table border=\"1\" class=\"dataframe\">\n  <thead>\n    <tr style=\"text-align: right;\">\n      <th>y_pred</th>\n      <th>0</th>\n      <th>1</th>\n      <th>2</th>\n      <th>3</th>\n      <th>4</th>\n      <th>6</th>\n      <th>7</th>\n      <th>8</th>\n      <th>9</th>\n      <th>10</th>\n      <th>...</th>\n      <th>29</th>\n      <th>30</th>\n      <th>34</th>\n      <th>35</th>\n      <th>36</th>\n      <th>37</th>\n      <th>38</th>\n      <th>39</th>\n      <th>42</th>\n      <th>43</th>\n    </tr>\n    <tr>\n      <th>y_true</th>\n      <th></th>\n      <th></th>\n      <th></th>\n      <th></th>\n      <th></th>\n      <th></th>\n      <th></th>\n      <th></th>\n      <th></th>\n      <th></th>\n      <th></th>\n      <th></th>\n      <th></th>\n      <th></th>\n      <th></th>\n      <th></th>\n      <th></th>\n      <th></th>\n      <th></th>\n      <th></th>\n      <th></th>\n    </tr>\n  </thead>\n  <tbody>\n    <tr>\n      <th>0</th>\n      <td>168.0</td>\n      <td>0.0</td>\n      <td>0.0</td>\n      <td>0.0</td>\n      <td>133.0</td>\n      <td>0.0</td>\n      <td>0.0</td>\n      <td>78.0</td>\n      <td>0.0</td>\n      <td>0.0</td>\n      <td>...</td>\n      <td>0.0</td>\n      <td>0.0</td>\n      <td>0.0</td>\n      <td>0.0</td>\n      <td>0.0</td>\n      <td>0.0</td>\n      <td>0.0</td>\n      <td>0.0</td>\n      <td>0.0</td>\n      <td>0.0</td>\n    </tr>\n    <tr>\n      <th>1</th>\n      <td>12.0</td>\n      <td>0.0</td>\n      <td>0.0</td>\n      <td>0.0</td>\n      <td>7.0</td>\n      <td>0.0</td>\n      <td>0.0</td>\n      <td>3.0</td>\n      <td>0.0</td>\n      <td>0.0</td>\n      <td>...</td>\n      <td>0.0</td>\n      <td>0.0</td>\n      <td>0.0</td>\n      <td>0.0</td>\n      <td>0.0</td>\n      <td>0.0</td>\n      <td>0.0</td>\n      <td>0.0</td>\n      <td>0.0</td>\n      <td>0.0</td>\n    </tr>\n    <tr>\n      <th>2</th>\n      <td>7.0</td>\n      <td>0.0</td>\n      <td>0.0</td>\n      <td>0.0</td>\n      <td>6.0</td>\n      <td>0.0</td>\n      <td>0.0</td>\n      <td>4.0</td>\n      <td>0.0</td>\n      <td>0.0</td>\n      <td>...</td>\n      <td>0.0</td>\n      <td>0.0</td>\n      <td>0.0</td>\n      <td>0.0</td>\n      <td>0.0</td>\n      <td>0.0</td>\n      <td>0.0</td>\n      <td>0.0</td>\n      <td>0.0</td>\n      <td>0.0</td>\n    </tr>\n    <tr>\n      <th>3</th>\n      <td>6.0</td>\n      <td>0.0</td>\n      <td>0.0</td>\n      <td>0.0</td>\n      <td>5.0</td>\n      <td>0.0</td>\n      <td>0.0</td>\n      <td>2.0</td>\n      <td>0.0</td>\n      <td>0.0</td>\n      <td>...</td>\n      <td>0.0</td>\n      <td>0.0</td>\n      <td>0.0</td>\n      <td>0.0</td>\n      <td>0.0</td>\n      <td>0.0</td>\n      <td>0.0</td>\n      <td>0.0</td>\n      <td>0.0</td>\n      <td>0.0</td>\n    </tr>\n    <tr>\n      <th>4</th>\n      <td>138.0</td>\n      <td>0.0</td>\n      <td>0.0</td>\n      <td>0.0</td>\n      <td>167.0</td>\n      <td>0.0</td>\n      <td>0.0</td>\n      <td>90.0</td>\n      <td>0.0</td>\n      <td>0.0</td>\n      <td>...</td>\n      <td>0.0</td>\n      <td>0.0</td>\n      <td>0.0</td>\n      <td>0.0</td>\n      <td>0.0</td>\n      <td>0.0</td>\n      <td>0.0</td>\n      <td>0.0</td>\n      <td>0.0</td>\n      <td>0.0</td>\n    </tr>\n    <tr>\n      <th>6</th>\n      <td>22.0</td>\n      <td>0.0</td>\n      <td>0.0</td>\n      <td>0.0</td>\n      <td>28.0</td>\n      <td>0.0</td>\n      <td>0.0</td>\n      <td>14.0</td>\n      <td>0.0</td>\n      <td>0.0</td>\n      <td>...</td>\n      <td>0.0</td>\n      <td>0.0</td>\n      <td>0.0</td>\n      <td>0.0</td>\n      <td>0.0</td>\n      <td>0.0</td>\n      <td>0.0</td>\n      <td>0.0</td>\n      <td>0.0</td>\n      <td>0.0</td>\n    </tr>\n    <tr>\n      <th>7</th>\n      <td>18.0</td>\n      <td>0.0</td>\n      <td>0.0</td>\n      <td>0.0</td>\n      <td>12.0</td>\n      <td>0.0</td>\n      <td>0.0</td>\n      <td>12.0</td>\n      <td>0.0</td>\n      <td>0.0</td>\n      <td>...</td>\n      <td>0.0</td>\n      <td>0.0</td>\n      <td>0.0</td>\n      <td>0.0</td>\n      <td>0.0</td>\n      <td>0.0</td>\n      <td>0.0</td>\n      <td>0.0</td>\n      <td>0.0</td>\n      <td>0.0</td>\n    </tr>\n    <tr>\n      <th>8</th>\n      <td>120.0</td>\n      <td>0.0</td>\n      <td>0.0</td>\n      <td>0.0</td>\n      <td>105.0</td>\n      <td>0.0</td>\n      <td>0.0</td>\n      <td>99.0</td>\n      <td>0.0</td>\n      <td>0.0</td>\n      <td>...</td>\n      <td>0.0</td>\n      <td>0.0</td>\n      <td>0.0</td>\n      <td>0.0</td>\n      <td>0.0</td>\n      <td>0.0</td>\n      <td>0.0</td>\n      <td>0.0</td>\n      <td>0.0</td>\n      <td>0.0</td>\n    </tr>\n    <tr>\n      <th>9</th>\n      <td>38.0</td>\n      <td>0.0</td>\n      <td>0.0</td>\n      <td>0.0</td>\n      <td>43.0</td>\n      <td>0.0</td>\n      <td>0.0</td>\n      <td>22.0</td>\n      <td>0.0</td>\n      <td>0.0</td>\n      <td>...</td>\n      <td>0.0</td>\n      <td>0.0</td>\n      <td>0.0</td>\n      <td>0.0</td>\n      <td>0.0</td>\n      <td>0.0</td>\n      <td>0.0</td>\n      <td>0.0</td>\n      <td>0.0</td>\n      <td>0.0</td>\n    </tr>\n    <tr>\n      <th>10</th>\n      <td>8.0</td>\n      <td>0.0</td>\n      <td>0.0</td>\n      <td>0.0</td>\n      <td>14.0</td>\n      <td>0.0</td>\n      <td>0.0</td>\n      <td>5.0</td>\n      <td>0.0</td>\n      <td>0.0</td>\n      <td>...</td>\n      <td>0.0</td>\n      <td>0.0</td>\n      <td>0.0</td>\n      <td>0.0</td>\n      <td>0.0</td>\n      <td>0.0</td>\n      <td>0.0</td>\n      <td>0.0</td>\n      <td>0.0</td>\n      <td>0.0</td>\n    </tr>\n    <tr>\n      <th>11</th>\n      <td>0.0</td>\n      <td>0.0</td>\n      <td>0.0</td>\n      <td>0.0</td>\n      <td>3.0</td>\n      <td>0.0</td>\n      <td>0.0</td>\n      <td>0.0</td>\n      <td>0.0</td>\n      <td>0.0</td>\n      <td>...</td>\n      <td>0.0</td>\n      <td>0.0</td>\n      <td>0.0</td>\n      <td>0.0</td>\n      <td>0.0</td>\n      <td>0.0</td>\n      <td>0.0</td>\n      <td>0.0</td>\n      <td>0.0</td>\n      <td>0.0</td>\n    </tr>\n    <tr>\n      <th>12</th>\n      <td>6.0</td>\n      <td>0.0</td>\n      <td>0.0</td>\n      <td>0.0</td>\n      <td>6.0</td>\n      <td>0.0</td>\n      <td>0.0</td>\n      <td>0.0</td>\n      <td>0.0</td>\n      <td>0.0</td>\n      <td>...</td>\n      <td>0.0</td>\n      <td>0.0</td>\n      <td>0.0</td>\n      <td>0.0</td>\n      <td>0.0</td>\n      <td>0.0</td>\n      <td>0.0</td>\n      <td>0.0</td>\n      <td>0.0</td>\n      <td>0.0</td>\n    </tr>\n    <tr>\n      <th>13</th>\n      <td>17.0</td>\n      <td>0.0</td>\n      <td>0.0</td>\n      <td>0.0</td>\n      <td>9.0</td>\n      <td>0.0</td>\n      <td>0.0</td>\n      <td>4.0</td>\n      <td>0.0</td>\n      <td>0.0</td>\n      <td>...</td>\n      <td>0.0</td>\n      <td>0.0</td>\n      <td>0.0</td>\n      <td>0.0</td>\n      <td>0.0</td>\n      <td>0.0</td>\n      <td>0.0</td>\n      <td>0.0</td>\n      <td>0.0</td>\n      <td>0.0</td>\n    </tr>\n    <tr>\n      <th>14</th>\n      <td>0.0</td>\n      <td>0.0</td>\n      <td>0.0</td>\n      <td>0.0</td>\n      <td>1.0</td>\n      <td>0.0</td>\n      <td>0.0</td>\n      <td>0.0</td>\n      <td>0.0</td>\n      <td>0.0</td>\n      <td>...</td>\n      <td>0.0</td>\n      <td>0.0</td>\n      <td>0.0</td>\n      <td>0.0</td>\n      <td>0.0</td>\n      <td>0.0</td>\n      <td>0.0</td>\n      <td>0.0</td>\n      <td>0.0</td>\n      <td>0.0</td>\n    </tr>\n    <tr>\n      <th>15</th>\n      <td>28.0</td>\n      <td>0.0</td>\n      <td>0.0</td>\n      <td>0.0</td>\n      <td>8.0</td>\n      <td>0.0</td>\n      <td>0.0</td>\n      <td>11.0</td>\n      <td>0.0</td>\n      <td>0.0</td>\n      <td>...</td>\n      <td>0.0</td>\n      <td>0.0</td>\n      <td>0.0</td>\n      <td>0.0</td>\n      <td>0.0</td>\n      <td>0.0</td>\n      <td>0.0</td>\n      <td>0.0</td>\n      <td>0.0</td>\n      <td>0.0</td>\n    </tr>\n    <tr>\n      <th>17</th>\n      <td>0.0</td>\n      <td>0.0</td>\n      <td>0.0</td>\n      <td>0.0</td>\n      <td>2.0</td>\n      <td>0.0</td>\n      <td>0.0</td>\n      <td>1.0</td>\n      <td>0.0</td>\n      <td>0.0</td>\n      <td>...</td>\n      <td>0.0</td>\n      <td>0.0</td>\n      <td>0.0</td>\n      <td>0.0</td>\n      <td>0.0</td>\n      <td>0.0</td>\n      <td>0.0</td>\n      <td>0.0</td>\n      <td>0.0</td>\n      <td>0.0</td>\n    </tr>\n    <tr>\n      <th>18</th>\n      <td>87.0</td>\n      <td>0.0</td>\n      <td>0.0</td>\n      <td>0.0</td>\n      <td>75.0</td>\n      <td>0.0</td>\n      <td>0.0</td>\n      <td>53.0</td>\n      <td>0.0</td>\n      <td>0.0</td>\n      <td>...</td>\n      <td>0.0</td>\n      <td>0.0</td>\n      <td>0.0</td>\n      <td>0.0</td>\n      <td>0.0</td>\n      <td>0.0</td>\n      <td>0.0</td>\n      <td>0.0</td>\n      <td>0.0</td>\n      <td>0.0</td>\n    </tr>\n    <tr>\n      <th>19</th>\n      <td>0.0</td>\n      <td>0.0</td>\n      <td>0.0</td>\n      <td>0.0</td>\n      <td>13.0</td>\n      <td>0.0</td>\n      <td>0.0</td>\n      <td>2.0</td>\n      <td>0.0</td>\n      <td>0.0</td>\n      <td>...</td>\n      <td>0.0</td>\n      <td>0.0</td>\n      <td>0.0</td>\n      <td>0.0</td>\n      <td>0.0</td>\n      <td>0.0</td>\n      <td>0.0</td>\n      <td>0.0</td>\n      <td>0.0</td>\n      <td>0.0</td>\n    </tr>\n    <tr>\n      <th>20</th>\n      <td>7.0</td>\n      <td>0.0</td>\n      <td>0.0</td>\n      <td>0.0</td>\n      <td>11.0</td>\n      <td>0.0</td>\n      <td>0.0</td>\n      <td>1.0</td>\n      <td>0.0</td>\n      <td>0.0</td>\n      <td>...</td>\n      <td>0.0</td>\n      <td>0.0</td>\n      <td>0.0</td>\n      <td>0.0</td>\n      <td>0.0</td>\n      <td>0.0</td>\n      <td>0.0</td>\n      <td>0.0</td>\n      <td>0.0</td>\n      <td>0.0</td>\n    </tr>\n    <tr>\n      <th>21</th>\n      <td>0.0</td>\n      <td>0.0</td>\n      <td>0.0</td>\n      <td>0.0</td>\n      <td>1.0</td>\n      <td>0.0</td>\n      <td>0.0</td>\n      <td>0.0</td>\n      <td>0.0</td>\n      <td>0.0</td>\n      <td>...</td>\n      <td>0.0</td>\n      <td>0.0</td>\n      <td>0.0</td>\n      <td>0.0</td>\n      <td>0.0</td>\n      <td>0.0</td>\n      <td>0.0</td>\n      <td>0.0</td>\n      <td>0.0</td>\n      <td>0.0</td>\n    </tr>\n    <tr>\n      <th>22</th>\n      <td>0.0</td>\n      <td>0.0</td>\n      <td>0.0</td>\n      <td>0.0</td>\n      <td>1.0</td>\n      <td>0.0</td>\n      <td>0.0</td>\n      <td>0.0</td>\n      <td>0.0</td>\n      <td>0.0</td>\n      <td>...</td>\n      <td>0.0</td>\n      <td>0.0</td>\n      <td>0.0</td>\n      <td>0.0</td>\n      <td>0.0</td>\n      <td>0.0</td>\n      <td>0.0</td>\n      <td>0.0</td>\n      <td>0.0</td>\n      <td>0.0</td>\n    </tr>\n    <tr>\n      <th>24</th>\n      <td>11.0</td>\n      <td>0.0</td>\n      <td>0.0</td>\n      <td>0.0</td>\n      <td>8.0</td>\n      <td>0.0</td>\n      <td>0.0</td>\n      <td>3.0</td>\n      <td>0.0</td>\n      <td>0.0</td>\n      <td>...</td>\n      <td>0.0</td>\n      <td>0.0</td>\n      <td>0.0</td>\n      <td>0.0</td>\n      <td>0.0</td>\n      <td>0.0</td>\n      <td>0.0</td>\n      <td>0.0</td>\n      <td>0.0</td>\n      <td>0.0</td>\n    </tr>\n    <tr>\n      <th>28</th>\n      <td>2.0</td>\n      <td>0.0</td>\n      <td>0.0</td>\n      <td>0.0</td>\n      <td>6.0</td>\n      <td>0.0</td>\n      <td>0.0</td>\n      <td>1.0</td>\n      <td>0.0</td>\n      <td>0.0</td>\n      <td>...</td>\n      <td>0.0</td>\n      <td>0.0</td>\n      <td>0.0</td>\n      <td>0.0</td>\n      <td>0.0</td>\n      <td>0.0</td>\n      <td>0.0</td>\n      <td>0.0</td>\n      <td>0.0</td>\n      <td>0.0</td>\n    </tr>\n    <tr>\n      <th>29</th>\n      <td>7.0</td>\n      <td>0.0</td>\n      <td>0.0</td>\n      <td>0.0</td>\n      <td>9.0</td>\n      <td>0.0</td>\n      <td>0.0</td>\n      <td>2.0</td>\n      <td>0.0</td>\n      <td>0.0</td>\n      <td>...</td>\n      <td>0.0</td>\n      <td>0.0</td>\n      <td>0.0</td>\n      <td>0.0</td>\n      <td>0.0</td>\n      <td>0.0</td>\n      <td>0.0</td>\n      <td>0.0</td>\n      <td>0.0</td>\n      <td>0.0</td>\n    </tr>\n    <tr>\n      <th>30</th>\n      <td>2.0</td>\n      <td>0.0</td>\n      <td>0.0</td>\n      <td>0.0</td>\n      <td>6.0</td>\n      <td>0.0</td>\n      <td>0.0</td>\n      <td>1.0</td>\n      <td>0.0</td>\n      <td>0.0</td>\n      <td>...</td>\n      <td>0.0</td>\n      <td>0.0</td>\n      <td>0.0</td>\n      <td>0.0</td>\n      <td>0.0</td>\n      <td>0.0</td>\n      <td>0.0</td>\n      <td>0.0</td>\n      <td>0.0</td>\n      <td>0.0</td>\n    </tr>\n    <tr>\n      <th>34</th>\n      <td>0.0</td>\n      <td>0.0</td>\n      <td>0.0</td>\n      <td>0.0</td>\n      <td>2.0</td>\n      <td>0.0</td>\n      <td>0.0</td>\n      <td>0.0</td>\n      <td>0.0</td>\n      <td>0.0</td>\n      <td>...</td>\n      <td>0.0</td>\n      <td>0.0</td>\n      <td>0.0</td>\n      <td>0.0</td>\n      <td>0.0</td>\n      <td>0.0</td>\n      <td>0.0</td>\n      <td>0.0</td>\n      <td>0.0</td>\n      <td>0.0</td>\n    </tr>\n    <tr>\n      <th>35</th>\n      <td>0.0</td>\n      <td>0.0</td>\n      <td>0.0</td>\n      <td>0.0</td>\n      <td>1.0</td>\n      <td>0.0</td>\n      <td>0.0</td>\n      <td>0.0</td>\n      <td>0.0</td>\n      <td>0.0</td>\n      <td>...</td>\n      <td>0.0</td>\n      <td>0.0</td>\n      <td>0.0</td>\n      <td>0.0</td>\n      <td>0.0</td>\n      <td>0.0</td>\n      <td>0.0</td>\n      <td>0.0</td>\n      <td>0.0</td>\n      <td>0.0</td>\n    </tr>\n    <tr>\n      <th>36</th>\n      <td>0.0</td>\n      <td>0.0</td>\n      <td>0.0</td>\n      <td>0.0</td>\n      <td>2.0</td>\n      <td>0.0</td>\n      <td>0.0</td>\n      <td>0.0</td>\n      <td>0.0</td>\n      <td>0.0</td>\n      <td>...</td>\n      <td>0.0</td>\n      <td>0.0</td>\n      <td>0.0</td>\n      <td>0.0</td>\n      <td>0.0</td>\n      <td>0.0</td>\n      <td>0.0</td>\n      <td>0.0</td>\n      <td>0.0</td>\n      <td>0.0</td>\n    </tr>\n    <tr>\n      <th>37</th>\n      <td>2.0</td>\n      <td>0.0</td>\n      <td>0.0</td>\n      <td>0.0</td>\n      <td>2.0</td>\n      <td>0.0</td>\n      <td>0.0</td>\n      <td>0.0</td>\n      <td>0.0</td>\n      <td>0.0</td>\n      <td>...</td>\n      <td>0.0</td>\n      <td>0.0</td>\n      <td>0.0</td>\n      <td>0.0</td>\n      <td>0.0</td>\n      <td>0.0</td>\n      <td>0.0</td>\n      <td>0.0</td>\n      <td>0.0</td>\n      <td>0.0</td>\n    </tr>\n    <tr>\n      <th>38</th>\n      <td>2.0</td>\n      <td>0.0</td>\n      <td>0.0</td>\n      <td>0.0</td>\n      <td>0.0</td>\n      <td>0.0</td>\n      <td>0.0</td>\n      <td>1.0</td>\n      <td>0.0</td>\n      <td>0.0</td>\n      <td>...</td>\n      <td>0.0</td>\n      <td>0.0</td>\n      <td>0.0</td>\n      <td>0.0</td>\n      <td>0.0</td>\n      <td>0.0</td>\n      <td>0.0</td>\n      <td>0.0</td>\n      <td>0.0</td>\n      <td>0.0</td>\n    </tr>\n    <tr>\n      <th>39</th>\n      <td>0.0</td>\n      <td>0.0</td>\n      <td>0.0</td>\n      <td>0.0</td>\n      <td>1.0</td>\n      <td>0.0</td>\n      <td>0.0</td>\n      <td>0.0</td>\n      <td>0.0</td>\n      <td>0.0</td>\n      <td>...</td>\n      <td>0.0</td>\n      <td>0.0</td>\n      <td>0.0</td>\n      <td>0.0</td>\n      <td>0.0</td>\n      <td>0.0</td>\n      <td>0.0</td>\n      <td>0.0</td>\n      <td>0.0</td>\n      <td>0.0</td>\n    </tr>\n    <tr>\n      <th>42</th>\n      <td>2.0</td>\n      <td>0.0</td>\n      <td>0.0</td>\n      <td>0.0</td>\n      <td>3.0</td>\n      <td>0.0</td>\n      <td>0.0</td>\n      <td>1.0</td>\n      <td>0.0</td>\n      <td>0.0</td>\n      <td>...</td>\n      <td>0.0</td>\n      <td>0.0</td>\n      <td>0.0</td>\n      <td>0.0</td>\n      <td>0.0</td>\n      <td>0.0</td>\n      <td>0.0</td>\n      <td>0.0</td>\n      <td>0.0</td>\n      <td>0.0</td>\n    </tr>\n    <tr>\n      <th>43</th>\n      <td>1.0</td>\n      <td>0.0</td>\n      <td>0.0</td>\n      <td>0.0</td>\n      <td>1.0</td>\n      <td>0.0</td>\n      <td>0.0</td>\n      <td>0.0</td>\n      <td>0.0</td>\n      <td>0.0</td>\n      <td>...</td>\n      <td>0.0</td>\n      <td>0.0</td>\n      <td>0.0</td>\n      <td>0.0</td>\n      <td>0.0</td>\n      <td>0.0</td>\n      <td>0.0</td>\n      <td>0.0</td>\n      <td>0.0</td>\n      <td>0.0</td>\n    </tr>\n  </tbody>\n</table>\n<p>33 rows × 33 columns</p>\n</div>"
     },
     "execution_count": 38,
     "metadata": {},
     "output_type": "execute_result"
    }
   ],
   "source": [
    "matrix = df.groupby(['y_pred', 'y_true']).size().unstack(fill_value=0, level=0)\n",
    "matrix = fill_missing(df, matrix, 'y_true')\n",
    "matrix"
   ],
   "metadata": {
    "collapsed": false,
    "pycharm": {
     "name": "#%%\n"
    }
   }
  },
  {
   "cell_type": "code",
   "execution_count": 39,
   "outputs": [
    {
     "data": {
      "text/plain": "<Figure size 640x480 with 2 Axes>",
      "image/png": "[encoded data removed]"
     },
     "metadata": {},
     "output_type": "display_data"
    }
   ],
   "source": [
    "import seaborn as sns\n",
    "\n",
    "ax = sns.heatmap(matrix,  cmap=custom_ramp)\n",
    "ax.invert_yaxis()"
   ],
   "metadata": {
    "collapsed": false,
    "pycharm": {
     "name": "#%%\n"
    }
   }
  },
  {
   "cell_type": "markdown",
   "source": [
    "The most correct prediction occur for classes 0, 4, 8 and 12."
   ],
   "metadata": {
    "collapsed": false,
    "pycharm": {
     "name": "#%% md\n"
    }
   }
  },
  {
   "cell_type": "code",
   "execution_count": null,
   "outputs": [],
   "source": [],
   "metadata": {
    "collapsed": false,
    "pycharm": {
     "name": "#%%\n"
    }
   }
  }
 ],
 "metadata": {
  "kernelspec": {
   "display_name": "Python 3",
   "language": "python",
   "name": "python3"
  },
  "language_info": {
   "codemirror_mode": {
    "name": "ipython",
    "version": 2
   },
   "file_extension": ".py",
   "mimetype": "text/x-python",
   "name": "python",
   "nbconvert_exporter": "python",
   "pygments_lexer": "ipython2",
   "version": "2.7.6"
  }
 },
 "nbformat": 4,
 "nbformat_minor": 0
}