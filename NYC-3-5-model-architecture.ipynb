{
 "nbformat": 4,
 "nbformat_minor": 0,
 "metadata": {
  "colab": {
   "name": "NYC_FL.ipynb",
   "provenance": [],
   "toc_visible": true
  },
  "kernelspec": {
   "name": "python3",
   "display_name": "Python 3"
  },
  "accelerator": "GPU"
 },
 "cells": [
  {
   "cell_type": "markdown",
   "metadata": {
    "id": "01ekVSe4McOZ",
    "pycharm": {
     "name": "#%% md\n"
    }
   },
   "source": [
    "# Revisiting the NYC Taxi DataSet Model Architecture Part 5\n",
    "\n",
    "In this notebook, the model architecture is being changed in order to understand the correlation between the model architecture and the prediction quality.\n",
    "This model uses sequences of time components for the GRU network component.\n",
    "That component consists of two GRU layers which are then flattened and concatenated with the time components of the target data.\n",
    "The deep learning problem can thus be described as follows:\n",
    "Predict the (N+1)th location using time components of the target location and a history of prior time data in form a sequence of N time components.\n",
    "All time components are sin-cos-transformed.\n",
    "This model and all future changed model architectures also use the changed network architecture from Part 1.\n",
    "This architecture only predicts the relevant (N+1)th location and not all next locations for every sequence element like it was in the original architecture.\n"
   ]
  },
  {
   "cell_type": "code",
   "metadata": {
    "id": "O0AtRRZwKfnz",
    "colab": {
     "base_uri": "https://localhost:8080/",
     "height": 119
    },
    "outputId": "ec8f53e1-bede-41f7-a6a1-2bf8249bbf6b",
    "pycharm": {
     "name": "#%%\n"
    }
   },
   "source": [
    "import numpy as np\n",
    "np.random.seed(0)\n",
    "import tensorflow as tf\n",
    "import pandas as pd\n",
    "from tensorflow import feature_column\n",
    "from tensorflow.keras import layers\n",
    "import import_ipynb"
   ],
   "execution_count": 4,
   "outputs": []
  },
  {
   "cell_type": "code",
   "execution_count": 5,
   "outputs": [],
   "source": [
    "from model_helper import ModelHelper"
   ],
   "metadata": {
    "collapsed": false,
    "pycharm": {
     "name": "#%%\n"
    }
   }
  },
  {
   "cell_type": "markdown",
   "metadata": {
    "id": "nRSBBlWyLG9h",
    "pycharm": {
     "name": "#%% md\n"
    }
   },
   "source": [
    "# Dataset"
   ]
  },
  {
   "cell_type": "code",
   "metadata": {
    "id": "EiraMJg9uOb9",
    "colab": {
     "base_uri": "https://localhost:8080/",
     "height": 204
    },
    "outputId": "bd845c7d-9072-46d5-ef12-b26e94566280",
    "pycharm": {
     "name": "#%%\n"
    }
   },
   "source": [
    "df = pd.read_csv(\"./ma_results/trips_with_zones_final.csv\")\n",
    "df = df.head(10000000)\n",
    "df.head(10)"
   ],
   "execution_count": 6,
   "outputs": [
    {
     "data": {
      "text/plain": "                          medallion  pickup_week_day  pickup_hour  pickup_day  \\\n0  00005007A9F30E289E760362F69E4EAD                1            0           1   \n1  00005007A9F30E289E760362F69E4EAD                1            0           1   \n2  00005007A9F30E289E760362F69E4EAD                1            0           1   \n3  00005007A9F30E289E760362F69E4EAD                1            1           1   \n4  00005007A9F30E289E760362F69E4EAD                1            1           1   \n5  00005007A9F30E289E760362F69E4EAD                1            1           1   \n6  00005007A9F30E289E760362F69E4EAD                1            2           1   \n7  00005007A9F30E289E760362F69E4EAD                1            2           1   \n8  00005007A9F30E289E760362F69E4EAD                1            2           1   \n9  00005007A9F30E289E760362F69E4EAD                1            3           1   \n\n   pickup_month  dropoff_week_day  dropoff_hour  dropoff_day  dropoff_month  \\\n0             1                 1             0            1              1   \n1             1                 1             0            1              1   \n2             1                 1             1            1              1   \n3             1                 1             1            1              1   \n4             1                 1             1            1              1   \n5             1                 1             2            1              1   \n6             1                 1             2            1              1   \n7             1                 1             2            1              1   \n8             1                 1             3            1              1   \n9             1                 1             3            1              1   \n\n   pickup_location_id  dropoff_location_id  \n0               162.0                262.0  \n1               262.0                239.0  \n2               239.0                236.0  \n3               236.0                 41.0  \n4                41.0                211.0  \n5               211.0                238.0  \n6               238.0                142.0  \n7               142.0                263.0  \n8               263.0                 48.0  \n9                48.0                246.0  ",
      "text/html": "<div>\n<style scoped>\n    .dataframe tbody tr th:only-of-type {\n        vertical-align: middle;\n    }\n\n    .dataframe tbody tr th {\n        vertical-align: top;\n    }\n\n    .dataframe thead th {\n        text-align: right;\n    }\n</style>\n<table border=\"1\" class=\"dataframe\">\n  <thead>\n    <tr style=\"text-align: right;\">\n      <th></th>\n      <th>medallion</th>\n      <th>pickup_week_day</th>\n      <th>pickup_hour</th>\n      <th>pickup_day</th>\n      <th>pickup_month</th>\n      <th>dropoff_week_day</th>\n      <th>dropoff_hour</th>\n      <th>dropoff_day</th>\n      <th>dropoff_month</th>\n      <th>pickup_location_id</th>\n      <th>dropoff_location_id</th>\n    </tr>\n  </thead>\n  <tbody>\n    <tr>\n      <th>0</th>\n      <td>00005007A9F30E289E760362F69E4EAD</td>\n      <td>1</td>\n      <td>0</td>\n      <td>1</td>\n      <td>1</td>\n      <td>1</td>\n      <td>0</td>\n      <td>1</td>\n      <td>1</td>\n      <td>162.0</td>\n      <td>262.0</td>\n    </tr>\n    <tr>\n      <th>1</th>\n      <td>00005007A9F30E289E760362F69E4EAD</td>\n      <td>1</td>\n      <td>0</td>\n      <td>1</td>\n      <td>1</td>\n      <td>1</td>\n      <td>0</td>\n      <td>1</td>\n      <td>1</td>\n      <td>262.0</td>\n      <td>239.0</td>\n    </tr>\n    <tr>\n      <th>2</th>\n      <td>00005007A9F30E289E760362F69E4EAD</td>\n      <td>1</td>\n      <td>0</td>\n      <td>1</td>\n      <td>1</td>\n      <td>1</td>\n      <td>1</td>\n      <td>1</td>\n      <td>1</td>\n      <td>239.0</td>\n      <td>236.0</td>\n    </tr>\n    <tr>\n      <th>3</th>\n      <td>00005007A9F30E289E760362F69E4EAD</td>\n      <td>1</td>\n      <td>1</td>\n      <td>1</td>\n      <td>1</td>\n      <td>1</td>\n      <td>1</td>\n      <td>1</td>\n      <td>1</td>\n      <td>236.0</td>\n      <td>41.0</td>\n    </tr>\n    <tr>\n      <th>4</th>\n      <td>00005007A9F30E289E760362F69E4EAD</td>\n      <td>1</td>\n      <td>1</td>\n      <td>1</td>\n      <td>1</td>\n      <td>1</td>\n      <td>1</td>\n      <td>1</td>\n      <td>1</td>\n      <td>41.0</td>\n      <td>211.0</td>\n    </tr>\n    <tr>\n      <th>5</th>\n      <td>00005007A9F30E289E760362F69E4EAD</td>\n      <td>1</td>\n      <td>1</td>\n      <td>1</td>\n      <td>1</td>\n      <td>1</td>\n      <td>2</td>\n      <td>1</td>\n      <td>1</td>\n      <td>211.0</td>\n      <td>238.0</td>\n    </tr>\n    <tr>\n      <th>6</th>\n      <td>00005007A9F30E289E760362F69E4EAD</td>\n      <td>1</td>\n      <td>2</td>\n      <td>1</td>\n      <td>1</td>\n      <td>1</td>\n      <td>2</td>\n      <td>1</td>\n      <td>1</td>\n      <td>238.0</td>\n      <td>142.0</td>\n    </tr>\n    <tr>\n      <th>7</th>\n      <td>00005007A9F30E289E760362F69E4EAD</td>\n      <td>1</td>\n      <td>2</td>\n      <td>1</td>\n      <td>1</td>\n      <td>1</td>\n      <td>2</td>\n      <td>1</td>\n      <td>1</td>\n      <td>142.0</td>\n      <td>263.0</td>\n    </tr>\n    <tr>\n      <th>8</th>\n      <td>00005007A9F30E289E760362F69E4EAD</td>\n      <td>1</td>\n      <td>2</td>\n      <td>1</td>\n      <td>1</td>\n      <td>1</td>\n      <td>3</td>\n      <td>1</td>\n      <td>1</td>\n      <td>263.0</td>\n      <td>48.0</td>\n    </tr>\n    <tr>\n      <th>9</th>\n      <td>00005007A9F30E289E760362F69E4EAD</td>\n      <td>1</td>\n      <td>3</td>\n      <td>1</td>\n      <td>1</td>\n      <td>1</td>\n      <td>3</td>\n      <td>1</td>\n      <td>1</td>\n      <td>48.0</td>\n      <td>246.0</td>\n    </tr>\n  </tbody>\n</table>\n</div>"
     },
     "execution_count": 6,
     "metadata": {},
     "output_type": "execute_result"
    }
   ]
  },
  {
   "cell_type": "code",
   "metadata": {
    "id": "ggIfgQxKuOcC",
    "colab": {
     "base_uri": "https://localhost:8080/",
     "height": 221
    },
    "outputId": "4a248d3b-8b73-4f2b-d7f3-8f9bcaaedbd6",
    "pycharm": {
     "name": "#%%\n"
    }
   },
   "source": [
    "# Check dtypes of the attributes\n",
    "df.dtypes"
   ],
   "execution_count": 7,
   "outputs": [
    {
     "data": {
      "text/plain": "medallion               object\npickup_week_day          int64\npickup_hour              int64\npickup_day               int64\npickup_month             int64\ndropoff_week_day         int64\ndropoff_hour             int64\ndropoff_day              int64\ndropoff_month            int64\npickup_location_id     float64\ndropoff_location_id    float64\ndtype: object"
     },
     "execution_count": 7,
     "metadata": {},
     "output_type": "execute_result"
    }
   ]
  },
  {
   "cell_type": "code",
   "execution_count": 8,
   "outputs": [],
   "source": [
    "# Drop the medallion, it is not needed for this example\n",
    "df.drop(['medallion'], axis=1, inplace=True)"
   ],
   "metadata": {
    "collapsed": false,
    "pycharm": {
     "name": "#%%\n"
    }
   }
  },
  {
   "cell_type": "markdown",
   "metadata": {
    "id": "ep1BmXDVPxC1",
    "pycharm": {
     "name": "#%% md\n"
    }
   },
   "source": [
    "Because there are too many taxis (over 9000) it is better to take the 100 taxi with the major number of records"
   ]
  },
  {
   "cell_type": "code",
   "execution_count": 9,
   "outputs": [
    {
     "data": {
      "text/plain": "pickup_week_day        int32\npickup_hour            int32\npickup_day             int32\npickup_month           int32\ndropoff_week_day       int32\ndropoff_hour           int32\ndropoff_day            int32\ndropoff_month          int32\npickup_location_id     int32\ndropoff_location_id    int32\ndtype: object"
     },
     "execution_count": 9,
     "metadata": {},
     "output_type": "execute_result"
    }
   ],
   "source": [
    "# Cast the columns type to int32\n",
    "dictionary = {'pickup_week_day': 'int32', 'pickup_hour': 'int32', 'pickup_day': 'int32', 'pickup_month': 'int32', 'dropoff_week_day': 'int32', 'dropoff_hour': 'int32', 'dropoff_day': 'int32', 'dropoff_month': 'int32', 'pickup_location_id':'int32', 'dropoff_location_id':'int32'}\n",
    "df = df.astype(dictionary, copy=True)\n",
    "df.dtypes"
   ],
   "metadata": {
    "collapsed": false,
    "pycharm": {
     "name": "#%%\n"
    }
   }
  },
  {
   "cell_type": "markdown",
   "metadata": {
    "id": "-oH6GxKzwc7K",
    "pycharm": {
     "name": "#%% md\n"
    }
   },
   "source": [
    "We can use the other taxis to create a local test and validation sets"
   ]
  },
  {
   "cell_type": "markdown",
   "metadata": {
    "id": "eHECUQleRxHH",
    "pycharm": {
     "name": "#%% md\n"
    }
   },
   "source": [
    "Now we need to create the location sequence for each user"
   ]
  },
  {
   "cell_type": "code",
   "execution_count": 10,
   "outputs": [],
   "source": [
    "mh = ModelHelper(df, 129)"
   ],
   "metadata": {
    "collapsed": false,
    "pycharm": {
     "name": "#%%\n"
    }
   }
  },
  {
   "cell_type": "code",
   "metadata": {
    "id": "Uzze3vF-R8OZ",
    "pycharm": {
     "name": "#%%\n"
    }
   },
   "source": [
    "# Call the function\n",
    "mh.df_to_location_sequence()\n",
    "\n",
    "print(mh.df)"
   ],
   "execution_count": 11,
   "outputs": [
    {
     "name": "stdout",
     "output_type": "stream",
     "text": [
      "            index  location_id  day  month  hour_sin      hour_cos  \\\n",
      "0               0          162    1      1  0.000000  1.000000e+00   \n",
      "1              12          230    1      1  0.707107  7.071068e-01   \n",
      "2              13          125    1      1  0.707107  7.071068e-01   \n",
      "3              15           48    1      1  0.866025  5.000000e-01   \n",
      "4              18          170    1      1  1.000000  6.123234e-17   \n",
      "...           ...          ...  ...    ...       ...           ...   \n",
      "13731996  7284341          161   26      1 -0.500000 -8.660254e-01   \n",
      "13731997  7284341          161   26      1 -0.500000 -8.660254e-01   \n",
      "13731998  7284342          132   26      1 -0.707107 -7.071068e-01   \n",
      "13731999  7284343          141   26      1 -0.866025 -5.000000e-01   \n",
      "13732000  7284344          141   26      1 -0.866025 -5.000000e-01   \n",
      "\n",
      "          week_day_sin  week_day_cos  weekend  \n",
      "0             0.781831      0.623490        0  \n",
      "1             0.781831      0.623490        0  \n",
      "2             0.781831      0.623490        0  \n",
      "3             0.781831      0.623490        0  \n",
      "4             0.781831      0.623490        0  \n",
      "...                ...           ...      ...  \n",
      "13731996     -0.974928     -0.222521        1  \n",
      "13731997     -0.974928     -0.222521        1  \n",
      "13731998     -0.974928     -0.222521        1  \n",
      "13731999     -0.974928     -0.222521        1  \n",
      "13732000     -0.974928     -0.222521        1  \n",
      "\n",
      "[13732001 rows x 9 columns]\n"
     ]
    }
   ]
  },
  {
   "cell_type": "code",
   "metadata": {
    "id": "YbQmLj9kSYqp",
    "colab": {
     "base_uri": "https://localhost:8080/",
     "height": 34
    },
    "outputId": "07af026d-8765-4323-8204-953df7b1eccc",
    "pycharm": {
     "name": "#%%\n"
    }
   },
   "source": [
    "mh.train_val_test_split()\n",
    "print(len(mh.df_train), 'train examples')\n",
    "print(len(mh.df_val), 'validation examples')\n",
    "print(len(mh.df_test), 'test examples')"
   ],
   "execution_count": 12,
   "outputs": [
    {
     "name": "stdout",
     "output_type": "stream",
     "text": [
      "8788480 train examples\n",
      "2197120 validation examples\n",
      "2746401 test examples\n"
     ]
    }
   ]
  },
  {
   "cell_type": "code",
   "metadata": {
    "id": "ltjLgzdf1LYY",
    "pycharm": {
     "name": "#%%\n"
    }
   },
   "source": [
    "mh.split_data()\n",
    "mh.list_test[0]"
   ],
   "execution_count": 13,
   "outputs": [
    {
     "data": {
      "text/plain": "            index  location_id  day  month  hour_sin  hour_cos  week_day_sin  \\\n10985600  5283998          246    4      1 -0.866025  0.500000     -0.433884   \n10985601  5283999          107    4      1 -0.707107  0.707107     -0.433884   \n10985602  5284000          142    4      1 -0.707107  0.707107     -0.433884   \n10985603  5284001           48    4      1 -0.500000  0.866025     -0.433884   \n10985604  5284001           48    4      1 -0.500000  0.866025     -0.433884   \n...           ...          ...  ...    ...       ...       ...           ...   \n10985724  5284091          234    7      1  0.000000  1.000000      0.000000   \n10985725  5284092          162    7      1  0.258819  0.965926      0.000000   \n10985726  5284093          142    7      1  0.500000  0.866025      0.000000   \n10985727  5284093          142    7      1  0.500000  0.866025      0.000000   \n10985728  5284094          239    7      1  0.500000  0.866025      0.000000   \n\n          week_day_cos  weekend  \n10985600     -0.900969        0  \n10985601     -0.900969        0  \n10985602     -0.900969        0  \n10985603     -0.900969        0  \n10985604     -0.900969        0  \n...                ...      ...  \n10985724      1.000000        0  \n10985725      1.000000        0  \n10985726      1.000000        0  \n10985727      1.000000        0  \n10985728      1.000000        0  \n\n[129 rows x 9 columns]",
      "text/html": "<div>\n<style scoped>\n    .dataframe tbody tr th:only-of-type {\n        vertical-align: middle;\n    }\n\n    .dataframe tbody tr th {\n        vertical-align: top;\n    }\n\n    .dataframe thead th {\n        text-align: right;\n    }\n</style>\n<table border=\"1\" class=\"dataframe\">\n  <thead>\n    <tr style=\"text-align: right;\">\n      <th></th>\n      <th>index</th>\n      <th>location_id</th>\n      <th>day</th>\n      <th>month</th>\n      <th>hour_sin</th>\n      <th>hour_cos</th>\n      <th>week_day_sin</th>\n      <th>week_day_cos</th>\n      <th>weekend</th>\n    </tr>\n  </thead>\n  <tbody>\n    <tr>\n      <th>10985600</th>\n      <td>5283998</td>\n      <td>246</td>\n      <td>4</td>\n      <td>1</td>\n      <td>-0.866025</td>\n      <td>0.500000</td>\n      <td>-0.433884</td>\n      <td>-0.900969</td>\n      <td>0</td>\n    </tr>\n    <tr>\n      <th>10985601</th>\n      <td>5283999</td>\n      <td>107</td>\n      <td>4</td>\n      <td>1</td>\n      <td>-0.707107</td>\n      <td>0.707107</td>\n      <td>-0.433884</td>\n      <td>-0.900969</td>\n      <td>0</td>\n    </tr>\n    <tr>\n      <th>10985602</th>\n      <td>5284000</td>\n      <td>142</td>\n      <td>4</td>\n      <td>1</td>\n      <td>-0.707107</td>\n      <td>0.707107</td>\n      <td>-0.433884</td>\n      <td>-0.900969</td>\n      <td>0</td>\n    </tr>\n    <tr>\n      <th>10985603</th>\n      <td>5284001</td>\n      <td>48</td>\n      <td>4</td>\n      <td>1</td>\n      <td>-0.500000</td>\n      <td>0.866025</td>\n      <td>-0.433884</td>\n      <td>-0.900969</td>\n      <td>0</td>\n    </tr>\n    <tr>\n      <th>10985604</th>\n      <td>5284001</td>\n      <td>48</td>\n      <td>4</td>\n      <td>1</td>\n      <td>-0.500000</td>\n      <td>0.866025</td>\n      <td>-0.433884</td>\n      <td>-0.900969</td>\n      <td>0</td>\n    </tr>\n    <tr>\n      <th>...</th>\n      <td>...</td>\n      <td>...</td>\n      <td>...</td>\n      <td>...</td>\n      <td>...</td>\n      <td>...</td>\n      <td>...</td>\n      <td>...</td>\n      <td>...</td>\n    </tr>\n    <tr>\n      <th>10985724</th>\n      <td>5284091</td>\n      <td>234</td>\n      <td>7</td>\n      <td>1</td>\n      <td>0.000000</td>\n      <td>1.000000</td>\n      <td>0.000000</td>\n      <td>1.000000</td>\n      <td>0</td>\n    </tr>\n    <tr>\n      <th>10985725</th>\n      <td>5284092</td>\n      <td>162</td>\n      <td>7</td>\n      <td>1</td>\n      <td>0.258819</td>\n      <td>0.965926</td>\n      <td>0.000000</td>\n      <td>1.000000</td>\n      <td>0</td>\n    </tr>\n    <tr>\n      <th>10985726</th>\n      <td>5284093</td>\n      <td>142</td>\n      <td>7</td>\n      <td>1</td>\n      <td>0.500000</td>\n      <td>0.866025</td>\n      <td>0.000000</td>\n      <td>1.000000</td>\n      <td>0</td>\n    </tr>\n    <tr>\n      <th>10985727</th>\n      <td>5284093</td>\n      <td>142</td>\n      <td>7</td>\n      <td>1</td>\n      <td>0.500000</td>\n      <td>0.866025</td>\n      <td>0.000000</td>\n      <td>1.000000</td>\n      <td>0</td>\n    </tr>\n    <tr>\n      <th>10985728</th>\n      <td>5284094</td>\n      <td>239</td>\n      <td>7</td>\n      <td>1</td>\n      <td>0.500000</td>\n      <td>0.866025</td>\n      <td>0.000000</td>\n      <td>1.000000</td>\n      <td>0</td>\n    </tr>\n  </tbody>\n</table>\n<p>129 rows × 9 columns</p>\n</div>"
     },
     "execution_count": 13,
     "metadata": {},
     "output_type": "execute_result"
    }
   ]
  },
  {
   "cell_type": "code",
   "metadata": {
    "id": "sEMnEoqY9CAv",
    "colab": {
     "base_uri": "https://localhost:8080/",
     "height": 68
    },
    "outputId": "37048dd7-05ce-4780-fda7-70351e948503",
    "pycharm": {
     "name": "#%%\n"
    }
   },
   "source": [
    "mh.set_batch_size(128)\n",
    "mh.create_batch_dataset()\n",
    "mh.test_dataset"
   ],
   "execution_count": 14,
   "outputs": [
    {
     "data": {
      "text/plain": "<BatchDataset shapes: ({start_place: (128, 128), start_hour_sin: (128, 128), start_hour_cos: (128, 128), weekend: (128, 128), week_day_sin: (128, 128), week_day_cos: (128, 128), end_hour_sin: (128,), end_hour_cos: (128,), end_weekend: (128,), end_week_day_sin: (128,), end_week_day_cos: (128,)}, (128,)), types: ({start_place: tf.int32, start_hour_sin: tf.float64, start_hour_cos: tf.float64, weekend: tf.int32, week_day_sin: tf.float64, week_day_cos: tf.float64, end_hour_sin: tf.float64, end_hour_cos: tf.float64, end_weekend: tf.int32, end_week_day_sin: tf.float64, end_week_day_cos: tf.float64}, tf.int32)>"
     },
     "execution_count": 14,
     "metadata": {},
     "output_type": "execute_result"
    }
   ]
  },
  {
   "cell_type": "code",
   "execution_count": 15,
   "outputs": [],
   "source": [
    "mh.set_target_column_name('location_id')\n",
    "mh.set_vocab_size()\n",
    "mh.set_numerical_column_names(['start_hour_sin', 'start_hour_cos', 'weekend', 'week_day'])"
   ],
   "metadata": {
    "collapsed": false,
    "pycharm": {
     "name": "#%%\n"
    }
   }
  },
  {
   "cell_type": "code",
   "metadata": {
    "id": "bHDBtZVwYXWT",
    "pycharm": {
     "name": "#%%\n"
    }
   },
   "source": [
    "# The embedding dimension\n",
    "embedding_dim = 256\n",
    "\n",
    "# Number of RNN units\n",
    "rnn_units = 256\n",
    "\n",
    "# Create a model\n",
    "def create_model():\n",
    "  N = mh.total_window_length\n",
    "  batch_size = mh.batch_size\n",
    "  number_of_places = mh.vocab_size\n",
    "\n",
    "  # Shortcut to the layers package\n",
    "  l = tf.keras.layers\n",
    "\n",
    "  # Now we need to define an input dictionary.\n",
    "  # Where the keys are the column names\n",
    "  # This is a model with multiple inputs, so we need to declare and input layer for each feature\n",
    "  feature_inputs = {\n",
    "    'start_hour_sin': tf.keras.Input((N-1, ), batch_size=batch_size, name='start_hour_sin'),\n",
    "    'start_hour_cos': tf.keras.Input((N-1, ), batch_size=batch_size, name='start_hour_cos'),\n",
    "    'weekend': tf.keras.Input((N-1, ), batch_size=batch_size, name='weekend'),\n",
    "    'week_day_sin': tf.keras.Input((N-1, ), batch_size=batch_size, name='week_day_sin'),\n",
    "    'week_day_cos': tf.keras.Input((N-1, ), batch_size=batch_size, name='week_day_cos'),\n",
    "  }\n",
    "\n",
    "  other_feature_inputs = {\n",
    "    'end_hour_sin': tf.keras.Input((1, ), batch_size=batch_size, name='end_hour_sin'),\n",
    "    'end_hour_cos': tf.keras.Input((1, ), batch_size=batch_size, name='end_hour_cos'),\n",
    "    'end_weekend': tf.keras.Input((1, ), batch_size=batch_size, name='end_weekend'),\n",
    "    'end_week_day_sin': tf.keras.Input((1, ), batch_size=batch_size, name='end_week_day_sin'),\n",
    "    'end_week_day_cos': tf.keras.Input((1, ), batch_size=batch_size, name='end_week_day_cos')\n",
    "  }\n",
    "\n",
    "  # We cannot use an array of features as always because we have sequences, and we cannot match the shape otherwise\n",
    "  # We have to do one by one\n",
    "  start_hour_sin = feature_column.numeric_column(\"start_hour_sin\", shape=(N-1))\n",
    "  hour_sin_feature = l.DenseFeatures(start_hour_sin)(feature_inputs)\n",
    "\n",
    "  start_hour_cos = feature_column.numeric_column(\"start_hour_cos\", shape=(N-1))\n",
    "  hour_cos_feature = l.DenseFeatures(start_hour_cos)(feature_inputs)\n",
    "\n",
    "  weekend = feature_column.numeric_column(\"weekend\", shape=(N-1))\n",
    "  weekend_feature = l.DenseFeatures(weekend)(feature_inputs)\n",
    "\n",
    "  week_day_sin = feature_column.numeric_column(\"week_day_sin\", shape=(N-1))\n",
    "  week_day_sin_feature = l.DenseFeatures(week_day_sin)(feature_inputs)\n",
    "\n",
    "  week_day_cos = feature_column.numeric_column(\"week_day_cos\", shape=(N-1))\n",
    "  week_day_cos_feature = l.DenseFeatures(week_day_cos)(feature_inputs)\n",
    "\n",
    "  end_hour_sin = feature_column.numeric_column(\"end_hour_sin\", shape=(1))\n",
    "  end_hour_sin_feature = l.DenseFeatures(end_hour_sin)(other_feature_inputs)\n",
    "\n",
    "  end_hour_cos = feature_column.numeric_column(\"end_hour_cos\", shape=(1))\n",
    "  end_hour_cos_feature = l.DenseFeatures(end_hour_cos)(other_feature_inputs)\n",
    "\n",
    "  end_weekend = feature_column.numeric_column(\"end_weekend\", shape=(1))\n",
    "  end_weekend_feature = l.DenseFeatures(end_weekend)(other_feature_inputs)\n",
    "\n",
    "  end_week_day_sin = feature_column.numeric_column(\"end_week_day_sin\", shape=(1))\n",
    "  end_week_day_sin_feature = l.DenseFeatures(end_week_day_sin)(other_feature_inputs)\n",
    "\n",
    "  end_week_day_cos = feature_column.numeric_column(\"end_week_day_cos\", shape=(1))\n",
    "  end_week_day_cos_feature = l.DenseFeatures(end_week_day_cos)(other_feature_inputs)\n",
    "\n",
    "  # We have also to add a dimension to then concatenate\n",
    "  hour_sin_feature = tf.expand_dims(hour_sin_feature, -1)\n",
    "  hour_cos_feature = tf.expand_dims(hour_cos_feature, -1)\n",
    "  weekend_feature = tf.expand_dims(weekend_feature, -1)\n",
    "  week_day_sin_feature = tf.expand_dims(week_day_sin_feature, -1)\n",
    "  week_day_cos_feature = tf.expand_dims(week_day_cos_feature, -1)\n",
    "\n",
    "  input_sequence = l.Concatenate(axis=2)([hour_sin_feature, hour_cos_feature, weekend_feature, week_day_sin_feature, week_day_cos_feature])\n",
    "\n",
    "  # Rnn\n",
    "  recurrent = l.GRU(rnn_units,\n",
    "                        batch_size=batch_size, #in case of stateful\n",
    "                        return_sequences=True,\n",
    "                        stateful=True,\n",
    "                        recurrent_initializer='glorot_uniform')(input_sequence)\n",
    "\n",
    "  recurrent_2 = l.GRU(64,\n",
    "                        batch_size=batch_size, #in case of stateful\n",
    "                        stateful=True,\n",
    "                        recurrent_initializer='glorot_uniform')(recurrent)\n",
    "\n",
    "\n",
    "  flatten = l.Flatten()(recurrent_2)\n",
    "\n",
    "  concatenate_2 = l.Concatenate(axis=1)([flatten, end_hour_sin_feature, end_hour_cos_feature, end_weekend_feature, end_week_day_sin_feature, end_week_day_cos_feature])\n",
    "\n",
    "  # Last layer with an output for each places\n",
    "  dense_1 = layers.Dense(number_of_places)(concatenate_2)\n",
    "\n",
    "  # Softmax output layer\n",
    "  output = l.Softmax()(dense_1)\n",
    "\n",
    "  # To return the Model, we need to define its inputs and outputs\n",
    "  # In out case, we need to list all the input layers we have defined\n",
    "  inputs = list(feature_inputs.values()) + list(other_feature_inputs.values())\n",
    "\n",
    "  # Return the Model\n",
    "  return tf.keras.Model(inputs=inputs, outputs=output)"
   ],
   "execution_count": 16,
   "outputs": []
  },
  {
   "cell_type": "code",
   "execution_count": 17,
   "outputs": [],
   "source": [
    "# Get the model and compile it\n",
    "mh.assign_model(create_model())\n",
    "mh.compile_model()"
   ],
   "metadata": {
    "collapsed": false,
    "pycharm": {
     "name": "#%%\n"
    }
   }
  },
  {
   "cell_type": "markdown",
   "metadata": {
    "id": "JLTlfunoO0Yd",
    "pycharm": {
     "name": "#%% md\n"
    }
   },
   "source": [
    "# Training"
   ]
  },
  {
   "cell_type": "code",
   "execution_count": 18,
   "outputs": [
    {
     "name": "stdout",
     "output_type": "stream",
     "text": [
      "Epoch 1/10\n"
     ]
    },
    {
     "name": "stderr",
     "output_type": "stream",
     "text": [
      "C:\\Users\\julia\\PycharmProjects\\HumanMobilityPredictionMA\\venv\\lib\\site-packages\\tensorflow\\python\\keras\\engine\\functional.py:543: UserWarning: Input dict contained keys ['start_place'] which did not match any model input. They will be ignored by the model.\n",
      "  [n for n in tensors.keys() if n not in ref_input_names])\n"
     ]
    },
    {
     "name": "stdout",
     "output_type": "stream",
     "text": [
      "532/532 [==============================] - 168s 315ms/step - loss: 4.2309 - sparse_categorical_accuracy: 0.0402 - val_loss: 4.1900 - val_sparse_categorical_accuracy: 0.0469\n",
      "Epoch 2/10\n",
      "532/532 [==============================] - 158s 298ms/step - loss: 4.1530 - sparse_categorical_accuracy: 0.0462 - val_loss: 4.1779 - val_sparse_categorical_accuracy: 0.0472\n",
      "Epoch 3/10\n",
      "532/532 [==============================] - 164s 309ms/step - loss: 4.1423 - sparse_categorical_accuracy: 0.0468 - val_loss: 4.1714 - val_sparse_categorical_accuracy: 0.0478\n",
      "Epoch 4/10\n",
      "532/532 [==============================] - 162s 305ms/step - loss: 4.1375 - sparse_categorical_accuracy: 0.0471 - val_loss: 4.1694 - val_sparse_categorical_accuracy: 0.0476\n",
      "Epoch 5/10\n",
      "532/532 [==============================] - 165s 310ms/step - loss: 4.1351 - sparse_categorical_accuracy: 0.0472 - val_loss: 4.1685 - val_sparse_categorical_accuracy: 0.0480\n",
      "Epoch 6/10\n",
      "532/532 [==============================] - 177s 332ms/step - loss: 4.1335 - sparse_categorical_accuracy: 0.0476 - val_loss: 4.1675 - val_sparse_categorical_accuracy: 0.0476\n",
      "Epoch 7/10\n",
      "532/532 [==============================] - 198s 373ms/step - loss: 4.1322 - sparse_categorical_accuracy: 0.0477 - val_loss: 4.1668 - val_sparse_categorical_accuracy: 0.0485\n",
      "Epoch 8/10\n",
      "532/532 [==============================] - 189s 355ms/step - loss: 4.1315 - sparse_categorical_accuracy: 0.0474 - val_loss: 4.1663 - val_sparse_categorical_accuracy: 0.0485\n",
      "Epoch 9/10\n",
      "532/532 [==============================] - 191s 359ms/step - loss: 4.1307 - sparse_categorical_accuracy: 0.0473 - val_loss: 4.1662 - val_sparse_categorical_accuracy: 0.0483\n",
      "Epoch 10/10\n",
      "532/532 [==============================] - ETA: 0s - loss: 4.1301 - sparse_categorical_accuracy: 0.0475Restoring model weights from the end of the best epoch.\n",
      "532/532 [==============================] - 199s 375ms/step - loss: 4.1301 - sparse_categorical_accuracy: 0.0475 - val_loss: 4.1662 - val_sparse_categorical_accuracy: 0.0480\n",
      "Epoch 00010: early stopping\n"
     ]
    }
   ],
   "source": [
    "mh.set_num_epochs(10)\n",
    "mh.fit_model()"
   ],
   "metadata": {
    "collapsed": false,
    "pycharm": {
     "name": "#%%\n"
    }
   }
  },
  {
   "cell_type": "markdown",
   "source": [
    "# Evaluation"
   ],
   "metadata": {
    "collapsed": false,
    "pycharm": {
     "name": "#%% md\n"
    }
   }
  },
  {
   "cell_type": "code",
   "execution_count": 19,
   "outputs": [
    {
     "name": "stdout",
     "output_type": "stream",
     "text": [
      "166/166 [==============================] - 17s 102ms/step - loss: 4.1669 - sparse_categorical_accuracy: 0.0475\n"
     ]
    }
   ],
   "source": [
    "mh.evaluate_model()"
   ],
   "metadata": {
    "collapsed": false,
    "pycharm": {
     "name": "#%%\n"
    }
   }
  },
  {
   "cell_type": "code",
   "execution_count": 20,
   "outputs": [
    {
     "name": "stdout",
     "output_type": "stream",
     "text": [
      "Model: \"functional_1\"\n",
      "__________________________________________________________________________________________________\n",
      "Layer (type)                    Output Shape         Param #     Connected to                     \n",
      "==================================================================================================\n",
      "start_hour_cos (InputLayer)     [(128, 128)]         0                                            \n",
      "__________________________________________________________________________________________________\n",
      "start_hour_sin (InputLayer)     [(128, 128)]         0                                            \n",
      "__________________________________________________________________________________________________\n",
      "week_day_cos (InputLayer)       [(128, 128)]         0                                            \n",
      "__________________________________________________________________________________________________\n",
      "week_day_sin (InputLayer)       [(128, 128)]         0                                            \n",
      "__________________________________________________________________________________________________\n",
      "weekend (InputLayer)            [(128, 128)]         0                                            \n",
      "__________________________________________________________________________________________________\n",
      "dense_features (DenseFeatures)  (128, 128)           0           start_hour_cos[0][0]             \n",
      "                                                                 start_hour_sin[0][0]             \n",
      "                                                                 week_day_cos[0][0]               \n",
      "                                                                 week_day_sin[0][0]               \n",
      "                                                                 weekend[0][0]                    \n",
      "__________________________________________________________________________________________________\n",
      "dense_features_1 (DenseFeatures (128, 128)           0           start_hour_cos[0][0]             \n",
      "                                                                 start_hour_sin[0][0]             \n",
      "                                                                 week_day_cos[0][0]               \n",
      "                                                                 week_day_sin[0][0]               \n",
      "                                                                 weekend[0][0]                    \n",
      "__________________________________________________________________________________________________\n",
      "dense_features_2 (DenseFeatures (128, 128)           0           start_hour_cos[0][0]             \n",
      "                                                                 start_hour_sin[0][0]             \n",
      "                                                                 week_day_cos[0][0]               \n",
      "                                                                 week_day_sin[0][0]               \n",
      "                                                                 weekend[0][0]                    \n",
      "__________________________________________________________________________________________________\n",
      "dense_features_3 (DenseFeatures (128, 128)           0           start_hour_cos[0][0]             \n",
      "                                                                 start_hour_sin[0][0]             \n",
      "                                                                 week_day_cos[0][0]               \n",
      "                                                                 week_day_sin[0][0]               \n",
      "                                                                 weekend[0][0]                    \n",
      "__________________________________________________________________________________________________\n",
      "dense_features_4 (DenseFeatures (128, 128)           0           start_hour_cos[0][0]             \n",
      "                                                                 start_hour_sin[0][0]             \n",
      "                                                                 week_day_cos[0][0]               \n",
      "                                                                 week_day_sin[0][0]               \n",
      "                                                                 weekend[0][0]                    \n",
      "__________________________________________________________________________________________________\n",
      "tf_op_layer_ExpandDims (TensorF [(128, 128, 1)]      0           dense_features[0][0]             \n",
      "__________________________________________________________________________________________________\n",
      "tf_op_layer_ExpandDims_1 (Tenso [(128, 128, 1)]      0           dense_features_1[0][0]           \n",
      "__________________________________________________________________________________________________\n",
      "tf_op_layer_ExpandDims_2 (Tenso [(128, 128, 1)]      0           dense_features_2[0][0]           \n",
      "__________________________________________________________________________________________________\n",
      "tf_op_layer_ExpandDims_3 (Tenso [(128, 128, 1)]      0           dense_features_3[0][0]           \n",
      "__________________________________________________________________________________________________\n",
      "tf_op_layer_ExpandDims_4 (Tenso [(128, 128, 1)]      0           dense_features_4[0][0]           \n",
      "__________________________________________________________________________________________________\n",
      "concatenate (Concatenate)       (128, 128, 5)        0           tf_op_layer_ExpandDims[0][0]     \n",
      "                                                                 tf_op_layer_ExpandDims_1[0][0]   \n",
      "                                                                 tf_op_layer_ExpandDims_2[0][0]   \n",
      "                                                                 tf_op_layer_ExpandDims_3[0][0]   \n",
      "                                                                 tf_op_layer_ExpandDims_4[0][0]   \n",
      "__________________________________________________________________________________________________\n",
      "gru (GRU)                       (128, 128, 256)      201984      concatenate[0][0]                \n",
      "__________________________________________________________________________________________________\n",
      "gru_1 (GRU)                     (128, 64)            61824       gru[0][0]                        \n",
      "__________________________________________________________________________________________________\n",
      "end_hour_cos (InputLayer)       [(128, 1)]           0                                            \n",
      "__________________________________________________________________________________________________\n",
      "end_hour_sin (InputLayer)       [(128, 1)]           0                                            \n",
      "__________________________________________________________________________________________________\n",
      "end_week_day_cos (InputLayer)   [(128, 1)]           0                                            \n",
      "__________________________________________________________________________________________________\n",
      "end_week_day_sin (InputLayer)   [(128, 1)]           0                                            \n",
      "__________________________________________________________________________________________________\n",
      "end_weekend (InputLayer)        [(128, 1)]           0                                            \n",
      "__________________________________________________________________________________________________\n",
      "flatten (Flatten)               (128, 64)            0           gru_1[0][0]                      \n",
      "__________________________________________________________________________________________________\n",
      "dense_features_5 (DenseFeatures (128, 1)             0           end_hour_cos[0][0]               \n",
      "                                                                 end_hour_sin[0][0]               \n",
      "                                                                 end_week_day_cos[0][0]           \n",
      "                                                                 end_week_day_sin[0][0]           \n",
      "                                                                 end_weekend[0][0]                \n",
      "__________________________________________________________________________________________________\n",
      "dense_features_6 (DenseFeatures (128, 1)             0           end_hour_cos[0][0]               \n",
      "                                                                 end_hour_sin[0][0]               \n",
      "                                                                 end_week_day_cos[0][0]           \n",
      "                                                                 end_week_day_sin[0][0]           \n",
      "                                                                 end_weekend[0][0]                \n",
      "__________________________________________________________________________________________________\n",
      "dense_features_7 (DenseFeatures (128, 1)             0           end_hour_cos[0][0]               \n",
      "                                                                 end_hour_sin[0][0]               \n",
      "                                                                 end_week_day_cos[0][0]           \n",
      "                                                                 end_week_day_sin[0][0]           \n",
      "                                                                 end_weekend[0][0]                \n",
      "__________________________________________________________________________________________________\n",
      "dense_features_8 (DenseFeatures (128, 1)             0           end_hour_cos[0][0]               \n",
      "                                                                 end_hour_sin[0][0]               \n",
      "                                                                 end_week_day_cos[0][0]           \n",
      "                                                                 end_week_day_sin[0][0]           \n",
      "                                                                 end_weekend[0][0]                \n",
      "__________________________________________________________________________________________________\n",
      "dense_features_9 (DenseFeatures (128, 1)             0           end_hour_cos[0][0]               \n",
      "                                                                 end_hour_sin[0][0]               \n",
      "                                                                 end_week_day_cos[0][0]           \n",
      "                                                                 end_week_day_sin[0][0]           \n",
      "                                                                 end_weekend[0][0]                \n",
      "__________________________________________________________________________________________________\n",
      "concatenate_1 (Concatenate)     (128, 69)            0           flatten[0][0]                    \n",
      "                                                                 dense_features_5[0][0]           \n",
      "                                                                 dense_features_6[0][0]           \n",
      "                                                                 dense_features_7[0][0]           \n",
      "                                                                 dense_features_8[0][0]           \n",
      "                                                                 dense_features_9[0][0]           \n",
      "__________________________________________________________________________________________________\n",
      "dense (Dense)                   (128, 264)           18480       concatenate_1[0][0]              \n",
      "__________________________________________________________________________________________________\n",
      "softmax (Softmax)               (128, 264)           0           dense[0][0]                      \n",
      "==================================================================================================\n",
      "Total params: 282,288\n",
      "Trainable params: 282,288\n",
      "Non-trainable params: 0\n",
      "__________________________________________________________________________________________________\n"
     ]
    }
   ],
   "source": [
    "mh.model.summary()"
   ],
   "metadata": {
    "collapsed": false,
    "pycharm": {
     "name": "#%%\n"
    }
   }
  },
  {
   "cell_type": "code",
   "execution_count": 21,
   "outputs": [
    {
     "name": "stdout",
     "output_type": "stream",
     "text": [
      "logits\n",
      "Shape :  (21248, 264)\n",
      "Example [0] :  [3.36034689e-03 4.69429360e-04 4.28359016e-07 2.14406464e-05\n",
      " 6.61201263e-03 7.34902244e-07 2.11368133e-05 1.06455879e-02\n",
      " 1.02275852e-04 1.42888850e-04 2.28962745e-04 1.49397194e-04\n",
      " 3.25455854e-04 8.54633935e-03 2.73698615e-03 2.44518829e-04\n",
      " 1.05612693e-04 3.28943273e-03 2.28187928e-04 2.35042262e-05\n",
      " 4.03467820e-05 8.43185771e-05 6.90974237e-04 5.34979481e-05\n",
      " 3.24554066e-03 5.22627868e-03 2.03456948e-04 1.09229347e-06\n",
      " 2.66153947e-04 3.42656509e-04 6.71690316e-07 3.03401721e-05\n",
      " 3.03126399e-05 4.74334788e-03 1.79150913e-04 9.34643831e-05\n",
      " 2.28582323e-03 7.20618898e-03 3.78258701e-05 2.12406783e-04\n",
      " 3.11835250e-03 5.94239729e-03 6.81134546e-03 3.61590181e-03\n",
      " 1.73168446e-05 5.13413316e-03 5.36656553e-05 6.81316669e-05\n",
      " 2.85392106e-02 6.46747975e-03 8.35854746e-03 3.82633516e-05\n",
      " 2.15441966e-03 1.50351465e-04 3.42050858e-04 8.48723794e-05\n",
      " 1.54884212e-04 3.97578674e-07 2.04560965e-05 5.04799573e-07\n",
      " 1.20761033e-04 4.89324098e-03 1.03958650e-03 2.18336863e-05\n",
      " 5.13755367e-07 2.69287312e-03 1.04616222e-03 3.32505151e-04\n",
      " 2.67230961e-02 8.15312378e-04 5.78361913e-04 8.51364530e-05\n",
      " 9.07256472e-05 1.19561584e-04 7.62814237e-03 8.51184223e-03\n",
      " 2.29063880e-04 2.41857313e-04 3.28506940e-05 4.82516065e-02\n",
      " 8.37515853e-03 1.19705273e-05 2.10176338e-03 9.59852594e-04\n",
      " 5.80923261e-05 1.79658207e-04 1.52967878e-05 8.11527390e-03\n",
      " 3.34509718e-03 1.39872928e-03 1.42347179e-02 1.12389709e-04\n",
      " 3.91880807e-04 8.59811189e-05 1.64019380e-04 2.64441734e-03\n",
      " 8.47767151e-05 3.01604043e-03 1.04382918e-04 5.06989977e-07\n",
      " 1.11076292e-02 1.53173649e-04 3.22675915e-04 5.97675353e-07\n",
      " 9.61905243e-07 5.71606563e-07 7.41136144e-04 2.17272900e-02\n",
      " 3.20227555e-05 6.09620372e-07 5.55121233e-07 3.35974420e-07\n",
      " 9.48886946e-03 1.26946997e-02 1.71115119e-02 1.77549537e-05\n",
      " 6.28302898e-03 8.07189167e-07 3.38723366e-05 6.22520631e-04\n",
      " 3.01539876e-05 1.03583094e-04 6.01552420e-05 2.00801049e-04\n",
      " 3.03427660e-04 8.36321432e-03 9.35656935e-05 7.84038624e-04\n",
      " 9.14502161e-05 4.94053774e-03 5.97571372e-04 8.62524685e-05\n",
      " 8.14606994e-03 7.84124539e-04 1.37806928e-04 1.61230375e-04\n",
      " 5.84717549e-04 1.34575870e-02 1.66561976e-02 7.31876644e-05\n",
      " 1.03193810e-02 2.10725591e-02 1.41654462e-02 8.75567831e-03\n",
      " 1.29810954e-02 6.31033396e-03 2.57653557e-03 2.57847933e-05\n",
      " 2.48001572e-02 4.67993581e-04 4.10504472e-05 6.20667031e-03\n",
      " 2.32388545e-03 5.81557397e-05 3.03400266e-05 2.40138048e-04\n",
      " 7.64766469e-07 6.37341640e-04 2.18752231e-02 1.15962212e-04\n",
      " 4.37565875e-04 2.55178865e-02 2.53723022e-02 1.86292082e-02\n",
      " 1.64489634e-02 3.10373143e-04 7.13567995e-03 1.65901685e-04\n",
      " 4.16572904e-03 2.44200026e-04 2.68831104e-02 1.39321637e-04\n",
      " 4.64539007e-05 4.64900426e-04 2.27477110e-04 4.93002915e-07\n",
      " 1.31821605e-06 2.74618447e-04 2.96509006e-05 3.93726211e-03\n",
      " 1.87537917e-05 8.95361882e-03 2.52298021e-04 6.25367247e-05\n",
      " 2.76759329e-05 1.31826528e-04 1.51380934e-02 5.65466223e-07\n",
      " 2.75445567e-03 3.28673213e-03 4.74614644e-04 9.07979265e-05\n",
      " 2.13479143e-05 5.18617337e-04 6.84963452e-05 2.91692355e-04\n",
      " 7.42332661e-04 2.37908142e-04 6.64031482e-04 1.94267386e-06\n",
      " 3.29508650e-04 1.59382598e-05 8.34512408e-04 1.07619227e-04\n",
      " 7.81101392e-07 3.03635602e-07 1.00883408e-05 8.50135766e-05\n",
      " 1.45582424e-04 3.66424629e-03 2.48146302e-04 6.28369488e-03\n",
      " 1.46075996e-04 2.13509178e-04 2.12082923e-05 9.10355811e-05\n",
      " 2.18718371e-04 9.97125535e-05 7.39884708e-05 9.78791431e-05\n",
      " 8.18051165e-04 1.04153446e-06 8.30660156e-07 7.90859573e-03\n",
      " 3.96255916e-03 1.61942746e-03 1.07206814e-02 5.15237974e-04\n",
      " 1.70833489e-03 1.67698301e-02 3.11680436e-02 1.64452363e-02\n",
      " 4.41260682e-03 9.14045237e-03 1.67199243e-02 1.10887486e-04\n",
      " 1.22289965e-02 1.00236889e-02 1.33004282e-02 1.90415122e-02\n",
      " 1.39150274e-04 2.74540536e-04 5.84508234e-05 2.91495281e-03\n",
      " 4.94836969e-03 4.99678436e-07 1.47582237e-02 2.58251297e-04\n",
      " 5.58705506e-05 2.04278473e-02 7.50041145e-05 5.16293198e-07\n",
      " 2.11256716e-04 3.66327441e-07 5.46279407e-05 1.01995971e-02\n",
      " 9.83931497e-03 5.55598235e-04 3.68638925e-04 1.68492159e-04\n",
      " 4.47110413e-03 2.67157448e-03 7.19214650e-03 1.57233700e-02]\n",
      "predictions\n",
      "Shape :  (21248, 264)\n",
      "Example [0] :  tf.Tensor(\n",
      "[0.00378617 0.00377524 0.00377347 0.00377355 0.0037985  0.00377347\n",
      " 0.00377355 0.00381385 0.00377385 0.00377401 0.00377433 0.00377403\n",
      " 0.0037747  0.00380586 0.00378381 0.00377439 0.00377387 0.0037859\n",
      " 0.00377433 0.00377356 0.00377362 0.00377379 0.00377608 0.00377367\n",
      " 0.00378573 0.00379324 0.00377424 0.00377347 0.00377447 0.00377476\n",
      " 0.00377347 0.00377358 0.00377358 0.00379141 0.00377414 0.00377382\n",
      " 0.0037821  0.00380076 0.00377361 0.00377427 0.00378525 0.00379596\n",
      " 0.00379926 0.00378714 0.00377353 0.00379289 0.00377367 0.00377373\n",
      " 0.00388271 0.00379795 0.00380514 0.00377361 0.00378161 0.00377404\n",
      " 0.00377476 0.00377379 0.00377405 0.00377347 0.00377355 0.00377347\n",
      " 0.00377392 0.00379198 0.00377739 0.00377355 0.00377347 0.00378364\n",
      " 0.00377742 0.00377472 0.00387567 0.00377655 0.00377565 0.00377379\n",
      " 0.00377381 0.00377392 0.00380236 0.00380572 0.00377433 0.00377438\n",
      " 0.00377359 0.00396001 0.0038052  0.00377351 0.00378141 0.00377709\n",
      " 0.00377369 0.00377415 0.00377353 0.00380422 0.00378611 0.00377875\n",
      " 0.00382757 0.00377389 0.00377495 0.00377379 0.00377409 0.00378346\n",
      " 0.00377379 0.00378487 0.00377386 0.00377347 0.00381562 0.00377405\n",
      " 0.00377469 0.00377347 0.00377347 0.00377347 0.00377627 0.00385635\n",
      " 0.00377359 0.00377347 0.00377347 0.00377347 0.00380944 0.00382168\n",
      " 0.00383859 0.00377354 0.00379725 0.00377347 0.0037736  0.00377582\n",
      " 0.00377358 0.00377386 0.0037737  0.00377423 0.00377461 0.00380516\n",
      " 0.00377382 0.00377643 0.00377381 0.00379216 0.00377572 0.00377379\n",
      " 0.00380433 0.00377643 0.00377399 0.00377408 0.00377568 0.00382459\n",
      " 0.00383685 0.00377374 0.00381261 0.00385383 0.0038273  0.00380665\n",
      " 0.00382277 0.00379736 0.0037832  0.00377357 0.00386822 0.00377523\n",
      " 0.00377362 0.00379696 0.00378225 0.00377369 0.00377358 0.00377437\n",
      " 0.00377347 0.00377587 0.00385692 0.00377391 0.00377512 0.003871\n",
      " 0.00387043 0.00384442 0.00383605 0.00377464 0.00380049 0.00377409\n",
      " 0.00378922 0.00377439 0.00387629 0.00377399 0.00377364 0.00377522\n",
      " 0.00377433 0.00377347 0.00377347 0.0037745  0.00377358 0.00378835\n",
      " 0.00377354 0.00380741 0.00377442 0.0037737  0.00377357 0.00377397\n",
      " 0.00383103 0.00377347 0.00378388 0.00378589 0.00377526 0.00377381\n",
      " 0.00377355 0.00377543 0.00377373 0.00377457 0.00377627 0.00377437\n",
      " 0.00377597 0.00377348 0.00377471 0.00377353 0.00377662 0.00377387\n",
      " 0.00377347 0.00377347 0.00377351 0.00377379 0.00377402 0.00378732\n",
      " 0.0037744  0.00379725 0.00377402 0.00377427 0.00377355 0.00377381\n",
      " 0.00377429 0.00377384 0.00377375 0.00377384 0.00377656 0.00377347\n",
      " 0.00377347 0.00380343 0.00378845 0.00377958 0.00381414 0.00377541\n",
      " 0.00377992 0.00383728 0.00389293 0.00383604 0.00379016 0.00380812\n",
      " 0.00383709 0.00377389 0.0038199  0.00381148 0.00382399 0.00384601\n",
      " 0.00377399 0.0037745  0.00377369 0.00378448 0.00379219 0.00377347\n",
      " 0.00382957 0.00377444 0.00377368 0.00385134 0.00377375 0.00377347\n",
      " 0.00377427 0.00377347 0.00377367 0.00381215 0.00381078 0.00377557\n",
      " 0.00377486 0.0037741  0.00379038 0.00378356 0.00380071 0.00383327], shape=(264,), dtype=float32)\n",
      "predicted_classes\n",
      "Shape :  (21248,)\n",
      "Example [0] :  79\n",
      "actual_values\n",
      "Shape :  (21248,)\n",
      "Example [0] :  239\n",
      "diff\n",
      "Shape :  (21248,)\n",
      "Example [0] :  160\n",
      "Prediction # 0\n",
      "Actual values:  239\n",
      "Predicted values:  79\n",
      "Prediction # 1\n",
      "Actual values:  158\n",
      "Predicted values:  162\n",
      "Prediction # 2\n",
      "Actual values:  100\n",
      "Predicted values:  161\n",
      "Prediction # 3\n",
      "Actual values:  48\n",
      "Predicted values:  237\n",
      "Prediction # 4\n",
      "Actual values:  238\n",
      "Predicted values:  237\n",
      "Prediction # 5\n",
      "Actual values:  90\n",
      "Predicted values:  79\n",
      "Prediction # 6\n",
      "Actual values:  236\n",
      "Predicted values:  161\n",
      "Prediction # 7\n",
      "Actual values:  48\n",
      "Predicted values:  237\n",
      "Prediction # 8\n",
      "Actual values:  229\n",
      "Predicted values:  230\n",
      "Prediction # 9\n",
      "Actual values:  263\n",
      "Predicted values:  79\n",
      "Prediction # 10\n",
      "Actual values:  162\n",
      "Predicted values:  162\n",
      "Prediction # 11\n",
      "Actual values:  144\n",
      "Predicted values:  161\n",
      "Prediction # 12\n",
      "Actual values:  138\n",
      "Predicted values:  237\n",
      "Prediction # 13\n",
      "Actual values:  161\n",
      "Predicted values:  230\n",
      "Prediction # 14\n",
      "Actual values:  113\n",
      "Predicted values:  79\n",
      "Prediction # 15\n",
      "Actual values:  164\n",
      "Predicted values:  161\n",
      "Prediction # 16\n",
      "Actual values:  75\n",
      "Predicted values:  161\n",
      "Prediction # 17\n",
      "Actual values:  162\n",
      "Predicted values:  237\n",
      "Prediction # 18\n",
      "Actual values:  162\n",
      "Predicted values:  239\n",
      "Prediction # 19\n",
      "Actual values:  229\n",
      "Predicted values:  161\n",
      "# correct Predictions :  1010\n",
      "# wrong Predictions :  20238\n",
      "accuracy:  0.047533885542168676\n"
     ]
    }
   ],
   "source": [
    "mh.print_test_prediction_info()"
   ],
   "metadata": {
    "collapsed": false,
    "pycharm": {
     "name": "#%%\n"
    }
   }
  },
  {
   "cell_type": "markdown",
   "source": [
    "As expected, adding the end time to the mix does not change the bad performance of the prediction based on time components."
   ],
   "metadata": {
    "collapsed": false,
    "pycharm": {
     "name": "#%% md\n"
    }
   }
  }
 ]
}