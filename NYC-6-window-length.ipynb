{
 "cells": [
  {
   "cell_type": "markdown",
   "source": [
    "# STEP 6 - Choosing a window length\n",
    "\n",
    "A windowing model was found that performed well even for the NYC Taxi DataSet.\n",
    "The optimal value for the window length can be evaluated now."
   ],
   "metadata": {
    "collapsed": false
   }
  },
  {
   "cell_type": "code",
   "execution_count": 7,
   "outputs": [],
   "source": [
    "import tensorflow as tf\n",
    "from tensorflow import feature_column\n",
    "import pandas as pd\n",
    "import numpy as np\n",
    "import import_ipynb"
   ],
   "metadata": {
    "collapsed": false
   }
  },
  {
   "cell_type": "markdown",
   "source": [
    "## Testing different sequence_lengths\n",
    "\n",
    "Multiple models are trained with different sequence_lengths and compared to each other in terms of prediction quality.\n",
    "Assumptions are made before the tests are run.\n",
    "Logically speaking, too long and too short sequences should perform worse with intermediate sequences expected to yield the best results.\n",
    "Short sequences result in less features for the network to learn patterns from.\n",
    "Long sequences reduce the number of available rows."
   ],
   "metadata": {
    "collapsed": false
   }
  },
  {
   "cell_type": "code",
   "execution_count": 8,
   "outputs": [],
   "source": [
    "from model_helper import ModelHelper"
   ],
   "metadata": {
    "collapsed": false
   }
  },
  {
   "cell_type": "code",
   "execution_count": 9,
   "outputs": [],
   "source": [
    "df = pd.read_csv(\"./NYC/trips_with_zones_final.csv\")"
   ],
   "metadata": {
    "collapsed": false
   }
  },
  {
   "cell_type": "markdown",
   "source": [
    "Only use the first 10000000 rows."
   ],
   "metadata": {
    "collapsed": false
   }
  },
  {
   "cell_type": "code",
   "execution_count": 10,
   "outputs": [
    {
     "data": {
      "text/plain": "                          medallion  pickup_week_day  pickup_hour  pickup_day  \\\n0  00005007A9F30E289E760362F69E4EAD                1            0           1   \n1  00005007A9F30E289E760362F69E4EAD                1            0           1   \n2  00005007A9F30E289E760362F69E4EAD                1            0           1   \n3  00005007A9F30E289E760362F69E4EAD                1            1           1   \n4  00005007A9F30E289E760362F69E4EAD                1            1           1   \n5  00005007A9F30E289E760362F69E4EAD                1            1           1   \n6  00005007A9F30E289E760362F69E4EAD                1            2           1   \n7  00005007A9F30E289E760362F69E4EAD                1            2           1   \n8  00005007A9F30E289E760362F69E4EAD                1            2           1   \n9  00005007A9F30E289E760362F69E4EAD                1            3           1   \n\n   pickup_month  dropoff_week_day  dropoff_hour  dropoff_day  dropoff_month  \\\n0             1                 1             0            1              1   \n1             1                 1             0            1              1   \n2             1                 1             1            1              1   \n3             1                 1             1            1              1   \n4             1                 1             1            1              1   \n5             1                 1             2            1              1   \n6             1                 1             2            1              1   \n7             1                 1             2            1              1   \n8             1                 1             3            1              1   \n9             1                 1             3            1              1   \n\n   pickup_location_id  dropoff_location_id  \n0               162.0                262.0  \n1               262.0                239.0  \n2               239.0                236.0  \n3               236.0                 41.0  \n4                41.0                211.0  \n5               211.0                238.0  \n6               238.0                142.0  \n7               142.0                263.0  \n8               263.0                 48.0  \n9                48.0                246.0  ",
      "text/html": "<div>\n<style scoped>\n    .dataframe tbody tr th:only-of-type {\n        vertical-align: middle;\n    }\n\n    .dataframe tbody tr th {\n        vertical-align: top;\n    }\n\n    .dataframe thead th {\n        text-align: right;\n    }\n</style>\n<table border=\"1\" class=\"dataframe\">\n  <thead>\n    <tr style=\"text-align: right;\">\n      <th></th>\n      <th>medallion</th>\n      <th>pickup_week_day</th>\n      <th>pickup_hour</th>\n      <th>pickup_day</th>\n      <th>pickup_month</th>\n      <th>dropoff_week_day</th>\n      <th>dropoff_hour</th>\n      <th>dropoff_day</th>\n      <th>dropoff_month</th>\n      <th>pickup_location_id</th>\n      <th>dropoff_location_id</th>\n    </tr>\n  </thead>\n  <tbody>\n    <tr>\n      <th>0</th>\n      <td>00005007A9F30E289E760362F69E4EAD</td>\n      <td>1</td>\n      <td>0</td>\n      <td>1</td>\n      <td>1</td>\n      <td>1</td>\n      <td>0</td>\n      <td>1</td>\n      <td>1</td>\n      <td>162.0</td>\n      <td>262.0</td>\n    </tr>\n    <tr>\n      <th>1</th>\n      <td>00005007A9F30E289E760362F69E4EAD</td>\n      <td>1</td>\n      <td>0</td>\n      <td>1</td>\n      <td>1</td>\n      <td>1</td>\n      <td>0</td>\n      <td>1</td>\n      <td>1</td>\n      <td>262.0</td>\n      <td>239.0</td>\n    </tr>\n    <tr>\n      <th>2</th>\n      <td>00005007A9F30E289E760362F69E4EAD</td>\n      <td>1</td>\n      <td>0</td>\n      <td>1</td>\n      <td>1</td>\n      <td>1</td>\n      <td>1</td>\n      <td>1</td>\n      <td>1</td>\n      <td>239.0</td>\n      <td>236.0</td>\n    </tr>\n    <tr>\n      <th>3</th>\n      <td>00005007A9F30E289E760362F69E4EAD</td>\n      <td>1</td>\n      <td>1</td>\n      <td>1</td>\n      <td>1</td>\n      <td>1</td>\n      <td>1</td>\n      <td>1</td>\n      <td>1</td>\n      <td>236.0</td>\n      <td>41.0</td>\n    </tr>\n    <tr>\n      <th>4</th>\n      <td>00005007A9F30E289E760362F69E4EAD</td>\n      <td>1</td>\n      <td>1</td>\n      <td>1</td>\n      <td>1</td>\n      <td>1</td>\n      <td>1</td>\n      <td>1</td>\n      <td>1</td>\n      <td>41.0</td>\n      <td>211.0</td>\n    </tr>\n    <tr>\n      <th>5</th>\n      <td>00005007A9F30E289E760362F69E4EAD</td>\n      <td>1</td>\n      <td>1</td>\n      <td>1</td>\n      <td>1</td>\n      <td>1</td>\n      <td>2</td>\n      <td>1</td>\n      <td>1</td>\n      <td>211.0</td>\n      <td>238.0</td>\n    </tr>\n    <tr>\n      <th>6</th>\n      <td>00005007A9F30E289E760362F69E4EAD</td>\n      <td>1</td>\n      <td>2</td>\n      <td>1</td>\n      <td>1</td>\n      <td>1</td>\n      <td>2</td>\n      <td>1</td>\n      <td>1</td>\n      <td>238.0</td>\n      <td>142.0</td>\n    </tr>\n    <tr>\n      <th>7</th>\n      <td>00005007A9F30E289E760362F69E4EAD</td>\n      <td>1</td>\n      <td>2</td>\n      <td>1</td>\n      <td>1</td>\n      <td>1</td>\n      <td>2</td>\n      <td>1</td>\n      <td>1</td>\n      <td>142.0</td>\n      <td>263.0</td>\n    </tr>\n    <tr>\n      <th>8</th>\n      <td>00005007A9F30E289E760362F69E4EAD</td>\n      <td>1</td>\n      <td>2</td>\n      <td>1</td>\n      <td>1</td>\n      <td>1</td>\n      <td>3</td>\n      <td>1</td>\n      <td>1</td>\n      <td>263.0</td>\n      <td>48.0</td>\n    </tr>\n    <tr>\n      <th>9</th>\n      <td>00005007A9F30E289E760362F69E4EAD</td>\n      <td>1</td>\n      <td>3</td>\n      <td>1</td>\n      <td>1</td>\n      <td>1</td>\n      <td>3</td>\n      <td>1</td>\n      <td>1</td>\n      <td>48.0</td>\n      <td>246.0</td>\n    </tr>\n  </tbody>\n</table>\n</div>"
     },
     "execution_count": 10,
     "metadata": {},
     "output_type": "execute_result"
    }
   ],
   "source": [
    "df = df.head(10000000)\n",
    "df.head(10)"
   ],
   "metadata": {
    "collapsed": false
   }
  },
  {
   "cell_type": "markdown",
   "source": [
    "The \"create_model\" function that will be used for all tests below."
   ],
   "metadata": {
    "collapsed": false
   }
  },
  {
   "cell_type": "code",
   "execution_count": 11,
   "outputs": [],
   "source": [
    "def create_model(mh):\n",
    "    EMBEDDING_DIM = 256\n",
    "    # Declare the dictionary for the places sequence as before\n",
    "    sequence_input = {\n",
    "      'location_id': tf.keras.Input((mh.sequence_length,), dtype=tf.dtypes.int32, batch_size=mh.batch_size, name='location_id')\n",
    "    }\n",
    "\n",
    "    # Handling the categorical feature sequence using one-hot\n",
    "    places_one_hot = feature_column.sequence_categorical_column_with_vocabulary_list(\n",
    "      'location_id', [i for i in range(int(mh.vocab_size))])\n",
    "\n",
    "    # Embed the one-hot encoding\n",
    "    places_embed = feature_column.embedding_column(places_one_hot, EMBEDDING_DIM)\n",
    "\n",
    "    sequence_features, sequence_length = tf.keras.experimental.SequenceFeatures(places_embed)(sequence_input)\n",
    "    sequence_features = tf.ensure_shape(sequence_features, (mh.batch_size, mh.sequence_length, EMBEDDING_DIM))\n",
    "\n",
    "    gru1 = tf.keras.layers.GRU(256,\n",
    "                               return_sequences=True,\n",
    "                               input_shape=(mh.batch_size, mh.sequence_length, EMBEDDING_DIM),\n",
    "                               stateful=True,\n",
    "                               recurrent_initializer='glorot_uniform')(sequence_features)\n",
    "    gru2 = tf.keras.layers.GRU(64,\n",
    "                               input_shape=(mh.batch_size, mh.sequence_length, EMBEDDING_DIM),\n",
    "                               stateful=True,\n",
    "                               recurrent_initializer='glorot_uniform')(gru1)\n",
    "\n",
    "    #drop = tf.keras.layers.Dropout(0.3)(gru2)\n",
    "    #dense = tf.keras.layers.Dense(number_of_places, activation='softmax')(drop)\n",
    "\n",
    "    dense = tf.keras.layers.Dense(mh.vocab_size)(gru2)\n",
    "    output = tf.keras.layers.Softmax()(dense)\n",
    "\n",
    "    model = tf.keras.Model(inputs=list(sequence_input.values()), outputs=output)\n",
    "    return model"
   ],
   "metadata": {
    "collapsed": false
   }
  },
  {
   "cell_type": "markdown",
   "source": [
    "n is the window size and is always +1.\n",
    "sequence_stride is the value by which the window is moved."
   ],
   "metadata": {
    "collapsed": false
   }
  },
  {
   "cell_type": "code",
   "execution_count": 12,
   "outputs": [],
   "source": [
    "def run_model_helper_for_n(n, sequence_stride):\n",
    "    mh = ModelHelper(df, n+1)\n",
    "    mh.df_to_location_sequence()\n",
    "    mh.set_target_column_name('location_id')\n",
    "    mh.set_vocab_size()\n",
    "    mh.vocab_size\n",
    "    mh.basic_split_df()\n",
    "    mh.drop_all_but_target()\n",
    "    BATCH_SIZE = 128\n",
    "    mh.set_batch_size(BATCH_SIZE)\n",
    "    mh.set_window_generator(['location_id'])\n",
    "    mh.make_windowed_dataset(sequence_stride)\n",
    "    mh.assign_model(create_model(mh))\n",
    "    mh.set_num_epochs(5)\n",
    "    mh.compile_model(optimizer_type=tf.keras.optimizers.Adam, learning_rate=0.002)\n",
    "    mh.fit_model(with_early_stopping=False)\n",
    "    mh.evaluate_model()"
   ],
   "metadata": {
    "collapsed": false
   }
  },
  {
   "cell_type": "code",
   "execution_count": 10,
   "outputs": [
    {
     "name": "stdout",
     "output_type": "stream",
     "text": [
      "Epoch 1/5\n",
      "68659/68659 [==============================] - 360s 5ms/step - loss: 4.0764 - sparse_categorical_accuracy: 0.0505 - val_loss: 4.0084 - val_sparse_categorical_accuracy: 0.0737\n",
      "Epoch 2/5\n",
      "68659/68659 [==============================] - 361s 5ms/step - loss: 4.0374 - sparse_categorical_accuracy: 0.0610 - val_loss: 3.9780 - val_sparse_categorical_accuracy: 0.0956\n",
      "Epoch 3/5\n",
      "68659/68659 [==============================] - 357s 5ms/step - loss: 4.0358 - sparse_categorical_accuracy: 0.0625 - val_loss: 4.0051 - val_sparse_categorical_accuracy: 0.0795\n",
      "Epoch 4/5\n",
      "68659/68659 [==============================] - 361s 5ms/step - loss: 4.0108 - sparse_categorical_accuracy: 0.0718 - val_loss: 3.9150 - val_sparse_categorical_accuracy: 0.1212\n",
      "Epoch 5/5\n",
      "68659/68659 [==============================] - 372s 5ms/step - loss: 3.9489 - sparse_categorical_accuracy: 0.1009 - val_loss: 3.8221 - val_sparse_categorical_accuracy: 0.1765\n",
      "21456/21456 [==============================] - 59s 3ms/step - loss: 3.8224 - sparse_categorical_accuracy: 0.1772\n"
     ]
    }
   ],
   "source": [
    "run_model_helper_for_n(1,1)"
   ],
   "metadata": {
    "collapsed": false
   }
  },
  {
   "cell_type": "code",
   "execution_count": 12,
   "outputs": [
    {
     "name": "stdout",
     "output_type": "stream",
     "text": [
      "Epoch 1/5\n",
      "22886/22886 [==============================] - 669s 29ms/step - loss: 4.0071 - sparse_categorical_accuracy: 0.0871 - val_loss: 3.8789 - val_sparse_categorical_accuracy: 0.1451\n",
      "Epoch 2/5\n",
      "22886/22886 [==============================] - 641s 28ms/step - loss: 3.9205 - sparse_categorical_accuracy: 0.1288 - val_loss: 3.8069 - val_sparse_categorical_accuracy: 0.2030\n",
      "Epoch 3/5\n",
      "22886/22886 [==============================] - 642s 28ms/step - loss: 3.8966 - sparse_categorical_accuracy: 0.1429 - val_loss: 3.7989 - val_sparse_categorical_accuracy: 0.2001\n",
      "Epoch 4/5\n",
      "22886/22886 [==============================] - 640s 28ms/step - loss: 3.8931 - sparse_categorical_accuracy: 0.1447 - val_loss: 3.7790 - val_sparse_categorical_accuracy: 0.1923\n",
      "Epoch 5/5\n",
      "22886/22886 [==============================] - 641s 28ms/step - loss: 3.8693 - sparse_categorical_accuracy: 0.1606 - val_loss: 3.7428 - val_sparse_categorical_accuracy: 0.2245\n",
      "7152/7152 [==============================] - 67s 9ms/step - loss: 3.7398 - sparse_categorical_accuracy: 0.2245\n"
     ]
    }
   ],
   "source": [
    "run_model_helper_for_n(8,3)"
   ],
   "metadata": {
    "collapsed": false
   }
  },
  {
   "cell_type": "code",
   "execution_count": 13,
   "outputs": [
    {
     "name": "stdout",
     "output_type": "stream",
     "text": [
      "Epoch 1/5\n",
      "1596/1596 [==============================] - 914s 573ms/step - loss: 4.0729 - sparse_categorical_accuracy: 0.0685 - val_loss: 3.9641 - val_sparse_categorical_accuracy: 0.1050\n",
      "Epoch 2/5\n",
      "1596/1596 [==============================] - 841s 527ms/step - loss: 3.9698 - sparse_categorical_accuracy: 0.1112 - val_loss: 3.8314 - val_sparse_categorical_accuracy: 0.1615\n",
      "Epoch 3/5\n",
      "1596/1596 [==============================] - 848s 531ms/step - loss: 3.9001 - sparse_categorical_accuracy: 0.1441 - val_loss: 3.7643 - val_sparse_categorical_accuracy: 0.2085\n",
      "Epoch 4/5\n",
      "1596/1596 [==============================] - 858s 537ms/step - loss: 3.8588 - sparse_categorical_accuracy: 0.1695 - val_loss: 3.7068 - val_sparse_categorical_accuracy: 0.2420\n",
      "Epoch 5/5\n",
      "1596/1596 [==============================] - 858s 537ms/step - loss: 3.8387 - sparse_categorical_accuracy: 0.1827 - val_loss: 3.6832 - val_sparse_categorical_accuracy: 0.2445\n",
      "498/498 [==============================] - 82s 164ms/step - loss: 3.6866 - sparse_categorical_accuracy: 0.2416\n"
     ]
    }
   ],
   "source": [
    "run_model_helper_for_n(128,43)"
   ],
   "metadata": {
    "collapsed": false
   }
  },
  {
   "cell_type": "markdown",
   "source": [
    "The accuracy increases with larger window sizes, but not as significantly as expected.\n",
    "Also, a window with a very short sequence does not behave as expected.\n",
    "Even with a window size of 2 the accuracy is already pretty high when compared to the window size of 129.\n",
    "Why the accuracy is this high even with so little information will be investigated.\n"
   ],
   "metadata": {
    "collapsed": false
   }
  },
  {
   "cell_type": "markdown",
   "source": [],
   "metadata": {
    "collapsed": false
   }
  }
 ],
 "metadata": {
  "kernelspec": {
   "display_name": "Python 3",
   "language": "python",
   "name": "python3"
  },
  "language_info": {
   "codemirror_mode": {
    "name": "ipython",
    "version": 2
   },
   "file_extension": ".py",
   "mimetype": "text/x-python",
   "name": "python",
   "nbconvert_exporter": "python",
   "pygments_lexer": "ipython2",
   "version": "2.7.6"
  }
 },
 "nbformat": 4,
 "nbformat_minor": 0
}
