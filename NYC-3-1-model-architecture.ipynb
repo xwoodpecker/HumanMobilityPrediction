{
 "nbformat": 4,
 "nbformat_minor": 0,
 "metadata": {
  "colab": {
   "name": "NYC_FL.ipynb",
   "provenance": [],
   "toc_visible": true
  },
  "kernelspec": {
   "name": "python3",
   "display_name": "Python 3"
  },
  "accelerator": "GPU"
 },
 "cells": [
  {
   "cell_type": "markdown",
   "metadata": {
    "id": "01ekVSe4McOZ",
    "pycharm": {
     "name": "#%% md\n"
    }
   },
   "source": [
    "# Revisiting the NYC Taxi DataSet Model Architecture Part 1\n",
    "\n",
    "In this notebook, the model architecture is being changed in order to understand the correlation between the model architecture and the prediction quality.\n",
    "This model only predicts the relevant (N+1)th location and not all next locations for every sequence element like it was in the original architecture.\n",
    "That means the labels used for the tensor slices need to be changed accordingly.\n",
    "All methods were packed in a library function in order to minimize duplicated code.\n",
    "The functions were refactored and changed according to the new requirements."
   ]
  },
  {
   "cell_type": "code",
   "metadata": {
    "id": "O0AtRRZwKfnz",
    "colab": {
     "base_uri": "https://localhost:8080/",
     "height": 119
    },
    "outputId": "ec8f53e1-bede-41f7-a6a1-2bf8249bbf6b",
    "pycharm": {
     "name": "#%%\n"
    }
   },
   "source": [
    "import collections\n",
    "import functools\n",
    "import os\n",
    "import time\n",
    "\n",
    "import numpy as np\n",
    "import tensorflow as tf\n",
    "import pandas as pd\n",
    "\n",
    "np.random.seed(0)\n",
    "\n",
    "from tensorflow import feature_column\n",
    "from tensorflow.keras import layers\n",
    "from sklearn.model_selection import train_test_split\n",
    "\n",
    "import os\n",
    "import time\n",
    "import sys\n",
    "\n",
    "from tqdm import tqdm\n",
    "\n",
    "import import_ipynb"
   ],
   "execution_count": 1,
   "outputs": []
  },
  {
   "cell_type": "code",
   "execution_count": 2,
   "outputs": [
    {
     "name": "stdout",
     "output_type": "stream",
     "text": [
      "importing Jupyter notebook from model_helper.ipynb\n"
     ]
    }
   ],
   "source": [
    "from model_helper import ModelHelper"
   ],
   "metadata": {
    "collapsed": false,
    "pycharm": {
     "name": "#%%\n"
    }
   }
  },
  {
   "cell_type": "markdown",
   "metadata": {
    "id": "nRSBBlWyLG9h",
    "pycharm": {
     "name": "#%% md\n"
    }
   },
   "source": [
    "# Dataset"
   ]
  },
  {
   "cell_type": "code",
   "metadata": {
    "id": "EiraMJg9uOb9",
    "colab": {
     "base_uri": "https://localhost:8080/",
     "height": 204
    },
    "outputId": "bd845c7d-9072-46d5-ef12-b26e94566280",
    "pycharm": {
     "name": "#%%\n"
    }
   },
   "source": [
    "df = pd.read_csv(\"./ma_results/trips_with_zones_final.csv\")\n",
    "df = df.head(10000000)\n",
    "df.head(10)"
   ],
   "execution_count": 3,
   "outputs": [
    {
     "data": {
      "text/plain": "                          medallion  pickup_week_day  pickup_hour  pickup_day  \\\n0  00005007A9F30E289E760362F69E4EAD                1            0           1   \n1  00005007A9F30E289E760362F69E4EAD                1            0           1   \n2  00005007A9F30E289E760362F69E4EAD                1            0           1   \n3  00005007A9F30E289E760362F69E4EAD                1            1           1   \n4  00005007A9F30E289E760362F69E4EAD                1            1           1   \n5  00005007A9F30E289E760362F69E4EAD                1            1           1   \n6  00005007A9F30E289E760362F69E4EAD                1            2           1   \n7  00005007A9F30E289E760362F69E4EAD                1            2           1   \n8  00005007A9F30E289E760362F69E4EAD                1            2           1   \n9  00005007A9F30E289E760362F69E4EAD                1            3           1   \n\n   pickup_month  dropoff_week_day  dropoff_hour  dropoff_day  dropoff_month  \\\n0             1                 1             0            1              1   \n1             1                 1             0            1              1   \n2             1                 1             1            1              1   \n3             1                 1             1            1              1   \n4             1                 1             1            1              1   \n5             1                 1             2            1              1   \n6             1                 1             2            1              1   \n7             1                 1             2            1              1   \n8             1                 1             3            1              1   \n9             1                 1             3            1              1   \n\n   pickup_location_id  dropoff_location_id  \n0               162.0                262.0  \n1               262.0                239.0  \n2               239.0                236.0  \n3               236.0                 41.0  \n4                41.0                211.0  \n5               211.0                238.0  \n6               238.0                142.0  \n7               142.0                263.0  \n8               263.0                 48.0  \n9                48.0                246.0  ",
      "text/html": "<div>\n<style scoped>\n    .dataframe tbody tr th:only-of-type {\n        vertical-align: middle;\n    }\n\n    .dataframe tbody tr th {\n        vertical-align: top;\n    }\n\n    .dataframe thead th {\n        text-align: right;\n    }\n</style>\n<table border=\"1\" class=\"dataframe\">\n  <thead>\n    <tr style=\"text-align: right;\">\n      <th></th>\n      <th>medallion</th>\n      <th>pickup_week_day</th>\n      <th>pickup_hour</th>\n      <th>pickup_day</th>\n      <th>pickup_month</th>\n      <th>dropoff_week_day</th>\n      <th>dropoff_hour</th>\n      <th>dropoff_day</th>\n      <th>dropoff_month</th>\n      <th>pickup_location_id</th>\n      <th>dropoff_location_id</th>\n    </tr>\n  </thead>\n  <tbody>\n    <tr>\n      <th>0</th>\n      <td>00005007A9F30E289E760362F69E4EAD</td>\n      <td>1</td>\n      <td>0</td>\n      <td>1</td>\n      <td>1</td>\n      <td>1</td>\n      <td>0</td>\n      <td>1</td>\n      <td>1</td>\n      <td>162.0</td>\n      <td>262.0</td>\n    </tr>\n    <tr>\n      <th>1</th>\n      <td>00005007A9F30E289E760362F69E4EAD</td>\n      <td>1</td>\n      <td>0</td>\n      <td>1</td>\n      <td>1</td>\n      <td>1</td>\n      <td>0</td>\n      <td>1</td>\n      <td>1</td>\n      <td>262.0</td>\n      <td>239.0</td>\n    </tr>\n    <tr>\n      <th>2</th>\n      <td>00005007A9F30E289E760362F69E4EAD</td>\n      <td>1</td>\n      <td>0</td>\n      <td>1</td>\n      <td>1</td>\n      <td>1</td>\n      <td>1</td>\n      <td>1</td>\n      <td>1</td>\n      <td>239.0</td>\n      <td>236.0</td>\n    </tr>\n    <tr>\n      <th>3</th>\n      <td>00005007A9F30E289E760362F69E4EAD</td>\n      <td>1</td>\n      <td>1</td>\n      <td>1</td>\n      <td>1</td>\n      <td>1</td>\n      <td>1</td>\n      <td>1</td>\n      <td>1</td>\n      <td>236.0</td>\n      <td>41.0</td>\n    </tr>\n    <tr>\n      <th>4</th>\n      <td>00005007A9F30E289E760362F69E4EAD</td>\n      <td>1</td>\n      <td>1</td>\n      <td>1</td>\n      <td>1</td>\n      <td>1</td>\n      <td>1</td>\n      <td>1</td>\n      <td>1</td>\n      <td>41.0</td>\n      <td>211.0</td>\n    </tr>\n    <tr>\n      <th>5</th>\n      <td>00005007A9F30E289E760362F69E4EAD</td>\n      <td>1</td>\n      <td>1</td>\n      <td>1</td>\n      <td>1</td>\n      <td>1</td>\n      <td>2</td>\n      <td>1</td>\n      <td>1</td>\n      <td>211.0</td>\n      <td>238.0</td>\n    </tr>\n    <tr>\n      <th>6</th>\n      <td>00005007A9F30E289E760362F69E4EAD</td>\n      <td>1</td>\n      <td>2</td>\n      <td>1</td>\n      <td>1</td>\n      <td>1</td>\n      <td>2</td>\n      <td>1</td>\n      <td>1</td>\n      <td>238.0</td>\n      <td>142.0</td>\n    </tr>\n    <tr>\n      <th>7</th>\n      <td>00005007A9F30E289E760362F69E4EAD</td>\n      <td>1</td>\n      <td>2</td>\n      <td>1</td>\n      <td>1</td>\n      <td>1</td>\n      <td>2</td>\n      <td>1</td>\n      <td>1</td>\n      <td>142.0</td>\n      <td>263.0</td>\n    </tr>\n    <tr>\n      <th>8</th>\n      <td>00005007A9F30E289E760362F69E4EAD</td>\n      <td>1</td>\n      <td>2</td>\n      <td>1</td>\n      <td>1</td>\n      <td>1</td>\n      <td>3</td>\n      <td>1</td>\n      <td>1</td>\n      <td>263.0</td>\n      <td>48.0</td>\n    </tr>\n    <tr>\n      <th>9</th>\n      <td>00005007A9F30E289E760362F69E4EAD</td>\n      <td>1</td>\n      <td>3</td>\n      <td>1</td>\n      <td>1</td>\n      <td>1</td>\n      <td>3</td>\n      <td>1</td>\n      <td>1</td>\n      <td>48.0</td>\n      <td>246.0</td>\n    </tr>\n  </tbody>\n</table>\n</div>"
     },
     "execution_count": 3,
     "metadata": {},
     "output_type": "execute_result"
    }
   ]
  },
  {
   "cell_type": "code",
   "metadata": {
    "id": "ggIfgQxKuOcC",
    "colab": {
     "base_uri": "https://localhost:8080/",
     "height": 221
    },
    "outputId": "4a248d3b-8b73-4f2b-d7f3-8f9bcaaedbd6",
    "pycharm": {
     "name": "#%%\n"
    }
   },
   "source": [
    "# Check dtypes of the attributes\n",
    "df.dtypes"
   ],
   "execution_count": 4,
   "outputs": [
    {
     "data": {
      "text/plain": "medallion               object\npickup_week_day          int64\npickup_hour              int64\npickup_day               int64\npickup_month             int64\ndropoff_week_day         int64\ndropoff_hour             int64\ndropoff_day              int64\ndropoff_month            int64\npickup_location_id     float64\ndropoff_location_id    float64\ndtype: object"
     },
     "execution_count": 4,
     "metadata": {},
     "output_type": "execute_result"
    }
   ]
  },
  {
   "cell_type": "code",
   "execution_count": 5,
   "outputs": [],
   "source": [
    "# Drop the medallion, it is not needed for this example\n",
    "df.drop(['medallion'], axis=1, inplace=True)"
   ],
   "metadata": {
    "collapsed": false,
    "pycharm": {
     "name": "#%%\n"
    }
   }
  },
  {
   "cell_type": "markdown",
   "metadata": {
    "id": "ep1BmXDVPxC1",
    "pycharm": {
     "name": "#%% md\n"
    }
   },
   "source": [
    "Because there are too many taxis (over 9000) it is better to take the 100 taxi with the major number of records"
   ]
  },
  {
   "cell_type": "code",
   "execution_count": 6,
   "outputs": [
    {
     "data": {
      "text/plain": "pickup_week_day        int32\npickup_hour            int32\npickup_day             int32\npickup_month           int32\ndropoff_week_day       int32\ndropoff_hour           int32\ndropoff_day            int32\ndropoff_month          int32\npickup_location_id     int32\ndropoff_location_id    int32\ndtype: object"
     },
     "execution_count": 6,
     "metadata": {},
     "output_type": "execute_result"
    }
   ],
   "source": [
    "# Cast the columns type to int32\n",
    "dictionary = {'pickup_week_day': 'int32', 'pickup_hour': 'int32', 'pickup_day': 'int32', 'pickup_month': 'int32', 'dropoff_week_day': 'int32', 'dropoff_hour': 'int32', 'dropoff_day': 'int32', 'dropoff_month': 'int32', 'pickup_location_id':'int32', 'dropoff_location_id':'int32'}\n",
    "df = df.astype(dictionary, copy=True)\n",
    "df.dtypes"
   ],
   "metadata": {
    "collapsed": false,
    "pycharm": {
     "name": "#%%\n"
    }
   }
  },
  {
   "cell_type": "markdown",
   "metadata": {
    "id": "-oH6GxKzwc7K",
    "pycharm": {
     "name": "#%% md\n"
    }
   },
   "source": [
    "We can use the other taxis to create a local test and validation sets"
   ]
  },
  {
   "cell_type": "markdown",
   "metadata": {
    "id": "eHECUQleRxHH",
    "pycharm": {
     "name": "#%% md\n"
    }
   },
   "source": [
    "Now we need to create the location sequence for each user"
   ]
  },
  {
   "cell_type": "code",
   "execution_count": 7,
   "outputs": [],
   "source": [
    "mh = ModelHelper(df, 129)"
   ],
   "metadata": {
    "collapsed": false,
    "pycharm": {
     "name": "#%%\n"
    }
   }
  },
  {
   "cell_type": "code",
   "metadata": {
    "id": "Uzze3vF-R8OZ",
    "pycharm": {
     "name": "#%%\n"
    }
   },
   "source": [
    "# Call the function\n",
    "mh.df_to_location_sequence()\n",
    "\n",
    "print(mh.df)"
   ],
   "execution_count": 8,
   "outputs": [
    {
     "name": "stdout",
     "output_type": "stream",
     "text": [
      "            index  location_id  day  month  hour_sin      hour_cos  \\\n",
      "0               0          162    1      1  0.000000  1.000000e+00   \n",
      "1              12          230    1      1  0.707107  7.071068e-01   \n",
      "2              13          125    1      1  0.707107  7.071068e-01   \n",
      "3              15           48    1      1  0.866025  5.000000e-01   \n",
      "4              18          170    1      1  1.000000  6.123234e-17   \n",
      "...           ...          ...  ...    ...       ...           ...   \n",
      "13731996  7284341          161   26      1 -0.500000 -8.660254e-01   \n",
      "13731997  7284341          161   26      1 -0.500000 -8.660254e-01   \n",
      "13731998  7284342          132   26      1 -0.707107 -7.071068e-01   \n",
      "13731999  7284343          141   26      1 -0.866025 -5.000000e-01   \n",
      "13732000  7284344          141   26      1 -0.866025 -5.000000e-01   \n",
      "\n",
      "          week_day_sin  week_day_cos  weekend  \n",
      "0             0.781831      0.623490        0  \n",
      "1             0.781831      0.623490        0  \n",
      "2             0.781831      0.623490        0  \n",
      "3             0.781831      0.623490        0  \n",
      "4             0.781831      0.623490        0  \n",
      "...                ...           ...      ...  \n",
      "13731996     -0.974928     -0.222521        1  \n",
      "13731997     -0.974928     -0.222521        1  \n",
      "13731998     -0.974928     -0.222521        1  \n",
      "13731999     -0.974928     -0.222521        1  \n",
      "13732000     -0.974928     -0.222521        1  \n",
      "\n",
      "[13732001 rows x 9 columns]\n"
     ]
    }
   ]
  },
  {
   "cell_type": "code",
   "metadata": {
    "id": "YbQmLj9kSYqp",
    "colab": {
     "base_uri": "https://localhost:8080/",
     "height": 34
    },
    "outputId": "07af026d-8765-4323-8204-953df7b1eccc",
    "pycharm": {
     "name": "#%%\n"
    }
   },
   "source": [
    "mh.train_val_test_split()\n",
    "print(len(mh.df_train), 'train examples')\n",
    "print(len(mh.df_val), 'validation examples')\n",
    "print(len(mh.df_test), 'test examples')"
   ],
   "execution_count": 9,
   "outputs": [
    {
     "name": "stdout",
     "output_type": "stream",
     "text": [
      "8788480 train examples\n",
      "2197120 validation examples\n",
      "2746401 test examples\n"
     ]
    }
   ]
  },
  {
   "cell_type": "code",
   "metadata": {
    "id": "ltjLgzdf1LYY",
    "pycharm": {
     "name": "#%%\n"
    }
   },
   "source": [
    "mh.split_data()\n",
    "mh.list_test[0]"
   ],
   "execution_count": 10,
   "outputs": [
    {
     "data": {
      "text/plain": "            index  location_id  day  month  hour_sin  hour_cos  week_day_sin  \\\n10985600  5283998          246    4      1 -0.866025  0.500000     -0.433884   \n10985601  5283999          107    4      1 -0.707107  0.707107     -0.433884   \n10985602  5284000          142    4      1 -0.707107  0.707107     -0.433884   \n10985603  5284001           48    4      1 -0.500000  0.866025     -0.433884   \n10985604  5284001           48    4      1 -0.500000  0.866025     -0.433884   \n...           ...          ...  ...    ...       ...       ...           ...   \n10985724  5284091          234    7      1  0.000000  1.000000      0.000000   \n10985725  5284092          162    7      1  0.258819  0.965926      0.000000   \n10985726  5284093          142    7      1  0.500000  0.866025      0.000000   \n10985727  5284093          142    7      1  0.500000  0.866025      0.000000   \n10985728  5284094          239    7      1  0.500000  0.866025      0.000000   \n\n          week_day_cos  weekend  \n10985600     -0.900969        0  \n10985601     -0.900969        0  \n10985602     -0.900969        0  \n10985603     -0.900969        0  \n10985604     -0.900969        0  \n...                ...      ...  \n10985724      1.000000        0  \n10985725      1.000000        0  \n10985726      1.000000        0  \n10985727      1.000000        0  \n10985728      1.000000        0  \n\n[129 rows x 9 columns]",
      "text/html": "<div>\n<style scoped>\n    .dataframe tbody tr th:only-of-type {\n        vertical-align: middle;\n    }\n\n    .dataframe tbody tr th {\n        vertical-align: top;\n    }\n\n    .dataframe thead th {\n        text-align: right;\n    }\n</style>\n<table border=\"1\" class=\"dataframe\">\n  <thead>\n    <tr style=\"text-align: right;\">\n      <th></th>\n      <th>index</th>\n      <th>location_id</th>\n      <th>day</th>\n      <th>month</th>\n      <th>hour_sin</th>\n      <th>hour_cos</th>\n      <th>week_day_sin</th>\n      <th>week_day_cos</th>\n      <th>weekend</th>\n    </tr>\n  </thead>\n  <tbody>\n    <tr>\n      <th>10985600</th>\n      <td>5283998</td>\n      <td>246</td>\n      <td>4</td>\n      <td>1</td>\n      <td>-0.866025</td>\n      <td>0.500000</td>\n      <td>-0.433884</td>\n      <td>-0.900969</td>\n      <td>0</td>\n    </tr>\n    <tr>\n      <th>10985601</th>\n      <td>5283999</td>\n      <td>107</td>\n      <td>4</td>\n      <td>1</td>\n      <td>-0.707107</td>\n      <td>0.707107</td>\n      <td>-0.433884</td>\n      <td>-0.900969</td>\n      <td>0</td>\n    </tr>\n    <tr>\n      <th>10985602</th>\n      <td>5284000</td>\n      <td>142</td>\n      <td>4</td>\n      <td>1</td>\n      <td>-0.707107</td>\n      <td>0.707107</td>\n      <td>-0.433884</td>\n      <td>-0.900969</td>\n      <td>0</td>\n    </tr>\n    <tr>\n      <th>10985603</th>\n      <td>5284001</td>\n      <td>48</td>\n      <td>4</td>\n      <td>1</td>\n      <td>-0.500000</td>\n      <td>0.866025</td>\n      <td>-0.433884</td>\n      <td>-0.900969</td>\n      <td>0</td>\n    </tr>\n    <tr>\n      <th>10985604</th>\n      <td>5284001</td>\n      <td>48</td>\n      <td>4</td>\n      <td>1</td>\n      <td>-0.500000</td>\n      <td>0.866025</td>\n      <td>-0.433884</td>\n      <td>-0.900969</td>\n      <td>0</td>\n    </tr>\n    <tr>\n      <th>...</th>\n      <td>...</td>\n      <td>...</td>\n      <td>...</td>\n      <td>...</td>\n      <td>...</td>\n      <td>...</td>\n      <td>...</td>\n      <td>...</td>\n      <td>...</td>\n    </tr>\n    <tr>\n      <th>10985724</th>\n      <td>5284091</td>\n      <td>234</td>\n      <td>7</td>\n      <td>1</td>\n      <td>0.000000</td>\n      <td>1.000000</td>\n      <td>0.000000</td>\n      <td>1.000000</td>\n      <td>0</td>\n    </tr>\n    <tr>\n      <th>10985725</th>\n      <td>5284092</td>\n      <td>162</td>\n      <td>7</td>\n      <td>1</td>\n      <td>0.258819</td>\n      <td>0.965926</td>\n      <td>0.000000</td>\n      <td>1.000000</td>\n      <td>0</td>\n    </tr>\n    <tr>\n      <th>10985726</th>\n      <td>5284093</td>\n      <td>142</td>\n      <td>7</td>\n      <td>1</td>\n      <td>0.500000</td>\n      <td>0.866025</td>\n      <td>0.000000</td>\n      <td>1.000000</td>\n      <td>0</td>\n    </tr>\n    <tr>\n      <th>10985727</th>\n      <td>5284093</td>\n      <td>142</td>\n      <td>7</td>\n      <td>1</td>\n      <td>0.500000</td>\n      <td>0.866025</td>\n      <td>0.000000</td>\n      <td>1.000000</td>\n      <td>0</td>\n    </tr>\n    <tr>\n      <th>10985728</th>\n      <td>5284094</td>\n      <td>239</td>\n      <td>7</td>\n      <td>1</td>\n      <td>0.500000</td>\n      <td>0.866025</td>\n      <td>0.000000</td>\n      <td>1.000000</td>\n      <td>0</td>\n    </tr>\n  </tbody>\n</table>\n<p>129 rows × 9 columns</p>\n</div>"
     },
     "execution_count": 10,
     "metadata": {},
     "output_type": "execute_result"
    }
   ]
  },
  {
   "cell_type": "code",
   "metadata": {
    "id": "sEMnEoqY9CAv",
    "colab": {
     "base_uri": "https://localhost:8080/",
     "height": 68
    },
    "outputId": "37048dd7-05ce-4780-fda7-70351e948503",
    "pycharm": {
     "name": "#%%\n"
    }
   },
   "source": [
    "mh.set_batch_size(128)\n",
    "mh.create_batch_dataset()\n",
    "mh.test_dataset"
   ],
   "execution_count": 11,
   "outputs": [
    {
     "data": {
      "text/plain": "<BatchDataset shapes: ({start_place: (128, 128), start_hour_sin: (128, 128), start_hour_cos: (128, 128), weekend: (128, 128), week_day_sin: (128, 128), week_day_cos: (128, 128), end_hour_sin: (128,), end_hour_cos: (128,), end_weekend: (128,), end_week_day_sin: (128,), end_week_day_cos: (128,)}, (128,)), types: ({start_place: tf.int32, start_hour_sin: tf.float64, start_hour_cos: tf.float64, weekend: tf.int32, week_day_sin: tf.float64, week_day_cos: tf.float64, end_hour_sin: tf.float64, end_hour_cos: tf.float64, end_weekend: tf.int32, end_week_day_sin: tf.float64, end_week_day_cos: tf.float64}, tf.int32)>"
     },
     "execution_count": 11,
     "metadata": {},
     "output_type": "execute_result"
    }
   ]
  },
  {
   "cell_type": "code",
   "execution_count": 12,
   "outputs": [],
   "source": [
    "mh.set_target_column_name('location_id')\n",
    "mh.set_vocab_size()\n",
    "mh.set_numerical_column_names(['start_hour_sin', 'start_hour_cos', 'weekend', 'week_day_sin', 'week_day_cos'])"
   ],
   "metadata": {
    "collapsed": false,
    "pycharm": {
     "name": "#%%\n"
    }
   }
  },
  {
   "cell_type": "code",
   "metadata": {
    "id": "bHDBtZVwYXWT",
    "pycharm": {
     "name": "#%%\n"
    }
   },
   "source": [
    "# The embedding dimension\n",
    "embedding_dim = 256\n",
    "\n",
    "# Number of RNN units\n",
    "rnn_units1 = 256\n",
    "rnn_units2 = 128\n",
    "\n",
    "# Create a model\n",
    "def create_model():\n",
    "  N = mh.total_window_length\n",
    "  batch_size = mh.batch_size\n",
    "  number_of_places = mh.vocab_size\n",
    "\n",
    "\t# Shortcut to the layers package\n",
    "  l = tf.keras.layers\n",
    "\n",
    "  # Now we need to define an input dictionary.\n",
    "  # Where the keys are the column names\n",
    "  # This is a model with multiple inputs, so we need to declare and input layer for each feature\n",
    "  feature_inputs = {\n",
    "    'start_hour_sin': tf.keras.Input((N-1, ), batch_size=batch_size, name='start_hour_sin'),\n",
    "    'start_hour_cos': tf.keras.Input((N-1, ), batch_size=batch_size, name='start_hour_cos'),\n",
    "    'weekend': tf.keras.Input((N-1, ), batch_size=batch_size, name='weekend'),\n",
    "    'week_day_sin': tf.keras.Input((N-1, ), batch_size=batch_size, name='week_day_sin'),\n",
    "    'week_day_cos': tf.keras.Input((N-1, ), batch_size=batch_size, name='week_day_cos'),\n",
    "  }\n",
    "\n",
    "  # We cannot use an array of features as always because we have sequences, and we cannot match the shape otherwise\n",
    "  # We have to do one by one\n",
    "  start_hour_sin = feature_column.numeric_column(\"start_hour_sin\", shape=(N-1))\n",
    "  hour_sin_feature = l.DenseFeatures(start_hour_sin)(feature_inputs)\n",
    "\n",
    "  start_hour_cos = feature_column.numeric_column(\"start_hour_cos\", shape=(N-1))\n",
    "  hour_cos_feature = l.DenseFeatures(start_hour_cos)(feature_inputs)\n",
    "\n",
    "  weekend = feature_column.numeric_column(\"weekend\", shape=(N-1))\n",
    "  weekend_feature = l.DenseFeatures(weekend)(feature_inputs)\n",
    "\n",
    "  week_day_sin = feature_column.numeric_column(\"week_day_sin\", shape=(N-1))\n",
    "  week_day_sin_feature = l.DenseFeatures(week_day_sin)(feature_inputs)\n",
    "\n",
    "  week_day_cos = feature_column.numeric_column(\"week_day_cos\", shape=(N-1))\n",
    "  week_day_cos_feature = l.DenseFeatures(week_day_cos)(feature_inputs)\n",
    "\n",
    "  # We have also to add a dimension to then concatenate\n",
    "  hour_sin_feature = tf.expand_dims(hour_sin_feature, -1)\n",
    "  hour_cos_feature = tf.expand_dims(hour_cos_feature, -1)\n",
    "  weekend_feature = tf.expand_dims(weekend_feature, -1)\n",
    "  week_day_sin_feature = tf.expand_dims(week_day_sin_feature, -1)\n",
    "  week_day_cos_feature = tf.expand_dims(week_day_cos_feature, -1)\n",
    "\n",
    "  # Declare the dictionary for the places sequence as before\n",
    "  sequence_input = {\n",
    "      'start_place': tf.keras.Input((N-1,), batch_size=batch_size, dtype=tf.dtypes.int32, name='start_place') # add batch_size=batch_size in case of stateful GRU\n",
    "  }\n",
    "\n",
    "\n",
    "  # Handling the categorical feature sequence using one-hot\n",
    "  places_one_hot = feature_column.sequence_categorical_column_with_vocabulary_list(\n",
    "      'start_place', [i for i in range(number_of_places)])\n",
    "\n",
    "  # Embed the one-hot encoding\n",
    "  places_embed = feature_column.embedding_column(places_one_hot, embedding_dim)\n",
    "\n",
    "\n",
    "  # With an input sequence we can't use the DenseFeature layer, we need to use the SequenceFeatures\n",
    "  sequence_features, sequence_length = tf.keras.experimental.SequenceFeatures(places_embed)(sequence_input)\n",
    "\n",
    "  input_sequence = l.Concatenate(axis=2)([ sequence_features, hour_sin_feature, hour_cos_feature, weekend_feature, week_day_sin_feature, week_day_cos_feature])\n",
    "\n",
    "  # Rnn\n",
    "  recurrent = l.GRU(rnn_units1,\n",
    "                        batch_size=batch_size, #in case of stateful\n",
    "                        return_sequences=True,\n",
    "                        stateful=True,\n",
    "                        recurrent_initializer='glorot_uniform')(input_sequence)\n",
    "\n",
    "  recurrent_2 = l.GRU(rnn_units2,\n",
    "                        batch_size=batch_size, #in case of stateful\n",
    "                        stateful=True,\n",
    "                        recurrent_initializer='glorot_uniform')(recurrent)\n",
    "\n",
    "\n",
    "  # Last layer with an output for each places\n",
    "  dense_1 = layers.Dense(number_of_places)(recurrent_2)\n",
    "\n",
    "  # Softmax output layer\n",
    "  output = l.Softmax()(dense_1)\n",
    "\n",
    "  # To return the Model, we need to define its inputs and outputs\n",
    "  # In out case, we need to list all the input layers we have defined\n",
    "  inputs = list(feature_inputs.values()) + list(sequence_input.values())\n",
    "\n",
    "  # Return the Model\n",
    "  return tf.keras.Model(inputs=inputs, outputs=output)"
   ],
   "execution_count": 15,
   "outputs": []
  },
  {
   "cell_type": "code",
   "execution_count": 16,
   "outputs": [],
   "source": [
    "# Get the model and compile it\n",
    "mh.assign_model(create_model())\n",
    "mh.compile_model()"
   ],
   "metadata": {
    "collapsed": false,
    "pycharm": {
     "name": "#%%\n"
    }
   }
  },
  {
   "cell_type": "markdown",
   "metadata": {
    "id": "JLTlfunoO0Yd",
    "pycharm": {
     "name": "#%% md\n"
    }
   },
   "source": [
    "# Training"
   ]
  },
  {
   "cell_type": "code",
   "execution_count": 17,
   "outputs": [
    {
     "name": "stdout",
     "output_type": "stream",
     "text": [
      "Epoch 1/10\n"
     ]
    },
    {
     "name": "stderr",
     "output_type": "stream",
     "text": [
      "C:\\Users\\WoodPecker\\Documents\\Privat\\HTW-Master\\Sem3\\PA\\HumanMobilityPredictionMA\\venv\\lib\\site-packages\\tensorflow\\python\\keras\\engine\\functional.py:543: UserWarning: Input dict contained keys ['end_hour_sin', 'end_hour_cos', 'end_weekend', 'end_week_day_sin', 'end_week_day_cos'] which did not match any model input. They will be ignored by the model.\n",
      "  [n for n in tensors.keys() if n not in ref_input_names])\n"
     ]
    },
    {
     "name": "stdout",
     "output_type": "stream",
     "text": [
      "532/532 [==============================] - 293s 551ms/step - loss: 4.0375 - sparse_categorical_accuracy: 0.1121 - val_loss: 3.6740 - val_sparse_categorical_accuracy: 0.2431\n",
      "Epoch 2/10\n",
      "532/532 [==============================] - 369s 694ms/step - loss: 3.7376 - sparse_categorical_accuracy: 0.2067 - val_loss: 3.5314 - val_sparse_categorical_accuracy: 0.2764\n",
      "Epoch 3/10\n",
      "532/532 [==============================] - 373s 701ms/step - loss: 3.6562 - sparse_categorical_accuracy: 0.2185 - val_loss: 3.4912 - val_sparse_categorical_accuracy: 0.2811\n",
      "Epoch 4/10\n",
      "532/532 [==============================] - 385s 724ms/step - loss: 3.5979 - sparse_categorical_accuracy: 0.2232 - val_loss: 3.4803 - val_sparse_categorical_accuracy: 0.2835\n",
      "Epoch 5/10\n",
      "532/532 [==============================] - 375s 705ms/step - loss: 3.5394 - sparse_categorical_accuracy: 0.2278 - val_loss: 3.4889 - val_sparse_categorical_accuracy: 0.2850\n",
      "Epoch 6/10\n",
      "532/532 [==============================] - 362s 680ms/step - loss: 3.4697 - sparse_categorical_accuracy: 0.2331 - val_loss: 3.5078 - val_sparse_categorical_accuracy: 0.2838\n",
      "Epoch 7/10\n",
      "532/532 [==============================] - 342s 642ms/step - loss: 3.3840 - sparse_categorical_accuracy: 0.2403 - val_loss: 3.5363 - val_sparse_categorical_accuracy: 0.2821\n",
      "Epoch 8/10\n",
      "532/532 [==============================] - ETA: 0s - loss: 3.2804 - sparse_categorical_accuracy: 0.2497Restoring model weights from the end of the best epoch.\n",
      "532/532 [==============================] - 229s 430ms/step - loss: 3.2804 - sparse_categorical_accuracy: 0.2497 - val_loss: 3.5779 - val_sparse_categorical_accuracy: 0.2789\n",
      "Epoch 00008: early stopping\n"
     ]
    }
   ],
   "source": [
    "mh.set_num_epochs(10)\n",
    "mh.fit_model()"
   ],
   "metadata": {
    "collapsed": false,
    "pycharm": {
     "name": "#%%\n"
    }
   }
  },
  {
   "cell_type": "markdown",
   "source": [
    "# Evaluation"
   ],
   "metadata": {
    "collapsed": false,
    "pycharm": {
     "name": "#%% md\n"
    }
   }
  },
  {
   "cell_type": "code",
   "execution_count": 18,
   "outputs": [
    {
     "name": "stdout",
     "output_type": "stream",
     "text": [
      "166/166 [==============================] - 18s 111ms/step - loss: 3.4981 - sparse_categorical_accuracy: 0.2798\n"
     ]
    }
   ],
   "source": [
    "mh.evaluate_model()"
   ],
   "metadata": {
    "collapsed": false,
    "pycharm": {
     "name": "#%%\n"
    }
   }
  },
  {
   "cell_type": "code",
   "execution_count": 19,
   "outputs": [
    {
     "name": "stdout",
     "output_type": "stream",
     "text": [
      "Model: \"functional_1\"\n",
      "__________________________________________________________________________________________________\n",
      "Layer (type)                    Output Shape         Param #     Connected to                     \n",
      "==================================================================================================\n",
      "start_hour_cos (InputLayer)     [(128, 128)]         0                                            \n",
      "__________________________________________________________________________________________________\n",
      "start_hour_sin (InputLayer)     [(128, 128)]         0                                            \n",
      "__________________________________________________________________________________________________\n",
      "week_day_cos (InputLayer)       [(128, 128)]         0                                            \n",
      "__________________________________________________________________________________________________\n",
      "week_day_sin (InputLayer)       [(128, 128)]         0                                            \n",
      "__________________________________________________________________________________________________\n",
      "weekend (InputLayer)            [(128, 128)]         0                                            \n",
      "__________________________________________________________________________________________________\n",
      "start_place (InputLayer)        [(128, 128)]         0                                            \n",
      "__________________________________________________________________________________________________\n",
      "dense_features (DenseFeatures)  (128, 128)           0           start_hour_cos[0][0]             \n",
      "                                                                 start_hour_sin[0][0]             \n",
      "                                                                 week_day_cos[0][0]               \n",
      "                                                                 week_day_sin[0][0]               \n",
      "                                                                 weekend[0][0]                    \n",
      "__________________________________________________________________________________________________\n",
      "dense_features_1 (DenseFeatures (128, 128)           0           start_hour_cos[0][0]             \n",
      "                                                                 start_hour_sin[0][0]             \n",
      "                                                                 week_day_cos[0][0]               \n",
      "                                                                 week_day_sin[0][0]               \n",
      "                                                                 weekend[0][0]                    \n",
      "__________________________________________________________________________________________________\n",
      "dense_features_2 (DenseFeatures (128, 128)           0           start_hour_cos[0][0]             \n",
      "                                                                 start_hour_sin[0][0]             \n",
      "                                                                 week_day_cos[0][0]               \n",
      "                                                                 week_day_sin[0][0]               \n",
      "                                                                 weekend[0][0]                    \n",
      "__________________________________________________________________________________________________\n",
      "dense_features_3 (DenseFeatures (128, 128)           0           start_hour_cos[0][0]             \n",
      "                                                                 start_hour_sin[0][0]             \n",
      "                                                                 week_day_cos[0][0]               \n",
      "                                                                 week_day_sin[0][0]               \n",
      "                                                                 weekend[0][0]                    \n",
      "__________________________________________________________________________________________________\n",
      "dense_features_4 (DenseFeatures (128, 128)           0           start_hour_cos[0][0]             \n",
      "                                                                 start_hour_sin[0][0]             \n",
      "                                                                 week_day_cos[0][0]               \n",
      "                                                                 week_day_sin[0][0]               \n",
      "                                                                 weekend[0][0]                    \n",
      "__________________________________________________________________________________________________\n",
      "sequence_features (SequenceFeat ((None, None, 256),  67584       start_place[0][0]                \n",
      "__________________________________________________________________________________________________\n",
      "tf_op_layer_ExpandDims (TensorF [(128, 128, 1)]      0           dense_features[0][0]             \n",
      "__________________________________________________________________________________________________\n",
      "tf_op_layer_ExpandDims_1 (Tenso [(128, 128, 1)]      0           dense_features_1[0][0]           \n",
      "__________________________________________________________________________________________________\n",
      "tf_op_layer_ExpandDims_2 (Tenso [(128, 128, 1)]      0           dense_features_2[0][0]           \n",
      "__________________________________________________________________________________________________\n",
      "tf_op_layer_ExpandDims_3 (Tenso [(128, 128, 1)]      0           dense_features_3[0][0]           \n",
      "__________________________________________________________________________________________________\n",
      "tf_op_layer_ExpandDims_4 (Tenso [(128, 128, 1)]      0           dense_features_4[0][0]           \n",
      "__________________________________________________________________________________________________\n",
      "concatenate (Concatenate)       (128, 128, 261)      0           sequence_features[0][0]          \n",
      "                                                                 tf_op_layer_ExpandDims[0][0]     \n",
      "                                                                 tf_op_layer_ExpandDims_1[0][0]   \n",
      "                                                                 tf_op_layer_ExpandDims_2[0][0]   \n",
      "                                                                 tf_op_layer_ExpandDims_3[0][0]   \n",
      "                                                                 tf_op_layer_ExpandDims_4[0][0]   \n",
      "__________________________________________________________________________________________________\n",
      "gru (GRU)                       (128, 128, 256)      398592      concatenate[0][0]                \n",
      "__________________________________________________________________________________________________\n",
      "gru_1 (GRU)                     (128, 128)           148224      gru[0][0]                        \n",
      "__________________________________________________________________________________________________\n",
      "dense (Dense)                   (128, 264)           34056       gru_1[0][0]                      \n",
      "__________________________________________________________________________________________________\n",
      "softmax (Softmax)               (128, 264)           0           dense[0][0]                      \n",
      "==================================================================================================\n",
      "Total params: 648,456\n",
      "Trainable params: 648,456\n",
      "Non-trainable params: 0\n",
      "__________________________________________________________________________________________________\n"
     ]
    }
   ],
   "source": [
    "mh.model.summary()"
   ],
   "metadata": {
    "collapsed": false,
    "pycharm": {
     "name": "#%%\n"
    }
   }
  },
  {
   "cell_type": "code",
   "execution_count": 20,
   "outputs": [
    {
     "name": "stderr",
     "output_type": "stream",
     "text": [
      "C:\\Users\\WoodPecker\\Documents\\Privat\\HTW-Master\\Sem3\\PA\\HumanMobilityPredictionMA\\venv\\lib\\site-packages\\tensorflow\\python\\keras\\engine\\functional.py:543: UserWarning: Input dict contained keys ['end_hour_sin', 'end_hour_cos', 'end_weekend', 'end_week_day_sin', 'end_week_day_cos'] which did not match any model input. They will be ignored by the model.\n",
      "  [n for n in tensors.keys() if n not in ref_input_names])\n"
     ]
    },
    {
     "name": "stdout",
     "output_type": "stream",
     "text": [
      "logits\n",
      "Shape :  (21248, 264)\n",
      "Example [0] :  [6.26355177e-04 8.15762323e-05 6.04000405e-08 1.68031147e-06\n",
      " 1.20059599e-03 4.64252253e-07 1.30415765e-06 2.73822993e-03\n",
      " 2.06021305e-05 7.56732061e-06 1.80615352e-05 6.72134138e-06\n",
      " 8.40148132e-05 5.22354478e-03 7.23760968e-05 3.77075526e-06\n",
      " 1.08405175e-06 3.97963653e-04 7.08394873e-06 2.80309735e-07\n",
      " 9.97301868e-07 1.98441721e-05 7.14904381e-05 4.72071633e-07\n",
      " 5.37388353e-03 5.82491397e-04 2.27094424e-05 1.50252632e-07\n",
      " 7.65049251e-08 1.34949169e-05 2.09623593e-07 7.53296763e-06\n",
      " 1.50029769e-06 1.66669791e-03 2.08886231e-05 6.77557591e-06\n",
      " 2.84814829e-04 1.89006759e-03 3.00715715e-06 1.05452578e-04\n",
      " 6.74750409e-05 6.82203704e-03 1.89576042e-03 8.55968054e-03\n",
      " 8.03511170e-07 9.66724823e-04 9.89799992e-06 3.29476461e-05\n",
      " 5.05543910e-02 1.63256761e-03 1.79672521e-02 1.33378617e-05\n",
      " 7.79970433e-04 1.42041481e-05 4.30313376e-05 5.17475610e-06\n",
      " 1.49580674e-05 2.56586731e-07 1.55224916e-06 2.11625235e-07\n",
      " 3.52881648e-06 2.95491831e-04 8.33292142e-05 5.46384945e-06\n",
      " 8.38123029e-08 3.60476377e-04 2.40841619e-04 5.47467498e-05\n",
      " 3.52229774e-02 4.66831989e-05 8.35277242e-05 3.79109906e-06\n",
      " 7.74096225e-06 4.17731644e-05 5.62381977e-03 9.43737756e-03\n",
      " 6.20739520e-05 1.57000977e-05 8.43514772e-06 2.31390763e-02\n",
      " 3.27636109e-04 1.86534953e-06 8.18590852e-05 3.50210990e-04\n",
      " 3.87225336e-05 2.50963185e-05 1.87448165e-06 2.77371495e-03\n",
      " 3.42486019e-04 9.70656038e-05 1.73596982e-02 1.15983630e-05\n",
      " 2.00178620e-05 1.56626957e-05 2.46321615e-05 3.54443589e-04\n",
      " 2.92781551e-05 7.43164332e-04 9.12047381e-06 4.55783429e-08\n",
      " 1.59366839e-02 1.02083113e-05 2.43463019e-05 1.02275074e-07\n",
      " 9.13922804e-08 6.91120903e-08 4.58614551e-04 6.35404233e-03\n",
      " 1.04499202e-06 1.92226267e-07 1.58768955e-07 7.41649089e-08\n",
      " 1.70151924e-03 1.12247961e-02 7.21775042e-03 1.80187055e-06\n",
      " 6.34605158e-03 1.08268438e-07 1.08576469e-05 1.72263302e-04\n",
      " 1.72834780e-06 1.33648946e-05 3.27194102e-05 5.78267973e-05\n",
      " 1.03496559e-05 4.42649191e-03 2.28093959e-05 5.81571599e-04\n",
      " 4.97473266e-05 6.17685087e-04 1.17099211e-04 6.72052147e-06\n",
      " 1.85962417e-03 8.16548072e-06 1.83241673e-06 2.77233830e-05\n",
      " 2.66145980e-05 8.07742681e-03 8.45703762e-03 9.38145877e-06\n",
      " 1.00535695e-02 2.77294144e-02 8.41190070e-02 1.81575809e-02\n",
      " 6.79750089e-03 1.71952019e-03 2.49400066e-04 1.15471303e-05\n",
      " 8.12368561e-03 5.49175593e-06 1.71865922e-05 1.51687348e-02\n",
      " 1.49605586e-03 1.26819883e-04 1.47509945e-06 1.33908943e-05\n",
      " 9.02990180e-08 4.61498639e-05 1.87219325e-02 5.88339717e-05\n",
      " 6.90061643e-05 1.08463265e-01 2.44741738e-02 4.32131626e-02\n",
      " 2.27789041e-02 2.53412945e-05 1.10897264e-02 9.79633387e-06\n",
      " 1.69587249e-04 7.78860340e-05 2.48349588e-02 8.59505508e-06\n",
      " 6.55044414e-06 1.74420260e-04 9.49015248e-06 1.14704214e-07\n",
      " 1.56438105e-07 9.12072574e-06 2.28796443e-06 7.50104547e-04\n",
      " 1.10765632e-06 6.94048940e-04 8.26543255e-05 6.90294928e-06\n",
      " 3.23494282e-06 2.07812463e-05 1.23685645e-02 1.42788451e-07\n",
      " 1.93628191e-04 3.32609692e-04 4.18765703e-05 2.95340078e-06\n",
      " 1.09000962e-06 3.30290968e-05 5.60488525e-06 4.01370889e-05\n",
      " 9.78666474e-04 2.72671368e-05 2.50044141e-05 8.14271814e-08\n",
      " 1.62676341e-04 6.14387409e-06 1.50820724e-05 9.25407858e-06\n",
      " 1.07720631e-07 1.04057598e-07 1.05556765e-05 3.26611407e-05\n",
      " 1.59628889e-05 2.02114764e-03 3.40556217e-05 3.66590777e-03\n",
      " 3.33405183e-06 9.05972956e-06 2.48278525e-06 1.78126629e-05\n",
      " 1.72105231e-07 8.38679989e-05 1.72654654e-05 7.01489216e-06\n",
      " 2.07327103e-04 5.06460822e-07 6.04244121e-08 4.31140885e-04\n",
      " 1.26138621e-03 1.35403534e-04 1.20111939e-03 4.04459897e-05\n",
      " 1.49510161e-04 1.40493838e-02 3.95495407e-02 1.30410241e-02\n",
      " 8.75186466e-04 5.92102343e-03 1.69907585e-02 4.03547929e-05\n",
      " 2.86698360e-02 2.39549000e-02 1.67855155e-02 3.63068655e-02\n",
      " 3.21854604e-05 2.31508766e-05 2.43836912e-05 3.00953351e-03\n",
      " 4.39712964e-03 6.49375593e-08 1.48056867e-02 3.08693816e-05\n",
      " 1.92641946e-05 1.69519056e-02 4.45615206e-06 1.77830259e-07\n",
      " 1.38612086e-05 1.57039906e-07 1.27195417e-05 5.23543742e-04\n",
      " 4.67586797e-03 4.03144004e-05 2.05809920e-04 6.89288063e-05\n",
      " 1.61076998e-04 6.60425751e-04 6.27621356e-03 1.75328385e-02]\n",
      "predictions\n",
      "Shape :  (21248, 264)\n",
      "Example [0] :  tf.Tensor(\n",
      "[0.00377568 0.00377362 0.00377332 0.00377332 0.00377785 0.00377332\n",
      " 0.00377332 0.00378366 0.00377339 0.00377334 0.00377338 0.00377334\n",
      " 0.00377363 0.00379308 0.00377359 0.00377333 0.00377332 0.00377482\n",
      " 0.00377334 0.00377332 0.00377332 0.00377339 0.00377359 0.00377332\n",
      " 0.00379365 0.00377551 0.0037734  0.00377332 0.00377332 0.00377337\n",
      " 0.00377332 0.00377334 0.00377332 0.00377961 0.0037734  0.00377334\n",
      " 0.00377439 0.00378045 0.00377333 0.00377371 0.00377357 0.00379915\n",
      " 0.00378048 0.00380575 0.00377332 0.00377697 0.00377335 0.00377344\n",
      " 0.00396898 0.00377948 0.00384172 0.00377337 0.00377626 0.00377337\n",
      " 0.00377348 0.00377334 0.00377337 0.00377332 0.00377332 0.00377332\n",
      " 0.00377333 0.00377443 0.00377363 0.00377334 0.00377332 0.00377468\n",
      " 0.00377423 0.00377352 0.00390859 0.00377349 0.00377363 0.00377333\n",
      " 0.00377335 0.00377347 0.0037946  0.0038091  0.00377355 0.00377338\n",
      " 0.00377335 0.00386165 0.00377455 0.00377332 0.00377363 0.00377464\n",
      " 0.00377346 0.00377341 0.00377332 0.0037838  0.00377461 0.00377368\n",
      " 0.00383939 0.00377336 0.00377339 0.00377338 0.00377341 0.00377465\n",
      " 0.00377343 0.00377612 0.00377335 0.00377332 0.00383393 0.00377335\n",
      " 0.00377341 0.00377332 0.00377332 0.00377332 0.00377505 0.00379737\n",
      " 0.00377332 0.00377332 0.00377332 0.00377332 0.00377974 0.00381591\n",
      " 0.00380065 0.00377332 0.00379734 0.00377332 0.00377336 0.00377397\n",
      " 0.00377332 0.00377337 0.00377344 0.00377353 0.00377336 0.00379006\n",
      " 0.0037734  0.00377551 0.0037735  0.00377565 0.00377376 0.00377334\n",
      " 0.00378034 0.00377335 0.00377332 0.00377342 0.00377342 0.00380392\n",
      " 0.00380536 0.00377335 0.00381144 0.00387941 0.00410446 0.00384246\n",
      " 0.00379905 0.00377981 0.00377426 0.00377336 0.00380409 0.00377334\n",
      " 0.00377338 0.00383099 0.00377897 0.00377379 0.00377332 0.00377337\n",
      " 0.00377332 0.00377349 0.00384463 0.00377354 0.00377358 0.0042056\n",
      " 0.0038668  0.00393995 0.00386025 0.00377341 0.00381539 0.00377335\n",
      " 0.00377396 0.00377361 0.0038682  0.00377335 0.00377334 0.00377397\n",
      " 0.00377335 0.00377332 0.00377332 0.00377335 0.00377332 0.00377615\n",
      " 0.00377332 0.00377594 0.00377363 0.00377334 0.00377333 0.00377339\n",
      " 0.00382028 0.00377332 0.00377405 0.00377457 0.00377347 0.00377333\n",
      " 0.00377332 0.00377344 0.00377334 0.00377347 0.00377701 0.00377342\n",
      " 0.00377341 0.00377332 0.00377393 0.00377334 0.00377337 0.00377335\n",
      " 0.00377332 0.00377332 0.00377336 0.00377344 0.00377338 0.00378095\n",
      " 0.00377344 0.00378717 0.00377333 0.00377335 0.00377333 0.00377338\n",
      " 0.00377332 0.00377363 0.00377338 0.00377334 0.0037741  0.00377332\n",
      " 0.00377332 0.00377494 0.00377808 0.00377383 0.00377785 0.00377347\n",
      " 0.00377388 0.0038267  0.00392554 0.00382285 0.00377662 0.00379572\n",
      " 0.00383798 0.00377347 0.00388306 0.0038648  0.00383719 0.00391283\n",
      " 0.00377344 0.0037734  0.00377341 0.00378469 0.00378994 0.00377332\n",
      " 0.0038296  0.00377343 0.00377339 0.00383783 0.00377333 0.00377332\n",
      " 0.00377337 0.00377332 0.00377336 0.00377529 0.003791   0.00377347\n",
      " 0.00377409 0.00377358 0.00377392 0.00377581 0.00379707 0.00384006], shape=(264,), dtype=float32)\n",
      "predicted_classes\n",
      "Shape :  (21248,)\n",
      "Example [0] :  161\n",
      "actual_values\n",
      "Shape :  (21248,)\n",
      "Example [0] :  239\n",
      "diff\n",
      "Shape :  (21248,)\n",
      "Example [0] :  78\n",
      "Prediction # 0\n",
      "Actual values:  239\n",
      "Predicted values:  161\n",
      "Prediction # 1\n",
      "Actual values:  158\n",
      "Predicted values:  107\n",
      "Prediction # 2\n",
      "Actual values:  100\n",
      "Predicted values:  158\n",
      "Prediction # 3\n",
      "Actual values:  48\n",
      "Predicted values:  234\n",
      "Prediction # 4\n",
      "Actual values:  238\n",
      "Predicted values:  161\n",
      "Prediction # 5\n",
      "Actual values:  90\n",
      "Predicted values:  141\n",
      "Prediction # 6\n",
      "Actual values:  236\n",
      "Predicted values:  13\n",
      "Prediction # 7\n",
      "Actual values:  48\n",
      "Predicted values:  100\n",
      "Prediction # 8\n",
      "Actual values:  229\n",
      "Predicted values:  229\n",
      "Prediction # 9\n",
      "Actual values:  263\n",
      "Predicted values:  263\n",
      "Prediction # 10\n",
      "Actual values:  162\n",
      "Predicted values:  162\n",
      "Prediction # 11\n",
      "Actual values:  144\n",
      "Predicted values:  144\n",
      "Prediction # 12\n",
      "Actual values:  138\n",
      "Predicted values:  211\n",
      "Prediction # 13\n",
      "Actual values:  161\n",
      "Predicted values:  161\n",
      "Prediction # 14\n",
      "Actual values:  113\n",
      "Predicted values:  170\n",
      "Prediction # 15\n",
      "Actual values:  164\n",
      "Predicted values:  163\n",
      "Prediction # 16\n",
      "Actual values:  75\n",
      "Predicted values:  138\n",
      "Prediction # 17\n",
      "Actual values:  162\n",
      "Predicted values:  148\n",
      "Prediction # 18\n",
      "Actual values:  162\n",
      "Predicted values:  263\n",
      "Prediction # 19\n",
      "Actual values:  229\n",
      "Predicted values:  87\n",
      "# correct Predictions :  5946\n",
      "# wrong Predictions :  15302\n",
      "accuracy:  0.2798381024096386\n"
     ]
    }
   ],
   "source": [
    "mh.print_test_prediction_info()"
   ],
   "metadata": {
    "collapsed": false,
    "pycharm": {
     "name": "#%%\n"
    }
   }
  },
  {
   "cell_type": "markdown",
   "source": [
    "As expected, only predicting one location results in a more or less the same prediction quality.\n",
    "This approach is better for a practical usage as it does not return unnecessary data (the n-1 other predictions)."
   ],
   "metadata": {
    "collapsed": false,
    "pycharm": {
     "name": "#%% md\n"
    }
   }
  }
 ]
}