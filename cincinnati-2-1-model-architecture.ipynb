{
 "nbformat": 4,
 "nbformat_minor": 0,
 "metadata": {
  "colab": {
   "name": "NYC_FL.ipynb",
   "provenance": [],
   "toc_visible": true
  },
  "kernelspec": {
   "name": "python3",
   "display_name": "Python 3"
  },
  "accelerator": "GPU"
 },
 "cells": [
  {
   "cell_type": "markdown",
   "metadata": {
    "id": "01ekVSe4McOZ",
    "pycharm": {
     "name": "#%% md\n"
    }
   },
   "source": [
    "# Cincinnati Model Architecture Part 1\n",
    "\n",
    "In this notebook, the model architecture from the NYC taxi data Part 7 is applied to the Cincinnati Vehicle DataSet.\n",
    "This is done to verify whether the network behaves the same for both datasets.\n"
   ]
  },
  {
   "cell_type": "code",
   "metadata": {
    "id": "O0AtRRZwKfnz",
    "colab": {
     "base_uri": "https://localhost:8080/",
     "height": 119
    },
    "outputId": "ec8f53e1-bede-41f7-a6a1-2bf8249bbf6b",
    "pycharm": {
     "name": "#%%\n"
    }
   },
   "source": [
    "import numpy as np\n",
    "np.random.seed(0)\n",
    "import tensorflow as tf\n",
    "import pandas as pd\n",
    "from tensorflow import feature_column\n",
    "from tensorflow.keras import layers\n",
    "import import_ipynb"
   ],
   "execution_count": 1,
   "outputs": []
  },
  {
   "cell_type": "code",
   "execution_count": 2,
   "outputs": [
    {
     "name": "stdout",
     "output_type": "stream",
     "text": [
      "importing Jupyter notebook from model_helper.ipynb\n"
     ]
    }
   ],
   "source": [
    "from model_helper import ModelHelper"
   ],
   "metadata": {
    "collapsed": false,
    "pycharm": {
     "name": "#%%\n"
    }
   }
  },
  {
   "cell_type": "markdown",
   "metadata": {
    "id": "nRSBBlWyLG9h",
    "pycharm": {
     "name": "#%% md\n"
    }
   },
   "source": [
    "# Dataset"
   ]
  },
  {
   "cell_type": "code",
   "metadata": {
    "id": "EiraMJg9uOb9",
    "colab": {
     "base_uri": "https://localhost:8080/",
     "height": 204
    },
    "outputId": "bd845c7d-9072-46d5-ef12-b26e94566280",
    "pycharm": {
     "name": "#%%\n"
    }
   },
   "source": [
    "df = pd.read_csv(\"./cincinnati/cincinatti_zones_153.csv\")\n",
    "df.head(10)"
   ],
   "execution_count": 3,
   "outputs": [
    {
     "data": {
      "text/plain": "   location_id  vehicle_id  is_weekend  clock_sin  clock_cos   day_sin  \\\n0            4         153       False  -0.725424  -0.688302  0.743145   \n1           10         153       False  -0.619379  -0.785092  0.743145   \n2            4         153       False   0.378379  -0.925651  0.743145   \n3            4         153       False   0.635798  -0.771856  0.743145   \n4           11         153       False  -0.492424  -0.870356  0.743145   \n5            4         153       False   0.476903  -0.878956  0.743145   \n6           18         153       False  -0.697999  -0.716099  0.743145   \n7           10         153       False   0.121725  -0.992564  0.743145   \n8           10         153       False   0.004363  -0.999990  0.743145   \n9           13         153       False   0.618923  -0.785452  0.743145   \n\n    day_cos  month_sin  month_cos  week_day_sin  week_day_cos  \n0  0.669131        0.5   0.866025           0.0           1.0  \n1  0.669131        0.5   0.866025           0.0           1.0  \n2  0.669131        0.5   0.866025           0.0           1.0  \n3  0.669131        0.5   0.866025           0.0           1.0  \n4  0.669131        0.5   0.866025           0.0           1.0  \n5  0.669131        0.5   0.866025           0.0           1.0  \n6  0.669131        0.5   0.866025           0.0           1.0  \n7  0.669131        0.5   0.866025           0.0           1.0  \n8  0.669131        0.5   0.866025           0.0           1.0  \n9  0.669131        0.5   0.866025           0.0           1.0  ",
      "text/html": "<div>\n<style scoped>\n    .dataframe tbody tr th:only-of-type {\n        vertical-align: middle;\n    }\n\n    .dataframe tbody tr th {\n        vertical-align: top;\n    }\n\n    .dataframe thead th {\n        text-align: right;\n    }\n</style>\n<table border=\"1\" class=\"dataframe\">\n  <thead>\n    <tr style=\"text-align: right;\">\n      <th></th>\n      <th>location_id</th>\n      <th>vehicle_id</th>\n      <th>is_weekend</th>\n      <th>clock_sin</th>\n      <th>clock_cos</th>\n      <th>day_sin</th>\n      <th>day_cos</th>\n      <th>month_sin</th>\n      <th>month_cos</th>\n      <th>week_day_sin</th>\n      <th>week_day_cos</th>\n    </tr>\n  </thead>\n  <tbody>\n    <tr>\n      <th>0</th>\n      <td>4</td>\n      <td>153</td>\n      <td>False</td>\n      <td>-0.725424</td>\n      <td>-0.688302</td>\n      <td>0.743145</td>\n      <td>0.669131</td>\n      <td>0.5</td>\n      <td>0.866025</td>\n      <td>0.0</td>\n      <td>1.0</td>\n    </tr>\n    <tr>\n      <th>1</th>\n      <td>10</td>\n      <td>153</td>\n      <td>False</td>\n      <td>-0.619379</td>\n      <td>-0.785092</td>\n      <td>0.743145</td>\n      <td>0.669131</td>\n      <td>0.5</td>\n      <td>0.866025</td>\n      <td>0.0</td>\n      <td>1.0</td>\n    </tr>\n    <tr>\n      <th>2</th>\n      <td>4</td>\n      <td>153</td>\n      <td>False</td>\n      <td>0.378379</td>\n      <td>-0.925651</td>\n      <td>0.743145</td>\n      <td>0.669131</td>\n      <td>0.5</td>\n      <td>0.866025</td>\n      <td>0.0</td>\n      <td>1.0</td>\n    </tr>\n    <tr>\n      <th>3</th>\n      <td>4</td>\n      <td>153</td>\n      <td>False</td>\n      <td>0.635798</td>\n      <td>-0.771856</td>\n      <td>0.743145</td>\n      <td>0.669131</td>\n      <td>0.5</td>\n      <td>0.866025</td>\n      <td>0.0</td>\n      <td>1.0</td>\n    </tr>\n    <tr>\n      <th>4</th>\n      <td>11</td>\n      <td>153</td>\n      <td>False</td>\n      <td>-0.492424</td>\n      <td>-0.870356</td>\n      <td>0.743145</td>\n      <td>0.669131</td>\n      <td>0.5</td>\n      <td>0.866025</td>\n      <td>0.0</td>\n      <td>1.0</td>\n    </tr>\n    <tr>\n      <th>5</th>\n      <td>4</td>\n      <td>153</td>\n      <td>False</td>\n      <td>0.476903</td>\n      <td>-0.878956</td>\n      <td>0.743145</td>\n      <td>0.669131</td>\n      <td>0.5</td>\n      <td>0.866025</td>\n      <td>0.0</td>\n      <td>1.0</td>\n    </tr>\n    <tr>\n      <th>6</th>\n      <td>18</td>\n      <td>153</td>\n      <td>False</td>\n      <td>-0.697999</td>\n      <td>-0.716099</td>\n      <td>0.743145</td>\n      <td>0.669131</td>\n      <td>0.5</td>\n      <td>0.866025</td>\n      <td>0.0</td>\n      <td>1.0</td>\n    </tr>\n    <tr>\n      <th>7</th>\n      <td>10</td>\n      <td>153</td>\n      <td>False</td>\n      <td>0.121725</td>\n      <td>-0.992564</td>\n      <td>0.743145</td>\n      <td>0.669131</td>\n      <td>0.5</td>\n      <td>0.866025</td>\n      <td>0.0</td>\n      <td>1.0</td>\n    </tr>\n    <tr>\n      <th>8</th>\n      <td>10</td>\n      <td>153</td>\n      <td>False</td>\n      <td>0.004363</td>\n      <td>-0.999990</td>\n      <td>0.743145</td>\n      <td>0.669131</td>\n      <td>0.5</td>\n      <td>0.866025</td>\n      <td>0.0</td>\n      <td>1.0</td>\n    </tr>\n    <tr>\n      <th>9</th>\n      <td>13</td>\n      <td>153</td>\n      <td>False</td>\n      <td>0.618923</td>\n      <td>-0.785452</td>\n      <td>0.743145</td>\n      <td>0.669131</td>\n      <td>0.5</td>\n      <td>0.866025</td>\n      <td>0.0</td>\n      <td>1.0</td>\n    </tr>\n  </tbody>\n</table>\n</div>"
     },
     "execution_count": 3,
     "metadata": {},
     "output_type": "execute_result"
    }
   ]
  },
  {
   "cell_type": "code",
   "metadata": {
    "id": "ggIfgQxKuOcC",
    "colab": {
     "base_uri": "https://localhost:8080/",
     "height": 221
    },
    "outputId": "4a248d3b-8b73-4f2b-d7f3-8f9bcaaedbd6",
    "pycharm": {
     "name": "#%%\n"
    }
   },
   "source": [
    "df.drop(columns=['vehicle_id'], axis='columns', inplace=True)\n",
    "df"
   ],
   "execution_count": 4,
   "outputs": [
    {
     "data": {
      "text/plain": "        location_id  is_weekend  clock_sin  clock_cos   day_sin   day_cos  \\\n0                 4       False  -0.725424  -0.688302  0.743145  0.669131   \n1                10       False  -0.619379  -0.785092  0.743145  0.669131   \n2                 4       False   0.378379  -0.925651  0.743145  0.669131   \n3                 4       False   0.635798  -0.771856  0.743145  0.669131   \n4                11       False  -0.492424  -0.870356  0.743145  0.669131   \n...             ...         ...        ...        ...       ...       ...   \n165636            0       False  -0.108939  -0.994048 -0.587785  0.809017   \n165637            0       False  -0.083026  -0.996547  0.743145  0.669131   \n165638            1        True   0.321302  -0.946977  0.207912  0.978148   \n165639            1       False  -0.933554   0.358436  0.743145  0.669131   \n165640            4       False   0.608761  -0.793353  0.866025 -0.500000   \n\n        month_sin  month_cos  week_day_sin  week_day_cos  \n0        0.500000   0.866025      0.000000      1.000000  \n1        0.500000   0.866025      0.000000      1.000000  \n2        0.500000   0.866025      0.000000      1.000000  \n3        0.500000   0.866025      0.000000      1.000000  \n4        0.500000   0.866025      0.000000      1.000000  \n...           ...        ...           ...           ...  \n165636  -0.500000  -0.866025      0.781831      0.623490  \n165637  -0.866025  -0.500000      0.974928     -0.222521  \n165638  -0.500000  -0.866025     -0.974928     -0.222521  \n165639  -0.866025  -0.500000      0.974928     -0.222521  \n165640  -0.866025  -0.500000      0.781831      0.623490  \n\n[165641 rows x 10 columns]",
      "text/html": "<div>\n<style scoped>\n    .dataframe tbody tr th:only-of-type {\n        vertical-align: middle;\n    }\n\n    .dataframe tbody tr th {\n        vertical-align: top;\n    }\n\n    .dataframe thead th {\n        text-align: right;\n    }\n</style>\n<table border=\"1\" class=\"dataframe\">\n  <thead>\n    <tr style=\"text-align: right;\">\n      <th></th>\n      <th>location_id</th>\n      <th>is_weekend</th>\n      <th>clock_sin</th>\n      <th>clock_cos</th>\n      <th>day_sin</th>\n      <th>day_cos</th>\n      <th>month_sin</th>\n      <th>month_cos</th>\n      <th>week_day_sin</th>\n      <th>week_day_cos</th>\n    </tr>\n  </thead>\n  <tbody>\n    <tr>\n      <th>0</th>\n      <td>4</td>\n      <td>False</td>\n      <td>-0.725424</td>\n      <td>-0.688302</td>\n      <td>0.743145</td>\n      <td>0.669131</td>\n      <td>0.500000</td>\n      <td>0.866025</td>\n      <td>0.000000</td>\n      <td>1.000000</td>\n    </tr>\n    <tr>\n      <th>1</th>\n      <td>10</td>\n      <td>False</td>\n      <td>-0.619379</td>\n      <td>-0.785092</td>\n      <td>0.743145</td>\n      <td>0.669131</td>\n      <td>0.500000</td>\n      <td>0.866025</td>\n      <td>0.000000</td>\n      <td>1.000000</td>\n    </tr>\n    <tr>\n      <th>2</th>\n      <td>4</td>\n      <td>False</td>\n      <td>0.378379</td>\n      <td>-0.925651</td>\n      <td>0.743145</td>\n      <td>0.669131</td>\n      <td>0.500000</td>\n      <td>0.866025</td>\n      <td>0.000000</td>\n      <td>1.000000</td>\n    </tr>\n    <tr>\n      <th>3</th>\n      <td>4</td>\n      <td>False</td>\n      <td>0.635798</td>\n      <td>-0.771856</td>\n      <td>0.743145</td>\n      <td>0.669131</td>\n      <td>0.500000</td>\n      <td>0.866025</td>\n      <td>0.000000</td>\n      <td>1.000000</td>\n    </tr>\n    <tr>\n      <th>4</th>\n      <td>11</td>\n      <td>False</td>\n      <td>-0.492424</td>\n      <td>-0.870356</td>\n      <td>0.743145</td>\n      <td>0.669131</td>\n      <td>0.500000</td>\n      <td>0.866025</td>\n      <td>0.000000</td>\n      <td>1.000000</td>\n    </tr>\n    <tr>\n      <th>...</th>\n      <td>...</td>\n      <td>...</td>\n      <td>...</td>\n      <td>...</td>\n      <td>...</td>\n      <td>...</td>\n      <td>...</td>\n      <td>...</td>\n      <td>...</td>\n      <td>...</td>\n    </tr>\n    <tr>\n      <th>165636</th>\n      <td>0</td>\n      <td>False</td>\n      <td>-0.108939</td>\n      <td>-0.994048</td>\n      <td>-0.587785</td>\n      <td>0.809017</td>\n      <td>-0.500000</td>\n      <td>-0.866025</td>\n      <td>0.781831</td>\n      <td>0.623490</td>\n    </tr>\n    <tr>\n      <th>165637</th>\n      <td>0</td>\n      <td>False</td>\n      <td>-0.083026</td>\n      <td>-0.996547</td>\n      <td>0.743145</td>\n      <td>0.669131</td>\n      <td>-0.866025</td>\n      <td>-0.500000</td>\n      <td>0.974928</td>\n      <td>-0.222521</td>\n    </tr>\n    <tr>\n      <th>165638</th>\n      <td>1</td>\n      <td>True</td>\n      <td>0.321302</td>\n      <td>-0.946977</td>\n      <td>0.207912</td>\n      <td>0.978148</td>\n      <td>-0.500000</td>\n      <td>-0.866025</td>\n      <td>-0.974928</td>\n      <td>-0.222521</td>\n    </tr>\n    <tr>\n      <th>165639</th>\n      <td>1</td>\n      <td>False</td>\n      <td>-0.933554</td>\n      <td>0.358436</td>\n      <td>0.743145</td>\n      <td>0.669131</td>\n      <td>-0.866025</td>\n      <td>-0.500000</td>\n      <td>0.974928</td>\n      <td>-0.222521</td>\n    </tr>\n    <tr>\n      <th>165640</th>\n      <td>4</td>\n      <td>False</td>\n      <td>0.608761</td>\n      <td>-0.793353</td>\n      <td>0.866025</td>\n      <td>-0.500000</td>\n      <td>-0.866025</td>\n      <td>-0.500000</td>\n      <td>0.781831</td>\n      <td>0.623490</td>\n    </tr>\n  </tbody>\n</table>\n<p>165641 rows × 10 columns</p>\n</div>"
     },
     "execution_count": 4,
     "metadata": {},
     "output_type": "execute_result"
    }
   ]
  },
  {
   "cell_type": "code",
   "execution_count": 5,
   "outputs": [
    {
     "name": "stdout",
     "output_type": "stream",
     "text": [
      "vocabulary size: 47\n"
     ]
    }
   ],
   "source": [
    "# the number of different locations defines the vocabulary size\n",
    "locations = df.location_id\n",
    "vocab_size = locations.nunique()\n",
    "print('vocabulary size:', vocab_size)"
   ],
   "metadata": {
    "collapsed": false,
    "pycharm": {
     "name": "#%%\n"
    }
   }
  },
  {
   "cell_type": "code",
   "execution_count": 6,
   "outputs": [
    {
     "data": {
      "text/plain": "   location_id  is_weekend  clock_sin  clock_cos   day_sin   day_cos  \\\n0            0       False  -0.725424  -0.688302  0.743145  0.669131   \n1            1       False  -0.619379  -0.785092  0.743145  0.669131   \n2            0       False   0.378379  -0.925651  0.743145  0.669131   \n3            0       False   0.635798  -0.771856  0.743145  0.669131   \n4            2       False  -0.492424  -0.870356  0.743145  0.669131   \n5            0       False   0.476903  -0.878956  0.743145  0.669131   \n6            3       False  -0.697999  -0.716099  0.743145  0.669131   \n7            1       False   0.121725  -0.992564  0.743145  0.669131   \n8            1       False   0.004363  -0.999990  0.743145  0.669131   \n9            4       False   0.618923  -0.785452  0.743145  0.669131   \n\n   month_sin  month_cos  week_day_sin  week_day_cos  \n0        0.5   0.866025           0.0           1.0  \n1        0.5   0.866025           0.0           1.0  \n2        0.5   0.866025           0.0           1.0  \n3        0.5   0.866025           0.0           1.0  \n4        0.5   0.866025           0.0           1.0  \n5        0.5   0.866025           0.0           1.0  \n6        0.5   0.866025           0.0           1.0  \n7        0.5   0.866025           0.0           1.0  \n8        0.5   0.866025           0.0           1.0  \n9        0.5   0.866025           0.0           1.0  ",
      "text/html": "<div>\n<style scoped>\n    .dataframe tbody tr th:only-of-type {\n        vertical-align: middle;\n    }\n\n    .dataframe tbody tr th {\n        vertical-align: top;\n    }\n\n    .dataframe thead th {\n        text-align: right;\n    }\n</style>\n<table border=\"1\" class=\"dataframe\">\n  <thead>\n    <tr style=\"text-align: right;\">\n      <th></th>\n      <th>location_id</th>\n      <th>is_weekend</th>\n      <th>clock_sin</th>\n      <th>clock_cos</th>\n      <th>day_sin</th>\n      <th>day_cos</th>\n      <th>month_sin</th>\n      <th>month_cos</th>\n      <th>week_day_sin</th>\n      <th>week_day_cos</th>\n    </tr>\n  </thead>\n  <tbody>\n    <tr>\n      <th>0</th>\n      <td>0</td>\n      <td>False</td>\n      <td>-0.725424</td>\n      <td>-0.688302</td>\n      <td>0.743145</td>\n      <td>0.669131</td>\n      <td>0.5</td>\n      <td>0.866025</td>\n      <td>0.0</td>\n      <td>1.0</td>\n    </tr>\n    <tr>\n      <th>1</th>\n      <td>1</td>\n      <td>False</td>\n      <td>-0.619379</td>\n      <td>-0.785092</td>\n      <td>0.743145</td>\n      <td>0.669131</td>\n      <td>0.5</td>\n      <td>0.866025</td>\n      <td>0.0</td>\n      <td>1.0</td>\n    </tr>\n    <tr>\n      <th>2</th>\n      <td>0</td>\n      <td>False</td>\n      <td>0.378379</td>\n      <td>-0.925651</td>\n      <td>0.743145</td>\n      <td>0.669131</td>\n      <td>0.5</td>\n      <td>0.866025</td>\n      <td>0.0</td>\n      <td>1.0</td>\n    </tr>\n    <tr>\n      <th>3</th>\n      <td>0</td>\n      <td>False</td>\n      <td>0.635798</td>\n      <td>-0.771856</td>\n      <td>0.743145</td>\n      <td>0.669131</td>\n      <td>0.5</td>\n      <td>0.866025</td>\n      <td>0.0</td>\n      <td>1.0</td>\n    </tr>\n    <tr>\n      <th>4</th>\n      <td>2</td>\n      <td>False</td>\n      <td>-0.492424</td>\n      <td>-0.870356</td>\n      <td>0.743145</td>\n      <td>0.669131</td>\n      <td>0.5</td>\n      <td>0.866025</td>\n      <td>0.0</td>\n      <td>1.0</td>\n    </tr>\n    <tr>\n      <th>5</th>\n      <td>0</td>\n      <td>False</td>\n      <td>0.476903</td>\n      <td>-0.878956</td>\n      <td>0.743145</td>\n      <td>0.669131</td>\n      <td>0.5</td>\n      <td>0.866025</td>\n      <td>0.0</td>\n      <td>1.0</td>\n    </tr>\n    <tr>\n      <th>6</th>\n      <td>3</td>\n      <td>False</td>\n      <td>-0.697999</td>\n      <td>-0.716099</td>\n      <td>0.743145</td>\n      <td>0.669131</td>\n      <td>0.5</td>\n      <td>0.866025</td>\n      <td>0.0</td>\n      <td>1.0</td>\n    </tr>\n    <tr>\n      <th>7</th>\n      <td>1</td>\n      <td>False</td>\n      <td>0.121725</td>\n      <td>-0.992564</td>\n      <td>0.743145</td>\n      <td>0.669131</td>\n      <td>0.5</td>\n      <td>0.866025</td>\n      <td>0.0</td>\n      <td>1.0</td>\n    </tr>\n    <tr>\n      <th>8</th>\n      <td>1</td>\n      <td>False</td>\n      <td>0.004363</td>\n      <td>-0.999990</td>\n      <td>0.743145</td>\n      <td>0.669131</td>\n      <td>0.5</td>\n      <td>0.866025</td>\n      <td>0.0</td>\n      <td>1.0</td>\n    </tr>\n    <tr>\n      <th>9</th>\n      <td>4</td>\n      <td>False</td>\n      <td>0.618923</td>\n      <td>-0.785452</td>\n      <td>0.743145</td>\n      <td>0.669131</td>\n      <td>0.5</td>\n      <td>0.866025</td>\n      <td>0.0</td>\n      <td>1.0</td>\n    </tr>\n  </tbody>\n</table>\n</div>"
     },
     "execution_count": 6,
     "metadata": {},
     "output_type": "execute_result"
    }
   ],
   "source": [
    "df['location_id'] = df.groupby('location_id', sort=False).ngroup()\n",
    "df.head(10)"
   ],
   "metadata": {
    "collapsed": false,
    "pycharm": {
     "name": "#%%\n"
    }
   }
  },
  {
   "cell_type": "code",
   "execution_count": 7,
   "outputs": [],
   "source": [
    "mh = ModelHelper(df, 17)"
   ],
   "metadata": {
    "collapsed": false,
    "pycharm": {
     "name": "#%%\n"
    }
   }
  },
  {
   "cell_type": "code",
   "metadata": {
    "id": "Uzze3vF-R8OZ",
    "pycharm": {
     "name": "#%%\n"
    }
   },
   "source": [
    "mh.set_target_column_name('location_id')\n",
    "mh.set_vocab_size(vocab_size)\n",
    "numerical_column_names = ['start_hour_sin', 'start_hour_cos', 'weekend', 'week_day_sin', 'week_day_cos']\n",
    "column_names = ['location_id'] + numerical_column_names\n",
    "mh.set_column_names(column_names)\n",
    "mh.set_numerical_column_names(numerical_column_names)"
   ],
   "execution_count": 15,
   "outputs": []
  },
  {
   "cell_type": "code",
   "metadata": {
    "id": "YbQmLj9kSYqp",
    "colab": {
     "base_uri": "https://localhost:8080/",
     "height": 34
    },
    "outputId": "07af026d-8765-4323-8204-953df7b1eccc",
    "pycharm": {
     "name": "#%%\n"
    }
   },
   "source": [
    "# Call the function\n",
    "mh.train_val_test_split()\n",
    "print(len(mh.df_train), 'train examples')\n",
    "print(len(mh.df_val), 'validation examples')\n",
    "print(len(mh.df_test), 'test examples')"
   ],
   "execution_count": 16,
   "outputs": [
    {
     "name": "stdout",
     "output_type": "stream",
     "text": [
      "106009 train examples\n",
      "26503 validation examples\n",
      "33129 test examples\n"
     ]
    }
   ]
  },
  {
   "cell_type": "code",
   "metadata": {
    "id": "ltjLgzdf1LYY",
    "pycharm": {
     "name": "#%%\n"
    }
   },
   "source": [
    "mh.split_data()\n",
    "print(len(mh.list_test))\n",
    "mh.list_test[0]"
   ],
   "execution_count": 17,
   "outputs": [
    {
     "name": "stdout",
     "output_type": "stream",
     "text": [
      "1949\n"
     ]
    },
    {
     "data": {
      "text/plain": "        location_id  is_weekend  clock_sin  clock_cos   day_sin   day_cos  \\\n132512           34       False  -0.915429  -0.402480  0.951057 -0.309017   \n132513            8       False  -0.999767  -0.021597  0.951057 -0.309017   \n132514           15       False   0.186524  -0.982450  0.951057 -0.309017   \n132515            4       False  -0.694815  -0.719188  0.951057 -0.309017   \n132516            4       False  -0.865989   0.500063  0.994522 -0.104528   \n132517           12       False   0.216298  -0.976327  0.951057 -0.309017   \n132518           10       False  -0.026468  -0.999650  0.951057 -0.309017   \n132519           18       False  -0.978986   0.203927  0.951057 -0.309017   \n132520            8       False  -0.918734   0.394877  0.994522 -0.104528   \n132521            8       False  -0.995792   0.091646  0.951057 -0.309017   \n132522           15       False   0.346117  -0.938191  0.951057 -0.309017   \n132523            4       False  -0.973396  -0.229130  0.951057 -0.309017   \n132524            8       False  -0.207912  -0.978148  0.951057 -0.309017   \n132525            3       False  -0.457874  -0.889017  0.951057 -0.309017   \n132526           12       False   0.267028  -0.963689  0.951057 -0.309017   \n132527            4       False  -0.957655  -0.287918  0.951057 -0.309017   \n132528           11       False   0.043547  -0.999051  0.951057 -0.309017   \n\n        month_sin  month_cos  week_day_sin  week_day_cos  \n132512       -0.5  -0.866025     -0.433884     -0.900969  \n132513       -0.5  -0.866025     -0.433884     -0.900969  \n132514       -0.5  -0.866025     -0.433884     -0.900969  \n132515       -0.5  -0.866025     -0.433884     -0.900969  \n132516       -0.5  -0.866025      0.433884     -0.900969  \n132517       -0.5  -0.866025     -0.433884     -0.900969  \n132518       -0.5  -0.866025     -0.433884     -0.900969  \n132519       -0.5  -0.866025     -0.433884     -0.900969  \n132520       -0.5  -0.866025      0.433884     -0.900969  \n132521       -0.5  -0.866025     -0.433884     -0.900969  \n132522       -0.5  -0.866025     -0.433884     -0.900969  \n132523       -0.5  -0.866025     -0.433884     -0.900969  \n132524       -0.5  -0.866025     -0.433884     -0.900969  \n132525       -0.5  -0.866025     -0.433884     -0.900969  \n132526       -0.5  -0.866025     -0.433884     -0.900969  \n132527       -0.5  -0.866025     -0.433884     -0.900969  \n132528       -0.5  -0.866025     -0.433884     -0.900969  ",
      "text/html": "<div>\n<style scoped>\n    .dataframe tbody tr th:only-of-type {\n        vertical-align: middle;\n    }\n\n    .dataframe tbody tr th {\n        vertical-align: top;\n    }\n\n    .dataframe thead th {\n        text-align: right;\n    }\n</style>\n<table border=\"1\" class=\"dataframe\">\n  <thead>\n    <tr style=\"text-align: right;\">\n      <th></th>\n      <th>location_id</th>\n      <th>is_weekend</th>\n      <th>clock_sin</th>\n      <th>clock_cos</th>\n      <th>day_sin</th>\n      <th>day_cos</th>\n      <th>month_sin</th>\n      <th>month_cos</th>\n      <th>week_day_sin</th>\n      <th>week_day_cos</th>\n    </tr>\n  </thead>\n  <tbody>\n    <tr>\n      <th>132512</th>\n      <td>34</td>\n      <td>False</td>\n      <td>-0.915429</td>\n      <td>-0.402480</td>\n      <td>0.951057</td>\n      <td>-0.309017</td>\n      <td>-0.5</td>\n      <td>-0.866025</td>\n      <td>-0.433884</td>\n      <td>-0.900969</td>\n    </tr>\n    <tr>\n      <th>132513</th>\n      <td>8</td>\n      <td>False</td>\n      <td>-0.999767</td>\n      <td>-0.021597</td>\n      <td>0.951057</td>\n      <td>-0.309017</td>\n      <td>-0.5</td>\n      <td>-0.866025</td>\n      <td>-0.433884</td>\n      <td>-0.900969</td>\n    </tr>\n    <tr>\n      <th>132514</th>\n      <td>15</td>\n      <td>False</td>\n      <td>0.186524</td>\n      <td>-0.982450</td>\n      <td>0.951057</td>\n      <td>-0.309017</td>\n      <td>-0.5</td>\n      <td>-0.866025</td>\n      <td>-0.433884</td>\n      <td>-0.900969</td>\n    </tr>\n    <tr>\n      <th>132515</th>\n      <td>4</td>\n      <td>False</td>\n      <td>-0.694815</td>\n      <td>-0.719188</td>\n      <td>0.951057</td>\n      <td>-0.309017</td>\n      <td>-0.5</td>\n      <td>-0.866025</td>\n      <td>-0.433884</td>\n      <td>-0.900969</td>\n    </tr>\n    <tr>\n      <th>132516</th>\n      <td>4</td>\n      <td>False</td>\n      <td>-0.865989</td>\n      <td>0.500063</td>\n      <td>0.994522</td>\n      <td>-0.104528</td>\n      <td>-0.5</td>\n      <td>-0.866025</td>\n      <td>0.433884</td>\n      <td>-0.900969</td>\n    </tr>\n    <tr>\n      <th>132517</th>\n      <td>12</td>\n      <td>False</td>\n      <td>0.216298</td>\n      <td>-0.976327</td>\n      <td>0.951057</td>\n      <td>-0.309017</td>\n      <td>-0.5</td>\n      <td>-0.866025</td>\n      <td>-0.433884</td>\n      <td>-0.900969</td>\n    </tr>\n    <tr>\n      <th>132518</th>\n      <td>10</td>\n      <td>False</td>\n      <td>-0.026468</td>\n      <td>-0.999650</td>\n      <td>0.951057</td>\n      <td>-0.309017</td>\n      <td>-0.5</td>\n      <td>-0.866025</td>\n      <td>-0.433884</td>\n      <td>-0.900969</td>\n    </tr>\n    <tr>\n      <th>132519</th>\n      <td>18</td>\n      <td>False</td>\n      <td>-0.978986</td>\n      <td>0.203927</td>\n      <td>0.951057</td>\n      <td>-0.309017</td>\n      <td>-0.5</td>\n      <td>-0.866025</td>\n      <td>-0.433884</td>\n      <td>-0.900969</td>\n    </tr>\n    <tr>\n      <th>132520</th>\n      <td>8</td>\n      <td>False</td>\n      <td>-0.918734</td>\n      <td>0.394877</td>\n      <td>0.994522</td>\n      <td>-0.104528</td>\n      <td>-0.5</td>\n      <td>-0.866025</td>\n      <td>0.433884</td>\n      <td>-0.900969</td>\n    </tr>\n    <tr>\n      <th>132521</th>\n      <td>8</td>\n      <td>False</td>\n      <td>-0.995792</td>\n      <td>0.091646</td>\n      <td>0.951057</td>\n      <td>-0.309017</td>\n      <td>-0.5</td>\n      <td>-0.866025</td>\n      <td>-0.433884</td>\n      <td>-0.900969</td>\n    </tr>\n    <tr>\n      <th>132522</th>\n      <td>15</td>\n      <td>False</td>\n      <td>0.346117</td>\n      <td>-0.938191</td>\n      <td>0.951057</td>\n      <td>-0.309017</td>\n      <td>-0.5</td>\n      <td>-0.866025</td>\n      <td>-0.433884</td>\n      <td>-0.900969</td>\n    </tr>\n    <tr>\n      <th>132523</th>\n      <td>4</td>\n      <td>False</td>\n      <td>-0.973396</td>\n      <td>-0.229130</td>\n      <td>0.951057</td>\n      <td>-0.309017</td>\n      <td>-0.5</td>\n      <td>-0.866025</td>\n      <td>-0.433884</td>\n      <td>-0.900969</td>\n    </tr>\n    <tr>\n      <th>132524</th>\n      <td>8</td>\n      <td>False</td>\n      <td>-0.207912</td>\n      <td>-0.978148</td>\n      <td>0.951057</td>\n      <td>-0.309017</td>\n      <td>-0.5</td>\n      <td>-0.866025</td>\n      <td>-0.433884</td>\n      <td>-0.900969</td>\n    </tr>\n    <tr>\n      <th>132525</th>\n      <td>3</td>\n      <td>False</td>\n      <td>-0.457874</td>\n      <td>-0.889017</td>\n      <td>0.951057</td>\n      <td>-0.309017</td>\n      <td>-0.5</td>\n      <td>-0.866025</td>\n      <td>-0.433884</td>\n      <td>-0.900969</td>\n    </tr>\n    <tr>\n      <th>132526</th>\n      <td>12</td>\n      <td>False</td>\n      <td>0.267028</td>\n      <td>-0.963689</td>\n      <td>0.951057</td>\n      <td>-0.309017</td>\n      <td>-0.5</td>\n      <td>-0.866025</td>\n      <td>-0.433884</td>\n      <td>-0.900969</td>\n    </tr>\n    <tr>\n      <th>132527</th>\n      <td>4</td>\n      <td>False</td>\n      <td>-0.957655</td>\n      <td>-0.287918</td>\n      <td>0.951057</td>\n      <td>-0.309017</td>\n      <td>-0.5</td>\n      <td>-0.866025</td>\n      <td>-0.433884</td>\n      <td>-0.900969</td>\n    </tr>\n    <tr>\n      <th>132528</th>\n      <td>11</td>\n      <td>False</td>\n      <td>0.043547</td>\n      <td>-0.999051</td>\n      <td>0.951057</td>\n      <td>-0.309017</td>\n      <td>-0.5</td>\n      <td>-0.866025</td>\n      <td>-0.433884</td>\n      <td>-0.900969</td>\n    </tr>\n  </tbody>\n</table>\n</div>"
     },
     "execution_count": 17,
     "metadata": {},
     "output_type": "execute_result"
    }
   ]
  },
  {
   "cell_type": "code",
   "metadata": {
    "id": "sEMnEoqY9CAv",
    "colab": {
     "base_uri": "https://localhost:8080/",
     "height": 68
    },
    "outputId": "37048dd7-05ce-4780-fda7-70351e948503",
    "pycharm": {
     "name": "#%%\n"
    }
   },
   "source": [
    "mh.set_batch_size(16)\n",
    "mh.create_batch_dataset_cin()\n",
    "mh.test_dataset"
   ],
   "execution_count": 18,
   "outputs": [
    {
     "data": {
      "text/plain": "<BatchDataset shapes: ({start_place: (16, 16), start_hour_sin: (16, 16), start_hour_cos: (16, 16), weekend: (16, 16), week_day_sin: (16, 16), week_day_cos: (16, 16), end_hour_sin: (16,), end_hour_cos: (16,), end_weekend: (16,), end_week_day_sin: (16,), end_week_day_cos: (16,)}, (16,)), types: ({start_place: tf.int64, start_hour_sin: tf.float64, start_hour_cos: tf.float64, weekend: tf.bool, week_day_sin: tf.float64, week_day_cos: tf.float64, end_hour_sin: tf.float64, end_hour_cos: tf.float64, end_weekend: tf.bool, end_week_day_sin: tf.float64, end_week_day_cos: tf.float64}, tf.int64)>"
     },
     "execution_count": 18,
     "metadata": {},
     "output_type": "execute_result"
    }
   ]
  },
  {
   "cell_type": "code",
   "execution_count": 19,
   "outputs": [],
   "source": [
    "def sparse_f(input_dense):\n",
    "  zero = tf.constant(0, dtype=tf.float32)\n",
    "  indices = tf.where(tf.not_equal(input_dense, zero))\n",
    "  values = tf.gather_nd(input_dense, indices)\n",
    "  sparse = tf.SparseTensor(indices, values,  tf.cast(tf.shape(input_dense), dtype=tf.int64))\n",
    "  return sparse"
   ],
   "metadata": {
    "collapsed": false,
    "pycharm": {
     "name": "#%%\n"
    }
   }
  },
  {
   "cell_type": "code",
   "metadata": {
    "id": "bHDBtZVwYXWT",
    "pycharm": {
     "name": "#%%\n"
    }
   },
   "source": [
    "# The embedding dimension\n",
    "embedding_dim = 256\n",
    "\n",
    "# Number of RNN units\n",
    "rnn_units1 = 256\n",
    "rnn_units2 = 128\n",
    "\n",
    "# Create a model\n",
    "def create_model():\n",
    "  N = mh.total_window_length\n",
    "  batch_size = mh.batch_size\n",
    "  number_of_places = mh.vocab_size\n",
    "\n",
    "  # Shortcut to the layers package\n",
    "  l = tf.keras.layers\n",
    "\n",
    "  other_feature_inputs = {\n",
    "    'end_hour_sin': tf.keras.Input((1, ), batch_size=batch_size, name='end_hour_sin'),\n",
    "    'end_hour_cos': tf.keras.Input((1, ), batch_size=batch_size, name='end_hour_cos'),\n",
    "    'end_weekend': tf.keras.Input((1, ), batch_size=batch_size, name='end_weekend'),\n",
    "    'end_week_day_sin': tf.keras.Input((1, ), batch_size=batch_size, name='end_week_day_sin'),\n",
    "    'end_week_day_cos': tf.keras.Input((1, ), batch_size=batch_size, name='end_week_day_cos')\n",
    "  }\n",
    "\n",
    "  # List of numeric feature columns to pass to the DenseLayer\n",
    "  num_features = []\n",
    "  feature_inputs={}\n",
    "  # Handling numerical columns\n",
    "  for header in mh.numerical_column_names:\n",
    "    input = tf.keras.Input((N-1,), dtype=tf.dtypes.float32, batch_size=batch_size, name=header)\n",
    "    feature_inputs[header] = input\n",
    "    f =  feature_column.sequence_numeric_column(header, shape=(N-1), dtype=tf.dtypes.float32)\n",
    "    sparse_input = tf.keras.layers.Lambda(sparse_f)(input)\n",
    "    feature, sequence_length = tf.keras.experimental.SequenceFeatures(f)({header: sparse_input})\n",
    "    feature = tf.reshape(feature, (sparse_input.shape[0], sparse_input.shape[1], 1))\n",
    "    num_features.append(feature)\n",
    "\n",
    "  end_hour_sin = feature_column.numeric_column(\"end_hour_sin\", shape=(1))\n",
    "  end_hour_sin_feature = l.DenseFeatures(end_hour_sin)(other_feature_inputs)\n",
    "\n",
    "  end_hour_cos = feature_column.numeric_column(\"end_hour_cos\", shape=(1))\n",
    "  end_hour_cos_feature = l.DenseFeatures(end_hour_cos)(other_feature_inputs)\n",
    "\n",
    "  end_weekend = feature_column.numeric_column(\"end_weekend\", shape=(1))\n",
    "  end_weekend_feature = l.DenseFeatures(end_weekend)(other_feature_inputs)\n",
    "\n",
    "  end_week_day_sin = feature_column.numeric_column(\"end_week_day_sin\", shape=(1))\n",
    "  end_week_day_sin_feature = l.DenseFeatures(end_week_day_sin)(other_feature_inputs)\n",
    "\n",
    "  end_week_day_cos = feature_column.numeric_column(\"end_week_day_cos\", shape=(1))\n",
    "  end_week_day_cos_feature = l.DenseFeatures(end_week_day_cos)(other_feature_inputs)\n",
    "\n",
    "\n",
    "  # Declare the dictionary for the places sequence as before\n",
    "  sequence_input = {\n",
    "      'location_id': tf.keras.Input((N-1,), batch_size=batch_size, dtype=tf.dtypes.int32, name='location_id') # add batch_size=batch_size in case of stateful GRU\n",
    "  }\n",
    "\n",
    "\n",
    "  # Handling the categorical feature sequence using one-hot\n",
    "  places_one_hot = feature_column.sequence_categorical_column_with_vocabulary_list(\n",
    "      'location_id', [i for i in range(number_of_places)])\n",
    "\n",
    "  # Embed the one-hot encoding\n",
    "  places_embed = feature_column.embedding_column(places_one_hot, embedding_dim)\n",
    "\n",
    "\n",
    "  # With an input sequence we can't use the DenseFeature layer, we need to use the SequenceFeatures\n",
    "  sequence_features, sequence_length = tf.keras.experimental.SequenceFeatures(places_embed)(sequence_input)\n",
    "\n",
    "  input_sequence = l.Concatenate(axis=2)([sequence_features] + num_features)\n",
    "\n",
    "  # Rnn\n",
    "  recurrent = l.GRU(rnn_units1,\n",
    "                        batch_size=batch_size, #in case of stateful\n",
    "                        return_sequences=True,\n",
    "                        stateful=True,\n",
    "                        recurrent_initializer='glorot_uniform')(input_sequence)\n",
    "\n",
    "  recurrent_2 = l.GRU(rnn_units2,\n",
    "                        batch_size=batch_size, #in case of stateful\n",
    "                        stateful=True,\n",
    "                        recurrent_initializer='glorot_uniform')(recurrent)\n",
    "\n",
    "\n",
    "  flatten = l.Flatten()(recurrent_2)\n",
    "\n",
    "  concatenate_2 = l.Concatenate(axis=1)([flatten, end_hour_sin_feature, end_hour_cos_feature, end_weekend_feature, end_week_day_sin_feature, end_week_day_cos_feature])\n",
    "\n",
    "  # Last layer with an output for each places\n",
    "  dense_1 = layers.Dense(number_of_places)(concatenate_2)\n",
    "\n",
    "\t# Softmax output layer\n",
    "  output = l.Softmax()(dense_1)\n",
    "\n",
    "  # To return the Model, we need to define its inputs and outputs\n",
    "  # In out case, we need to list all the input layers we have defined\n",
    "  inputs = list(other_feature_inputs.values()) + list(feature_inputs.values()) + list(sequence_input.values())\n",
    "\n",
    "  # Return the Model\n",
    "  return tf.keras.Model(inputs=inputs, outputs=output)"
   ],
   "execution_count": 28,
   "outputs": []
  },
  {
   "cell_type": "code",
   "execution_count": 29,
   "outputs": [],
   "source": [
    "# Get the model and compile it\n",
    "mh.assign_model(create_model())\n",
    "mh.compile_model()"
   ],
   "metadata": {
    "collapsed": false,
    "pycharm": {
     "name": "#%%\n"
    }
   }
  },
  {
   "cell_type": "markdown",
   "metadata": {
    "id": "JLTlfunoO0Yd",
    "pycharm": {
     "name": "#%% md\n"
    }
   },
   "source": []
  },
  {
   "cell_type": "code",
   "execution_count": 30,
   "outputs": [
    {
     "name": "stdout",
     "output_type": "stream",
     "text": [
      "Model: \"functional_5\"\n",
      "__________________________________________________________________________________________________\n",
      "Layer (type)                    Output Shape         Param #     Connected to                     \n",
      "==================================================================================================\n",
      "start_hour_sin (InputLayer)     [(16, 16)]           0                                            \n",
      "__________________________________________________________________________________________________\n",
      "start_hour_cos (InputLayer)     [(16, 16)]           0                                            \n",
      "__________________________________________________________________________________________________\n",
      "weekend (InputLayer)            [(16, 16)]           0                                            \n",
      "__________________________________________________________________________________________________\n",
      "week_day_sin (InputLayer)       [(16, 16)]           0                                            \n",
      "__________________________________________________________________________________________________\n",
      "week_day_cos (InputLayer)       [(16, 16)]           0                                            \n",
      "__________________________________________________________________________________________________\n",
      "lambda_10 (Lambda)              (16, 16)             0           start_hour_sin[0][0]             \n",
      "__________________________________________________________________________________________________\n",
      "lambda_11 (Lambda)              (16, 16)             0           start_hour_cos[0][0]             \n",
      "__________________________________________________________________________________________________\n",
      "lambda_12 (Lambda)              (16, 16)             0           weekend[0][0]                    \n",
      "__________________________________________________________________________________________________\n",
      "lambda_13 (Lambda)              (16, 16)             0           week_day_sin[0][0]               \n",
      "__________________________________________________________________________________________________\n",
      "lambda_14 (Lambda)              (16, 16)             0           week_day_cos[0][0]               \n",
      "__________________________________________________________________________________________________\n",
      "location_id (InputLayer)        [(16, 16)]           0                                            \n",
      "__________________________________________________________________________________________________\n",
      "sequence_features_12 (SequenceF ((16, 1, 16), (None, 0           lambda_10[0][0]                  \n",
      "__________________________________________________________________________________________________\n",
      "sequence_features_13 (SequenceF ((16, 1, 16), (None, 0           lambda_11[0][0]                  \n",
      "__________________________________________________________________________________________________\n",
      "sequence_features_14 (SequenceF ((16, 1, 16), (None, 0           lambda_12[0][0]                  \n",
      "__________________________________________________________________________________________________\n",
      "sequence_features_15 (SequenceF ((16, 1, 16), (None, 0           lambda_13[0][0]                  \n",
      "__________________________________________________________________________________________________\n",
      "sequence_features_16 (SequenceF ((16, 1, 16), (None, 0           lambda_14[0][0]                  \n",
      "__________________________________________________________________________________________________\n",
      "sequence_features_17 (SequenceF ((None, None, 256),  12032       location_id[0][0]                \n",
      "__________________________________________________________________________________________________\n",
      "tf_op_layer_Reshape_10 (TensorF [(16, 16, 1)]        0           sequence_features_12[0][0]       \n",
      "__________________________________________________________________________________________________\n",
      "tf_op_layer_Reshape_11 (TensorF [(16, 16, 1)]        0           sequence_features_13[0][0]       \n",
      "__________________________________________________________________________________________________\n",
      "tf_op_layer_Reshape_12 (TensorF [(16, 16, 1)]        0           sequence_features_14[0][0]       \n",
      "__________________________________________________________________________________________________\n",
      "tf_op_layer_Reshape_13 (TensorF [(16, 16, 1)]        0           sequence_features_15[0][0]       \n",
      "__________________________________________________________________________________________________\n",
      "tf_op_layer_Reshape_14 (TensorF [(16, 16, 1)]        0           sequence_features_16[0][0]       \n",
      "__________________________________________________________________________________________________\n",
      "concatenate_4 (Concatenate)     (16, 16, 261)        0           sequence_features_17[0][0]       \n",
      "                                                                 tf_op_layer_Reshape_10[0][0]     \n",
      "                                                                 tf_op_layer_Reshape_11[0][0]     \n",
      "                                                                 tf_op_layer_Reshape_12[0][0]     \n",
      "                                                                 tf_op_layer_Reshape_13[0][0]     \n",
      "                                                                 tf_op_layer_Reshape_14[0][0]     \n",
      "__________________________________________________________________________________________________\n",
      "gru_4 (GRU)                     (16, 16, 256)        398592      concatenate_4[0][0]              \n",
      "__________________________________________________________________________________________________\n",
      "gru_5 (GRU)                     (16, 128)            148224      gru_4[0][0]                      \n",
      "__________________________________________________________________________________________________\n",
      "end_hour_cos (InputLayer)       [(16, 1)]            0                                            \n",
      "__________________________________________________________________________________________________\n",
      "end_hour_sin (InputLayer)       [(16, 1)]            0                                            \n",
      "__________________________________________________________________________________________________\n",
      "end_week_day_cos (InputLayer)   [(16, 1)]            0                                            \n",
      "__________________________________________________________________________________________________\n",
      "end_week_day_sin (InputLayer)   [(16, 1)]            0                                            \n",
      "__________________________________________________________________________________________________\n",
      "end_weekend (InputLayer)        [(16, 1)]            0                                            \n",
      "__________________________________________________________________________________________________\n",
      "flatten_2 (Flatten)             (16, 128)            0           gru_5[0][0]                      \n",
      "__________________________________________________________________________________________________\n",
      "dense_features_10 (DenseFeature (16, 1)              0           end_hour_cos[0][0]               \n",
      "                                                                 end_hour_sin[0][0]               \n",
      "                                                                 end_week_day_cos[0][0]           \n",
      "                                                                 end_week_day_sin[0][0]           \n",
      "                                                                 end_weekend[0][0]                \n",
      "__________________________________________________________________________________________________\n",
      "dense_features_11 (DenseFeature (16, 1)              0           end_hour_cos[0][0]               \n",
      "                                                                 end_hour_sin[0][0]               \n",
      "                                                                 end_week_day_cos[0][0]           \n",
      "                                                                 end_week_day_sin[0][0]           \n",
      "                                                                 end_weekend[0][0]                \n",
      "__________________________________________________________________________________________________\n",
      "dense_features_12 (DenseFeature (16, 1)              0           end_hour_cos[0][0]               \n",
      "                                                                 end_hour_sin[0][0]               \n",
      "                                                                 end_week_day_cos[0][0]           \n",
      "                                                                 end_week_day_sin[0][0]           \n",
      "                                                                 end_weekend[0][0]                \n",
      "__________________________________________________________________________________________________\n",
      "dense_features_13 (DenseFeature (16, 1)              0           end_hour_cos[0][0]               \n",
      "                                                                 end_hour_sin[0][0]               \n",
      "                                                                 end_week_day_cos[0][0]           \n",
      "                                                                 end_week_day_sin[0][0]           \n",
      "                                                                 end_weekend[0][0]                \n",
      "__________________________________________________________________________________________________\n",
      "dense_features_14 (DenseFeature (16, 1)              0           end_hour_cos[0][0]               \n",
      "                                                                 end_hour_sin[0][0]               \n",
      "                                                                 end_week_day_cos[0][0]           \n",
      "                                                                 end_week_day_sin[0][0]           \n",
      "                                                                 end_weekend[0][0]                \n",
      "__________________________________________________________________________________________________\n",
      "concatenate_5 (Concatenate)     (16, 133)            0           flatten_2[0][0]                  \n",
      "                                                                 dense_features_10[0][0]          \n",
      "                                                                 dense_features_11[0][0]          \n",
      "                                                                 dense_features_12[0][0]          \n",
      "                                                                 dense_features_13[0][0]          \n",
      "                                                                 dense_features_14[0][0]          \n",
      "__________________________________________________________________________________________________\n",
      "dense_2 (Dense)                 (16, 47)             6298        concatenate_5[0][0]              \n",
      "__________________________________________________________________________________________________\n",
      "softmax_2 (Softmax)             (16, 47)             0           dense_2[0][0]                    \n",
      "==================================================================================================\n",
      "Total params: 565,146\n",
      "Trainable params: 565,146\n",
      "Non-trainable params: 0\n",
      "__________________________________________________________________________________________________\n"
     ]
    }
   ],
   "source": [
    "mh.model.summary()"
   ],
   "metadata": {
    "collapsed": false,
    "pycharm": {
     "name": "#%%\n"
    }
   }
  },
  {
   "cell_type": "code",
   "execution_count": 31,
   "outputs": [
    {
     "name": "stdout",
     "output_type": "stream",
     "text": [
      "Epoch 1/10\n",
      "389/389 [==============================] - 6s 15ms/step - loss: 2.4377 - sparse_categorical_accuracy: 0.2331 - val_loss: 2.5542 - val_sparse_categorical_accuracy: 0.2500\n",
      "Epoch 2/10\n",
      "389/389 [==============================] - 5s 13ms/step - loss: 2.2492 - sparse_categorical_accuracy: 0.2600 - val_loss: 2.4350 - val_sparse_categorical_accuracy: 0.2610\n",
      "Epoch 3/10\n",
      "389/389 [==============================] - 5s 13ms/step - loss: 2.1576 - sparse_categorical_accuracy: 0.2820 - val_loss: 2.3762 - val_sparse_categorical_accuracy: 0.2545\n",
      "Epoch 4/10\n",
      "389/389 [==============================] - 6s 14ms/step - loss: 2.0893 - sparse_categorical_accuracy: 0.2932 - val_loss: 2.3615 - val_sparse_categorical_accuracy: 0.2584\n",
      "Epoch 5/10\n",
      "389/389 [==============================] - 5s 13ms/step - loss: 2.0356 - sparse_categorical_accuracy: 0.3043 - val_loss: 2.3262 - val_sparse_categorical_accuracy: 0.2642\n",
      "Epoch 6/10\n",
      "389/389 [==============================] - 5s 13ms/step - loss: 1.9849 - sparse_categorical_accuracy: 0.3128 - val_loss: 2.3229 - val_sparse_categorical_accuracy: 0.2751\n",
      "Epoch 7/10\n",
      "389/389 [==============================] - 5s 13ms/step - loss: 1.9428 - sparse_categorical_accuracy: 0.3213 - val_loss: 2.3611 - val_sparse_categorical_accuracy: 0.2693\n",
      "Epoch 8/10\n",
      "389/389 [==============================] - 6s 15ms/step - loss: 1.8992 - sparse_categorical_accuracy: 0.3299 - val_loss: 2.3944 - val_sparse_categorical_accuracy: 0.2674\n",
      "Epoch 9/10\n",
      "388/389 [============================>.] - ETA: 0s - loss: 1.8719 - sparse_categorical_accuracy: 0.3339Restoring model weights from the end of the best epoch.\n",
      "389/389 [==============================] - 6s 14ms/step - loss: 1.8725 - sparse_categorical_accuracy: 0.3339 - val_loss: 2.4229 - val_sparse_categorical_accuracy: 0.2700\n",
      "Epoch 00009: early stopping\n"
     ]
    }
   ],
   "source": [
    "mh.set_num_epochs(10)\n",
    "mh.fit_model()"
   ],
   "metadata": {
    "collapsed": false,
    "pycharm": {
     "name": "#%%\n"
    }
   }
  },
  {
   "cell_type": "markdown",
   "source": [
    "# Evaluation"
   ],
   "metadata": {
    "collapsed": false,
    "pycharm": {
     "name": "#%% md\n"
    }
   }
  },
  {
   "cell_type": "code",
   "execution_count": 32,
   "outputs": [
    {
     "name": "stdout",
     "output_type": "stream",
     "text": [
      "121/121 [==============================] - 0s 4ms/step - loss: 2.3032 - sparse_categorical_accuracy: 0.2805\n"
     ]
    }
   ],
   "source": [
    "mh.evaluate_model()"
   ],
   "metadata": {
    "collapsed": false,
    "pycharm": {
     "name": "#%%\n"
    }
   }
  },
  {
   "cell_type": "code",
   "execution_count": 33,
   "outputs": [
    {
     "name": "stdout",
     "output_type": "stream",
     "text": [
      "Model: \"functional_5\"\n",
      "__________________________________________________________________________________________________\n",
      "Layer (type)                    Output Shape         Param #     Connected to                     \n",
      "==================================================================================================\n",
      "start_hour_sin (InputLayer)     [(16, 16)]           0                                            \n",
      "__________________________________________________________________________________________________\n",
      "start_hour_cos (InputLayer)     [(16, 16)]           0                                            \n",
      "__________________________________________________________________________________________________\n",
      "weekend (InputLayer)            [(16, 16)]           0                                            \n",
      "__________________________________________________________________________________________________\n",
      "week_day_sin (InputLayer)       [(16, 16)]           0                                            \n",
      "__________________________________________________________________________________________________\n",
      "week_day_cos (InputLayer)       [(16, 16)]           0                                            \n",
      "__________________________________________________________________________________________________\n",
      "lambda_10 (Lambda)              (16, 16)             0           start_hour_sin[0][0]             \n",
      "__________________________________________________________________________________________________\n",
      "lambda_11 (Lambda)              (16, 16)             0           start_hour_cos[0][0]             \n",
      "__________________________________________________________________________________________________\n",
      "lambda_12 (Lambda)              (16, 16)             0           weekend[0][0]                    \n",
      "__________________________________________________________________________________________________\n",
      "lambda_13 (Lambda)              (16, 16)             0           week_day_sin[0][0]               \n",
      "__________________________________________________________________________________________________\n",
      "lambda_14 (Lambda)              (16, 16)             0           week_day_cos[0][0]               \n",
      "__________________________________________________________________________________________________\n",
      "location_id (InputLayer)        [(16, 16)]           0                                            \n",
      "__________________________________________________________________________________________________\n",
      "sequence_features_12 (SequenceF ((16, 1, 16), (None, 0           lambda_10[0][0]                  \n",
      "__________________________________________________________________________________________________\n",
      "sequence_features_13 (SequenceF ((16, 1, 16), (None, 0           lambda_11[0][0]                  \n",
      "__________________________________________________________________________________________________\n",
      "sequence_features_14 (SequenceF ((16, 1, 16), (None, 0           lambda_12[0][0]                  \n",
      "__________________________________________________________________________________________________\n",
      "sequence_features_15 (SequenceF ((16, 1, 16), (None, 0           lambda_13[0][0]                  \n",
      "__________________________________________________________________________________________________\n",
      "sequence_features_16 (SequenceF ((16, 1, 16), (None, 0           lambda_14[0][0]                  \n",
      "__________________________________________________________________________________________________\n",
      "sequence_features_17 (SequenceF ((None, None, 256),  12032       location_id[0][0]                \n",
      "__________________________________________________________________________________________________\n",
      "tf_op_layer_Reshape_10 (TensorF [(16, 16, 1)]        0           sequence_features_12[0][0]       \n",
      "__________________________________________________________________________________________________\n",
      "tf_op_layer_Reshape_11 (TensorF [(16, 16, 1)]        0           sequence_features_13[0][0]       \n",
      "__________________________________________________________________________________________________\n",
      "tf_op_layer_Reshape_12 (TensorF [(16, 16, 1)]        0           sequence_features_14[0][0]       \n",
      "__________________________________________________________________________________________________\n",
      "tf_op_layer_Reshape_13 (TensorF [(16, 16, 1)]        0           sequence_features_15[0][0]       \n",
      "__________________________________________________________________________________________________\n",
      "tf_op_layer_Reshape_14 (TensorF [(16, 16, 1)]        0           sequence_features_16[0][0]       \n",
      "__________________________________________________________________________________________________\n",
      "concatenate_4 (Concatenate)     (16, 16, 261)        0           sequence_features_17[0][0]       \n",
      "                                                                 tf_op_layer_Reshape_10[0][0]     \n",
      "                                                                 tf_op_layer_Reshape_11[0][0]     \n",
      "                                                                 tf_op_layer_Reshape_12[0][0]     \n",
      "                                                                 tf_op_layer_Reshape_13[0][0]     \n",
      "                                                                 tf_op_layer_Reshape_14[0][0]     \n",
      "__________________________________________________________________________________________________\n",
      "gru_4 (GRU)                     (16, 16, 256)        398592      concatenate_4[0][0]              \n",
      "__________________________________________________________________________________________________\n",
      "gru_5 (GRU)                     (16, 128)            148224      gru_4[0][0]                      \n",
      "__________________________________________________________________________________________________\n",
      "end_hour_cos (InputLayer)       [(16, 1)]            0                                            \n",
      "__________________________________________________________________________________________________\n",
      "end_hour_sin (InputLayer)       [(16, 1)]            0                                            \n",
      "__________________________________________________________________________________________________\n",
      "end_week_day_cos (InputLayer)   [(16, 1)]            0                                            \n",
      "__________________________________________________________________________________________________\n",
      "end_week_day_sin (InputLayer)   [(16, 1)]            0                                            \n",
      "__________________________________________________________________________________________________\n",
      "end_weekend (InputLayer)        [(16, 1)]            0                                            \n",
      "__________________________________________________________________________________________________\n",
      "flatten_2 (Flatten)             (16, 128)            0           gru_5[0][0]                      \n",
      "__________________________________________________________________________________________________\n",
      "dense_features_10 (DenseFeature (16, 1)              0           end_hour_cos[0][0]               \n",
      "                                                                 end_hour_sin[0][0]               \n",
      "                                                                 end_week_day_cos[0][0]           \n",
      "                                                                 end_week_day_sin[0][0]           \n",
      "                                                                 end_weekend[0][0]                \n",
      "__________________________________________________________________________________________________\n",
      "dense_features_11 (DenseFeature (16, 1)              0           end_hour_cos[0][0]               \n",
      "                                                                 end_hour_sin[0][0]               \n",
      "                                                                 end_week_day_cos[0][0]           \n",
      "                                                                 end_week_day_sin[0][0]           \n",
      "                                                                 end_weekend[0][0]                \n",
      "__________________________________________________________________________________________________\n",
      "dense_features_12 (DenseFeature (16, 1)              0           end_hour_cos[0][0]               \n",
      "                                                                 end_hour_sin[0][0]               \n",
      "                                                                 end_week_day_cos[0][0]           \n",
      "                                                                 end_week_day_sin[0][0]           \n",
      "                                                                 end_weekend[0][0]                \n",
      "__________________________________________________________________________________________________\n",
      "dense_features_13 (DenseFeature (16, 1)              0           end_hour_cos[0][0]               \n",
      "                                                                 end_hour_sin[0][0]               \n",
      "                                                                 end_week_day_cos[0][0]           \n",
      "                                                                 end_week_day_sin[0][0]           \n",
      "                                                                 end_weekend[0][0]                \n",
      "__________________________________________________________________________________________________\n",
      "dense_features_14 (DenseFeature (16, 1)              0           end_hour_cos[0][0]               \n",
      "                                                                 end_hour_sin[0][0]               \n",
      "                                                                 end_week_day_cos[0][0]           \n",
      "                                                                 end_week_day_sin[0][0]           \n",
      "                                                                 end_weekend[0][0]                \n",
      "__________________________________________________________________________________________________\n",
      "concatenate_5 (Concatenate)     (16, 133)            0           flatten_2[0][0]                  \n",
      "                                                                 dense_features_10[0][0]          \n",
      "                                                                 dense_features_11[0][0]          \n",
      "                                                                 dense_features_12[0][0]          \n",
      "                                                                 dense_features_13[0][0]          \n",
      "                                                                 dense_features_14[0][0]          \n",
      "__________________________________________________________________________________________________\n",
      "dense_2 (Dense)                 (16, 47)             6298        concatenate_5[0][0]              \n",
      "__________________________________________________________________________________________________\n",
      "softmax_2 (Softmax)             (16, 47)             0           dense_2[0][0]                    \n",
      "==================================================================================================\n",
      "Total params: 565,146\n",
      "Trainable params: 565,146\n",
      "Non-trainable params: 0\n",
      "__________________________________________________________________________________________________\n"
     ]
    }
   ],
   "source": [
    "mh.model.summary()"
   ],
   "metadata": {
    "collapsed": false,
    "pycharm": {
     "name": "#%%\n"
    }
   }
  },
  {
   "cell_type": "code",
   "execution_count": 34,
   "outputs": [
    {
     "name": "stdout",
     "output_type": "stream",
     "text": [
      "logits\n",
      "Shape :  (1936, 47)\n",
      "Example [0] :  [1.57704458e-01 3.10565275e-03 2.65862197e-02 2.65136659e-02\n",
      " 1.94100678e-01 1.31298788e-03 2.31216941e-02 8.71297438e-03\n",
      " 2.63458371e-01 3.56368460e-02 2.54922286e-02 7.74704665e-03\n",
      " 2.17520706e-02 6.62570761e-04 1.05308294e-02 1.82004534e-02\n",
      " 1.99298447e-04 1.31864613e-02 1.46502569e-01 3.01128626e-03\n",
      " 2.01009517e-03 6.26325491e-04 4.22046151e-06 3.00164946e-04\n",
      " 1.17898197e-03 1.04657176e-03 3.63969375e-05 8.25707139e-06\n",
      " 4.53654589e-04 5.39265864e-04 2.09326899e-04 4.48016726e-05\n",
      " 1.62637971e-05 1.52031571e-04 2.16269041e-06 6.15412660e-04\n",
      " 6.15839162e-05 7.63357602e-05 1.95857792e-04 4.70457817e-05\n",
      " 2.81296950e-03 1.08262375e-05 4.35253663e-04 1.55354117e-03\n",
      " 5.89341380e-06 3.53395649e-06 1.50701135e-05]\n",
      "predictions\n",
      "Shape :  (1936, 47)\n",
      "Example [0] :  tf.Tensor(\n",
      "[0.02434894 0.02086117 0.0213568  0.02135525 0.02525147 0.02082381\n",
      " 0.02128294 0.02097847 0.02706502 0.02155097 0.02133345 0.02095822\n",
      " 0.02125381 0.02081027 0.02101664 0.02117845 0.02080063 0.02107253\n",
      " 0.02407771 0.0208592  0.02083833 0.02080951 0.02079657 0.02080273\n",
      " 0.02082102 0.02081826 0.02079724 0.02079665 0.02080592 0.0208077\n",
      " 0.02080084 0.02079741 0.02079682 0.02079964 0.02079653 0.02080929\n",
      " 0.02079776 0.02079807 0.02080056 0.02079746 0.02085507 0.02079671\n",
      " 0.02080554 0.02082882 0.0207966  0.02079656 0.0207968 ], shape=(47,), dtype=float32)\n",
      "predicted_classes\n",
      "Shape :  (1936,)\n",
      "Example [0] :  8\n",
      "actual_values\n",
      "Shape :  (1936,)\n",
      "Example [0] :  11\n",
      "diff\n",
      "Shape :  (1936,)\n",
      "Example [0] :  3\n",
      "Prediction # 0\n",
      "Actual values:  11\n",
      "Predicted values:  8\n",
      "Prediction # 1\n",
      "Actual values:  0\n",
      "Predicted values:  0\n",
      "Prediction # 2\n",
      "Actual values:  15\n",
      "Predicted values:  0\n",
      "Prediction # 3\n",
      "Actual values:  0\n",
      "Predicted values:  0\n",
      "Prediction # 4\n",
      "Actual values:  8\n",
      "Predicted values:  8\n",
      "Prediction # 5\n",
      "Actual values:  20\n",
      "Predicted values:  4\n",
      "Prediction # 6\n",
      "Actual values:  17\n",
      "Predicted values:  8\n",
      "Prediction # 7\n",
      "Actual values:  0\n",
      "Predicted values:  0\n",
      "Prediction # 8\n",
      "Actual values:  0\n",
      "Predicted values:  0\n",
      "Prediction # 9\n",
      "Actual values:  8\n",
      "Predicted values:  4\n",
      "Prediction # 10\n",
      "Actual values:  15\n",
      "Predicted values:  4\n",
      "Prediction # 11\n",
      "Actual values:  15\n",
      "Predicted values:  0\n",
      "Prediction # 12\n",
      "Actual values:  3\n",
      "Predicted values:  8\n",
      "Prediction # 13\n",
      "Actual values:  8\n",
      "Predicted values:  8\n",
      "Prediction # 14\n",
      "Actual values:  15\n",
      "Predicted values:  0\n",
      "Prediction # 15\n",
      "Actual values:  28\n",
      "Predicted values:  4\n",
      "Prediction # 16\n",
      "Actual values:  4\n",
      "Predicted values:  8\n",
      "Prediction # 17\n",
      "Actual values:  8\n",
      "Predicted values:  4\n",
      "Prediction # 18\n",
      "Actual values:  0\n",
      "Predicted values:  4\n",
      "Prediction # 19\n",
      "Actual values:  8\n",
      "Predicted values:  4\n",
      "# correct Predictions :  554\n",
      "# wrong Predictions :  1382\n",
      "accuracy:  0.28615702479338845\n"
     ]
    }
   ],
   "source": [
    "mh.print_test_prediction_info()"
   ],
   "metadata": {
    "collapsed": false,
    "pycharm": {
     "name": "#%%\n"
    }
   }
  },
  {
   "cell_type": "markdown",
   "source": [
    "Next, we have to compare it to the reduced model and see if this performs better."
   ],
   "metadata": {
    "collapsed": false,
    "pycharm": {
     "name": "#%% md\n"
    }
   }
  }
 ]
}