{
 "nbformat": 4,
 "nbformat_minor": 0,
 "metadata": {
  "colab": {
   "name": "NYC_FL.ipynb",
   "provenance": [],
   "toc_visible": true
  },
  "kernelspec": {
   "name": "python3",
   "display_name": "Python 3"
  },
  "accelerator": "GPU"
 },
 "cells": [
  {
   "cell_type": "markdown",
   "metadata": {
    "id": "01ekVSe4McOZ",
    "pycharm": {
     "name": "#%% md\n"
    }
   },
   "source": [
    "# Revisiting the NYC Taxi DataSet Model Architecture Part 2\n",
    "\n",
    "In this notebook, the model architecture is being changed in order to understand the correlation between the model architecture and the prediction quality.\n",
    "This model uses sequences of locations as well as sequences of corresponding time components for the GRU network component.\n",
    "That component consists of two GRU layers which are then flattened and concatenated with the time components of the target data.\n",
    "The deep learning problem can thus be described as follows:\n",
    "Predict the (N+1)th location using time and a history of prior locations and time data in form a sequence of N locations and sequences of corresponding time components.\n",
    "All time components are sin-cos-transformed.\n",
    "This model and all future changed model architectures also use the changed network architecture from Part 1.\n",
    "This architecture only predicts the relevant (N+1)th location and not all next locations for every sequence element like it was in the original architecture.\n"
   ]
  },
  {
   "cell_type": "code",
   "metadata": {
    "id": "O0AtRRZwKfnz",
    "colab": {
     "base_uri": "https://localhost:8080/",
     "height": 119
    },
    "outputId": "ec8f53e1-bede-41f7-a6a1-2bf8249bbf6b",
    "pycharm": {
     "name": "#%%\n"
    }
   },
   "source": [
    "import numpy as np\n",
    "import tensorflow as tf\n",
    "import pandas as pd\n",
    "\n",
    "np.random.seed(0)\n",
    "\n",
    "from tensorflow import feature_column\n",
    "from tensorflow.keras import layers\n",
    "import import_ipynb"
   ],
   "execution_count": 1,
   "outputs": []
  },
  {
   "cell_type": "code",
   "execution_count": 2,
   "outputs": [
    {
     "name": "stdout",
     "output_type": "stream",
     "text": [
      "importing Jupyter notebook from model_helper.ipynb\n"
     ]
    }
   ],
   "source": [
    "from model_helper import ModelHelper"
   ],
   "metadata": {
    "collapsed": false,
    "pycharm": {
     "name": "#%%\n"
    }
   }
  },
  {
   "cell_type": "markdown",
   "metadata": {
    "id": "nRSBBlWyLG9h",
    "pycharm": {
     "name": "#%% md\n"
    }
   },
   "source": [
    "# Dataset"
   ]
  },
  {
   "cell_type": "code",
   "metadata": {
    "id": "EiraMJg9uOb9",
    "colab": {
     "base_uri": "https://localhost:8080/",
     "height": 204
    },
    "outputId": "bd845c7d-9072-46d5-ef12-b26e94566280",
    "pycharm": {
     "name": "#%%\n"
    }
   },
   "source": [
    "df = pd.read_csv(\"./ma_results/trips_with_zones_final.csv\")\n",
    "df = df.head(10000000)\n",
    "df.head(10)"
   ],
   "execution_count": 3,
   "outputs": [
    {
     "data": {
      "text/plain": "                          medallion  pickup_week_day  pickup_hour  pickup_day  \\\n0  00005007A9F30E289E760362F69E4EAD                1            0           1   \n1  00005007A9F30E289E760362F69E4EAD                1            0           1   \n2  00005007A9F30E289E760362F69E4EAD                1            0           1   \n3  00005007A9F30E289E760362F69E4EAD                1            1           1   \n4  00005007A9F30E289E760362F69E4EAD                1            1           1   \n5  00005007A9F30E289E760362F69E4EAD                1            1           1   \n6  00005007A9F30E289E760362F69E4EAD                1            2           1   \n7  00005007A9F30E289E760362F69E4EAD                1            2           1   \n8  00005007A9F30E289E760362F69E4EAD                1            2           1   \n9  00005007A9F30E289E760362F69E4EAD                1            3           1   \n\n   pickup_month  dropoff_week_day  dropoff_hour  dropoff_day  dropoff_month  \\\n0             1                 1             0            1              1   \n1             1                 1             0            1              1   \n2             1                 1             1            1              1   \n3             1                 1             1            1              1   \n4             1                 1             1            1              1   \n5             1                 1             2            1              1   \n6             1                 1             2            1              1   \n7             1                 1             2            1              1   \n8             1                 1             3            1              1   \n9             1                 1             3            1              1   \n\n   pickup_location_id  dropoff_location_id  \n0               162.0                262.0  \n1               262.0                239.0  \n2               239.0                236.0  \n3               236.0                 41.0  \n4                41.0                211.0  \n5               211.0                238.0  \n6               238.0                142.0  \n7               142.0                263.0  \n8               263.0                 48.0  \n9                48.0                246.0  ",
      "text/html": "<div>\n<style scoped>\n    .dataframe tbody tr th:only-of-type {\n        vertical-align: middle;\n    }\n\n    .dataframe tbody tr th {\n        vertical-align: top;\n    }\n\n    .dataframe thead th {\n        text-align: right;\n    }\n</style>\n<table border=\"1\" class=\"dataframe\">\n  <thead>\n    <tr style=\"text-align: right;\">\n      <th></th>\n      <th>medallion</th>\n      <th>pickup_week_day</th>\n      <th>pickup_hour</th>\n      <th>pickup_day</th>\n      <th>pickup_month</th>\n      <th>dropoff_week_day</th>\n      <th>dropoff_hour</th>\n      <th>dropoff_day</th>\n      <th>dropoff_month</th>\n      <th>pickup_location_id</th>\n      <th>dropoff_location_id</th>\n    </tr>\n  </thead>\n  <tbody>\n    <tr>\n      <th>0</th>\n      <td>00005007A9F30E289E760362F69E4EAD</td>\n      <td>1</td>\n      <td>0</td>\n      <td>1</td>\n      <td>1</td>\n      <td>1</td>\n      <td>0</td>\n      <td>1</td>\n      <td>1</td>\n      <td>162.0</td>\n      <td>262.0</td>\n    </tr>\n    <tr>\n      <th>1</th>\n      <td>00005007A9F30E289E760362F69E4EAD</td>\n      <td>1</td>\n      <td>0</td>\n      <td>1</td>\n      <td>1</td>\n      <td>1</td>\n      <td>0</td>\n      <td>1</td>\n      <td>1</td>\n      <td>262.0</td>\n      <td>239.0</td>\n    </tr>\n    <tr>\n      <th>2</th>\n      <td>00005007A9F30E289E760362F69E4EAD</td>\n      <td>1</td>\n      <td>0</td>\n      <td>1</td>\n      <td>1</td>\n      <td>1</td>\n      <td>1</td>\n      <td>1</td>\n      <td>1</td>\n      <td>239.0</td>\n      <td>236.0</td>\n    </tr>\n    <tr>\n      <th>3</th>\n      <td>00005007A9F30E289E760362F69E4EAD</td>\n      <td>1</td>\n      <td>1</td>\n      <td>1</td>\n      <td>1</td>\n      <td>1</td>\n      <td>1</td>\n      <td>1</td>\n      <td>1</td>\n      <td>236.0</td>\n      <td>41.0</td>\n    </tr>\n    <tr>\n      <th>4</th>\n      <td>00005007A9F30E289E760362F69E4EAD</td>\n      <td>1</td>\n      <td>1</td>\n      <td>1</td>\n      <td>1</td>\n      <td>1</td>\n      <td>1</td>\n      <td>1</td>\n      <td>1</td>\n      <td>41.0</td>\n      <td>211.0</td>\n    </tr>\n    <tr>\n      <th>5</th>\n      <td>00005007A9F30E289E760362F69E4EAD</td>\n      <td>1</td>\n      <td>1</td>\n      <td>1</td>\n      <td>1</td>\n      <td>1</td>\n      <td>2</td>\n      <td>1</td>\n      <td>1</td>\n      <td>211.0</td>\n      <td>238.0</td>\n    </tr>\n    <tr>\n      <th>6</th>\n      <td>00005007A9F30E289E760362F69E4EAD</td>\n      <td>1</td>\n      <td>2</td>\n      <td>1</td>\n      <td>1</td>\n      <td>1</td>\n      <td>2</td>\n      <td>1</td>\n      <td>1</td>\n      <td>238.0</td>\n      <td>142.0</td>\n    </tr>\n    <tr>\n      <th>7</th>\n      <td>00005007A9F30E289E760362F69E4EAD</td>\n      <td>1</td>\n      <td>2</td>\n      <td>1</td>\n      <td>1</td>\n      <td>1</td>\n      <td>2</td>\n      <td>1</td>\n      <td>1</td>\n      <td>142.0</td>\n      <td>263.0</td>\n    </tr>\n    <tr>\n      <th>8</th>\n      <td>00005007A9F30E289E760362F69E4EAD</td>\n      <td>1</td>\n      <td>2</td>\n      <td>1</td>\n      <td>1</td>\n      <td>1</td>\n      <td>3</td>\n      <td>1</td>\n      <td>1</td>\n      <td>263.0</td>\n      <td>48.0</td>\n    </tr>\n    <tr>\n      <th>9</th>\n      <td>00005007A9F30E289E760362F69E4EAD</td>\n      <td>1</td>\n      <td>3</td>\n      <td>1</td>\n      <td>1</td>\n      <td>1</td>\n      <td>3</td>\n      <td>1</td>\n      <td>1</td>\n      <td>48.0</td>\n      <td>246.0</td>\n    </tr>\n  </tbody>\n</table>\n</div>"
     },
     "execution_count": 3,
     "metadata": {},
     "output_type": "execute_result"
    }
   ]
  },
  {
   "cell_type": "code",
   "metadata": {
    "id": "ggIfgQxKuOcC",
    "colab": {
     "base_uri": "https://localhost:8080/",
     "height": 221
    },
    "outputId": "4a248d3b-8b73-4f2b-d7f3-8f9bcaaedbd6",
    "pycharm": {
     "name": "#%%\n"
    }
   },
   "source": [
    "# Check dtypes of the attributes\n",
    "df.dtypes"
   ],
   "execution_count": 4,
   "outputs": [
    {
     "data": {
      "text/plain": "medallion               object\npickup_week_day          int64\npickup_hour              int64\npickup_day               int64\npickup_month             int64\ndropoff_week_day         int64\ndropoff_hour             int64\ndropoff_day              int64\ndropoff_month            int64\npickup_location_id     float64\ndropoff_location_id    float64\ndtype: object"
     },
     "execution_count": 4,
     "metadata": {},
     "output_type": "execute_result"
    }
   ]
  },
  {
   "cell_type": "code",
   "execution_count": 5,
   "outputs": [],
   "source": [
    "# Drop the medallion, it is not needed for this example\n",
    "df.drop(['medallion'], axis=1, inplace=True)"
   ],
   "metadata": {
    "collapsed": false,
    "pycharm": {
     "name": "#%%\n"
    }
   }
  },
  {
   "cell_type": "markdown",
   "metadata": {
    "id": "ep1BmXDVPxC1",
    "pycharm": {
     "name": "#%% md\n"
    }
   },
   "source": [
    "Because there are too many taxis (over 9000) it is better to take the 100 taxi with the major number of records"
   ]
  },
  {
   "cell_type": "code",
   "execution_count": 6,
   "outputs": [
    {
     "data": {
      "text/plain": "pickup_week_day        int32\npickup_hour            int32\npickup_day             int32\npickup_month           int32\ndropoff_week_day       int32\ndropoff_hour           int32\ndropoff_day            int32\ndropoff_month          int32\npickup_location_id     int32\ndropoff_location_id    int32\ndtype: object"
     },
     "execution_count": 6,
     "metadata": {},
     "output_type": "execute_result"
    }
   ],
   "source": [
    "# Cast the columns type to int32\n",
    "dictionary = {'pickup_week_day': 'int32', 'pickup_hour': 'int32', 'pickup_day': 'int32', 'pickup_month': 'int32', 'dropoff_week_day': 'int32', 'dropoff_hour': 'int32', 'dropoff_day': 'int32', 'dropoff_month': 'int32', 'pickup_location_id':'int32', 'dropoff_location_id':'int32'}\n",
    "df = df.astype(dictionary, copy=True)\n",
    "df.dtypes"
   ],
   "metadata": {
    "collapsed": false,
    "pycharm": {
     "name": "#%%\n"
    }
   }
  },
  {
   "cell_type": "markdown",
   "metadata": {
    "id": "-oH6GxKzwc7K",
    "pycharm": {
     "name": "#%% md\n"
    }
   },
   "source": [
    "We can use the other taxis to create a local test and validation sets"
   ]
  },
  {
   "cell_type": "markdown",
   "metadata": {
    "id": "eHECUQleRxHH",
    "pycharm": {
     "name": "#%% md\n"
    }
   },
   "source": [
    "Now we need to create the location sequence for each user"
   ]
  },
  {
   "cell_type": "code",
   "execution_count": 7,
   "outputs": [],
   "source": [
    "mh = ModelHelper(df, 129)"
   ],
   "metadata": {
    "collapsed": false,
    "pycharm": {
     "name": "#%%\n"
    }
   }
  },
  {
   "cell_type": "code",
   "metadata": {
    "id": "Uzze3vF-R8OZ",
    "pycharm": {
     "name": "#%%\n"
    }
   },
   "source": [
    "# Call the function\n",
    "mh.df_to_location_sequence()\n",
    "\n",
    "print(mh.df)"
   ],
   "execution_count": 8,
   "outputs": [
    {
     "name": "stdout",
     "output_type": "stream",
     "text": [
      "            index  location_id  day  month  hour_sin      hour_cos  \\\n",
      "0               0          162    1      1  0.000000  1.000000e+00   \n",
      "1              12          230    1      1  0.707107  7.071068e-01   \n",
      "2              13          125    1      1  0.707107  7.071068e-01   \n",
      "3              15           48    1      1  0.866025  5.000000e-01   \n",
      "4              18          170    1      1  1.000000  6.123234e-17   \n",
      "...           ...          ...  ...    ...       ...           ...   \n",
      "13731996  7284341          161   26      1 -0.500000 -8.660254e-01   \n",
      "13731997  7284341          161   26      1 -0.500000 -8.660254e-01   \n",
      "13731998  7284342          132   26      1 -0.707107 -7.071068e-01   \n",
      "13731999  7284343          141   26      1 -0.866025 -5.000000e-01   \n",
      "13732000  7284344          141   26      1 -0.866025 -5.000000e-01   \n",
      "\n",
      "          week_day_sin  week_day_cos  weekend  \n",
      "0             0.781831      0.623490        0  \n",
      "1             0.781831      0.623490        0  \n",
      "2             0.781831      0.623490        0  \n",
      "3             0.781831      0.623490        0  \n",
      "4             0.781831      0.623490        0  \n",
      "...                ...           ...      ...  \n",
      "13731996     -0.974928     -0.222521        1  \n",
      "13731997     -0.974928     -0.222521        1  \n",
      "13731998     -0.974928     -0.222521        1  \n",
      "13731999     -0.974928     -0.222521        1  \n",
      "13732000     -0.974928     -0.222521        1  \n",
      "\n",
      "[13732001 rows x 9 columns]\n"
     ]
    }
   ]
  },
  {
   "cell_type": "code",
   "metadata": {
    "id": "YbQmLj9kSYqp",
    "colab": {
     "base_uri": "https://localhost:8080/",
     "height": 34
    },
    "outputId": "07af026d-8765-4323-8204-953df7b1eccc",
    "pycharm": {
     "name": "#%%\n"
    }
   },
   "source": [
    "mh.train_val_test_split()\n",
    "print(len(mh.df_train), 'train examples')\n",
    "print(len(mh.df_val), 'validation examples')\n",
    "print(len(mh.df_test), 'test examples')"
   ],
   "execution_count": 9,
   "outputs": [
    {
     "name": "stdout",
     "output_type": "stream",
     "text": [
      "8788480 train examples\n",
      "2197120 validation examples\n",
      "2746401 test examples\n"
     ]
    }
   ]
  },
  {
   "cell_type": "code",
   "metadata": {
    "id": "ltjLgzdf1LYY",
    "pycharm": {
     "name": "#%%\n"
    }
   },
   "source": [
    "mh.split_data()\n",
    "mh.list_test[0]"
   ],
   "execution_count": 10,
   "outputs": [
    {
     "data": {
      "text/plain": "            index  location_id  day  month  hour_sin  hour_cos  week_day_sin  \\\n10985600  5283998          246    4      1 -0.866025  0.500000     -0.433884   \n10985601  5283999          107    4      1 -0.707107  0.707107     -0.433884   \n10985602  5284000          142    4      1 -0.707107  0.707107     -0.433884   \n10985603  5284001           48    4      1 -0.500000  0.866025     -0.433884   \n10985604  5284001           48    4      1 -0.500000  0.866025     -0.433884   \n...           ...          ...  ...    ...       ...       ...           ...   \n10985724  5284091          234    7      1  0.000000  1.000000      0.000000   \n10985725  5284092          162    7      1  0.258819  0.965926      0.000000   \n10985726  5284093          142    7      1  0.500000  0.866025      0.000000   \n10985727  5284093          142    7      1  0.500000  0.866025      0.000000   \n10985728  5284094          239    7      1  0.500000  0.866025      0.000000   \n\n          week_day_cos  weekend  \n10985600     -0.900969        0  \n10985601     -0.900969        0  \n10985602     -0.900969        0  \n10985603     -0.900969        0  \n10985604     -0.900969        0  \n...                ...      ...  \n10985724      1.000000        0  \n10985725      1.000000        0  \n10985726      1.000000        0  \n10985727      1.000000        0  \n10985728      1.000000        0  \n\n[129 rows x 9 columns]",
      "text/html": "<div>\n<style scoped>\n    .dataframe tbody tr th:only-of-type {\n        vertical-align: middle;\n    }\n\n    .dataframe tbody tr th {\n        vertical-align: top;\n    }\n\n    .dataframe thead th {\n        text-align: right;\n    }\n</style>\n<table border=\"1\" class=\"dataframe\">\n  <thead>\n    <tr style=\"text-align: right;\">\n      <th></th>\n      <th>index</th>\n      <th>location_id</th>\n      <th>day</th>\n      <th>month</th>\n      <th>hour_sin</th>\n      <th>hour_cos</th>\n      <th>week_day_sin</th>\n      <th>week_day_cos</th>\n      <th>weekend</th>\n    </tr>\n  </thead>\n  <tbody>\n    <tr>\n      <th>10985600</th>\n      <td>5283998</td>\n      <td>246</td>\n      <td>4</td>\n      <td>1</td>\n      <td>-0.866025</td>\n      <td>0.500000</td>\n      <td>-0.433884</td>\n      <td>-0.900969</td>\n      <td>0</td>\n    </tr>\n    <tr>\n      <th>10985601</th>\n      <td>5283999</td>\n      <td>107</td>\n      <td>4</td>\n      <td>1</td>\n      <td>-0.707107</td>\n      <td>0.707107</td>\n      <td>-0.433884</td>\n      <td>-0.900969</td>\n      <td>0</td>\n    </tr>\n    <tr>\n      <th>10985602</th>\n      <td>5284000</td>\n      <td>142</td>\n      <td>4</td>\n      <td>1</td>\n      <td>-0.707107</td>\n      <td>0.707107</td>\n      <td>-0.433884</td>\n      <td>-0.900969</td>\n      <td>0</td>\n    </tr>\n    <tr>\n      <th>10985603</th>\n      <td>5284001</td>\n      <td>48</td>\n      <td>4</td>\n      <td>1</td>\n      <td>-0.500000</td>\n      <td>0.866025</td>\n      <td>-0.433884</td>\n      <td>-0.900969</td>\n      <td>0</td>\n    </tr>\n    <tr>\n      <th>10985604</th>\n      <td>5284001</td>\n      <td>48</td>\n      <td>4</td>\n      <td>1</td>\n      <td>-0.500000</td>\n      <td>0.866025</td>\n      <td>-0.433884</td>\n      <td>-0.900969</td>\n      <td>0</td>\n    </tr>\n    <tr>\n      <th>...</th>\n      <td>...</td>\n      <td>...</td>\n      <td>...</td>\n      <td>...</td>\n      <td>...</td>\n      <td>...</td>\n      <td>...</td>\n      <td>...</td>\n      <td>...</td>\n    </tr>\n    <tr>\n      <th>10985724</th>\n      <td>5284091</td>\n      <td>234</td>\n      <td>7</td>\n      <td>1</td>\n      <td>0.000000</td>\n      <td>1.000000</td>\n      <td>0.000000</td>\n      <td>1.000000</td>\n      <td>0</td>\n    </tr>\n    <tr>\n      <th>10985725</th>\n      <td>5284092</td>\n      <td>162</td>\n      <td>7</td>\n      <td>1</td>\n      <td>0.258819</td>\n      <td>0.965926</td>\n      <td>0.000000</td>\n      <td>1.000000</td>\n      <td>0</td>\n    </tr>\n    <tr>\n      <th>10985726</th>\n      <td>5284093</td>\n      <td>142</td>\n      <td>7</td>\n      <td>1</td>\n      <td>0.500000</td>\n      <td>0.866025</td>\n      <td>0.000000</td>\n      <td>1.000000</td>\n      <td>0</td>\n    </tr>\n    <tr>\n      <th>10985727</th>\n      <td>5284093</td>\n      <td>142</td>\n      <td>7</td>\n      <td>1</td>\n      <td>0.500000</td>\n      <td>0.866025</td>\n      <td>0.000000</td>\n      <td>1.000000</td>\n      <td>0</td>\n    </tr>\n    <tr>\n      <th>10985728</th>\n      <td>5284094</td>\n      <td>239</td>\n      <td>7</td>\n      <td>1</td>\n      <td>0.500000</td>\n      <td>0.866025</td>\n      <td>0.000000</td>\n      <td>1.000000</td>\n      <td>0</td>\n    </tr>\n  </tbody>\n</table>\n<p>129 rows × 9 columns</p>\n</div>"
     },
     "execution_count": 10,
     "metadata": {},
     "output_type": "execute_result"
    }
   ]
  },
  {
   "cell_type": "code",
   "metadata": {
    "id": "sEMnEoqY9CAv",
    "colab": {
     "base_uri": "https://localhost:8080/",
     "height": 68
    },
    "outputId": "37048dd7-05ce-4780-fda7-70351e948503",
    "pycharm": {
     "name": "#%%\n"
    }
   },
   "source": [
    "mh.set_batch_size(128)\n",
    "mh.create_batch_dataset()\n",
    "mh.test_dataset"
   ],
   "execution_count": 11,
   "outputs": [
    {
     "data": {
      "text/plain": "<BatchDataset shapes: ({start_place: (128, 128), start_hour_sin: (128, 128), start_hour_cos: (128, 128), weekend: (128, 128), week_day_sin: (128, 128), week_day_cos: (128, 128), end_hour_sin: (128,), end_hour_cos: (128,), end_weekend: (128,), end_week_day_sin: (128,), end_week_day_cos: (128,)}, (128,)), types: ({start_place: tf.int32, start_hour_sin: tf.float64, start_hour_cos: tf.float64, weekend: tf.int32, week_day_sin: tf.float64, week_day_cos: tf.float64, end_hour_sin: tf.float64, end_hour_cos: tf.float64, end_weekend: tf.int32, end_week_day_sin: tf.float64, end_week_day_cos: tf.float64}, tf.int32)>"
     },
     "execution_count": 11,
     "metadata": {},
     "output_type": "execute_result"
    }
   ]
  },
  {
   "cell_type": "code",
   "execution_count": 12,
   "outputs": [],
   "source": [
    "mh.set_target_column_name('location_id')\n",
    "mh.set_vocab_size()\n",
    "mh.set_numerical_column_names(['start_hour_sin', 'start_hour_cos', 'weekend', 'week_day_sin', 'week_day_cos'])"
   ],
   "metadata": {
    "collapsed": false,
    "pycharm": {
     "name": "#%%\n"
    }
   }
  },
  {
   "cell_type": "code",
   "metadata": {
    "id": "bHDBtZVwYXWT",
    "pycharm": {
     "name": "#%%\n"
    }
   },
   "source": [
    "# The embedding dimension\n",
    "embedding_dim = 256\n",
    "\n",
    "# Number of RNN units\n",
    "rnn_units1 = 256\n",
    "rnn_units2=128\n",
    "\n",
    "# Create a model\n",
    "def create_model():\n",
    "  N = mh.total_window_length\n",
    "  batch_size = mh.batch_size\n",
    "  number_of_places = mh.vocab_size\n",
    "\n",
    "\t# Shortcut to the layers package\n",
    "  l = tf.keras.layers\n",
    "\n",
    "  # Now we need to define an input dictionary.\n",
    "  # Where the keys are the column names\n",
    "  # This is a model with multiple inputs, so we need to declare and input layer for each feature\n",
    "  feature_inputs = {\n",
    "    'start_hour_sin': tf.keras.Input((N-1, ), batch_size=batch_size, name='start_hour_sin'),\n",
    "    'start_hour_cos': tf.keras.Input((N-1, ), batch_size=batch_size, name='start_hour_cos'),\n",
    "    'weekend': tf.keras.Input((N-1, ), batch_size=batch_size, name='weekend'),\n",
    "    'week_day_sin': tf.keras.Input((N-1, ), batch_size=batch_size, name='week_day_sin'),\n",
    "    'week_day_cos': tf.keras.Input((N-1, ), batch_size=batch_size, name='week_day_cos'),\n",
    "  }\n",
    "\n",
    "  other_feature_inputs = {\n",
    "    'end_hour_sin': tf.keras.Input((1, ), batch_size=batch_size, name='end_hour_sin'),\n",
    "    'end_hour_cos': tf.keras.Input((1, ), batch_size=batch_size, name='end_hour_cos'),\n",
    "    'end_weekend': tf.keras.Input((1, ), batch_size=batch_size, name='end_weekend'),\n",
    "    'end_week_day_sin': tf.keras.Input((1, ), batch_size=batch_size, name='end_week_day_sin'),\n",
    "    'end_week_day_cos': tf.keras.Input((1, ), batch_size=batch_size, name='end_week_day_cos')\n",
    "  }\n",
    "\n",
    "  # We cannot use an array of features as always because we have sequences, and we cannot match the shape otherwise\n",
    "  # We have to do one by one\n",
    "  start_hour_sin = feature_column.numeric_column(\"start_hour_sin\", shape=(N-1))\n",
    "  hour_sin_feature = l.DenseFeatures(start_hour_sin)(feature_inputs)\n",
    "\n",
    "  start_hour_cos = feature_column.numeric_column(\"start_hour_cos\", shape=(N-1))\n",
    "  hour_cos_feature = l.DenseFeatures(start_hour_cos)(feature_inputs)\n",
    "\n",
    "  weekend = feature_column.numeric_column(\"weekend\", shape=(N-1))\n",
    "  weekend_feature = l.DenseFeatures(weekend)(feature_inputs)\n",
    "\n",
    "  week_day_sin = feature_column.numeric_column(\"week_day_sin\", shape=(N-1))\n",
    "  week_day_sin_feature = l.DenseFeatures(week_day_sin)(feature_inputs)\n",
    "\n",
    "  week_day_cos = feature_column.numeric_column(\"week_day_cos\", shape=(N-1))\n",
    "  week_day_cos_feature = l.DenseFeatures(week_day_cos)(feature_inputs)\n",
    "\n",
    "  end_hour_sin = feature_column.numeric_column(\"end_hour_sin\", shape=(1))\n",
    "  end_hour_sin_feature = l.DenseFeatures(end_hour_sin)(other_feature_inputs)\n",
    "\n",
    "  end_hour_cos = feature_column.numeric_column(\"end_hour_cos\", shape=(1))\n",
    "  end_hour_cos_feature = l.DenseFeatures(end_hour_cos)(other_feature_inputs)\n",
    "\n",
    "  end_weekend = feature_column.numeric_column(\"end_weekend\", shape=(1))\n",
    "  end_weekend_feature = l.DenseFeatures(end_weekend)(other_feature_inputs)\n",
    "\n",
    "  end_week_day_sin = feature_column.numeric_column(\"end_week_day_sin\", shape=(1))\n",
    "  end_week_day_sin_feature = l.DenseFeatures(end_week_day_sin)(other_feature_inputs)\n",
    "\n",
    "  end_week_day_cos = feature_column.numeric_column(\"end_week_day_cos\", shape=(1))\n",
    "  end_week_day_cos_feature = l.DenseFeatures(end_week_day_cos)(other_feature_inputs)\n",
    "\n",
    "  # We have also to add a dimension to then concatenate\n",
    "  hour_sin_feature = tf.expand_dims(hour_sin_feature, -1)\n",
    "  hour_cos_feature = tf.expand_dims(hour_cos_feature, -1)\n",
    "  weekend_feature = tf.expand_dims(weekend_feature, -1)\n",
    "  week_day_sin_feature = tf.expand_dims(week_day_sin_feature, -1)\n",
    "  week_day_cos_feature = tf.expand_dims(week_day_cos_feature, -1)\n",
    "\n",
    "\n",
    "  # Declare the dictionary for the places sequence as before\n",
    "  sequence_input = {\n",
    "      'start_place': tf.keras.Input((N-1,), batch_size=batch_size, dtype=tf.dtypes.int32, name='start_place') # add batch_size=batch_size in case of stateful GRU\n",
    "  }\n",
    "\n",
    "\n",
    "  # Handling the categorical feature sequence using one-hot\n",
    "  places_one_hot = feature_column.sequence_categorical_column_with_vocabulary_list(\n",
    "      'start_place', [i for i in range(number_of_places)])\n",
    "\n",
    "  # Embed the one-hot encoding\n",
    "  places_embed = feature_column.embedding_column(places_one_hot, embedding_dim)\n",
    "\n",
    "\n",
    "  # With an input sequence we can't use the DenseFeature layer, we need to use the SequenceFeatures\n",
    "  sequence_features, sequence_length = tf.keras.experimental.SequenceFeatures(places_embed)(sequence_input)\n",
    "\n",
    "  input_sequence = l.Concatenate(axis=2)([sequence_features, hour_sin_feature, hour_cos_feature, weekend_feature, week_day_sin_feature, week_day_cos_feature])\n",
    "\n",
    "  # Rnn\n",
    "  recurrent = l.GRU(rnn_units1,\n",
    "                        batch_size=batch_size, #in case of stateful\n",
    "                        return_sequences=True,\n",
    "                        stateful=True,\n",
    "                        recurrent_initializer='glorot_uniform')(input_sequence)\n",
    "\n",
    "  recurrent_2 = l.GRU(rnn_units2,\n",
    "                        batch_size=batch_size, #in case of stateful\n",
    "                        stateful=True,\n",
    "                        recurrent_initializer='glorot_uniform')(recurrent)\n",
    "\n",
    "\n",
    "  flatten = l.Flatten()(recurrent_2)\n",
    "\n",
    "  concatenate_2 = l.Concatenate(axis=1)([flatten, end_hour_sin_feature, end_hour_cos_feature, end_weekend_feature, end_week_day_sin_feature, end_week_day_cos_feature])\n",
    "\n",
    "  # Last layer with an output for each places\n",
    "  dense_1 = layers.Dense(number_of_places)(concatenate_2)\n",
    "\n",
    "  # Softmax output layer\n",
    "  output = l.Softmax()(dense_1)\n",
    "\n",
    "  # To return the Model, we need to define its inputs and outputs\n",
    "  # In out case, we need to list all the input layers we have defined\n",
    "  inputs = list(feature_inputs.values()) + list(sequence_input.values()) + list(other_feature_inputs.values())\n",
    "\n",
    "\t# Return the Model\n",
    "  return tf.keras.Model(inputs=inputs, outputs=output)"
   ],
   "execution_count": 15,
   "outputs": []
  },
  {
   "cell_type": "code",
   "execution_count": 16,
   "outputs": [],
   "source": [
    "# Get the model and compile it\n",
    "mh.assign_model(create_model())\n",
    "mh.compile_model()"
   ],
   "metadata": {
    "collapsed": false,
    "pycharm": {
     "name": "#%%\n"
    }
   }
  },
  {
   "cell_type": "markdown",
   "metadata": {
    "id": "JLTlfunoO0Yd",
    "pycharm": {
     "name": "#%% md\n"
    }
   },
   "source": [
    "# Training"
   ]
  },
  {
   "cell_type": "code",
   "execution_count": 17,
   "outputs": [
    {
     "name": "stdout",
     "output_type": "stream",
     "text": [
      "Epoch 1/10\n",
      "532/532 [==============================] - 181s 340ms/step - loss: 4.2104 - sparse_categorical_accuracy: 0.0434 - val_loss: 4.0913 - val_sparse_categorical_accuracy: 0.0979\n",
      "Epoch 2/10\n",
      "532/532 [==============================] - 171s 321ms/step - loss: 3.9655 - sparse_categorical_accuracy: 0.1206 - val_loss: 3.7893 - val_sparse_categorical_accuracy: 0.2055\n",
      "Epoch 3/10\n",
      "532/532 [==============================] - 168s 317ms/step - loss: 3.8095 - sparse_categorical_accuracy: 0.1840 - val_loss: 3.6154 - val_sparse_categorical_accuracy: 0.2549\n",
      "Epoch 4/10\n",
      "532/532 [==============================] - 178s 334ms/step - loss: 3.7284 - sparse_categorical_accuracy: 0.2073 - val_loss: 3.5478 - val_sparse_categorical_accuracy: 0.2730\n",
      "Epoch 5/10\n",
      "532/532 [==============================] - 172s 323ms/step - loss: 3.6799 - sparse_categorical_accuracy: 0.2149 - val_loss: 3.5130 - val_sparse_categorical_accuracy: 0.2773\n",
      "Epoch 6/10\n",
      "532/532 [==============================] - 175s 329ms/step - loss: 3.6423 - sparse_categorical_accuracy: 0.2190 - val_loss: 3.4952 - val_sparse_categorical_accuracy: 0.2805\n",
      "Epoch 7/10\n",
      "532/532 [==============================] - 173s 325ms/step - loss: 3.6084 - sparse_categorical_accuracy: 0.2219 - val_loss: 3.4879 - val_sparse_categorical_accuracy: 0.2821\n",
      "Epoch 8/10\n",
      "532/532 [==============================] - 176s 330ms/step - loss: 3.5715 - sparse_categorical_accuracy: 0.2253 - val_loss: 3.4863 - val_sparse_categorical_accuracy: 0.2822\n",
      "Epoch 9/10\n",
      "532/532 [==============================] - 175s 329ms/step - loss: 3.5311 - sparse_categorical_accuracy: 0.2283 - val_loss: 3.4901 - val_sparse_categorical_accuracy: 0.2828\n",
      "Epoch 10/10\n",
      "532/532 [==============================] - 171s 322ms/step - loss: 3.4863 - sparse_categorical_accuracy: 0.2319 - val_loss: 3.5005 - val_sparse_categorical_accuracy: 0.2832\n"
     ]
    }
   ],
   "source": [
    "mh.set_num_epochs(10)\n",
    "mh.fit_model()"
   ],
   "metadata": {
    "collapsed": false,
    "pycharm": {
     "name": "#%%\n"
    }
   }
  },
  {
   "cell_type": "markdown",
   "source": [
    "# Evaluation"
   ],
   "metadata": {
    "collapsed": false,
    "pycharm": {
     "name": "#%% md\n"
    }
   }
  },
  {
   "cell_type": "code",
   "execution_count": 18,
   "outputs": [
    {
     "name": "stdout",
     "output_type": "stream",
     "text": [
      "166/166 [==============================] - 15s 93ms/step - loss: 3.5156 - sparse_categorical_accuracy: 0.2804\n"
     ]
    }
   ],
   "source": [
    "mh.evaluate_model()"
   ],
   "metadata": {
    "collapsed": false,
    "pycharm": {
     "name": "#%%\n"
    }
   }
  },
  {
   "cell_type": "code",
   "execution_count": 19,
   "outputs": [
    {
     "name": "stdout",
     "output_type": "stream",
     "text": [
      "Model: \"functional_1\"\n",
      "__________________________________________________________________________________________________\n",
      "Layer (type)                    Output Shape         Param #     Connected to                     \n",
      "==================================================================================================\n",
      "start_hour_cos (InputLayer)     [(128, 128)]         0                                            \n",
      "__________________________________________________________________________________________________\n",
      "start_hour_sin (InputLayer)     [(128, 128)]         0                                            \n",
      "__________________________________________________________________________________________________\n",
      "week_day_cos (InputLayer)       [(128, 128)]         0                                            \n",
      "__________________________________________________________________________________________________\n",
      "week_day_sin (InputLayer)       [(128, 128)]         0                                            \n",
      "__________________________________________________________________________________________________\n",
      "weekend (InputLayer)            [(128, 128)]         0                                            \n",
      "__________________________________________________________________________________________________\n",
      "start_place (InputLayer)        [(128, 128)]         0                                            \n",
      "__________________________________________________________________________________________________\n",
      "dense_features (DenseFeatures)  (128, 128)           0           start_hour_cos[0][0]             \n",
      "                                                                 start_hour_sin[0][0]             \n",
      "                                                                 week_day_cos[0][0]               \n",
      "                                                                 week_day_sin[0][0]               \n",
      "                                                                 weekend[0][0]                    \n",
      "__________________________________________________________________________________________________\n",
      "dense_features_1 (DenseFeatures (128, 128)           0           start_hour_cos[0][0]             \n",
      "                                                                 start_hour_sin[0][0]             \n",
      "                                                                 week_day_cos[0][0]               \n",
      "                                                                 week_day_sin[0][0]               \n",
      "                                                                 weekend[0][0]                    \n",
      "__________________________________________________________________________________________________\n",
      "dense_features_2 (DenseFeatures (128, 128)           0           start_hour_cos[0][0]             \n",
      "                                                                 start_hour_sin[0][0]             \n",
      "                                                                 week_day_cos[0][0]               \n",
      "                                                                 week_day_sin[0][0]               \n",
      "                                                                 weekend[0][0]                    \n",
      "__________________________________________________________________________________________________\n",
      "dense_features_3 (DenseFeatures (128, 128)           0           start_hour_cos[0][0]             \n",
      "                                                                 start_hour_sin[0][0]             \n",
      "                                                                 week_day_cos[0][0]               \n",
      "                                                                 week_day_sin[0][0]               \n",
      "                                                                 weekend[0][0]                    \n",
      "__________________________________________________________________________________________________\n",
      "dense_features_4 (DenseFeatures (128, 128)           0           start_hour_cos[0][0]             \n",
      "                                                                 start_hour_sin[0][0]             \n",
      "                                                                 week_day_cos[0][0]               \n",
      "                                                                 week_day_sin[0][0]               \n",
      "                                                                 weekend[0][0]                    \n",
      "__________________________________________________________________________________________________\n",
      "sequence_features (SequenceFeat ((None, None, 256),  67584       start_place[0][0]                \n",
      "__________________________________________________________________________________________________\n",
      "tf_op_layer_ExpandDims (TensorF [(128, 128, 1)]      0           dense_features[0][0]             \n",
      "__________________________________________________________________________________________________\n",
      "tf_op_layer_ExpandDims_1 (Tenso [(128, 128, 1)]      0           dense_features_1[0][0]           \n",
      "__________________________________________________________________________________________________\n",
      "tf_op_layer_ExpandDims_2 (Tenso [(128, 128, 1)]      0           dense_features_2[0][0]           \n",
      "__________________________________________________________________________________________________\n",
      "tf_op_layer_ExpandDims_3 (Tenso [(128, 128, 1)]      0           dense_features_3[0][0]           \n",
      "__________________________________________________________________________________________________\n",
      "tf_op_layer_ExpandDims_4 (Tenso [(128, 128, 1)]      0           dense_features_4[0][0]           \n",
      "__________________________________________________________________________________________________\n",
      "concatenate (Concatenate)       (128, 128, 261)      0           sequence_features[0][0]          \n",
      "                                                                 tf_op_layer_ExpandDims[0][0]     \n",
      "                                                                 tf_op_layer_ExpandDims_1[0][0]   \n",
      "                                                                 tf_op_layer_ExpandDims_2[0][0]   \n",
      "                                                                 tf_op_layer_ExpandDims_3[0][0]   \n",
      "                                                                 tf_op_layer_ExpandDims_4[0][0]   \n",
      "__________________________________________________________________________________________________\n",
      "gru (GRU)                       (128, 128, 256)      398592      concatenate[0][0]                \n",
      "__________________________________________________________________________________________________\n",
      "gru_1 (GRU)                     (128, 64)            61824       gru[0][0]                        \n",
      "__________________________________________________________________________________________________\n",
      "end_hour_cos (InputLayer)       [(128, 1)]           0                                            \n",
      "__________________________________________________________________________________________________\n",
      "end_hour_sin (InputLayer)       [(128, 1)]           0                                            \n",
      "__________________________________________________________________________________________________\n",
      "end_week_day_cos (InputLayer)   [(128, 1)]           0                                            \n",
      "__________________________________________________________________________________________________\n",
      "end_week_day_sin (InputLayer)   [(128, 1)]           0                                            \n",
      "__________________________________________________________________________________________________\n",
      "end_weekend (InputLayer)        [(128, 1)]           0                                            \n",
      "__________________________________________________________________________________________________\n",
      "flatten (Flatten)               (128, 64)            0           gru_1[0][0]                      \n",
      "__________________________________________________________________________________________________\n",
      "dense_features_5 (DenseFeatures (128, 1)             0           end_hour_cos[0][0]               \n",
      "                                                                 end_hour_sin[0][0]               \n",
      "                                                                 end_week_day_cos[0][0]           \n",
      "                                                                 end_week_day_sin[0][0]           \n",
      "                                                                 end_weekend[0][0]                \n",
      "__________________________________________________________________________________________________\n",
      "dense_features_6 (DenseFeatures (128, 1)             0           end_hour_cos[0][0]               \n",
      "                                                                 end_hour_sin[0][0]               \n",
      "                                                                 end_week_day_cos[0][0]           \n",
      "                                                                 end_week_day_sin[0][0]           \n",
      "                                                                 end_weekend[0][0]                \n",
      "__________________________________________________________________________________________________\n",
      "dense_features_7 (DenseFeatures (128, 1)             0           end_hour_cos[0][0]               \n",
      "                                                                 end_hour_sin[0][0]               \n",
      "                                                                 end_week_day_cos[0][0]           \n",
      "                                                                 end_week_day_sin[0][0]           \n",
      "                                                                 end_weekend[0][0]                \n",
      "__________________________________________________________________________________________________\n",
      "dense_features_8 (DenseFeatures (128, 1)             0           end_hour_cos[0][0]               \n",
      "                                                                 end_hour_sin[0][0]               \n",
      "                                                                 end_week_day_cos[0][0]           \n",
      "                                                                 end_week_day_sin[0][0]           \n",
      "                                                                 end_weekend[0][0]                \n",
      "__________________________________________________________________________________________________\n",
      "dense_features_9 (DenseFeatures (128, 1)             0           end_hour_cos[0][0]               \n",
      "                                                                 end_hour_sin[0][0]               \n",
      "                                                                 end_week_day_cos[0][0]           \n",
      "                                                                 end_week_day_sin[0][0]           \n",
      "                                                                 end_weekend[0][0]                \n",
      "__________________________________________________________________________________________________\n",
      "concatenate_1 (Concatenate)     (128, 69)            0           flatten[0][0]                    \n",
      "                                                                 dense_features_5[0][0]           \n",
      "                                                                 dense_features_6[0][0]           \n",
      "                                                                 dense_features_7[0][0]           \n",
      "                                                                 dense_features_8[0][0]           \n",
      "                                                                 dense_features_9[0][0]           \n",
      "__________________________________________________________________________________________________\n",
      "dense (Dense)                   (128, 264)           18480       concatenate_1[0][0]              \n",
      "__________________________________________________________________________________________________\n",
      "softmax (Softmax)               (128, 264)           0           dense[0][0]                      \n",
      "==================================================================================================\n",
      "Total params: 546,480\n",
      "Trainable params: 546,480\n",
      "Non-trainable params: 0\n",
      "__________________________________________________________________________________________________\n"
     ]
    }
   ],
   "source": [
    "mh.model.summary()"
   ],
   "metadata": {
    "collapsed": false,
    "pycharm": {
     "name": "#%%\n"
    }
   }
  },
  {
   "cell_type": "code",
   "execution_count": 20,
   "outputs": [
    {
     "name": "stdout",
     "output_type": "stream",
     "text": [
      "logits\n",
      "Shape :  (21248, 264)\n",
      "Example [0] :  [1.11794029e-03 2.53817008e-04 1.79230128e-07 3.21940533e-05\n",
      " 2.06638244e-03 1.21953036e-07 1.14235945e-06 1.19540263e-02\n",
      " 2.64853406e-05 2.30291607e-05 2.40646012e-04 1.25092129e-05\n",
      " 6.61224243e-04 3.41058755e-03 1.33832931e-04 1.76382964e-05\n",
      " 5.10641428e-07 3.05213413e-04 3.60107697e-05 6.22630807e-07\n",
      " 2.12430314e-06 4.31866138e-05 8.75160986e-05 3.24791699e-06\n",
      " 5.19165583e-03 5.76467486e-04 6.16438047e-06 8.53554667e-08\n",
      " 9.68441441e-07 1.97604750e-05 5.66284690e-08 2.38201374e-05\n",
      " 9.58494729e-06 1.07481855e-03 9.63745479e-05 3.36503763e-05\n",
      " 2.27890661e-04 7.58079230e-04 1.44436899e-05 4.22663543e-05\n",
      " 4.08729073e-04 1.58389285e-02 4.64617042e-03 9.83409584e-03\n",
      " 2.42099850e-06 1.95091730e-03 5.23336803e-06 3.34281722e-05\n",
      " 4.41542156e-02 1.43788010e-03 2.06095409e-02 2.33784122e-05\n",
      " 3.79590172e-04 5.89987176e-05 3.51260795e-04 6.05757268e-05\n",
      " 1.68876970e-04 1.70448459e-07 1.81466100e-06 2.66978788e-07\n",
      " 1.06548632e-05 8.51119112e-04 7.71983032e-05 6.86807425e-06\n",
      " 6.97967693e-08 6.00351486e-04 4.05519881e-04 4.32317574e-05\n",
      " 2.87258476e-02 1.51956003e-04 1.88226084e-04 6.13258817e-05\n",
      " 4.71212297e-05 4.31512090e-05 3.12921009e-03 2.15880144e-02\n",
      " 1.51157379e-04 3.55446755e-05 3.16224832e-05 2.24607456e-02\n",
      " 2.07626566e-04 4.87373882e-06 3.55866156e-04 1.39758864e-04\n",
      " 3.42792686e-04 4.05967003e-05 2.31999420e-05 1.83214527e-03\n",
      " 1.21821580e-03 5.89381205e-04 9.68621764e-03 1.48096533e-05\n",
      " 2.24979973e-04 2.66577827e-05 6.30058566e-05 4.64685931e-04\n",
      " 3.92901311e-05 6.62547594e-04 1.40952898e-05 1.56822452e-07\n",
      " 1.78649444e-02 1.11581430e-05 1.40895660e-04 1.85820738e-07\n",
      " 1.46335822e-07 5.86032840e-08 9.15898345e-05 1.62649434e-02\n",
      " 8.25892414e-07 6.69994691e-08 2.85143244e-07 6.37445581e-08\n",
      " 5.78593416e-03 3.27471411e-03 1.52280424e-02 9.04818626e-06\n",
      " 6.57295389e-03 1.06181631e-07 1.60264972e-05 3.41801264e-04\n",
      " 3.63571871e-06 3.81459286e-05 8.21579233e-05 3.12466669e-04\n",
      " 8.86727794e-05 2.55892263e-03 8.78519641e-05 2.31878227e-03\n",
      " 6.03107183e-05 4.19896888e-03 4.23797537e-05 5.34354376e-06\n",
      " 2.69376673e-03 4.19706281e-04 3.95131065e-06 1.05202264e-04\n",
      " 1.26946208e-04 5.96128823e-03 6.54109707e-03 2.83655900e-05\n",
      " 7.20263831e-03 3.54607776e-02 5.98948747e-02 8.96355603e-03\n",
      " 4.41780733e-03 3.08439508e-03 1.16977002e-03 6.80049970e-06\n",
      " 6.64786110e-03 9.67267897e-06 1.81035794e-05 6.93234010e-03\n",
      " 9.03888955e-04 2.52141937e-04 3.02873718e-06 1.19469660e-05\n",
      " 1.86382280e-07 1.53739020e-04 2.15218533e-02 5.73180987e-05\n",
      " 8.06790267e-05 6.17330000e-02 3.23911645e-02 3.59304920e-02\n",
      " 3.07094231e-02 8.40982611e-05 1.08594848e-02 8.48295749e-05\n",
      " 1.80360535e-03 7.82995849e-05 2.62686331e-02 7.25819427e-06\n",
      " 9.78458775e-06 2.18374073e-04 3.20589716e-05 1.12435870e-07\n",
      " 8.18355872e-08 4.07138286e-05 5.45281910e-06 3.58528271e-03\n",
      " 1.06354378e-06 7.21881923e-04 6.27649424e-05 4.06614818e-05\n",
      " 3.38366976e-06 3.64412117e-05 1.67333130e-02 7.90136667e-08\n",
      " 6.53541938e-04 4.49664600e-04 1.76214569e-04 1.44297710e-05\n",
      " 3.32130094e-06 7.09578861e-04 3.68656547e-05 8.38017604e-06\n",
      " 6.59203739e-04 1.62313401e-04 2.65093840e-05 1.33857739e-07\n",
      " 1.61607852e-04 4.52718132e-06 3.58842546e-04 2.70200180e-05\n",
      " 1.97493378e-07 6.07454012e-07 6.12213989e-06 5.99240921e-05\n",
      " 2.20658025e-04 5.24013070e-04 6.54574469e-05 2.96702725e-03\n",
      " 2.27146847e-05 3.82653670e-05 7.40863015e-06 1.67780076e-04\n",
      " 1.60212630e-06 4.87508041e-05 1.20441009e-05 1.26983374e-04\n",
      " 3.05758178e-04 2.77881526e-07 1.77725497e-07 3.88345728e-03\n",
      " 2.61675683e-03 3.14125966e-04 2.41423957e-03 5.20723661e-05\n",
      " 4.07971020e-05 3.81208546e-02 3.66431139e-02 6.07744930e-03\n",
      " 5.25067851e-04 5.26969321e-03 2.30579227e-02 5.23565723e-05\n",
      " 2.02985518e-02 1.39810275e-02 3.94814909e-02 3.31928656e-02\n",
      " 1.18117394e-04 1.24419921e-05 1.63675322e-05 5.53731853e-03\n",
      " 4.89024678e-03 6.77734633e-08 1.37461927e-02 3.32377269e-04\n",
      " 4.78773882e-06 1.54655380e-02 3.92949842e-05 2.01271845e-07\n",
      " 1.41265109e-05 1.15873391e-07 1.31361503e-05 1.66410743e-03\n",
      " 2.72716396e-03 3.38596816e-04 1.17561562e-04 9.16957069e-05\n",
      " 1.97861018e-03 1.06091809e-03 3.44491028e-03 2.17870492e-02]\n",
      "predictions\n",
      "Shape :  (21248, 264)\n",
      "Example [0] :  tf.Tensor(\n",
      "[0.00377761 0.00377435 0.00377339 0.00377351 0.00378119 0.00377339\n",
      " 0.00377339 0.00381877 0.00377349 0.00377347 0.0037743  0.00377343\n",
      " 0.00377588 0.00378628 0.00377389 0.00377345 0.00377339 0.00377454\n",
      " 0.00377352 0.00377339 0.0037734  0.00377355 0.00377372 0.0037734\n",
      " 0.00379303 0.00377556 0.00377341 0.00377339 0.00377339 0.00377346\n",
      " 0.00377339 0.00377348 0.00377342 0.00377745 0.00377375 0.00377351\n",
      " 0.00377425 0.00377625 0.00377344 0.00377355 0.00377493 0.00383363\n",
      " 0.00379096 0.00381068 0.0037734  0.00378076 0.00377341 0.00377351\n",
      " 0.00394373 0.00377882 0.00385196 0.00377348 0.00377482 0.00377361\n",
      " 0.00377471 0.00377362 0.00377403 0.00377339 0.00377339 0.00377339\n",
      " 0.00377343 0.0037766  0.00377368 0.00377341 0.00377339 0.00377565\n",
      " 0.00377492 0.00377355 0.00388335 0.00377396 0.0037741  0.00377362\n",
      " 0.00377357 0.00377355 0.00378521 0.00385573 0.00377396 0.00377352\n",
      " 0.00377351 0.0038591  0.00377417 0.00377341 0.00377473 0.00377392\n",
      " 0.00377468 0.00377354 0.00377348 0.00378031 0.00377799 0.00377561\n",
      " 0.00381011 0.00377344 0.00377424 0.00377349 0.00377363 0.00377514\n",
      " 0.00377354 0.00377589 0.00377344 0.00377339 0.0038414  0.00377343\n",
      " 0.00377392 0.00377339 0.00377339 0.00377339 0.00377373 0.00383526\n",
      " 0.00377339 0.00377339 0.00377339 0.00377339 0.00379528 0.00378576\n",
      " 0.00383129 0.00377342 0.00379827 0.00377339 0.00377345 0.00377468\n",
      " 0.0037734  0.00377353 0.0037737  0.00377457 0.00377372 0.00378306\n",
      " 0.00377372 0.00378215 0.00377362 0.00378927 0.00377355 0.00377341\n",
      " 0.00378357 0.00377497 0.0037734  0.00377378 0.00377387 0.00379595\n",
      " 0.00379815 0.00377349 0.00380066 0.0039096  0.0040063  0.00380736\n",
      " 0.00379009 0.00378504 0.0037778  0.00377341 0.00379856 0.00377342\n",
      " 0.00377346 0.00379964 0.0037768  0.00377434 0.0037734  0.00377343\n",
      " 0.00377339 0.00377397 0.00385548 0.0037736  0.00377369 0.00401367\n",
      " 0.00389761 0.00391143 0.00389106 0.00377371 0.00381459 0.00377371\n",
      " 0.0037802  0.00377368 0.00387382 0.00377341 0.00377342 0.00377421\n",
      " 0.00377351 0.00377339 0.00377339 0.00377354 0.00377341 0.00378694\n",
      " 0.00377339 0.00377611 0.00377362 0.00377354 0.0037734  0.00377353\n",
      " 0.00383706 0.00377339 0.00377585 0.00377508 0.00377405 0.00377344\n",
      " 0.0037734  0.00377607 0.00377353 0.00377342 0.00377588 0.003774\n",
      " 0.00377349 0.00377339 0.003774   0.0037734  0.00377474 0.00377349\n",
      " 0.00377339 0.00377339 0.00377341 0.00377361 0.00377422 0.00377537\n",
      " 0.00377363 0.0037846  0.00377347 0.00377353 0.00377342 0.00377402\n",
      " 0.00377339 0.00377357 0.00377343 0.00377387 0.00377454 0.00377339\n",
      " 0.00377339 0.00378807 0.00378327 0.00377457 0.00378251 0.00377358\n",
      " 0.00377354 0.00392001 0.00391422 0.00379639 0.00377537 0.00379332\n",
      " 0.0038614  0.00377359 0.00385076 0.00382651 0.00392535 0.00390074\n",
      " 0.00377383 0.00377343 0.00377345 0.00379434 0.00379189 0.00377339\n",
      " 0.00382562 0.00377464 0.00377341 0.0038322  0.00377354 0.00377339\n",
      " 0.00377344 0.00377339 0.00377344 0.00377967 0.00378369 0.00377467\n",
      " 0.00377383 0.00377373 0.00378086 0.00377739 0.00378641 0.0038565 ], shape=(264,), dtype=float32)\n",
      "predicted_classes\n",
      "Shape :  (21248,)\n",
      "Example [0] :  161\n",
      "actual_values\n",
      "Shape :  (21248,)\n",
      "Example [0] :  239\n",
      "diff\n",
      "Shape :  (21248,)\n",
      "Example [0] :  78\n",
      "Prediction # 0\n",
      "Actual values:  239\n",
      "Predicted values:  161\n",
      "Prediction # 1\n",
      "Actual values:  158\n",
      "Predicted values:  107\n",
      "Prediction # 2\n",
      "Actual values:  100\n",
      "Predicted values:  158\n",
      "Prediction # 3\n",
      "Actual values:  48\n",
      "Predicted values:  161\n",
      "Prediction # 4\n",
      "Actual values:  238\n",
      "Predicted values:  161\n",
      "Prediction # 5\n",
      "Actual values:  90\n",
      "Predicted values:  141\n",
      "Prediction # 6\n",
      "Actual values:  236\n",
      "Predicted values:  13\n",
      "Prediction # 7\n",
      "Actual values:  48\n",
      "Predicted values:  100\n",
      "Prediction # 8\n",
      "Actual values:  229\n",
      "Predicted values:  229\n",
      "Prediction # 9\n",
      "Actual values:  263\n",
      "Predicted values:  263\n",
      "Prediction # 10\n",
      "Actual values:  162\n",
      "Predicted values:  162\n",
      "Prediction # 11\n",
      "Actual values:  144\n",
      "Predicted values:  144\n",
      "Prediction # 12\n",
      "Actual values:  138\n",
      "Predicted values:  211\n",
      "Prediction # 13\n",
      "Actual values:  161\n",
      "Predicted values:  161\n",
      "Prediction # 14\n",
      "Actual values:  113\n",
      "Predicted values:  170\n",
      "Prediction # 15\n",
      "Actual values:  164\n",
      "Predicted values:  163\n",
      "Prediction # 16\n",
      "Actual values:  75\n",
      "Predicted values:  230\n",
      "Prediction # 17\n",
      "Actual values:  162\n",
      "Predicted values:  170\n",
      "Prediction # 18\n",
      "Actual values:  162\n",
      "Predicted values:  263\n",
      "Prediction # 19\n",
      "Actual values:  229\n",
      "Predicted values:  87\n",
      "# correct Predictions :  5957\n",
      "# wrong Predictions :  15291\n",
      "accuracy:  0.28035579819277107\n"
     ]
    }
   ],
   "source": [
    "mh.print_test_prediction_info()"
   ],
   "metadata": {
    "collapsed": false,
    "pycharm": {
     "name": "#%%\n"
    }
   }
  },
  {
   "cell_type": "markdown",
   "source": [
    "Using the end times did not increase the prediction quality for the NYC taxi data.\n",
    "This goes against the expectation.\n",
    "The question arises whether the time components do not improve the prediction at all or just by a small margin."
   ],
   "metadata": {
    "collapsed": false,
    "pycharm": {
     "name": "#%% md\n"
    }
   }
  }
 ]
}