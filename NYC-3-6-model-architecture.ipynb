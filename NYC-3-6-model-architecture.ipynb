{
 "nbformat": 4,
 "nbformat_minor": 0,
 "metadata": {
  "colab": {
   "name": "NYC_FL.ipynb",
   "provenance": [],
   "toc_visible": true
  },
  "kernelspec": {
   "name": "python3",
   "display_name": "Python 3"
  },
  "accelerator": "GPU"
 },
 "cells": [
  {
   "cell_type": "markdown",
   "metadata": {
    "id": "01ekVSe4McOZ",
    "pycharm": {
     "name": "#%% md\n"
    }
   },
   "source": [
    "# Revisiting the NYC Taxi DataSet Model Architecture Part 6\n",
    "\n",
    "In this notebook, the model architecture is being changed in order to understand the correlation between the model architecture and the prediction quality.\n",
    "From all the prior parts, Part 3 used only the location sequence as an input and achieved relatively good accuracy nonetheless.\n",
    "This model changes the used SequencesFeatures Layer that is still under development (in tf.experimental) to DenseFeatures.\n",
    "From evaluation of independently developed standalone models (according to the latest tensorflow tutorials for timeseries data prediction and multi-class classification) it is expected that the model accuracy decreases significantly.\n",
    "The usage of the new feature layer seems to have a great impact for the sequenced location data and greatly increases model prediction quality.\n",
    "That assumption is to be verified here."
   ]
  },
  {
   "cell_type": "code",
   "metadata": {
    "id": "O0AtRRZwKfnz",
    "colab": {
     "base_uri": "https://localhost:8080/",
     "height": 119
    },
    "outputId": "ec8f53e1-bede-41f7-a6a1-2bf8249bbf6b",
    "pycharm": {
     "name": "#%%\n"
    }
   },
   "source": [
    "import numpy as np\n",
    "np.random.seed(0)\n",
    "import tensorflow as tf\n",
    "import pandas as pd\n",
    "from tensorflow import feature_column\n",
    "from tensorflow.keras import layers\n",
    "import import_ipynb"
   ],
   "execution_count": 1,
   "outputs": []
  },
  {
   "cell_type": "code",
   "execution_count": 2,
   "outputs": [
    {
     "name": "stdout",
     "output_type": "stream",
     "text": [
      "importing Jupyter notebook from model_helper.ipynb\n"
     ]
    }
   ],
   "source": [
    "from model_helper import ModelHelper"
   ],
   "metadata": {
    "collapsed": false,
    "pycharm": {
     "name": "#%%\n"
    }
   }
  },
  {
   "cell_type": "markdown",
   "metadata": {
    "id": "nRSBBlWyLG9h",
    "pycharm": {
     "name": "#%% md\n"
    }
   },
   "source": [
    "# Dataset"
   ]
  },
  {
   "cell_type": "code",
   "metadata": {
    "id": "EiraMJg9uOb9",
    "colab": {
     "base_uri": "https://localhost:8080/",
     "height": 204
    },
    "outputId": "bd845c7d-9072-46d5-ef12-b26e94566280",
    "pycharm": {
     "name": "#%%\n"
    }
   },
   "source": [
    "df = pd.read_csv(\"./ma_results/trips_with_zones_final.csv\")\n",
    "df = df.head(10000000)\n",
    "df.head(10)"
   ],
   "execution_count": 3,
   "outputs": [
    {
     "data": {
      "text/plain": "                          medallion  pickup_week_day  pickup_hour  pickup_day  \\\n0  00005007A9F30E289E760362F69E4EAD                1            0           1   \n1  00005007A9F30E289E760362F69E4EAD                1            0           1   \n2  00005007A9F30E289E760362F69E4EAD                1            0           1   \n3  00005007A9F30E289E760362F69E4EAD                1            1           1   \n4  00005007A9F30E289E760362F69E4EAD                1            1           1   \n5  00005007A9F30E289E760362F69E4EAD                1            1           1   \n6  00005007A9F30E289E760362F69E4EAD                1            2           1   \n7  00005007A9F30E289E760362F69E4EAD                1            2           1   \n8  00005007A9F30E289E760362F69E4EAD                1            2           1   \n9  00005007A9F30E289E760362F69E4EAD                1            3           1   \n\n   pickup_month  dropoff_week_day  dropoff_hour  dropoff_day  dropoff_month  \\\n0             1                 1             0            1              1   \n1             1                 1             0            1              1   \n2             1                 1             1            1              1   \n3             1                 1             1            1              1   \n4             1                 1             1            1              1   \n5             1                 1             2            1              1   \n6             1                 1             2            1              1   \n7             1                 1             2            1              1   \n8             1                 1             3            1              1   \n9             1                 1             3            1              1   \n\n   pickup_location_id  dropoff_location_id  \n0               162.0                262.0  \n1               262.0                239.0  \n2               239.0                236.0  \n3               236.0                 41.0  \n4                41.0                211.0  \n5               211.0                238.0  \n6               238.0                142.0  \n7               142.0                263.0  \n8               263.0                 48.0  \n9                48.0                246.0  ",
      "text/html": "<div>\n<style scoped>\n    .dataframe tbody tr th:only-of-type {\n        vertical-align: middle;\n    }\n\n    .dataframe tbody tr th {\n        vertical-align: top;\n    }\n\n    .dataframe thead th {\n        text-align: right;\n    }\n</style>\n<table border=\"1\" class=\"dataframe\">\n  <thead>\n    <tr style=\"text-align: right;\">\n      <th></th>\n      <th>medallion</th>\n      <th>pickup_week_day</th>\n      <th>pickup_hour</th>\n      <th>pickup_day</th>\n      <th>pickup_month</th>\n      <th>dropoff_week_day</th>\n      <th>dropoff_hour</th>\n      <th>dropoff_day</th>\n      <th>dropoff_month</th>\n      <th>pickup_location_id</th>\n      <th>dropoff_location_id</th>\n    </tr>\n  </thead>\n  <tbody>\n    <tr>\n      <th>0</th>\n      <td>00005007A9F30E289E760362F69E4EAD</td>\n      <td>1</td>\n      <td>0</td>\n      <td>1</td>\n      <td>1</td>\n      <td>1</td>\n      <td>0</td>\n      <td>1</td>\n      <td>1</td>\n      <td>162.0</td>\n      <td>262.0</td>\n    </tr>\n    <tr>\n      <th>1</th>\n      <td>00005007A9F30E289E760362F69E4EAD</td>\n      <td>1</td>\n      <td>0</td>\n      <td>1</td>\n      <td>1</td>\n      <td>1</td>\n      <td>0</td>\n      <td>1</td>\n      <td>1</td>\n      <td>262.0</td>\n      <td>239.0</td>\n    </tr>\n    <tr>\n      <th>2</th>\n      <td>00005007A9F30E289E760362F69E4EAD</td>\n      <td>1</td>\n      <td>0</td>\n      <td>1</td>\n      <td>1</td>\n      <td>1</td>\n      <td>1</td>\n      <td>1</td>\n      <td>1</td>\n      <td>239.0</td>\n      <td>236.0</td>\n    </tr>\n    <tr>\n      <th>3</th>\n      <td>00005007A9F30E289E760362F69E4EAD</td>\n      <td>1</td>\n      <td>1</td>\n      <td>1</td>\n      <td>1</td>\n      <td>1</td>\n      <td>1</td>\n      <td>1</td>\n      <td>1</td>\n      <td>236.0</td>\n      <td>41.0</td>\n    </tr>\n    <tr>\n      <th>4</th>\n      <td>00005007A9F30E289E760362F69E4EAD</td>\n      <td>1</td>\n      <td>1</td>\n      <td>1</td>\n      <td>1</td>\n      <td>1</td>\n      <td>1</td>\n      <td>1</td>\n      <td>1</td>\n      <td>41.0</td>\n      <td>211.0</td>\n    </tr>\n    <tr>\n      <th>5</th>\n      <td>00005007A9F30E289E760362F69E4EAD</td>\n      <td>1</td>\n      <td>1</td>\n      <td>1</td>\n      <td>1</td>\n      <td>1</td>\n      <td>2</td>\n      <td>1</td>\n      <td>1</td>\n      <td>211.0</td>\n      <td>238.0</td>\n    </tr>\n    <tr>\n      <th>6</th>\n      <td>00005007A9F30E289E760362F69E4EAD</td>\n      <td>1</td>\n      <td>2</td>\n      <td>1</td>\n      <td>1</td>\n      <td>1</td>\n      <td>2</td>\n      <td>1</td>\n      <td>1</td>\n      <td>238.0</td>\n      <td>142.0</td>\n    </tr>\n    <tr>\n      <th>7</th>\n      <td>00005007A9F30E289E760362F69E4EAD</td>\n      <td>1</td>\n      <td>2</td>\n      <td>1</td>\n      <td>1</td>\n      <td>1</td>\n      <td>2</td>\n      <td>1</td>\n      <td>1</td>\n      <td>142.0</td>\n      <td>263.0</td>\n    </tr>\n    <tr>\n      <th>8</th>\n      <td>00005007A9F30E289E760362F69E4EAD</td>\n      <td>1</td>\n      <td>2</td>\n      <td>1</td>\n      <td>1</td>\n      <td>1</td>\n      <td>3</td>\n      <td>1</td>\n      <td>1</td>\n      <td>263.0</td>\n      <td>48.0</td>\n    </tr>\n    <tr>\n      <th>9</th>\n      <td>00005007A9F30E289E760362F69E4EAD</td>\n      <td>1</td>\n      <td>3</td>\n      <td>1</td>\n      <td>1</td>\n      <td>1</td>\n      <td>3</td>\n      <td>1</td>\n      <td>1</td>\n      <td>48.0</td>\n      <td>246.0</td>\n    </tr>\n  </tbody>\n</table>\n</div>"
     },
     "execution_count": 3,
     "metadata": {},
     "output_type": "execute_result"
    }
   ]
  },
  {
   "cell_type": "code",
   "metadata": {
    "id": "ggIfgQxKuOcC",
    "colab": {
     "base_uri": "https://localhost:8080/",
     "height": 221
    },
    "outputId": "4a248d3b-8b73-4f2b-d7f3-8f9bcaaedbd6",
    "pycharm": {
     "name": "#%%\n"
    }
   },
   "source": [
    "# Check dtypes of the attributes\n",
    "df.dtypes"
   ],
   "execution_count": 4,
   "outputs": [
    {
     "data": {
      "text/plain": "medallion               object\npickup_week_day          int64\npickup_hour              int64\npickup_day               int64\npickup_month             int64\ndropoff_week_day         int64\ndropoff_hour             int64\ndropoff_day              int64\ndropoff_month            int64\npickup_location_id     float64\ndropoff_location_id    float64\ndtype: object"
     },
     "execution_count": 4,
     "metadata": {},
     "output_type": "execute_result"
    }
   ]
  },
  {
   "cell_type": "code",
   "execution_count": 5,
   "outputs": [],
   "source": [
    "# Drop the medallion, it is not needed for this example\n",
    "df.drop(['medallion'], axis=1, inplace=True)"
   ],
   "metadata": {
    "collapsed": false,
    "pycharm": {
     "name": "#%%\n"
    }
   }
  },
  {
   "cell_type": "markdown",
   "metadata": {
    "id": "ep1BmXDVPxC1",
    "pycharm": {
     "name": "#%% md\n"
    }
   },
   "source": [
    "Because there are too many taxis (over 9000) it is better to take the 100 taxi with the major number of records"
   ]
  },
  {
   "cell_type": "code",
   "execution_count": 6,
   "outputs": [
    {
     "data": {
      "text/plain": "pickup_week_day        int32\npickup_hour            int32\npickup_day             int32\npickup_month           int32\ndropoff_week_day       int32\ndropoff_hour           int32\ndropoff_day            int32\ndropoff_month          int32\npickup_location_id     int32\ndropoff_location_id    int32\ndtype: object"
     },
     "execution_count": 6,
     "metadata": {},
     "output_type": "execute_result"
    }
   ],
   "source": [
    "# Cast the columns type to int32\n",
    "dictionary = {'pickup_week_day': 'int32', 'pickup_hour': 'int32', 'pickup_day': 'int32', 'pickup_month': 'int32', 'dropoff_week_day': 'int32', 'dropoff_hour': 'int32', 'dropoff_day': 'int32', 'dropoff_month': 'int32', 'pickup_location_id':'int32', 'dropoff_location_id':'int32'}\n",
    "df = df.astype(dictionary, copy=True)\n",
    "df.dtypes"
   ],
   "metadata": {
    "collapsed": false,
    "pycharm": {
     "name": "#%%\n"
    }
   }
  },
  {
   "cell_type": "markdown",
   "metadata": {
    "id": "-oH6GxKzwc7K",
    "pycharm": {
     "name": "#%% md\n"
    }
   },
   "source": [
    "We can use the other taxis to create a local test and validation sets"
   ]
  },
  {
   "cell_type": "markdown",
   "metadata": {
    "id": "eHECUQleRxHH",
    "pycharm": {
     "name": "#%% md\n"
    }
   },
   "source": [
    "Now we need to create the location sequence for each user"
   ]
  },
  {
   "cell_type": "code",
   "execution_count": 7,
   "outputs": [],
   "source": [
    "mh = ModelHelper(df, 129)"
   ],
   "metadata": {
    "collapsed": false,
    "pycharm": {
     "name": "#%%\n"
    }
   }
  },
  {
   "cell_type": "code",
   "metadata": {
    "id": "Uzze3vF-R8OZ",
    "pycharm": {
     "name": "#%%\n"
    }
   },
   "source": [
    "# Call the function\n",
    "mh.df_to_location_sequence()\n",
    "\n",
    "print(mh.df)"
   ],
   "execution_count": 8,
   "outputs": [
    {
     "name": "stdout",
     "output_type": "stream",
     "text": [
      "            index  location_id  day  month  hour_sin      hour_cos  \\\n",
      "0               0          162    1      1  0.000000  1.000000e+00   \n",
      "1              12          230    1      1  0.707107  7.071068e-01   \n",
      "2              13          125    1      1  0.707107  7.071068e-01   \n",
      "3              15           48    1      1  0.866025  5.000000e-01   \n",
      "4              18          170    1      1  1.000000  6.123234e-17   \n",
      "...           ...          ...  ...    ...       ...           ...   \n",
      "13731996  7284341          161   26      1 -0.500000 -8.660254e-01   \n",
      "13731997  7284341          161   26      1 -0.500000 -8.660254e-01   \n",
      "13731998  7284342          132   26      1 -0.707107 -7.071068e-01   \n",
      "13731999  7284343          141   26      1 -0.866025 -5.000000e-01   \n",
      "13732000  7284344          141   26      1 -0.866025 -5.000000e-01   \n",
      "\n",
      "          week_day_sin  week_day_cos  weekend  \n",
      "0             0.781831      0.623490        0  \n",
      "1             0.781831      0.623490        0  \n",
      "2             0.781831      0.623490        0  \n",
      "3             0.781831      0.623490        0  \n",
      "4             0.781831      0.623490        0  \n",
      "...                ...           ...      ...  \n",
      "13731996     -0.974928     -0.222521        1  \n",
      "13731997     -0.974928     -0.222521        1  \n",
      "13731998     -0.974928     -0.222521        1  \n",
      "13731999     -0.974928     -0.222521        1  \n",
      "13732000     -0.974928     -0.222521        1  \n",
      "\n",
      "[13732001 rows x 9 columns]\n"
     ]
    }
   ]
  },
  {
   "cell_type": "code",
   "metadata": {
    "id": "YbQmLj9kSYqp",
    "colab": {
     "base_uri": "https://localhost:8080/",
     "height": 34
    },
    "outputId": "07af026d-8765-4323-8204-953df7b1eccc",
    "pycharm": {
     "name": "#%%\n"
    }
   },
   "source": [
    "mh.train_val_test_split()\n",
    "print(len(mh.df_train), 'train examples')\n",
    "print(len(mh.df_val), 'validation examples')\n",
    "print(len(mh.df_test), 'test examples')"
   ],
   "execution_count": 9,
   "outputs": [
    {
     "name": "stdout",
     "output_type": "stream",
     "text": [
      "8788480 train examples\n",
      "2197120 validation examples\n",
      "2746401 test examples\n"
     ]
    }
   ]
  },
  {
   "cell_type": "code",
   "metadata": {
    "id": "ltjLgzdf1LYY",
    "pycharm": {
     "name": "#%%\n"
    }
   },
   "source": [
    "mh.split_data()\n",
    "mh.list_test[0]"
   ],
   "execution_count": 10,
   "outputs": [
    {
     "data": {
      "text/plain": "            index  location_id  day  month  hour_sin  hour_cos  week_day_sin  \\\n10985600  5283998          246    4      1 -0.866025  0.500000     -0.433884   \n10985601  5283999          107    4      1 -0.707107  0.707107     -0.433884   \n10985602  5284000          142    4      1 -0.707107  0.707107     -0.433884   \n10985603  5284001           48    4      1 -0.500000  0.866025     -0.433884   \n10985604  5284001           48    4      1 -0.500000  0.866025     -0.433884   \n...           ...          ...  ...    ...       ...       ...           ...   \n10985724  5284091          234    7      1  0.000000  1.000000      0.000000   \n10985725  5284092          162    7      1  0.258819  0.965926      0.000000   \n10985726  5284093          142    7      1  0.500000  0.866025      0.000000   \n10985727  5284093          142    7      1  0.500000  0.866025      0.000000   \n10985728  5284094          239    7      1  0.500000  0.866025      0.000000   \n\n          week_day_cos  weekend  \n10985600     -0.900969        0  \n10985601     -0.900969        0  \n10985602     -0.900969        0  \n10985603     -0.900969        0  \n10985604     -0.900969        0  \n...                ...      ...  \n10985724      1.000000        0  \n10985725      1.000000        0  \n10985726      1.000000        0  \n10985727      1.000000        0  \n10985728      1.000000        0  \n\n[129 rows x 9 columns]",
      "text/html": "<div>\n<style scoped>\n    .dataframe tbody tr th:only-of-type {\n        vertical-align: middle;\n    }\n\n    .dataframe tbody tr th {\n        vertical-align: top;\n    }\n\n    .dataframe thead th {\n        text-align: right;\n    }\n</style>\n<table border=\"1\" class=\"dataframe\">\n  <thead>\n    <tr style=\"text-align: right;\">\n      <th></th>\n      <th>index</th>\n      <th>location_id</th>\n      <th>day</th>\n      <th>month</th>\n      <th>hour_sin</th>\n      <th>hour_cos</th>\n      <th>week_day_sin</th>\n      <th>week_day_cos</th>\n      <th>weekend</th>\n    </tr>\n  </thead>\n  <tbody>\n    <tr>\n      <th>10985600</th>\n      <td>5283998</td>\n      <td>246</td>\n      <td>4</td>\n      <td>1</td>\n      <td>-0.866025</td>\n      <td>0.500000</td>\n      <td>-0.433884</td>\n      <td>-0.900969</td>\n      <td>0</td>\n    </tr>\n    <tr>\n      <th>10985601</th>\n      <td>5283999</td>\n      <td>107</td>\n      <td>4</td>\n      <td>1</td>\n      <td>-0.707107</td>\n      <td>0.707107</td>\n      <td>-0.433884</td>\n      <td>-0.900969</td>\n      <td>0</td>\n    </tr>\n    <tr>\n      <th>10985602</th>\n      <td>5284000</td>\n      <td>142</td>\n      <td>4</td>\n      <td>1</td>\n      <td>-0.707107</td>\n      <td>0.707107</td>\n      <td>-0.433884</td>\n      <td>-0.900969</td>\n      <td>0</td>\n    </tr>\n    <tr>\n      <th>10985603</th>\n      <td>5284001</td>\n      <td>48</td>\n      <td>4</td>\n      <td>1</td>\n      <td>-0.500000</td>\n      <td>0.866025</td>\n      <td>-0.433884</td>\n      <td>-0.900969</td>\n      <td>0</td>\n    </tr>\n    <tr>\n      <th>10985604</th>\n      <td>5284001</td>\n      <td>48</td>\n      <td>4</td>\n      <td>1</td>\n      <td>-0.500000</td>\n      <td>0.866025</td>\n      <td>-0.433884</td>\n      <td>-0.900969</td>\n      <td>0</td>\n    </tr>\n    <tr>\n      <th>...</th>\n      <td>...</td>\n      <td>...</td>\n      <td>...</td>\n      <td>...</td>\n      <td>...</td>\n      <td>...</td>\n      <td>...</td>\n      <td>...</td>\n      <td>...</td>\n    </tr>\n    <tr>\n      <th>10985724</th>\n      <td>5284091</td>\n      <td>234</td>\n      <td>7</td>\n      <td>1</td>\n      <td>0.000000</td>\n      <td>1.000000</td>\n      <td>0.000000</td>\n      <td>1.000000</td>\n      <td>0</td>\n    </tr>\n    <tr>\n      <th>10985725</th>\n      <td>5284092</td>\n      <td>162</td>\n      <td>7</td>\n      <td>1</td>\n      <td>0.258819</td>\n      <td>0.965926</td>\n      <td>0.000000</td>\n      <td>1.000000</td>\n      <td>0</td>\n    </tr>\n    <tr>\n      <th>10985726</th>\n      <td>5284093</td>\n      <td>142</td>\n      <td>7</td>\n      <td>1</td>\n      <td>0.500000</td>\n      <td>0.866025</td>\n      <td>0.000000</td>\n      <td>1.000000</td>\n      <td>0</td>\n    </tr>\n    <tr>\n      <th>10985727</th>\n      <td>5284093</td>\n      <td>142</td>\n      <td>7</td>\n      <td>1</td>\n      <td>0.500000</td>\n      <td>0.866025</td>\n      <td>0.000000</td>\n      <td>1.000000</td>\n      <td>0</td>\n    </tr>\n    <tr>\n      <th>10985728</th>\n      <td>5284094</td>\n      <td>239</td>\n      <td>7</td>\n      <td>1</td>\n      <td>0.500000</td>\n      <td>0.866025</td>\n      <td>0.000000</td>\n      <td>1.000000</td>\n      <td>0</td>\n    </tr>\n  </tbody>\n</table>\n<p>129 rows × 9 columns</p>\n</div>"
     },
     "execution_count": 10,
     "metadata": {},
     "output_type": "execute_result"
    }
   ]
  },
  {
   "cell_type": "code",
   "metadata": {
    "id": "sEMnEoqY9CAv",
    "colab": {
     "base_uri": "https://localhost:8080/",
     "height": 68
    },
    "outputId": "37048dd7-05ce-4780-fda7-70351e948503",
    "pycharm": {
     "name": "#%%\n"
    }
   },
   "source": [
    "mh.set_batch_size(128)\n",
    "mh.create_batch_dataset()\n",
    "mh.test_dataset"
   ],
   "execution_count": 11,
   "outputs": [
    {
     "data": {
      "text/plain": "<BatchDataset shapes: ({start_place: (128, 128), start_hour_sin: (128, 128), start_hour_cos: (128, 128), weekend: (128, 128), week_day_sin: (128, 128), week_day_cos: (128, 128), end_hour_sin: (128,), end_hour_cos: (128,), end_weekend: (128,), end_week_day_sin: (128,), end_week_day_cos: (128,)}, (128,)), types: ({start_place: tf.int32, start_hour_sin: tf.float64, start_hour_cos: tf.float64, weekend: tf.int32, week_day_sin: tf.float64, week_day_cos: tf.float64, end_hour_sin: tf.float64, end_hour_cos: tf.float64, end_weekend: tf.int32, end_week_day_sin: tf.float64, end_week_day_cos: tf.float64}, tf.int32)>"
     },
     "execution_count": 11,
     "metadata": {},
     "output_type": "execute_result"
    }
   ]
  },
  {
   "cell_type": "code",
   "execution_count": 12,
   "outputs": [],
   "source": [
    "mh.set_target_column_name('location_id')\n",
    "mh.set_vocab_size()\n",
    "mh.set_numerical_column_names(['start_hour_sin', 'start_hour_cos', 'weekend', 'week_day'])"
   ],
   "metadata": {
    "collapsed": false,
    "pycharm": {
     "name": "#%%\n"
    }
   }
  },
  {
   "cell_type": "code",
   "metadata": {
    "id": "bHDBtZVwYXWT",
    "pycharm": {
     "name": "#%%\n"
    }
   },
   "source": [
    "# The embedding dimension\n",
    "embedding_dim = 256\n",
    "\n",
    "# Number of RNN units\n",
    "rnn_units = 256\n",
    "\n",
    "# Create a model\n",
    "def create_model():\n",
    "  N = mh.total_window_length\n",
    "  batch_size = mh.batch_size\n",
    "  number_of_places = mh.vocab_size\n",
    "\n",
    "\t# Shortcut to the layers package\n",
    "  l = tf.keras.layers\n",
    "\n",
    "   # Declare the dictionary for the places sequence as before\n",
    "  sequence_input = {\n",
    "      'start_place': tf.keras.Input((N-1,), batch_size=batch_size, dtype=tf.dtypes.int32, name='start_place') # add batch_size=batch_size in case of stateful GRU\n",
    "  }\n",
    "\n",
    "  # Handling the categorical feature sequence using one-hot\n",
    "  places_one_hot = feature_column.categorical_column_with_vocabulary_list(\n",
    "      'start_place', [i for i in range(number_of_places)])\n",
    "\n",
    "  # Embed the one-hot encoding\n",
    "  places_embed = feature_column.embedding_column(places_one_hot, embedding_dim)\n",
    "\n",
    "  # With an input sequence we can't use the DenseFeature layer, we need to use the SequenceFeatures\n",
    "  dense_features = l.DenseFeatures(places_embed)(sequence_input)\n",
    "\n",
    "  #dense_features = tf.ensure_shape(dense_features, (batch_size, N-1, dense_features.shape[2]))\n",
    "\n",
    "  dense_features = tf.expand_dims(dense_features, -1)\n",
    "\n",
    "  # Rnn\n",
    "  recurrent = l.GRU(rnn_units,\n",
    "                        batch_size=batch_size, #in case of stateful\n",
    "                        return_sequences=True,\n",
    "                        stateful=True,\n",
    "                        recurrent_initializer='glorot_uniform')(dense_features)\n",
    "\n",
    "  recurrent_2 = l.GRU(64,\n",
    "                        batch_size=batch_size, #in case of stateful\n",
    "                        stateful=True,\n",
    "                        recurrent_initializer='glorot_uniform')(recurrent)\n",
    "\n",
    "\t# Last layer with an output for each places\n",
    "  dense_1 = layers.Dense(number_of_places)(recurrent_2)\n",
    "\n",
    "\t# Softmax output layer\n",
    "  output = l.Softmax()(dense_1)\n",
    "\n",
    "\t# To return the Model, we need to define its inputs and outputs\n",
    "\t# In out case, we need to list all the input layers we have defined\n",
    "  inputs = list(sequence_input.values())\n",
    "\n",
    "\t# Return the Model\n",
    "  return tf.keras.Model(inputs=inputs, outputs=output)"
   ],
   "execution_count": 13,
   "outputs": []
  },
  {
   "cell_type": "code",
   "execution_count": 14,
   "outputs": [],
   "source": [
    "# Get the model and compile it\n",
    "mh.assign_model(create_model())\n",
    "mh.compile_model()"
   ],
   "metadata": {
    "collapsed": false,
    "pycharm": {
     "name": "#%%\n"
    }
   }
  },
  {
   "cell_type": "markdown",
   "metadata": {
    "id": "JLTlfunoO0Yd",
    "pycharm": {
     "name": "#%% md\n"
    }
   },
   "source": [
    "# Training"
   ]
  },
  {
   "cell_type": "code",
   "execution_count": 15,
   "outputs": [
    {
     "name": "stdout",
     "output_type": "stream",
     "text": [
      "Epoch 1/10\n"
     ]
    },
    {
     "name": "stderr",
     "output_type": "stream",
     "text": [
      "C:\\Users\\julia\\PycharmProjects\\HumanMobilityPredictionMA\\venv\\lib\\site-packages\\tensorflow\\python\\keras\\engine\\functional.py:543: UserWarning: Input dict contained keys ['start_hour_sin', 'start_hour_cos', 'weekend', 'week_day_sin', 'week_day_cos', 'end_hour_sin', 'end_hour_cos', 'end_weekend', 'end_week_day_sin', 'end_week_day_cos'] which did not match any model input. They will be ignored by the model.\n",
      "  [n for n in tensors.keys() if n not in ref_input_names])\n"
     ]
    },
    {
     "name": "stdout",
     "output_type": "stream",
     "text": [
      "532/532 [==============================] - 677s 1s/step - loss: 4.2323 - sparse_categorical_accuracy: 0.0364 - val_loss: 4.2146 - val_sparse_categorical_accuracy: 0.0406\n",
      "Epoch 2/10\n",
      "532/532 [==============================] - 667s 1s/step - loss: 4.1840 - sparse_categorical_accuracy: 0.0365 - val_loss: 4.2144 - val_sparse_categorical_accuracy: 0.0406\n",
      "Epoch 3/10\n",
      "532/532 [==============================] - 680s 1s/step - loss: 4.1839 - sparse_categorical_accuracy: 0.0365 - val_loss: 4.2143 - val_sparse_categorical_accuracy: 0.0406\n",
      "Epoch 4/10\n",
      "532/532 [==============================] - ETA: 0s - loss: 4.1839 - sparse_categorical_accuracy: 0.0365Restoring model weights from the end of the best epoch.\n",
      "532/532 [==============================] - 677s 1s/step - loss: 4.1839 - sparse_categorical_accuracy: 0.0365 - val_loss: 4.2143 - val_sparse_categorical_accuracy: 0.0406\n",
      "Epoch 00004: early stopping\n"
     ]
    }
   ],
   "source": [
    "mh.set_num_epochs(10)\n",
    "mh.fit_model()"
   ],
   "metadata": {
    "collapsed": false,
    "pycharm": {
     "name": "#%%\n"
    }
   }
  },
  {
   "cell_type": "markdown",
   "source": [
    "# Evaluation"
   ],
   "metadata": {
    "collapsed": false,
    "pycharm": {
     "name": "#%% md\n"
    }
   }
  },
  {
   "cell_type": "code",
   "execution_count": 16,
   "outputs": [
    {
     "name": "stdout",
     "output_type": "stream",
     "text": [
      "166/166 [==============================] - 47s 282ms/step - loss: 4.2175 - sparse_categorical_accuracy: 0.0399\n"
     ]
    }
   ],
   "source": [
    "mh.evaluate_model()"
   ],
   "metadata": {
    "collapsed": false,
    "pycharm": {
     "name": "#%%\n"
    }
   }
  },
  {
   "cell_type": "code",
   "execution_count": 17,
   "outputs": [
    {
     "name": "stdout",
     "output_type": "stream",
     "text": [
      "Model: \"functional_1\"\n",
      "_________________________________________________________________\n",
      "Layer (type)                 Output Shape              Param #   \n",
      "=================================================================\n",
      "start_place (InputLayer)     [(128, 128)]              0         \n",
      "_________________________________________________________________\n",
      "dense_features (DenseFeature (128, 256)                67584     \n",
      "_________________________________________________________________\n",
      "tf_op_layer_ExpandDims (Tens [(128, 256, 1)]           0         \n",
      "_________________________________________________________________\n",
      "gru (GRU)                    (128, 256, 256)           198912    \n",
      "_________________________________________________________________\n",
      "gru_1 (GRU)                  (128, 64)                 61824     \n",
      "_________________________________________________________________\n",
      "dense (Dense)                (128, 264)                17160     \n",
      "_________________________________________________________________\n",
      "softmax (Softmax)            (128, 264)                0         \n",
      "=================================================================\n",
      "Total params: 345,480\n",
      "Trainable params: 345,480\n",
      "Non-trainable params: 0\n",
      "_________________________________________________________________\n"
     ]
    }
   ],
   "source": [
    "mh.model.summary()"
   ],
   "metadata": {
    "collapsed": false,
    "pycharm": {
     "name": "#%%\n"
    }
   }
  },
  {
   "cell_type": "code",
   "execution_count": 18,
   "outputs": [
    {
     "name": "stdout",
     "output_type": "stream",
     "text": [
      "logits\n",
      "Shape :  (21248, 264)\n",
      "Example [0] :  [2.19648192e-03 8.74014746e-04 4.16128978e-06 2.41860398e-05\n",
      " 4.34706453e-03 1.90446808e-05 2.01919156e-05 3.83476680e-03\n",
      " 1.04172483e-04 5.41678346e-05 1.80263349e-04 6.18902341e-05\n",
      " 3.65208281e-04 9.18495003e-03 1.00926019e-03 1.15527189e-04\n",
      " 6.53688621e-05 9.94463102e-04 1.00447884e-04 2.82751080e-05\n",
      " 3.84194318e-05 6.17694677e-05 3.57458310e-04 4.39436189e-05\n",
      " 2.90893484e-03 2.22603604e-03 1.73467881e-04 6.72991609e-06\n",
      " 2.07932084e-04 1.24590471e-04 4.58845443e-06 2.37560689e-05\n",
      " 2.09630762e-05 2.92644510e-03 9.57764569e-05 9.25926797e-05\n",
      " 7.56544410e-04 1.96089805e-03 4.30240689e-05 1.70404965e-04\n",
      " 1.33508549e-03 3.74178728e-03 3.55806481e-03 1.25618130e-02\n",
      " 2.32119583e-05 3.35296127e-03 4.52181921e-05 6.79534132e-05\n",
      " 2.67040282e-02 2.51214718e-03 8.78496841e-03 4.06981781e-05\n",
      " 1.35310472e-03 9.16527715e-05 1.68430779e-04 3.97323238e-05\n",
      " 8.80572552e-05 9.95942173e-06 2.85917395e-05 3.76005005e-06\n",
      " 6.82771424e-05 1.59253646e-03 3.52465257e-04 2.51122365e-05\n",
      " 1.77052937e-06 1.81598926e-03 1.00980198e-03 2.71557947e-04\n",
      " 2.49564089e-02 3.03155452e-04 5.21919283e-04 2.40023110e-05\n",
      " 3.38307727e-05 1.03039180e-04 5.54715563e-03 7.29855243e-03\n",
      " 1.98510112e-04 9.34328345e-05 2.32933198e-05 3.21002193e-02\n",
      " 2.94137234e-03 3.15673569e-05 5.89303032e-04 5.39053814e-04\n",
      " 1.91200197e-05 1.09531298e-04 1.34076708e-05 6.36194088e-03\n",
      " 3.29890545e-03 6.33212156e-04 1.68119725e-02 1.50137465e-04\n",
      " 2.83928937e-04 8.03526418e-05 1.13345654e-04 1.37726008e-03\n",
      " 3.95413190e-05 1.68046565e-03 7.57009475e-05 2.55967625e-05\n",
      " 1.62566304e-02 5.91412281e-05 1.19535129e-04 2.06316017e-05\n",
      " 7.85276279e-06 9.36498327e-06 3.92516813e-04 2.34487597e-02\n",
      " 3.21405169e-05 1.02196282e-05 5.76366483e-06 7.12305609e-06\n",
      " 3.82944569e-03 1.71781015e-02 1.33212423e-02 1.62019151e-05\n",
      " 2.76513933e-03 4.35702441e-06 3.62073442e-05 2.44297727e-04\n",
      " 1.06808966e-05 1.30767090e-04 3.21819571e-05 1.27290608e-04\n",
      " 8.96979182e-05 6.83824392e-03 6.84953629e-05 4.63278120e-04\n",
      " 7.72375352e-05 1.31896697e-03 2.88337062e-04 6.52685994e-05\n",
      " 1.05525833e-02 2.78413499e-04 1.06637206e-04 1.27491556e-04\n",
      " 2.21018141e-04 1.30661568e-02 2.36807708e-02 5.96680984e-05\n",
      " 1.40864300e-02 2.27542967e-02 2.33968571e-02 1.25173526e-02\n",
      " 1.19583486e-02 3.28388461e-03 1.13299885e-03 2.46778673e-05\n",
      " 1.48452055e-02 2.69304903e-04 3.19158644e-05 7.40558002e-03\n",
      " 1.29589369e-03 4.33078276e-05 3.04696405e-05 9.81159610e-05\n",
      " 7.84162694e-06 2.81413144e-04 1.42444121e-02 6.29332426e-05\n",
      " 3.00637970e-04 3.60658951e-02 3.40315066e-02 3.12199928e-02\n",
      " 2.08410602e-02 7.86468299e-05 7.67104514e-03 1.12251852e-04\n",
      " 1.55145780e-03 1.37229363e-04 3.32889892e-02 9.86358064e-05\n",
      " 2.45412757e-05 1.63681631e-04 1.49575731e-04 5.16676209e-06\n",
      " 1.08652384e-05 9.99843542e-05 2.41723210e-05 1.48888677e-03\n",
      " 3.11780495e-05 3.91173316e-03 1.34010814e-04 3.64653315e-05\n",
      " 2.07192861e-05 8.02199866e-05 2.18408704e-02 3.38066820e-05\n",
      " 9.52242233e-04 1.26159599e-03 2.16656466e-04 9.57966404e-05\n",
      " 2.70235323e-05 3.37686419e-04 5.15079482e-05 2.63931899e-04\n",
      " 6.01595151e-04 1.20817538e-04 3.51546798e-04 1.25869601e-05\n",
      " 3.40711966e-04 2.17605993e-05 4.94099222e-04 7.67775127e-05\n",
      " 1.55618509e-05 6.07930042e-06 1.50019669e-05 6.57139535e-05\n",
      " 4.73245782e-05 2.82501918e-03 1.22096928e-04 9.15617775e-03\n",
      " 6.68545181e-05 6.50723887e-05 1.46987186e-05 8.26266551e-05\n",
      " 1.66533777e-04 1.06663050e-04 7.87707540e-05 8.15620660e-05\n",
      " 4.81584430e-04 5.29706222e-06 1.11261143e-05 2.58853170e-03\n",
      " 3.81661672e-03 5.37089189e-04 4.03541513e-03 2.45198258e-04\n",
      " 7.20830867e-04 1.71859227e-02 3.51834334e-02 1.96248889e-02\n",
      " 3.36471875e-03 1.19708395e-02 2.59698536e-02 6.09060771e-05\n",
      " 2.87668332e-02 3.00628524e-02 1.87503025e-02 2.87427846e-02\n",
      " 4.71037711e-05 1.33145018e-04 5.54631260e-05 1.80376426e-03\n",
      " 3.20121809e-03 6.14947157e-06 1.79039706e-02 1.58936731e-04\n",
      " 3.45547232e-05 1.80563983e-02 4.63286269e-05 4.36566552e-05\n",
      " 1.19431890e-04 1.54956233e-05 3.97212643e-05 4.97229677e-03\n",
      " 4.19830158e-03 3.08089104e-04 1.37365394e-04 1.08871660e-04\n",
      " 1.61640474e-03 3.63828195e-03 9.63002816e-03 1.50093706e-02]\n",
      "predictions\n",
      "Shape :  (21248, 264)\n",
      "Example [0] :  tf.Tensor(\n",
      "[0.00378174 0.00377674 0.00377346 0.00377354 0.00378988 0.00377352\n",
      " 0.00377352 0.00378794 0.00377384 0.00377365 0.00377412 0.00377368\n",
      " 0.00377482 0.00380826 0.00377725 0.00377388 0.00377369 0.0037772\n",
      " 0.00377382 0.00377355 0.00377359 0.00377368 0.00377479 0.00377361\n",
      " 0.00378444 0.00378185 0.0037741  0.00377347 0.00377423 0.00377391\n",
      " 0.00377346 0.00377353 0.00377352 0.0037845  0.00377381 0.00377379\n",
      " 0.0037763  0.00378085 0.00377361 0.00377409 0.00377849 0.00378759\n",
      " 0.00378689 0.00382114 0.00377353 0.00378612 0.00377361 0.0037737\n",
      " 0.00387557 0.00378294 0.00380674 0.0037736  0.00377855 0.00377379\n",
      " 0.00377408 0.00377359 0.00377378 0.00377348 0.00377355 0.00377346\n",
      " 0.0037737  0.00377946 0.00377477 0.00377354 0.00377345 0.0037803\n",
      " 0.00377726 0.00377447 0.0038688  0.00377459 0.00377541 0.00377353\n",
      " 0.00377357 0.00377383 0.00379443 0.00380109 0.00377419 0.0037738\n",
      " 0.00377353 0.00389654 0.00378456 0.00377356 0.00377567 0.00377548\n",
      " 0.00377352 0.00377386 0.00377349 0.00379753 0.00378591 0.00377583\n",
      " 0.00383742 0.00377401 0.00377452 0.00377375 0.00377387 0.00377864\n",
      " 0.00377359 0.00377979 0.00377373 0.00377354 0.00383529 0.00377367\n",
      " 0.0037739  0.00377352 0.00377347 0.00377348 0.00377493 0.00386297\n",
      " 0.00377357 0.00377348 0.00377347 0.00377347 0.00378792 0.00383882\n",
      " 0.00382405 0.0037735  0.00378389 0.00377346 0.00377358 0.00377437\n",
      " 0.00377348 0.00377394 0.00377357 0.00377392 0.00377378 0.00379934\n",
      " 0.0037737  0.00377519 0.00377374 0.00377842 0.00377453 0.00377369\n",
      " 0.00381347 0.00377449 0.00377385 0.00377392 0.00377428 0.00382307\n",
      " 0.00386387 0.00377367 0.00382697 0.00386029 0.00386277 0.00382097\n",
      " 0.00381884 0.00378586 0.00377772 0.00377354 0.00382988 0.00377446\n",
      " 0.00377356 0.00380149 0.00377834 0.00377361 0.00377356 0.00377381\n",
      " 0.00377347 0.00377451 0.00382758 0.00377368 0.00377458 0.00391202\n",
      " 0.00390407 0.00389311 0.00385291 0.00377374 0.0038025  0.00377387\n",
      " 0.0037793  0.00377396 0.00390117 0.00377382 0.00377354 0.00377406\n",
      " 0.00377401 0.00377346 0.00377348 0.00377382 0.00377354 0.00377907\n",
      " 0.00377356 0.00378823 0.00377395 0.00377358 0.00377352 0.00377375\n",
      " 0.00385677 0.00377357 0.00377704 0.00377821 0.00377426 0.00377381\n",
      " 0.00377355 0.00377472 0.00377364 0.00377444 0.00377571 0.0037739\n",
      " 0.00377477 0.00377349 0.00377473 0.00377353 0.00377531 0.00377373\n",
      " 0.0037735  0.00377347 0.0037735  0.00377369 0.00377362 0.00378412\n",
      " 0.0037739  0.00380815 0.0037737  0.00377369 0.0037735  0.00377376\n",
      " 0.00377407 0.00377385 0.00377374 0.00377375 0.00377526 0.00377346\n",
      " 0.00377349 0.00378322 0.00378787 0.00377547 0.0037887  0.00377437\n",
      " 0.00377616 0.00383885 0.00390857 0.00384823 0.00378616 0.00381889\n",
      " 0.00387272 0.00377367 0.00388357 0.00388861 0.00384486 0.00388348\n",
      " 0.00377362 0.00377395 0.00377365 0.00378026 0.00378554 0.00377347\n",
      " 0.00384161 0.00377404 0.00377357 0.0038422  0.00377362 0.00377361\n",
      " 0.00377389 0.0037735  0.00377359 0.00379225 0.00378932 0.00377461\n",
      " 0.00377396 0.00377385 0.00377955 0.0037872  0.00380996 0.00383051], shape=(264,), dtype=float32)\n",
      "predicted_classes\n",
      "Shape :  (21248,)\n",
      "Example [0] :  161\n",
      "actual_values\n",
      "Shape :  (21248,)\n",
      "Example [0] :  239\n",
      "diff\n",
      "Shape :  (21248,)\n",
      "Example [0] :  78\n",
      "Prediction # 0\n",
      "Actual values:  239\n",
      "Predicted values:  161\n",
      "Prediction # 1\n",
      "Actual values:  158\n",
      "Predicted values:  161\n",
      "Prediction # 2\n",
      "Actual values:  100\n",
      "Predicted values:  161\n",
      "Prediction # 3\n",
      "Actual values:  48\n",
      "Predicted values:  161\n",
      "Prediction # 4\n",
      "Actual values:  238\n",
      "Predicted values:  161\n",
      "Prediction # 5\n",
      "Actual values:  90\n",
      "Predicted values:  161\n",
      "Prediction # 6\n",
      "Actual values:  236\n",
      "Predicted values:  161\n",
      "Prediction # 7\n",
      "Actual values:  48\n",
      "Predicted values:  161\n",
      "Prediction # 8\n",
      "Actual values:  229\n",
      "Predicted values:  161\n",
      "Prediction # 9\n",
      "Actual values:  263\n",
      "Predicted values:  161\n",
      "Prediction # 10\n",
      "Actual values:  162\n",
      "Predicted values:  161\n",
      "Prediction # 11\n",
      "Actual values:  144\n",
      "Predicted values:  161\n",
      "Prediction # 12\n",
      "Actual values:  138\n",
      "Predicted values:  161\n",
      "Prediction # 13\n",
      "Actual values:  161\n",
      "Predicted values:  161\n",
      "Prediction # 14\n",
      "Actual values:  113\n",
      "Predicted values:  161\n",
      "Prediction # 15\n",
      "Actual values:  164\n",
      "Predicted values:  161\n",
      "Prediction # 16\n",
      "Actual values:  75\n",
      "Predicted values:  161\n",
      "Prediction # 17\n",
      "Actual values:  162\n",
      "Predicted values:  161\n",
      "Prediction # 18\n",
      "Actual values:  162\n",
      "Predicted values:  161\n",
      "Prediction # 19\n",
      "Actual values:  229\n",
      "Predicted values:  161\n",
      "# correct Predictions :  847\n",
      "# wrong Predictions :  20401\n",
      "accuracy:  0.03986257530120482\n"
     ]
    }
   ],
   "source": [
    "mh.print_test_prediction_info()"
   ],
   "metadata": {
    "collapsed": false,
    "pycharm": {
     "name": "#%%\n"
    }
   }
  },
  {
   "cell_type": "markdown",
   "source": [
    "The usage of ordinary DenseFeatures results in a major reduction in prediction quality.\n",
    "The SequenceFeatures enable the model to understand the data in the correct way and are thus necessary."
   ],
   "metadata": {
    "collapsed": false,
    "pycharm": {
     "name": "#%% md\n"
    }
   }
  }
 ]
}